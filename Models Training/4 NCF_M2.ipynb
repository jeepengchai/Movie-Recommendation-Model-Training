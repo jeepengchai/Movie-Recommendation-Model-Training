{
 "cells": [
  {
   "cell_type": "markdown",
   "id": "ff036bd3-c45c-408f-abf2-c3f249631ca1",
   "metadata": {},
   "source": [
    "#### <h1>The Multi-layered Perceptron Neural Collaborative Filtering (MLP-NCF) proposed model training</h1>"
   ]
  },
  {
   "cell_type": "markdown",
   "id": "bf063ae7-c06a-40be-981d-5e7672bcccbe",
   "metadata": {},
   "source": [
    "<h2>Import necessary python library for model training</h2>"
   ]
  },
  {
   "cell_type": "code",
   "execution_count": 1,
   "id": "68c77e3d-492a-47c1-8b58-13816d13f296",
   "metadata": {},
   "outputs": [],
   "source": [
    "import zipfile\n",
    "from zipfile import ZipFile\n",
    "from torch.utils.data import Dataset, DataLoader\n",
    "import torch\n",
    "import torch.optim as optim\n",
    "import torch.nn as nn\n",
    "import os\n",
    "import pandas as pd\n",
    "import numpy as np\n",
    "import requests\n",
    "import sklearn\n",
    "from sklearn.model_selection import train_test_split\n",
    "from tqdm import tqdm\n",
    "import random\n",
    "import time\n",
    "import argparse\n",
    "import matplotlib.pyplot as plt"
   ]
  },
  {
   "cell_type": "markdown",
   "id": "a6a16cfb-aa07-47fc-b4e6-22df432ab5b2",
   "metadata": {},
   "source": [
    "<h2>The data preparation for training class</h2>"
   ]
  },
  {
   "cell_type": "code",
   "execution_count": 2,
   "id": "52f0c6ad-8c14-4d2e-89f8-24d7034d5a65",
   "metadata": {},
   "outputs": [],
   "source": [
    "class MovieLens(Dataset):\n",
    "    def __init__(self, df: pd.DataFrame, total_df: pd.DataFrame, ng_ratio:int)->None:\n",
    "        '''\n",
    "        : param df: training dataframe\n",
    "        : param total_df: the entire dataframe\n",
    "        : param ng_ratio: negative sampling ratio\n",
    "        '''\n",
    "        super(MovieLens, self).__init__()\n",
    "\n",
    "        self.df = df\n",
    "        self.total_df = total_df\n",
    "        self.ng_ratio = ng_ratio\n",
    "        self.users, self.items, self.labels = self._negative_sampling()\n",
    "\n",
    "    def __len__(self) -> int:\n",
    "        '''\n",
    "        get length of data\n",
    "        : return: len(data)\n",
    "        '''\n",
    "        return len(self.users)\n",
    "\n",
    "    def __getitem__(self, index):\n",
    "        '''\n",
    "        transform userId[index], item[index] to Tensor and return to Datalaoder object.\n",
    "        : param index: index for dataset.\n",
    "        : return: user, item, rating\n",
    "        '''\n",
    "        return self.users[index], self.items[index], self.labels[index]\n",
    "\n",
    "    def _negative_sampling(self) :\n",
    "        '''\n",
    "        sampling one positive feedback per #(ng ratio) negative feedback\n",
    "        : return: list of users, list of items, list of targets\n",
    "        '''\n",
    "        df = self.df\n",
    "        total_df = self.total_df\n",
    "        users, items, labels = [], [], []\n",
    "        user_item_set = set(zip(df['userId'], df['movieId']))\n",
    "        total_user_item_set = set(zip(total_df['userId'],total_df['movieId']))\n",
    "        all_movieIds = total_df['movieId'].unique()\n",
    "        \n",
    "        # negative feedback dataset ratio\n",
    "        negative_ratio = self.ng_ratio\n",
    "        for u, i in user_item_set:\n",
    "            # positive instance\n",
    "            users.append(u)\n",
    "            items.append(i)\n",
    "            labels.append(1.0)\n",
    "\n",
    "            #visited check\n",
    "            visited=[]\n",
    "            visited.append(i)\n",
    "            \n",
    "            # negative instance\n",
    "            for i in range(negative_ratio):\n",
    "                # first item random choice\n",
    "                negative_item = np.random.choice(all_movieIds)\n",
    " \n",
    "                # check if item and user has interaction, if true then set new value from random\n",
    "                while (u, negative_item) in total_user_item_set or negative_item in visited :\n",
    "                    negative_item = np.random.choice(all_movieIds)\n",
    "                users.append(u)\n",
    "                items.append(negative_item)\n",
    "                visited.append(negative_item)\n",
    "                labels.append(0.0)\n",
    "        print(f\"negative sampled data: {len(labels)}\")\n",
    "        return torch.tensor(users), torch.tensor(items), torch.tensor(labels)"
   ]
  },
  {
   "cell_type": "markdown",
   "id": "287da1b7-2a16-4a18-8a34-0778b6ebd1b0",
   "metadata": {},
   "source": [
    "<h2>The Multi-layered perceptron neural collaborative filtering (NCF) model</h2>"
   ]
  },
  {
   "cell_type": "code",
   "execution_count": 3,
   "id": "a3f36af9-0e70-4aeb-ba42-793cd6982291",
   "metadata": {},
   "outputs": [],
   "source": [
    "class MLP(nn.Module):\n",
    "    def __init__(self, num_users, num_items, embedding_size, layer_dims, use_NeuMF=False):\n",
    "        super(MLP, self).__init__()\n",
    "        self.user_embedding = nn.Embedding(num_users, embedding_size)\n",
    "        self.item_embedding = nn.Embedding(num_items, embedding_size)\n",
    "        \n",
    "        # Calculate input dimension for first layer\n",
    "        first_layer_input = embedding_size * 2  # Concatenated user and item embeddings\n",
    "        \n",
    "        # Build MLP layers dynamically\n",
    "        layers = []\n",
    "        input_dim = first_layer_input\n",
    "        for output_dim in layer_dims:\n",
    "            layers.append(nn.Linear(input_dim, output_dim))\n",
    "            layers.append(nn.ReLU())\n",
    "            input_dim = output_dim\n",
    "        \n",
    "        self.mlp_layers = nn.Sequential(*layers)\n",
    "        self.output_layer = nn.Linear(layer_dims[-1], 1)\n",
    "        self.sigmoid = nn.Sigmoid()\n",
    "        self._init_weights()\n",
    "\n",
    "    def _init_weights(self):\n",
    "        nn.init.normal_(self.user_embedding.weight, std=0.01)\n",
    "        nn.init.normal_(self.item_embedding.weight, std=0.01)\n",
    "        for layer in self.mlp_layers:\n",
    "            if isinstance(layer, nn.Linear):\n",
    "                nn.init.xavier_uniform_(layer.weight)\n",
    "        nn.init.xavier_uniform_(self.output_layer.weight)\n",
    "\n",
    "    def forward(self, user, item):\n",
    "        user_emb = self.user_embedding(user)\n",
    "        item_emb = self.item_embedding(item)\n",
    "        x = torch.cat([user_emb, item_emb], dim=-1)\n",
    "        x = self.mlp_layers(x)\n",
    "        x = self.output_layer(x)\n",
    "        return self.sigmoid(x).view(-1)"
   ]
  },
  {
   "cell_type": "markdown",
   "id": "2712e0b1-22fa-4ba0-8b45-6169a7e8a140",
   "metadata": {},
   "source": [
    "<h2>Evaluation Metrics</h2>"
   ]
  },
  {
   "cell_type": "code",
   "execution_count": 4,
   "id": "eecc2030-6639-4051-a9f8-bea2bc2867cd",
   "metadata": {},
   "outputs": [],
   "source": [
    "def hit(gt_item, pred_items):\n",
    "\tif gt_item in pred_items:\n",
    "\t\treturn 1\n",
    "\treturn 0\n",
    "\n",
    "def ndcg(gt_item, pred_items):\n",
    "\tif gt_item in pred_items:\n",
    "\t\tindex = pred_items.index(gt_item)\n",
    "\t\treturn np.reciprocal(np.log2(index+2))\n",
    "\treturn 0\n",
    "\n",
    "def metrics(model, data_loader, top_k, device):\n",
    "\tHR, NDCG = [], []\n",
    "\n",
    "\tfor user, item, label in data_loader:\n",
    "\n",
    "\t\tuser = user.to(device)\n",
    "\t\titem = item.to(device)\n",
    "\n",
    "\t\tpredictions = model(user, item)\n",
    "\t\t_, indices = torch.topk(predictions, top_k)\n",
    "\n",
    "\t\trecommends = torch.take(\n",
    "\t\t\t\titem, indices).cpu().numpy().tolist()\n",
    "\n",
    "\t\tgt_item = item[0].item()\n",
    "\t\tHR.append(hit(gt_item, recommends))\n",
    "\t\tNDCG.append(ndcg(gt_item, recommends))\n",
    "\n",
    "\treturn np.mean(HR), np.mean(NDCG)"
   ]
  },
  {
   "cell_type": "markdown",
   "id": "7a7df4e9-9aa2-4e56-93c4-a9ec0c1eed62",
   "metadata": {},
   "source": [
    "<h2>Model training class</h2>"
   ]
  },
  {
   "cell_type": "code",
   "execution_count": 5,
   "id": "303026e1-da28-4687-a2f0-1298a132da4d",
   "metadata": {},
   "outputs": [],
   "source": [
    "class Train():\n",
    "    def __init__(self, model: torch.nn.Module,\n",
    "                 optimizer: torch.optim,\n",
    "                 epochs: int,\n",
    "                 dataloader: torch.utils.data.dataloader,\n",
    "                 criterion: torch.nn,\n",
    "                 test_obj: torch.utils.data.dataloader,\n",
    "                 device: str = 'cuda',\n",
    "                 print_cost: bool = True,\n",
    "                 top_k: int = 10):\n",
    "        self.model = model\n",
    "        self.optimizer = optimizer\n",
    "        self.epochs = epochs\n",
    "        self.dataloader = dataloader\n",
    "        self.criterion = criterion\n",
    "        self.device = device\n",
    "        self.print_cost = print_cost\n",
    "        self.test = test_obj\n",
    "        self.top_k = top_k\n",
    "\n",
    "    def train(self):\n",
    "        model = self.model\n",
    "        optimizer = self.optimizer\n",
    "        total_epochs = self.epochs\n",
    "        dataloader = self.dataloader\n",
    "        criterion = self.criterion\n",
    "        total_batch = len(dataloader)\n",
    "        loss = []\n",
    "        device = self.device\n",
    "        test_dataloader = self.test\n",
    "\n",
    "        hr_list = []\n",
    "        ndcg_list = []\n",
    "        test_loss_list = []\n",
    "\n",
    "        for epoch in range(0, total_epochs):\n",
    "            epoch_loss = 0\n",
    "            with tqdm(total=len(dataloader), desc=f'Epoch {epoch + 1}/{total_epochs}', unit='batch') as pbar:\n",
    "                for user, item, target in dataloader:\n",
    "                    user, item, target = user.to(device), item.to(device), target.float().to(device)\n",
    "                    optimizer.zero_grad()\n",
    "                    pred = model(user, item)\n",
    "                    cost = criterion(pred, target)\n",
    "                    cost.backward()\n",
    "                    optimizer.step()\n",
    "                    epoch_loss += cost.item()\n",
    "                    pbar.update(1)\n",
    "                    pbar.set_postfix({'loss': cost.item()})\n",
    "\n",
    "            avg_epoch_loss = epoch_loss / total_batch\n",
    "            loss.append(avg_epoch_loss)\n",
    "\n",
    "            if self.print_cost:\n",
    "                HR, NDCG = metrics(model, self.test, self.top_k, device)\n",
    "\n",
    "                model.eval()\n",
    "                test_loss = 0\n",
    "                with torch.no_grad():\n",
    "                    for user, item, target in test_dataloader:\n",
    "                        user, item, target = user.to(device), item.to(device), target.float().to(device)\n",
    "                        pred = model(user, item)\n",
    "                        cost = criterion(pred, target)\n",
    "                        test_loss += cost.item()\n",
    "                avg_test_loss = test_loss / len(test_dataloader)\n",
    "                model.train()\n",
    "\n",
    "                print(\n",
    "                    \"Epochs: {}\\tAvg Train Loss: {:.4f}\\tAvg Test Loss: {:.4f}\\tHR: {:.3f}\\tNDCG: {:.3f}\".format(\n",
    "                        epoch+1, avg_epoch_loss, avg_test_loss, np.mean(HR), np.mean(NDCG)))\n",
    "\n",
    "                hr_list.append(np.mean(HR))\n",
    "                ndcg_list.append(np.mean(NDCG))\n",
    "                test_loss_list.append(avg_test_loss)\n",
    "\n",
    "        if self.print_cost:\n",
    "            print('Learning finished')\n",
    "        return loss, test_loss_list, hr_list, ndcg_list"
   ]
  },
  {
   "cell_type": "code",
   "execution_count": 6,
   "id": "34f20d01-2ab8-4b6e-8d22-29a1fb148ff5",
   "metadata": {},
   "outputs": [],
   "source": [
    "def plot_comparison_metrics(train_loss_1, test_loss_list_1, hr_list_1, ndcg_list_1,\n",
    "                           train_loss_4, test_loss_list_4, hr_list_4, ndcg_list_4, top_k):\n",
    "    epochs = np.arange(1, len(train_loss_1) + 1)\n",
    "\n",
    "    output_dir = './Training Results/'\n",
    "    os.makedirs(output_dir, exist_ok=True)\n",
    "\n",
    "    # Create a single figure with 4 subplots\n",
    "    plt.figure(figsize=(16, 12))\n",
    "    \n",
    "    # Plot Training Loss\n",
    "    plt.subplot(2, 2, 1)\n",
    "    plt.plot(epochs, train_loss_1, label='Dataset 1', marker='o')\n",
    "    plt.plot(epochs, train_loss_4, label='Dataset 2', marker='x')\n",
    "    plt.title('Training Loss Comparison')\n",
    "    plt.xlabel('Epoch')\n",
    "    plt.ylabel('Loss')\n",
    "    plt.legend()\n",
    "    plt.grid(True, linestyle='--', alpha=0.6)\n",
    "\n",
    "    # Plot Test Loss\n",
    "    plt.subplot(2, 2, 2)\n",
    "    plt.plot(epochs, test_loss_list_1, label='Dataset 1', marker='o')\n",
    "    plt.plot(epochs, test_loss_list_4, label='Dataset 2', marker='x')\n",
    "    plt.title('Test Loss Comparison')\n",
    "    plt.xlabel('Epoch')\n",
    "    plt.ylabel('Loss')\n",
    "    plt.legend()\n",
    "    plt.grid(True, linestyle='--', alpha=0.6)\n",
    "\n",
    "    # Plot HR@10\n",
    "    plt.subplot(2, 2, 3)\n",
    "    plt.plot(epochs, hr_list_1, label='Dataset 1', marker='o')\n",
    "    plt.plot(epochs, hr_list_4, label='Dataset 2', marker='x')\n",
    "    plt.title(f'Hit Ratio @ {top_k} Comparison')\n",
    "    plt.xlabel('Epoch')\n",
    "    plt.ylabel('Score')\n",
    "    plt.legend()\n",
    "    plt.grid(True, linestyle='--', alpha=0.6)\n",
    "\n",
    "    # Plot NDCG@10\n",
    "    plt.subplot(2, 2, 4)\n",
    "    plt.plot(epochs, ndcg_list_1, label='Dataset 1', marker='o')\n",
    "    plt.plot(epochs, ndcg_list_4, label='Dataset 2', marker='x')\n",
    "    plt.title(f'NDCG @ {top_k} Comparison')\n",
    "    plt.xlabel('Epoch')\n",
    "    plt.ylabel('Score')\n",
    "    plt.legend()\n",
    "    plt.grid(True, linestyle='--', alpha=0.6)\n",
    "\n",
    "    # Add main title and adjust layout\n",
    "    plt.suptitle('Model 2 Performance Comparison on Dataset 1 and Dataset 2', fontsize=16, y=1.02)\n",
    "    plt.tight_layout()\n",
    "    \n",
    "    # Save the entire figure\n",
    "    plt.savefig(os.path.join(output_dir, f'ncf_performance_comparison_top_{top_k}_D1D2_M2.png'), \n",
    "                bbox_inches='tight', dpi=300)\n",
    "    plt.show()"
   ]
  },
  {
   "cell_type": "markdown",
   "id": "6083b1be-25d1-4f20-889f-fc72367ed259",
   "metadata": {},
   "source": [
    "<h2>Putting everything together</h2>"
   ]
  },
  {
   "cell_type": "code",
   "execution_count": 8,
   "id": "89f07a97-a3f5-47ab-a7a9-dd3727c46742",
   "metadata": {},
   "outputs": [
    {
     "name": "stdout",
     "output_type": "stream",
     "text": [
      "device: cpu\n",
      "negative sampled data: 400684\n",
      "negative sampled data: 61000\n",
      "negative sampled data: 3976676\n",
      "negative sampled data: 604000\n",
      "data loaded!\n",
      "Training time: 123.27951\n"
     ]
    }
   ],
   "source": [
    "import pandas as pd\n",
    "import torch\n",
    "import argparse\n",
    "from torch.utils.data import DataLoader\n",
    "import torch.optim as optim\n",
    "import matplotlib.pyplot as plt\n",
    "import os\n",
    "import numpy as np\n",
    "import time\n",
    "\n",
    "start_time = time.time()  # Record start time\n",
    "\n",
    "# check device\n",
    "device = torch.device('cuda' if torch.cuda.is_available() else 'cpu')\n",
    "print(f'device: {device}')\n",
    "\n",
    "# print GPU information\n",
    "if torch.cuda.is_available():\n",
    "    print('Current cuda device:', torch.cuda.current_device())\n",
    "    print('Count of using GPUs:', torch.cuda.device_count())\n",
    "\n",
    "# directory to save checkpoints\n",
    "pretrain_dir = 'ncf_models'\n",
    "if not os.path.isdir(pretrain_dir):\n",
    "    os.makedirs(pretrain_dir)\n",
    "\n",
    "# the train, test and total dataset\n",
    "train_df_1 = pd.read_csv(\"./Datasets/train_D1.csv\")\n",
    "test_df_1 = pd.read_csv(\"./Datasets/test_D1.csv\")\n",
    "total_df_1 = pd.read_csv(\"./Datasets/ratings_preprocessed_D1.csv\")\n",
    "\n",
    "train_df_4 = pd.read_csv(\"./Datasets/train_D2.csv\")\n",
    "test_df_4 = pd.read_csv(\"./Datasets/test_D2.csv\")\n",
    "total_df_4 = pd.read_csv(\"./Datasets/ratings_preprocessed_D2.csv\")\n",
    "\n",
    "# make torch.utils.data.Data object\n",
    "train_set_1 = MovieLens(df=train_df_1, total_df=total_df_1, ng_ratio=3)\n",
    "test_set_1 = MovieLens(df=test_df_1, total_df=total_df_1, ng_ratio=99)\n",
    "\n",
    "train_set_4 = MovieLens(df=train_df_4, total_df=total_df_4, ng_ratio=3)\n",
    "test_set_4 = MovieLens(df=test_df_4, total_df=total_df_4, ng_ratio=99)\n",
    "\n",
    "# Find Global Maximums\n",
    "max_num_users_global = max(total_df_1['userId'].max(), total_df_4['userId'].max()) + 1  #, total_df_2['userId'].max()\n",
    "max_num_items_global = max(total_df_1['movieId'].max(), total_df_4['movieId'].max()) + 1  #, total_df_2['movieId'].max()\n",
    "\n",
    "print('data loaded!')\n",
    "\n",
    "# dataloader for train_dataset\n",
    "dataloader_train_1 = DataLoader(dataset=train_set_1, batch_size=256, shuffle=True, num_workers=0)\n",
    "\n",
    "# dataloader for test_dataset\n",
    "dataloader_test_1 = DataLoader(dataset=test_set_1, batch_size=100, shuffle=False, num_workers=0, drop_last=True)\n",
    "\n",
    "# dataloader for train_dataset\n",
    "dataloader_train_4 = DataLoader(dataset=train_set_4, batch_size=256, shuffle=True, num_workers=0)\n",
    "\n",
    "# dataloader for test_dataset\n",
    "dataloader_test_4 = DataLoader(dataset=test_set_4, batch_size=100, shuffle=False, num_workers=0, drop_last=True)\n",
    "\n",
    "model = MLP(num_users=max_num_users_global, num_items=max_num_items_global, embedding_size=16, layer_dims=[32,16,8], use_NeuMF=False) #emb size, layer\n",
    "\n",
    "# Initialize optimizer and loss function\n",
    "optimizer = torch.optim.Adam(model.parameters(), lr=0.005) #learning rate\n",
    "\n",
    "# objective function is log loss (Cross-entropy loss)\n",
    "criterion = torch.nn.BCELoss()\n",
    "\n",
    "model.to(device)\n",
    "save_model = True\n",
    "\n",
    "end_time = time.time()    # Record end time\n",
    "training_time = end_time - start_time  # Calculate training time\n",
    "print(f\"Training time: {training_time:.5f}\")  # Print the training time"
   ]
  },
  {
   "cell_type": "markdown",
   "id": "dac87c73-10a0-41e1-9610-54a0011e66dd",
   "metadata": {},
   "source": [
    "<h2>Dataset 1 Model Training</h2>"
   ]
  },
  {
   "cell_type": "code",
   "execution_count": 10,
   "id": "553c25a2-b7f6-4987-8838-b93b7b2c5fa4",
   "metadata": {},
   "outputs": [
    {
     "name": "stderr",
     "output_type": "stream",
     "text": [
      "Epoch 1/15: 100%|███████████████████████████████████████████████████| 1566/1566 [00:57<00:00, 27.44batch/s, loss=0.289]\n"
     ]
    },
    {
     "name": "stdout",
     "output_type": "stream",
     "text": [
      "Epochs: 1\tAvg Train Loss: 0.4061\tAvg Test Loss: 0.1931\tHR: 0.572\tNDCG: 0.320\n"
     ]
    },
    {
     "name": "stderr",
     "output_type": "stream",
     "text": [
      "Epoch 2/15: 100%|████████████████████████████████████████████████████| 1566/1566 [00:59<00:00, 26.50batch/s, loss=0.36]\n"
     ]
    },
    {
     "name": "stdout",
     "output_type": "stream",
     "text": [
      "Epochs: 2\tAvg Train Loss: 0.3307\tAvg Test Loss: 0.1899\tHR: 0.595\tNDCG: 0.345\n"
     ]
    },
    {
     "name": "stderr",
     "output_type": "stream",
     "text": [
      "Epoch 3/15: 100%|███████████████████████████████████████████████████| 1566/1566 [00:58<00:00, 26.82batch/s, loss=0.319]\n"
     ]
    },
    {
     "name": "stdout",
     "output_type": "stream",
     "text": [
      "Epochs: 3\tAvg Train Loss: 0.2955\tAvg Test Loss: 0.1995\tHR: 0.611\tNDCG: 0.360\n"
     ]
    },
    {
     "name": "stderr",
     "output_type": "stream",
     "text": [
      "Epoch 4/15: 100%|████████████████████████████████████████████████████| 1566/1566 [00:58<00:00, 26.85batch/s, loss=0.29]\n"
     ]
    },
    {
     "name": "stdout",
     "output_type": "stream",
     "text": [
      "Epochs: 4\tAvg Train Loss: 0.2694\tAvg Test Loss: 0.1996\tHR: 0.623\tNDCG: 0.369\n"
     ]
    },
    {
     "name": "stderr",
     "output_type": "stream",
     "text": [
      "Epoch 5/15: 100%|███████████████████████████████████████████████████| 1566/1566 [00:59<00:00, 26.29batch/s, loss=0.231]\n"
     ]
    },
    {
     "name": "stdout",
     "output_type": "stream",
     "text": [
      "Epochs: 5\tAvg Train Loss: 0.2506\tAvg Test Loss: 0.2029\tHR: 0.634\tNDCG: 0.373\n"
     ]
    },
    {
     "name": "stderr",
     "output_type": "stream",
     "text": [
      "Epoch 6/15: 100%|███████████████████████████████████████████████████| 1566/1566 [00:59<00:00, 26.18batch/s, loss=0.184]\n"
     ]
    },
    {
     "name": "stdout",
     "output_type": "stream",
     "text": [
      "Epochs: 6\tAvg Train Loss: 0.2370\tAvg Test Loss: 0.1793\tHR: 0.625\tNDCG: 0.371\n"
     ]
    },
    {
     "name": "stderr",
     "output_type": "stream",
     "text": [
      "Epoch 7/15: 100%|███████████████████████████████████████████████████| 1566/1566 [00:59<00:00, 26.52batch/s, loss=0.261]\n"
     ]
    },
    {
     "name": "stdout",
     "output_type": "stream",
     "text": [
      "Epochs: 7\tAvg Train Loss: 0.2265\tAvg Test Loss: 0.2056\tHR: 0.628\tNDCG: 0.364\n"
     ]
    },
    {
     "name": "stderr",
     "output_type": "stream",
     "text": [
      "Epoch 8/15: 100%|███████████████████████████████████████████████████| 1566/1566 [00:58<00:00, 26.82batch/s, loss=0.149]\n"
     ]
    },
    {
     "name": "stdout",
     "output_type": "stream",
     "text": [
      "Epochs: 8\tAvg Train Loss: 0.2183\tAvg Test Loss: 0.2269\tHR: 0.626\tNDCG: 0.370\n"
     ]
    },
    {
     "name": "stderr",
     "output_type": "stream",
     "text": [
      "Epoch 9/15: 100%|███████████████████████████████████████████████████| 1566/1566 [00:57<00:00, 27.04batch/s, loss=0.175]\n"
     ]
    },
    {
     "name": "stdout",
     "output_type": "stream",
     "text": [
      "Epochs: 9\tAvg Train Loss: 0.2115\tAvg Test Loss: 0.2002\tHR: 0.610\tNDCG: 0.359\n"
     ]
    },
    {
     "name": "stderr",
     "output_type": "stream",
     "text": [
      "Epoch 10/15: 100%|██████████████████████████████████████████████████| 1566/1566 [00:55<00:00, 28.19batch/s, loss=0.163]\n"
     ]
    },
    {
     "name": "stdout",
     "output_type": "stream",
     "text": [
      "Epochs: 10\tAvg Train Loss: 0.2057\tAvg Test Loss: 0.2348\tHR: 0.628\tNDCG: 0.365\n"
     ]
    },
    {
     "name": "stderr",
     "output_type": "stream",
     "text": [
      "Epoch 11/15: 100%|██████████████████████████████████████████████████| 1566/1566 [00:57<00:00, 27.42batch/s, loss=0.124]\n"
     ]
    },
    {
     "name": "stdout",
     "output_type": "stream",
     "text": [
      "Epochs: 11\tAvg Train Loss: 0.1996\tAvg Test Loss: 0.2040\tHR: 0.610\tNDCG: 0.354\n"
     ]
    },
    {
     "name": "stderr",
     "output_type": "stream",
     "text": [
      "Epoch 12/15: 100%|██████████████████████████████████████████████████| 1566/1566 [00:55<00:00, 28.30batch/s, loss=0.178]\n"
     ]
    },
    {
     "name": "stdout",
     "output_type": "stream",
     "text": [
      "Epochs: 12\tAvg Train Loss: 0.1955\tAvg Test Loss: 0.2331\tHR: 0.611\tNDCG: 0.344\n"
     ]
    },
    {
     "name": "stderr",
     "output_type": "stream",
     "text": [
      "Epoch 13/15: 100%|██████████████████████████████████████████████████| 1566/1566 [00:56<00:00, 27.76batch/s, loss=0.272]\n"
     ]
    },
    {
     "name": "stdout",
     "output_type": "stream",
     "text": [
      "Epochs: 13\tAvg Train Loss: 0.1910\tAvg Test Loss: 0.2638\tHR: 0.616\tNDCG: 0.348\n"
     ]
    },
    {
     "name": "stderr",
     "output_type": "stream",
     "text": [
      "Epoch 14/15: 100%|██████████████████████████████████████████████████| 1566/1566 [00:56<00:00, 27.56batch/s, loss=0.292]\n"
     ]
    },
    {
     "name": "stdout",
     "output_type": "stream",
     "text": [
      "Epochs: 14\tAvg Train Loss: 0.1882\tAvg Test Loss: 0.2758\tHR: 0.621\tNDCG: 0.353\n"
     ]
    },
    {
     "name": "stderr",
     "output_type": "stream",
     "text": [
      "Epoch 15/15: 100%|██████████████████████████████████████████████████| 1566/1566 [00:56<00:00, 27.58batch/s, loss=0.161]\n"
     ]
    },
    {
     "name": "stdout",
     "output_type": "stream",
     "text": [
      "Epochs: 15\tAvg Train Loss: 0.1842\tAvg Test Loss: 0.2611\tHR: 0.618\tNDCG: 0.350\n",
      "Learning finished\n",
      "Training time: 913.13465 seconds\n"
     ]
    }
   ],
   "source": [
    "# Initialize trainer with customizable top_k\n",
    "\n",
    "trainer_1 = Train(model=model,\n",
    "              optimizer=optimizer,\n",
    "              criterion=criterion,\n",
    "              epochs=15,\n",
    "              test_obj=dataloader_test_1,\n",
    "              dataloader=dataloader_train_1,\n",
    "              device=device,\n",
    "              print_cost=True,\n",
    "              top_k=10)\n",
    "    \n",
    "# measuring time\n",
    "start = time.time()\n",
    "loss_1, test_loss_list_1, hr_list_1, ndcg_list_1 = trainer_1.train()\n",
    "\n",
    "end = time.time()\n",
    "\n",
    "time_message = f'Training time: {end-start:.5f} seconds'\n",
    "print(time_message)"
   ]
  },
  {
   "cell_type": "markdown",
   "id": "b557102e-7265-409f-a667-3c28a6e97eea",
   "metadata": {},
   "source": [
    "<h2>Dataset 4 Model Training</h2>"
   ]
  },
  {
   "cell_type": "code",
   "execution_count": 9,
   "id": "f61a06d4-19d5-4e6f-9ef4-f5240dbf85ea",
   "metadata": {},
   "outputs": [
    {
     "name": "stderr",
     "output_type": "stream",
     "text": [
      "Epoch 1/15: 100%|█████████████████████████████████████████████████| 15534/15534 [09:09<00:00, 28.28batch/s, loss=0.319]\n"
     ]
    },
    {
     "name": "stdout",
     "output_type": "stream",
     "text": [
      "Epochs: 1\tAvg Train Loss: 0.3841\tAvg Test Loss: 0.2140\tHR: 0.513\tNDCG: 0.285\n"
     ]
    },
    {
     "name": "stderr",
     "output_type": "stream",
     "text": [
      "Epoch 2/15: 100%|█████████████████████████████████████████████████| 15534/15534 [09:04<00:00, 28.51batch/s, loss=0.283]\n"
     ]
    },
    {
     "name": "stdout",
     "output_type": "stream",
     "text": [
      "Epochs: 2\tAvg Train Loss: 0.3395\tAvg Test Loss: 0.2006\tHR: 0.575\tNDCG: 0.322\n"
     ]
    },
    {
     "name": "stderr",
     "output_type": "stream",
     "text": [
      "Epoch 3/15: 100%|█████████████████████████████████████████████████| 15534/15534 [09:27<00:00, 27.36batch/s, loss=0.302]\n"
     ]
    },
    {
     "name": "stdout",
     "output_type": "stream",
     "text": [
      "Epochs: 3\tAvg Train Loss: 0.3191\tAvg Test Loss: 0.2076\tHR: 0.595\tNDCG: 0.336\n"
     ]
    },
    {
     "name": "stderr",
     "output_type": "stream",
     "text": [
      "Epoch 4/15: 100%|█████████████████████████████████████████████████| 15534/15534 [09:21<00:00, 27.66batch/s, loss=0.316]\n"
     ]
    },
    {
     "name": "stdout",
     "output_type": "stream",
     "text": [
      "Epochs: 4\tAvg Train Loss: 0.3100\tAvg Test Loss: 0.1865\tHR: 0.606\tNDCG: 0.346\n"
     ]
    },
    {
     "name": "stderr",
     "output_type": "stream",
     "text": [
      "Epoch 5/15: 100%|█████████████████████████████████████████████████| 15534/15534 [09:25<00:00, 27.48batch/s, loss=0.336]\n"
     ]
    },
    {
     "name": "stdout",
     "output_type": "stream",
     "text": [
      "Epochs: 5\tAvg Train Loss: 0.3030\tAvg Test Loss: 0.1925\tHR: 0.610\tNDCG: 0.348\n"
     ]
    },
    {
     "name": "stderr",
     "output_type": "stream",
     "text": [
      "Epoch 6/15: 100%|█████████████████████████████████████████████████| 15534/15534 [09:20<00:00, 27.72batch/s, loss=0.272]\n"
     ]
    },
    {
     "name": "stdout",
     "output_type": "stream",
     "text": [
      "Epochs: 6\tAvg Train Loss: 0.2970\tAvg Test Loss: 0.1805\tHR: 0.627\tNDCG: 0.357\n"
     ]
    },
    {
     "name": "stderr",
     "output_type": "stream",
     "text": [
      "Epoch 7/15: 100%|█████████████████████████████████████████████████| 15534/15534 [09:30<00:00, 27.22batch/s, loss=0.263]\n"
     ]
    },
    {
     "name": "stdout",
     "output_type": "stream",
     "text": [
      "Epochs: 7\tAvg Train Loss: 0.2924\tAvg Test Loss: 0.1881\tHR: 0.620\tNDCG: 0.355\n"
     ]
    },
    {
     "name": "stderr",
     "output_type": "stream",
     "text": [
      "Epoch 8/15: 100%|█████████████████████████████████████████████████| 15534/15534 [09:37<00:00, 26.89batch/s, loss=0.287]\n"
     ]
    },
    {
     "name": "stdout",
     "output_type": "stream",
     "text": [
      "Epochs: 8\tAvg Train Loss: 0.2888\tAvg Test Loss: 0.1838\tHR: 0.629\tNDCG: 0.361\n"
     ]
    },
    {
     "name": "stderr",
     "output_type": "stream",
     "text": [
      "Epoch 9/15: 100%|█████████████████████████████████████████████████| 15534/15534 [09:38<00:00, 26.85batch/s, loss=0.333]\n"
     ]
    },
    {
     "name": "stdout",
     "output_type": "stream",
     "text": [
      "Epochs: 9\tAvg Train Loss: 0.2860\tAvg Test Loss: 0.1919\tHR: 0.637\tNDCG: 0.365\n"
     ]
    },
    {
     "name": "stderr",
     "output_type": "stream",
     "text": [
      "Epoch 10/15: 100%|████████████████████████████████████████████████| 15534/15534 [09:49<00:00, 26.33batch/s, loss=0.246]\n"
     ]
    },
    {
     "name": "stdout",
     "output_type": "stream",
     "text": [
      "Epochs: 10\tAvg Train Loss: 0.2838\tAvg Test Loss: 0.1734\tHR: 0.637\tNDCG: 0.365\n"
     ]
    },
    {
     "name": "stderr",
     "output_type": "stream",
     "text": [
      "Epoch 11/15: 100%|████████████████████████████████████████████████| 15534/15534 [10:01<00:00, 25.84batch/s, loss=0.339]\n"
     ]
    },
    {
     "name": "stdout",
     "output_type": "stream",
     "text": [
      "Epochs: 11\tAvg Train Loss: 0.2819\tAvg Test Loss: 0.1901\tHR: 0.636\tNDCG: 0.366\n"
     ]
    },
    {
     "name": "stderr",
     "output_type": "stream",
     "text": [
      "Epoch 12/15: 100%|████████████████████████████████████████████████| 15534/15534 [09:45<00:00, 26.54batch/s, loss=0.267]\n"
     ]
    },
    {
     "name": "stdout",
     "output_type": "stream",
     "text": [
      "Epochs: 12\tAvg Train Loss: 0.2803\tAvg Test Loss: 0.1881\tHR: 0.636\tNDCG: 0.369\n"
     ]
    },
    {
     "name": "stderr",
     "output_type": "stream",
     "text": [
      "Epoch 13/15: 100%|████████████████████████████████████████████████| 15534/15534 [09:45<00:00, 26.53batch/s, loss=0.241]\n"
     ]
    },
    {
     "name": "stdout",
     "output_type": "stream",
     "text": [
      "Epochs: 13\tAvg Train Loss: 0.2791\tAvg Test Loss: 0.1654\tHR: 0.635\tNDCG: 0.366\n"
     ]
    },
    {
     "name": "stderr",
     "output_type": "stream",
     "text": [
      "Epoch 14/15: 100%|████████████████████████████████████████████████| 15534/15534 [09:43<00:00, 26.60batch/s, loss=0.309]\n"
     ]
    },
    {
     "name": "stdout",
     "output_type": "stream",
     "text": [
      "Epochs: 14\tAvg Train Loss: 0.2778\tAvg Test Loss: 0.1798\tHR: 0.644\tNDCG: 0.374\n"
     ]
    },
    {
     "name": "stderr",
     "output_type": "stream",
     "text": [
      "Epoch 15/15: 100%|████████████████████████████████████████████████| 15534/15534 [09:36<00:00, 26.93batch/s, loss=0.284]\n"
     ]
    },
    {
     "name": "stdout",
     "output_type": "stream",
     "text": [
      "Epochs: 15\tAvg Train Loss: 0.2768\tAvg Test Loss: 0.2042\tHR: 0.640\tNDCG: 0.367\n",
      "Learning finished\n",
      "Training time: 9068.87826 seconds\n"
     ]
    }
   ],
   "source": [
    "# Initialize trainer with customizable top_k\n",
    "\n",
    "trainer_2 = Train(model=model,\n",
    "              optimizer=optimizer,\n",
    "              criterion=criterion,\n",
    "              epochs=15,\n",
    "              test_obj=dataloader_test_4,\n",
    "              dataloader=dataloader_train_4,\n",
    "              device=device,\n",
    "              print_cost=True,\n",
    "              top_k=10)\n",
    "    \n",
    "# measuring time\n",
    "start = time.time()\n",
    "loss_4, test_loss_list_4, hr_list_4, ndcg_list_4 = trainer_2.train()\n",
    "\n",
    "end = time.time()\n",
    "\n",
    "time_message = f'Training time: {end-start:.5f} seconds'\n",
    "print(time_message)"
   ]
  },
  {
   "cell_type": "markdown",
   "id": "8fbfb201-c3d8-4e6f-ba3c-5a8d8d2aa4d6",
   "metadata": {},
   "source": [
    "<h2>Plotting Graphs</h2>"
   ]
  },
  {
   "cell_type": "code",
   "execution_count": 11,
   "id": "283f1afd-1689-4121-aa56-6772c6185910",
   "metadata": {},
   "outputs": [
    {
     "data": {
      "image/png": "[encoded data removed]",
      "text/plain": [
       "<Figure size 1600x1200 with 4 Axes>"
      ]
     },
     "metadata": {},
     "output_type": "display_data"
    }
   ],
   "source": [
    "plot_comparison_metrics(loss_1, test_loss_list_1, hr_list_1, ndcg_list_1, loss_4, test_loss_list_4, hr_list_4, ndcg_list_4, top_k=trainer_2.top_k)"
   ]
  },
  {
   "cell_type": "code",
   "execution_count": 12,
   "id": "5d8c37b5-c0b2-4cfd-85ad-b0ceae28ef2e",
   "metadata": {},
   "outputs": [
    {
     "data": {
      "text/plain": [
       "MLP(\n",
       "  (user_embedding): Embedding(6041, 16)\n",
       "  (item_embedding): Embedding(193610, 16)\n",
       "  (mlp_layers): Sequential(\n",
       "    (0): Linear(in_features=32, out_features=32, bias=True)\n",
       "    (1): ReLU()\n",
       "    (2): Linear(in_features=32, out_features=16, bias=True)\n",
       "    (3): ReLU()\n",
       "    (4): Linear(in_features=16, out_features=8, bias=True)\n",
       "    (5): ReLU()\n",
       "  )\n",
       "  (output_layer): Linear(in_features=8, out_features=1, bias=True)\n",
       "  (sigmoid): Sigmoid()\n",
       ")"
      ]
     },
     "execution_count": 12,
     "metadata": {},
     "output_type": "execute_result"
    }
   ],
   "source": [
    "model"
   ]
  },
  {
   "cell_type": "markdown",
   "id": "5beb4616-19cb-4b4d-9ecf-c7a0715b7902",
   "metadata": {},
   "source": [
    "<h2>Inference Checking</h2>"
   ]
  },
  {
   "cell_type": "markdown",
   "id": "4e73193e-e866-49cb-95c0-0f0a58dd3f4c",
   "metadata": {},
   "source": [
    "<h3>Getting inference with corresponding metrics from a test set</h3>"
   ]
  },
  {
   "cell_type": "code",
   "execution_count": 13,
   "id": "c2549ae0-c4b8-4680-96a9-07594b495cbb",
   "metadata": {},
   "outputs": [
    {
     "name": "stdout",
     "output_type": "stream",
     "text": [
      "Evaluation Metrics:\n",
      "HR@10: 0.618\n",
      "NDCG@10: 0.350\n",
      "\n",
      "User: 31\n",
      "Ground Truth: Pallbearer, The (1996) (MovieID: 612)\n",
      "\n",
      "Top 10 Recommendations for User 31:\n",
      "1. Batman (1989) (MovieID: 592, Score: 0.982)\n",
      "2. Star Wars: Episode IV - A New Hope (1977) (MovieID: 260, Score: 0.965)\n",
      "3. Blazing Saddles (1974) (MovieID: 3671, Score: 0.936)\n",
      "4. Raising Arizona (1987) (MovieID: 1394, Score: 0.826)\n",
      "5. Gattaca (1997) (MovieID: 1653, Score: 0.822)\n",
      "6. 12 Angry Men (1957) (MovieID: 1203, Score: 0.717)\n",
      "7. Rocky (1976) (MovieID: 1954, Score: 0.528)\n",
      "8. Thelma & Louise (1991) (MovieID: 3418, Score: 0.405)\n",
      "9. Misérables, Les (1998) (MovieID: 1873, Score: 0.328)\n",
      "10. Safe (1995) (MovieID: 190, Score: 0.328)\n"
     ]
    }
   ],
   "source": [
    "def metrics_with_recommendations_with_titles(model, test_loader, top_k, total_dataframe, device):\n",
    "    \"\"\"\n",
    "    Function to return recommendations with metrics and predicted scores.\n",
    "\n",
    "    Parameters:\n",
    "    -----------\n",
    "    model: The trained model checkpoints\n",
    "    test_loader: The test data loader\n",
    "    top_k: Total numbers of movies to recommend\n",
    "    total_dataframe: The total dataframe to map the id of the movie with title\n",
    "    device: According to availability CPU or a GPU\n",
    "\n",
    "    Returns:\n",
    "    ---------\n",
    "    HR: The Hit rate metrics\n",
    "    NDCG: The NDCG metrics\n",
    "    all_recommendations: The top_k recommended movies with titles and predicted scores\n",
    "    \"\"\"\n",
    "    HR, NDCG, all_recommendations = [], [], []\n",
    "\n",
    "    for user, item, label in test_loader:\n",
    "        user = user.to(device)\n",
    "        item = item.to(device)\n",
    "\n",
    "        predictions = model(user, item)\n",
    "        # Get top-k predictions and their indices\n",
    "        top_k_scores, top_k_indices = torch.topk(predictions, top_k)\n",
    "\n",
    "        # Convert to lists\n",
    "        recommends = torch.take(item, top_k_indices).cpu().numpy().tolist()\n",
    "        recommend_scores = top_k_scores.cpu().detach().numpy().tolist()\n",
    "\n",
    "        # Ground truth item\n",
    "        gt_item = item[0].item()\n",
    "        HR.append(hit(gt_item, recommends))\n",
    "        NDCG.append(ndcg(gt_item, recommends))\n",
    "\n",
    "        # Get movie titles and scores for the recommended movies\n",
    "        recommended_movies = []\n",
    "        for rec, score in zip(recommends, recommend_scores):\n",
    "            title = total_dataframe[total_dataframe['movieId'] == rec]['title'].values[0]\n",
    "            recommended_movies.append({\n",
    "                'movieId': rec,\n",
    "                'title': title,\n",
    "                'score': float(score)  # Convert numpy float to Python float for JSON compatibility\n",
    "            })\n",
    "\n",
    "        all_recommendations.append({\n",
    "            'user': user[0].item() if user.numel() == 1 else user.tolist()[0],  # Ensure single user per batch\n",
    "            'ground_truth': {\n",
    "                'movieId': gt_item,\n",
    "                'title': total_dataframe[total_dataframe['movieId'] == gt_item]['title'].values[0]\n",
    "            },\n",
    "            'recommendations': recommended_movies\n",
    "        })\n",
    "\n",
    "    return np.mean(HR), np.mean(NDCG), all_recommendations\n",
    "\n",
    "# main HERE\n",
    "k = 10 # change the value of k here\n",
    "\n",
    "HR, NDCG, all_recommendations = metrics_with_recommendations_with_titles(\n",
    "    model, \n",
    "    test_loader=dataloader_test_1, \n",
    "    top_k=k,\n",
    "    total_dataframe=total_df_1, \n",
    "    device=device\n",
    ")\n",
    "\n",
    "# Print metrics\n",
    "print(f\"Evaluation Metrics:\")\n",
    "print(f\"HR@{k}: {HR:.3f}\")\n",
    "print(f\"NDCG@{k}: {NDCG:.3f}\")\n",
    "\n",
    "# Print recommendations with scores (for the first user)\n",
    "first_user_rec = all_recommendations[0]\n",
    "print(f\"\\nUser: {first_user_rec['user']}\")\n",
    "print(f\"Ground Truth: {first_user_rec['ground_truth']['title']} (MovieID: {first_user_rec['ground_truth']['movieId']})\")\n",
    "print(f\"\\nTop {k} Recommendations for User {first_user_rec['user']}:\") # attention HERE\n",
    "for idx, rec in enumerate(first_user_rec['recommendations'], 1):\n",
    "    print(f\"{idx}. {rec['title']} (MovieID: {rec['movieId']}, Score: {rec['score']:.3f})\")"
   ]
  },
  {
   "cell_type": "code",
   "execution_count": 14,
   "id": "6b6a45aa-3ad0-4517-a8bc-9f1e790cdfe2",
   "metadata": {},
   "outputs": [
    {
     "name": "stdout",
     "output_type": "stream",
     "text": [
      "Evaluation Metrics:\n",
      "HR@10: 0.452\n",
      "NDCG@10: 0.237\n",
      "\n",
      "User: 891\n",
      "Ground Truth: Devil's Own, The (1997) (MovieID: 1488)\n",
      "\n",
      "Top 10 Recommendations for User 891:\n",
      "1. Princess Bride, The (1987) (MovieID: 1197, Score: 0.952)\n",
      "2. Dogma (1999) (MovieID: 3052, Score: 0.919)\n",
      "3. Waterworld (1995) (MovieID: 208, Score: 0.917)\n",
      "4. Sleepless in Seattle (1993) (MovieID: 539, Score: 0.833)\n",
      "5. Sling Blade (1996) (MovieID: 1358, Score: 0.821)\n",
      "6. Santa Clause, The (1994) (MovieID: 317, Score: 0.791)\n",
      "7. Three Musketeers, The (1993) (MovieID: 552, Score: 0.783)\n",
      "8. Grosse Pointe Blank (1997) (MovieID: 1500, Score: 0.763)\n",
      "9. Perfect Storm, The (2000) (MovieID: 3755, Score: 0.735)\n",
      "10. Rear Window (1954) (MovieID: 904, Score: 0.695)\n"
     ]
    }
   ],
   "source": [
    "def metrics_with_recommendations_with_titles(model, test_loader, top_k, total_dataframe, device):\n",
    "    \"\"\"\n",
    "    Function to return recommendations with metrics and predicted scores.\n",
    "\n",
    "    Parameters:\n",
    "    -----------\n",
    "    model: The trained model checkpoints\n",
    "    test_loader: The test data loader\n",
    "    top_k: Total numbers of movies to recommend\n",
    "    total_dataframe: The total dataframe to map the id of the movie with title\n",
    "    device: According to availability CPU or a GPU\n",
    "\n",
    "    Returns:\n",
    "    ---------\n",
    "    HR: The Hit rate metrics\n",
    "    NDCG: The NDCG metrics\n",
    "    all_recommendations: The top_k recommended movies with titles and predicted scores\n",
    "    \"\"\"\n",
    "    HR, NDCG, all_recommendations = [], [], []\n",
    "\n",
    "    for user, item, label in test_loader:\n",
    "        user = user.to(device)\n",
    "        item = item.to(device)\n",
    "\n",
    "        predictions = model(user, item)\n",
    "        # Get top-k predictions and their indices\n",
    "        top_k_scores, top_k_indices = torch.topk(predictions, top_k)\n",
    "\n",
    "        # Convert to lists\n",
    "        recommends = torch.take(item, top_k_indices).cpu().numpy().tolist()\n",
    "        recommend_scores = top_k_scores.cpu().detach().numpy().tolist()\n",
    "\n",
    "        # Ground truth item\n",
    "        gt_item = item[0].item()\n",
    "        HR.append(hit(gt_item, recommends))\n",
    "        NDCG.append(ndcg(gt_item, recommends))\n",
    "\n",
    "        # Get movie titles and scores for the recommended movies\n",
    "        recommended_movies = []\n",
    "        for rec, score in zip(recommends, recommend_scores):\n",
    "            title = total_dataframe[total_dataframe['movieId'] == rec]['title'].values[0]\n",
    "            recommended_movies.append({\n",
    "                'movieId': rec,\n",
    "                'title': title,\n",
    "                'score': float(score)  # Convert numpy float to Python float for JSON compatibility\n",
    "            })\n",
    "\n",
    "        all_recommendations.append({\n",
    "            'user': user[0].item() if user.numel() == 1 else user.tolist()[0],  # Ensure single user per batch\n",
    "            'ground_truth': {\n",
    "                'movieId': gt_item,\n",
    "                'title': total_dataframe[total_dataframe['movieId'] == gt_item]['title'].values[0]\n",
    "            },\n",
    "            'recommendations': recommended_movies\n",
    "        })\n",
    "\n",
    "    return np.mean(HR), np.mean(NDCG), all_recommendations\n",
    "\n",
    "# main HERE\n",
    "k = 10 # change the value of k here\n",
    "HR, NDCG, all_recommendations = metrics_with_recommendations_with_titles(\n",
    "    model, \n",
    "    test_loader=dataloader_test_4, \n",
    "    top_k=k, \n",
    "    total_dataframe=total_df_4, \n",
    "    device=device\n",
    ")\n",
    "\n",
    "print(f\"Evaluation Metrics:\")\n",
    "print(f\"HR@{k}: {HR:.3f}\")\n",
    "print(f\"NDCG@{k}: {NDCG:.3f}\")\n",
    "\n",
    "# Print recommendations with scores (for the first user)\n",
    "first_user_rec = all_recommendations[0]\n",
    "print(f\"\\nUser: {first_user_rec['user']}\")\n",
    "print(f\"Ground Truth: {first_user_rec['ground_truth']['title']} (MovieID: {first_user_rec['ground_truth']['movieId']})\")\n",
    "print(f\"\\nTop {k} Recommendations for User {first_user_rec['user']}:\") # attention HERE\n",
    "for idx, rec in enumerate(first_user_rec['recommendations'], 1):\n",
    "    print(f\"{idx}. {rec['title']} (MovieID: {rec['movieId']}, Score: {rec['score']:.3f})\")"
   ]
  },
  {
   "cell_type": "markdown",
   "id": "edc59644-3757-498d-b11a-645aee08c8a6",
   "metadata": {},
   "source": [
    "<h3>Getting recommendations for an existing user of the system</h3>"
   ]
  },
  {
   "cell_type": "code",
   "execution_count": 15,
   "id": "2e374629-c41d-4e31-82c9-1abca1f3c612",
   "metadata": {},
   "outputs": [
    {
     "name": "stdout",
     "output_type": "stream",
     "text": [
      "User ID 1 found in the test loader.\n",
      "\n",
      "Top 10 Recommendations for User 1:\n",
      "1. Cliffhanger (1993) (ID: 434) | Score: 0.948\n",
      "2. Network (1976) (ID: 3504) | Score: 0.914\n",
      "3. Dirty Dancing (1987) (ID: 1088) | Score: 0.910\n",
      "4. Muppet Treasure Island (1996) (ID: 107) | Score: 0.873\n",
      "5. My Life in Pink (Ma vie en rose) (1997) (ID: 1734) | Score: 0.795\n",
      "6. Any Given Sunday (1999) (ID: 3173) | Score: 0.794\n",
      "7. Ben-Hur (1959) (ID: 1287) | Score: 0.771\n",
      "8. Seven Years in Tibet (1997) (ID: 1619) | Score: 0.764\n",
      "9. Dark City (1998) (ID: 1748) | Score: 0.744\n",
      "10. My Favorite Year (1982) (ID: 921) | Score: 0.699\n"
     ]
    }
   ],
   "source": [
    "def inference_for_single_user_by_id(model, user_id, top_k, total_dataframe, test_loader, device):\n",
    "    \"\"\"\n",
    "    Function to perform inference for a single user by user ID and return recommendations with metrics.\n",
    "\n",
    "    Parameters:\n",
    "    -----------\n",
    "    model: The trained model checkpoints\n",
    "    user_id: The ID of the user for whom to make recommendations\n",
    "    top_k: Total numbers of movies to recommend\n",
    "    total_dataframe: The total dataframe to map the id of the movie with title\n",
    "    test_loader: The DataLoader for the test set\n",
    "    device: According to availability CPU or a GPU\n",
    "\n",
    "    Returns:\n",
    "    ---------\n",
    "    recommendations: Dictionary with user ID, ground truth, and recommended movies with scores\n",
    "    \"\"\"\n",
    "    user_found = False\n",
    "    \n",
    "    for user, item, label in test_loader:\n",
    "        if user[0].item() == user_id:\n",
    "            user_found = True\n",
    "            user = user.to(device)\n",
    "            item = item.to(device)\n",
    "\n",
    "            print(f\"User ID {user_id} found in the test loader.\")\n",
    "            predictions = model(user, item)\n",
    "            top_k_scores, top_k_indices = torch.topk(predictions, top_k)\n",
    "\n",
    "            # Convert to lists\n",
    "            recommends = torch.take(item, top_k_indices).cpu().numpy().tolist()\n",
    "            recommend_scores = top_k_scores.cpu().detach().numpy().tolist()\n",
    "\n",
    "            # Get movie details for the recommended movies\n",
    "            recommended_movies = []\n",
    "            for rec, score in zip(recommends, recommend_scores):\n",
    "                title = total_dataframe[total_dataframe['movieId'] == rec]['title'].values[0]\n",
    "                recommended_movies.append({\n",
    "                    'movieId': rec,\n",
    "                    'title': title,\n",
    "                    'score': float(score)  # Convert numpy float to Python float\n",
    "                })\n",
    "\n",
    "            return {\n",
    "                'user': user[0].item(),\n",
    "                'recommendations': recommended_movies\n",
    "            }\n",
    "    \n",
    "    if not user_found:\n",
    "        raise ValueError(f\"User ID {user_id} not found in the test loader.\")\n",
    "\n",
    "# Example usage\n",
    "user_id_to_infer = 1  # Replace with the user ID you want to infer\n",
    "recommendations = inference_for_single_user_by_id(\n",
    "    model, \n",
    "    user_id_to_infer, \n",
    "    top_k=10, \n",
    "    total_dataframe=total_df_1, \n",
    "    test_loader=dataloader_test_1, \n",
    "    device=device\n",
    ")\n",
    "\n",
    "# Print recommendations with scores\n",
    "print(f\"\\nTop {len(recommendations['recommendations'])} Recommendations for User {recommendations['user']}:\")\n",
    "for idx, rec in enumerate(recommendations['recommendations'], 1):\n",
    "    print(f\"{idx}. {rec['title']} (ID: {rec['movieId']}) | Score: {rec['score']:.3f}\")"
   ]
  },
  {
   "cell_type": "code",
   "execution_count": 16,
   "id": "f69503d2-8153-4fcd-a777-9df81512ee53",
   "metadata": {},
   "outputs": [
    {
     "name": "stdout",
     "output_type": "stream",
     "text": [
      "User ID 1 found in the test loader.\n",
      "\n",
      "Top 10 Recommendations for User 1:\n",
      "1. Clerks (1994) (ID: 223) | Score: 0.994\n",
      "2. American Beauty (1999) (ID: 2858) | Score: 0.991\n",
      "3. Groundhog Day (1993) (ID: 1265) | Score: 0.984\n",
      "4. Pocahontas (1995) (ID: 48) | Score: 0.984\n",
      "5. Sense and Sensibility (1995) (ID: 17) | Score: 0.964\n",
      "6. Jungle Fever (1991) (ID: 3426) | Score: 0.959\n",
      "7. Home Alone 2: Lost in New York (1992) (ID: 2953) | Score: 0.956\n",
      "8. Texas Chainsaw Massacre, The (1974) (ID: 2459) | Score: 0.956\n",
      "9. Sleepy Hollow (1999) (ID: 3081) | Score: 0.945\n",
      "10. Mars Attacks! (1996) (ID: 1391) | Score: 0.939\n"
     ]
    }
   ],
   "source": [
    "def inference_for_single_user_by_id(model, user_id, top_k, total_dataframe, test_loader, device):\n",
    "    \"\"\"\n",
    "    Function to perform inference for a single user by user ID and return recommendations with metrics.\n",
    "\n",
    "    Parameters:\n",
    "    -----------\n",
    "    model: The trained model checkpoints\n",
    "    user_id: The ID of the user for whom to make recommendations\n",
    "    top_k: Total numbers of movies to recommend\n",
    "    total_dataframe: The total dataframe to map the id of the movie with title\n",
    "    test_loader: The DataLoader for the test set\n",
    "    device: According to availability CPU or a GPU\n",
    "\n",
    "    Returns:\n",
    "    ---------\n",
    "    recommendations: Dictionary with user ID, ground truth, and recommended movies with scores\n",
    "    \"\"\"\n",
    "    user_found = False\n",
    "    \n",
    "    for user, item, label in test_loader:\n",
    "        if user[0].item() == user_id:\n",
    "            user_found = True\n",
    "            user = user.to(device)\n",
    "            item = item.to(device)\n",
    "\n",
    "            print(f\"User ID {user_id} found in the test loader.\")\n",
    "            predictions = model(user, item)\n",
    "            top_k_scores, top_k_indices = torch.topk(predictions, top_k)\n",
    "\n",
    "            # Convert to lists\n",
    "            recommends = torch.take(item, top_k_indices).cpu().numpy().tolist()\n",
    "            recommend_scores = top_k_scores.cpu().detach().numpy().tolist()\n",
    "\n",
    "            # Get movie details for the recommended movies\n",
    "            recommended_movies = []\n",
    "            for rec, score in zip(recommends, recommend_scores):\n",
    "                title = total_dataframe[total_dataframe['movieId'] == rec]['title'].values[0]\n",
    "                recommended_movies.append({\n",
    "                    'movieId': rec,\n",
    "                    'title': title,\n",
    "                    'score': float(score)  # Convert numpy float to Python float\n",
    "                })\n",
    "\n",
    "            return {\n",
    "                'user': user[0].item(),\n",
    "                'recommendations': recommended_movies\n",
    "            }\n",
    "    \n",
    "    if not user_found:\n",
    "        raise ValueError(f\"User ID {user_id} not found in the test loader.\")\n",
    "\n",
    "# Example usage\n",
    "user_id_to_infer = 1  # Replace with the user ID you want to infer\n",
    "recommendations = inference_for_single_user_by_id(\n",
    "    model, \n",
    "    user_id_to_infer, \n",
    "    top_k=10, \n",
    "    total_dataframe=total_df_4, \n",
    "    test_loader=dataloader_test_4, \n",
    "    device=device\n",
    ")\n",
    "\n",
    "# Print recommendations with scores\n",
    "print(f\"\\nTop {len(recommendations['recommendations'])} Recommendations for User {recommendations['user']}:\")\n",
    "for idx, rec in enumerate(recommendations['recommendations'], 1):\n",
    "    print(f\"{idx}. {rec['title']} (ID: {rec['movieId']}) | Score: {rec['score']:.3f}\")"
   ]
  },
  {
   "cell_type": "code",
   "execution_count": 25,
   "id": "baeed183-5fe9-40f6-823b-d1b2e3cc2009",
   "metadata": {},
   "outputs": [
    {
     "name": "stdout",
     "output_type": "stream",
     "text": [
      "       user_id  item_id  label\n",
      "0           31      612    1.0\n",
      "1           31    84799    0.0\n",
      "2           31      260    0.0\n",
      "3           31     1873    0.0\n",
      "4           31     8521    0.0\n",
      "...        ...      ...    ...\n",
      "60995       27    82366    0.0\n",
      "60996       27      265    0.0\n",
      "60997       27     1249    0.0\n",
      "60998       27   156783    0.0\n",
      "60999       27   100226    0.0\n",
      "\n",
      "[61000 rows x 3 columns]\n",
      "\n",
      "Data saved to: ./Datasets/dataloader_test_D1_M2.csv\n"
     ]
    }
   ],
   "source": [
    "import pandas as pd\n",
    "import torch\n",
    "\n",
    "# Initialize a list to store all batches\n",
    "all_batches = []\n",
    "\n",
    "# Iterate through the DataLoader\n",
    "for batch in dataloader_test_1:  # Replace with your DataLoader\n",
    "    users, items, labels = batch\n",
    "    batch_data = {\n",
    "        'user_id': users.numpy(),  # Convert tensors to numpy arrays\n",
    "        'item_id': items.numpy(),\n",
    "        'label': labels.numpy()\n",
    "    }\n",
    "    all_batches.append(batch_data)\n",
    "\n",
    "# Combine all batches into a single DataFrame\n",
    "df = pd.DataFrame({\n",
    "    'user_id': np.concatenate([batch['user_id'] for batch in all_batches]),\n",
    "    'item_id': np.concatenate([batch['item_id'] for batch in all_batches]),\n",
    "    'label': np.concatenate([batch['label'] for batch in all_batches])\n",
    "})\n",
    "\n",
    "print(df)\n",
    "\n",
    "# Save to CSV\n",
    "csv_path = './Datasets/dataloader_test_D1_M2.csv'\n",
    "df.to_csv(csv_path, index=False)\n",
    "print(f\"\\nData saved to: {csv_path}\")"
   ]
  },
  {
   "cell_type": "code",
   "execution_count": 26,
   "id": "7054eb70-68b6-47ea-a2cd-6ae600bdc2c1",
   "metadata": {},
   "outputs": [
    {
     "name": "stdout",
     "output_type": "stream",
     "text": [
      "        user_id  item_id  label\n",
      "0           891     1488    1.0\n",
      "1           891     3507    0.0\n",
      "2           891     1829    0.0\n",
      "3           891      957    0.0\n",
      "4           891      106    0.0\n",
      "...         ...      ...    ...\n",
      "603995     2023     2860    0.0\n",
      "603996     2023     3010    0.0\n",
      "603997     2023     2029    0.0\n",
      "603998     2023     2969    0.0\n",
      "603999     2023     1829    0.0\n",
      "\n",
      "[604000 rows x 3 columns]\n",
      "\n",
      "Data saved to: ./Datasets/dataloader_test_D2_M2.csv\n"
     ]
    }
   ],
   "source": [
    "import pandas as pd\n",
    "import torch\n",
    "\n",
    "# Initialize a list to store all batches\n",
    "all_batches = []\n",
    "\n",
    "# Iterate through the DataLoader\n",
    "for batch in dataloader_test_4:  # Replace with your DataLoader\n",
    "    users, items, labels = batch\n",
    "    batch_data = {\n",
    "        'user_id': users.numpy(),  # Convert tensors to numpy arrays\n",
    "        'item_id': items.numpy(),\n",
    "        'label': labels.numpy()\n",
    "    }\n",
    "    all_batches.append(batch_data)\n",
    "\n",
    "# Combine all batches into a single DataFrame\n",
    "df = pd.DataFrame({\n",
    "    'user_id': np.concatenate([batch['user_id'] for batch in all_batches]),\n",
    "    'item_id': np.concatenate([batch['item_id'] for batch in all_batches]),\n",
    "    'label': np.concatenate([batch['label'] for batch in all_batches])\n",
    "})\n",
    "\n",
    "print(df)\n",
    "\n",
    "# Save to CSV\n",
    "csv_path = './Datasets/dataloader_test_D2_M2.csv'\n",
    "df.to_csv(csv_path, index=False)\n",
    "print(f\"\\nData saved to: {csv_path}\")"
   ]
  },
  {
   "cell_type": "markdown",
   "id": "be36cd0d-82dc-4958-9e07-759688ea1758",
   "metadata": {},
   "source": [
    "<h2>Save Model</h2>"
   ]
  },
  {
   "cell_type": "code",
   "execution_count": 27,
   "id": "7df48ca8-d078-4956-a80b-ac546bb41f89",
   "metadata": {},
   "outputs": [],
   "source": [
    "# Save model + minimal metadata\n",
    "deployment_checkpoint = {\n",
    "    'model_state_dict': model.state_dict(),  # Weights\n",
    "    'model_hyperparams': {                  # Architecture config\n",
    "        'num_users': max_num_users_global,\n",
    "        'num_items': max_num_items_global,\n",
    "        'embedding_size': 16,\n",
    "        'layer_dims': [32, 16, 8],\n",
    "        'use_NeuMF': False\n",
    "    }\n",
    "}"
   ]
  },
  {
   "cell_type": "code",
   "execution_count": 28,
   "id": "4f04528d-38df-46ca-ac72-1b1cf2f504b4",
   "metadata": {},
   "outputs": [
    {
     "data": {
      "text/plain": [
       "{'model_state_dict': OrderedDict([('user_embedding.weight',\n",
       "               tensor([[ 1.1538e-02,  1.1415e-02,  9.3368e-03,  ...,  5.1743e-03,\n",
       "                         1.0016e-02, -8.6368e-03],\n",
       "                       [ 2.5300e+00, -2.1967e+00, -1.6709e+00,  ...,  4.7602e+00,\n",
       "                        -7.8831e+00, -3.2636e+00],\n",
       "                       [ 5.2332e+00,  9.9547e-01, -6.8058e+00,  ...,  3.4987e+00,\n",
       "                         8.2465e-01, -2.6516e+00],\n",
       "                       ...,\n",
       "                       [ 3.5287e+00,  6.9689e-01,  1.6310e-01,  ...,  3.0932e+00,\n",
       "                        -4.5875e+00, -3.9779e+00],\n",
       "                       [ 3.6534e+00, -5.1866e+00,  5.1210e-01,  ...,  5.0656e+00,\n",
       "                        -6.1508e+00, -1.0134e+00],\n",
       "                       [ 4.2934e+00,  2.8171e+00,  5.6849e-01,  ...,  3.9114e+00,\n",
       "                         8.4333e-01, -1.8025e+00]])),\n",
       "              ('item_embedding.weight',\n",
       "               tensor([[ 1.0014e-02, -4.0937e-03,  6.0395e-03,  ..., -1.0822e-02,\n",
       "                        -1.4948e-03,  1.2102e-02],\n",
       "                       [-4.9551e+00, -2.0853e+00,  4.0788e-01,  ..., -3.2607e+00,\n",
       "                         1.0034e+00,  1.2068e+00],\n",
       "                       [ 1.0505e-01, -2.2117e+00, -3.9336e+00,  ..., -8.2171e-01,\n",
       "                        -2.6919e-01,  5.1261e-01],\n",
       "                       ...,\n",
       "                       [ 9.7604e-03,  4.5134e-03, -9.0382e-03,  ...,  8.8846e-03,\n",
       "                        -5.1897e-03,  8.1993e-03],\n",
       "                       [ 1.1538e-02,  3.0821e-03, -4.7215e-03,  ..., -7.5500e-03,\n",
       "                        -4.4015e-03, -7.6845e-03],\n",
       "                       [-1.4399e+00,  8.1480e-01,  1.0934e+00,  ..., -1.9345e-01,\n",
       "                         1.9744e-01,  1.6172e-01]])),\n",
       "              ('mlp_layers.0.weight',\n",
       "               tensor([[-2.7327,  0.5498,  2.3202,  ..., -1.2322, -0.5762, -0.3911],\n",
       "                       [ 0.8116,  4.1559,  0.2599,  ..., -1.8229,  1.5482, -1.2797],\n",
       "                       [-3.5447,  0.2892, -0.7952,  ..., -3.8172,  2.0072, -1.2597],\n",
       "                       ...,\n",
       "                       [ 1.5720,  0.3853, -2.7897,  ..., -2.0415, -1.9655, -2.0135],\n",
       "                       [-1.8033,  1.6412,  0.2948,  ..., -0.5594, -0.2540,  5.2354],\n",
       "                       [-2.8431, -0.0619, -0.6211,  ..., -2.0721,  1.6968, -0.9573]])),\n",
       "              ('mlp_layers.0.bias',\n",
       "               tensor([  4.8466,  -5.5684,  -6.7739, -16.6505,  -4.3703,  -5.3906,  -3.5595,\n",
       "                         2.9820,  -7.0936,  -5.0467,  -1.7728, -10.4174,  -3.8047,   8.8305,\n",
       "                        -5.5647,  -6.0354,  -5.0144,  -0.6241, -11.6154,  -6.7045,   0.7640,\n",
       "                        -6.0126,  -1.1978, -15.9522,  -7.1630, -18.2496,  -9.2492,  -5.1071,\n",
       "                       -10.2469,  -0.5160,  -5.0896,  -5.9176])),\n",
       "              ('mlp_layers.2.weight',\n",
       "               tensor([[ 0.0895,  0.8779, -0.4973,  3.5536, -0.1935,  0.4646, -1.1208, -0.3808,\n",
       "                         2.3534, -0.4160,  0.7424, -6.0645, -1.5553, -3.2242, -4.4285,  0.8058,\n",
       "                         0.5542, -2.1759, -0.8569, -1.7920,  0.5803, -1.3140,  0.6058,  1.1865,\n",
       "                        -1.5440,  1.6690, -2.5121, -0.4330, -0.5142, -0.3827, -1.3027, -0.1270],\n",
       "                       [-1.8470, -0.5920, -0.3900, -2.1185, -1.8344, -0.6599, -0.7430,  0.2442,\n",
       "                        -0.8247, -2.0111, -1.0157,  0.1107, -1.4771, -1.4929, -1.5916, -1.1256,\n",
       "                        -0.7909, -0.3538, -0.6250, -0.5476, -0.8478, -0.6378, -1.1158, -1.7051,\n",
       "                        -0.5175, -0.9246, -0.5718, -0.7734, -1.7712, -0.9993, -1.9290, -0.4989],\n",
       "                       [-0.6779, -0.4271, -1.9099, -1.2272,  0.1127, -2.1021, -1.1582, -2.5193,\n",
       "                        -0.9934, -1.0889,  0.4364,  0.0476,  0.2050,  1.2862, -0.7941, -0.9319,\n",
       "                        -1.9039, -3.1215,  0.2295,  0.0923, -1.9207,  0.6450, -2.8725,  2.5519,\n",
       "                         0.2140,  2.8308, -1.2091,  0.0935, -1.9626, -1.9041, -0.4160, -1.5336],\n",
       "                       [ 0.7893, -4.3112, -1.4974, -0.1754, -0.0541, -1.0148,  0.7811,  0.9321,\n",
       "                         0.2031, -3.8519, -0.4066,  1.8160, -1.1532, -1.3304, -0.4216,  0.1159,\n",
       "                         0.0839, -3.9167, -0.4175, -0.8518,  2.0496, -0.8106, -0.9232,  1.2167,\n",
       "                        -0.7979,  0.4139, -0.0192, -0.0566, -0.1072, -2.2950,  0.3935,  0.8027],\n",
       "                       [-0.8141, -2.0472,  1.0488, -0.6798, -0.2028, -0.0612, -0.5925, -1.1882,\n",
       "                         1.5897, -1.5111,  0.2194, -0.2846, -0.4644, -1.5496,  0.1558,  0.3686,\n",
       "                         0.9053, -3.5672, -1.5919,  0.6052, -0.9696, -1.3734, -0.4952, -2.5678,\n",
       "                        -1.8639,  0.2010, -3.0759,  0.5983,  0.5488, -0.0976, -4.8579, -2.4727],\n",
       "                       [ 0.2274, -5.6896, -4.0256, -3.7262, -2.4166,  0.8198, -0.7782, -0.7438,\n",
       "                        -0.6685, -0.7523,  1.0497,  1.3889, -4.3953,  0.8957,  0.7418, -0.5580,\n",
       "                        -1.2028, -0.2322, -2.0408, -1.9296, -2.2891, -0.3724,  0.5217,  0.7178,\n",
       "                        -0.9305,  1.2057, -1.4714, -1.4537,  0.0246, -3.6986, -0.2499, -0.5429],\n",
       "                       [-2.4087, -0.7144,  0.6060, -3.4157,  0.5634, -0.8184, -1.9033, -1.8982,\n",
       "                        -0.2501, -2.0553, -2.5803, -2.0135,  1.5251, -3.7346, -0.8034, -2.2161,\n",
       "                        -0.0724,  0.0132,  0.1523, -1.3841, -1.8014,  1.6647, -1.0458,  0.1152,\n",
       "                         1.6681, -1.0149, -0.0226,  0.2913,  0.4890, -1.6022, -0.6375, -0.5345],\n",
       "                       [-1.6125, -1.5013,  1.3147, -3.4233,  0.3761, -1.3873,  0.6762, -1.9748,\n",
       "                        -0.8136, -0.4207, -0.6814, -3.2608,  0.8712,  1.2120,  0.7488,  1.4584,\n",
       "                        -0.9460,  0.5964, -2.9162, -3.3977, -1.2880,  0.9400, -1.4677, -2.4807,\n",
       "                         0.8478, -3.9525, -1.5494,  0.8920,  0.6599,  0.8467, -1.3464, -1.8118],\n",
       "                       [-0.3987, -0.4501, -0.0964,  0.0854, -0.5638, -0.1401, -0.1104, -0.4500,\n",
       "                        -0.2839, -0.4184, -0.3047, -0.3264, -0.5527, -0.6258, -0.2448, -0.0720,\n",
       "                        -0.3390, -0.1655, -0.3484, -0.0300, -0.1417, -0.3945, -0.4225, -0.1919,\n",
       "                        -0.2263, -0.1511, -0.2262, -0.3508, -0.1558, -0.1850, -0.0950, -0.2744],\n",
       "                       [-0.8693, -3.7945, -0.0411, -1.5475, -0.7877,  1.4662, -0.3463, -4.0080,\n",
       "                        -2.3093, -1.2979, -4.5043, -1.1753,  0.1000, -2.9637, -0.3817, -0.5705,\n",
       "                         1.3248,  0.0172,  0.2616, -0.1208,  0.1448,  0.1511,  0.7878,  0.6340,\n",
       "                        -1.5461,  2.5901,  0.1191,  0.4704, -0.4540, -2.8252, -0.3913, -2.1872],\n",
       "                       [-3.5071, -0.9516,  2.1782,  2.1242, -1.7939, -5.3961, -0.6297, -0.9766,\n",
       "                         1.1295, -1.2533, -2.0614,  0.4680, -0.8242, -0.4146, -0.2627, -2.2448,\n",
       "                        -1.1688, -0.5123, -0.2569,  2.1871, -1.7644, -0.6471, -1.2155, -2.4165,\n",
       "                        -2.3707, -0.6517, -0.6450, -2.2413,  0.3389,  0.8862, -0.2779, -2.5392],\n",
       "                       [-3.6194, -1.0838, -2.2687,  2.7294, -6.9636, -0.9327, -2.8493,  0.1273,\n",
       "                         0.8914,  0.2734, -0.7200,  1.6462, -1.7362, -0.1579, -1.7521, -1.7195,\n",
       "                        -4.2339, -1.0465, -1.1393,  1.1628, -0.9119, -0.3941,  1.2148,  1.9062,\n",
       "                        -0.2270,  2.3139,  2.2312, -1.4297,  0.0946, -0.0187, -0.5707, -1.2286],\n",
       "                       [-1.8639, -1.7815,  1.7894, -3.3577,  0.8823, -2.2384,  0.9332, -0.8809,\n",
       "                        -1.0894,  1.0858, -0.7072, -2.6523,  1.3129,  1.3765,  0.8087,  1.2957,\n",
       "                        -0.6512,  0.8238, -3.3205, -2.4991, -1.4511,  0.6220, -2.2881, -2.9357,\n",
       "                         1.0637, -3.6267, -3.5145,  1.6100,  1.4056,  1.0402, -0.9089, -2.6268],\n",
       "                       [ 1.7039,  0.7583, -2.0411,  0.4776, -1.2275,  2.2514, -2.1307,  0.6815,\n",
       "                         1.8340, -2.1323,  1.6097,  1.5297, -1.2483, -2.0237, -1.0919,  1.4100,\n",
       "                         2.1591, -1.5793,  1.9764,  2.1992,  2.1048, -1.4629,  1.8274,  2.7652,\n",
       "                        -1.2045,  1.3144,  3.3171, -0.8544, -1.1959, -0.5624,  1.3809,  0.1810],\n",
       "                       [-0.6429, -0.2784, -0.6028,  0.0599, -0.0763, -1.1371, -0.6909, -0.0337,\n",
       "                        -0.3988, -0.3394, -0.0705, -0.1241, -1.1325, -0.1767, -0.4970, -0.6132,\n",
       "                        -0.3174, -0.6418, -0.3777, -0.3022, -0.2782, -0.5832, -0.3297, -0.4330,\n",
       "                        -0.2003, -0.0259, -0.1715, -0.5794, -0.1734, -0.7207, -0.1216, -0.0988],\n",
       "                       [-0.3642, -0.4678, -0.0913, -0.8487, -0.3198, -0.1213, -0.7373, -0.5352,\n",
       "                        -0.6313, -0.2704, -0.3067, -0.4985, -0.2108, -0.4078, -0.2599, -0.4459,\n",
       "                        -0.0361, -0.1891, -0.0748, -0.0483, -0.3143, -0.0659, -0.2356, -0.7325,\n",
       "                        -0.0114, -0.2508, -0.4224, -0.2502, -0.4100, -0.5467, -0.4598,  0.0081]])),\n",
       "              ('mlp_layers.2.bias',\n",
       "               tensor([ 8.1072, -0.9624, -5.9548, -1.7179, -3.9979, -3.2819, -7.2734, -5.0114,\n",
       "                       -0.9247, -7.8983, -2.5400, -8.9128,  3.2924,  7.9993, -0.5840, -0.8911])),\n",
       "              ('mlp_layers.4.weight',\n",
       "               tensor([[-2.4614e-01, -2.3684e-01, -1.1105e+00, -2.9737e-01, -1.9179e-01,\n",
       "                        -1.7786e-01, -1.2445e+00, -3.6440e-02, -8.1758e-02, -1.9378e-01,\n",
       "                        -1.1657e-01, -1.2974e-01, -7.1173e-01, -3.4472e-01, -2.9592e-01,\n",
       "                         2.0908e-01],\n",
       "                       [ 1.1506e-01,  2.9455e-01, -1.1169e+00, -1.8230e-01,  2.4733e-01,\n",
       "                        -9.7262e-01, -1.0769e+00, -1.9928e+00, -1.7275e-01,  9.4196e-01,\n",
       "                         6.5729e-01, -6.3866e-01,  7.2201e-01,  9.6619e-02, -9.1010e-03,\n",
       "                        -2.3205e-02],\n",
       "                       [-2.5718e-01,  1.3842e-01, -1.5803e-01, -2.7956e-02, -5.1949e-02,\n",
       "                        -8.4782e-01, -5.5949e-01, -5.6672e-01,  2.6795e-01, -1.3974e-01,\n",
       "                        -6.6167e-01, -3.3470e-03, -7.8440e-01, -3.9938e-01,  5.0465e-01,\n",
       "                        -1.5903e-01],\n",
       "                       [-6.2573e-01, -1.2710e-01, -1.4788e-01, -3.6670e-01,  9.4379e-01,\n",
       "                         5.2920e-01, -8.7643e-01,  2.6707e-01,  2.2749e-01,  3.0859e-02,\n",
       "                        -5.9529e-01,  4.3479e-01,  5.2577e-01, -6.0177e-01,  2.6827e-01,\n",
       "                        -1.2880e-01],\n",
       "                       [-3.6677e-01, -3.0349e-01, -6.9337e-01, -5.8141e-02, -6.0951e-01,\n",
       "                        -3.0752e-01, -4.9800e-01, -3.9751e-01,  5.2408e-03, -4.8479e-01,\n",
       "                        -1.1438e-01, -7.5552e-02, -4.5988e-01, -5.7457e-01, -1.6186e-01,\n",
       "                        -2.6489e-01],\n",
       "                       [-6.6846e-03, -1.5134e-03,  2.9973e-02,  4.3633e-02, -7.4238e-01,\n",
       "                        -4.0603e-03, -1.5707e+00, -1.4042e+00, -4.2751e-01, -1.0117e+00,\n",
       "                        -5.8364e-01, -1.3461e-01, -1.8291e+00, -6.4998e-01,  4.2947e-02,\n",
       "                         4.7405e-01],\n",
       "                       [-8.4673e-01,  3.5050e-01, -7.6584e-02, -1.8317e-01, -3.7065e-01,\n",
       "                        -1.5445e-01, -9.6469e-02, -8.6791e-01, -4.0292e-01, -4.4151e-01,\n",
       "                        -4.4033e-01, -6.9514e-01, -1.0328e+00, -4.7074e-01,  1.3709e-01,\n",
       "                         2.1697e-01],\n",
       "                       [-5.1878e-01,  4.4731e-01, -4.6710e-01, -3.1981e-01, -6.5766e-01,\n",
       "                        -9.2204e-03, -5.6008e-01, -1.9168e+00, -2.9096e-01, -2.5035e-01,\n",
       "                        -8.0155e-02, -5.2195e-01, -1.7446e-01, -1.0255e+00,  2.7038e-01,\n",
       "                         2.8583e-01]])),\n",
       "              ('mlp_layers.4.bias',\n",
       "               tensor([-1.7404, -1.4886, -1.4444, -0.5680, -1.0208, -7.5054, -1.2616, -0.9953])),\n",
       "              ('output_layer.weight',\n",
       "               tensor([[ 0.1063,  0.1274,  0.0942, -0.2877, -0.0188, -0.0938,  0.0659,  0.0033]])),\n",
       "              ('output_layer.bias', tensor([-0.7195]))]),\n",
       " 'model_hyperparams': {'num_users': 6041,\n",
       "  'num_items': 193610,\n",
       "  'embedding_size': 16,\n",
       "  'layer_dims': [32, 16, 8],\n",
       "  'use_NeuMF': False}}"
      ]
     },
     "execution_count": 28,
     "metadata": {},
     "output_type": "execute_result"
    }
   ],
   "source": [
    "deployment_checkpoint"
   ]
  },
  {
   "cell_type": "code",
   "execution_count": 29,
   "id": "ba71e112-6bb3-4f9e-b06f-dde31cc9e670",
   "metadata": {},
   "outputs": [],
   "source": [
    "torch.save(deployment_checkpoint, './ncf_models/deployment_model_M2.pth')"
   ]
  },
  {
   "cell_type": "code",
   "execution_count": null,
   "id": "f27f7009-4c95-46ef-9be6-79074c13a47d",
   "metadata": {},
   "outputs": [],
   "source": []
  }
 ],
 "metadata": {
  "kernelspec": {
   "display_name": "fyp",
   "language": "python",
   "name": "fyp"
  },
  "language_info": {
   "codemirror_mode": {
    "name": "ipython",
    "version": 3
   },
   "file_extension": ".py",
   "mimetype": "text/x-python",
   "name": "python",
   "nbconvert_exporter": "python",
   "pygments_lexer": "ipython3",
   "version": "3.12.9"
  }
 },
 "nbformat": 4,
 "nbformat_minor": 5
}
