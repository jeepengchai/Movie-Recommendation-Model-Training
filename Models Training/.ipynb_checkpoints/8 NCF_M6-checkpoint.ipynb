{
 "cells": [
  {
   "cell_type": "markdown",
   "id": "ff036bd3-c45c-408f-abf2-c3f249631ca1",
   "metadata": {},
   "source": [
    "<h1>The Multi-layered Perceptron Neural Collaborative Filtering (MLP-NCF) proposed model training</h1>"
   ]
  },
  {
   "cell_type": "markdown",
   "id": "bf063ae7-c06a-40be-981d-5e7672bcccbe",
   "metadata": {},
   "source": [
    "<h2>Import necessary python library for model training</h2>"
   ]
  },
  {
   "cell_type": "code",
   "execution_count": 1,
   "id": "68c77e3d-492a-47c1-8b58-13816d13f296",
   "metadata": {},
   "outputs": [],
   "source": [
    "import zipfile\n",
    "from zipfile import ZipFile\n",
    "from torch.utils.data import Dataset, DataLoader\n",
    "import torch\n",
    "import torch.optim as optim\n",
    "import torch.nn as nn\n",
    "import os\n",
    "import pandas as pd\n",
    "import numpy as np\n",
    "import requests\n",
    "import sklearn\n",
    "from sklearn.model_selection import train_test_split\n",
    "from tqdm import tqdm\n",
    "import random\n",
    "import time\n",
    "import argparse\n",
    "import matplotlib.pyplot as plt"
   ]
  },
  {
   "cell_type": "markdown",
   "id": "a6a16cfb-aa07-47fc-b4e6-22df432ab5b2",
   "metadata": {},
   "source": [
    "<h2>The data preparation for training class</h2>"
   ]
  },
  {
   "cell_type": "code",
   "execution_count": 2,
   "id": "52f0c6ad-8c14-4d2e-89f8-24d7034d5a65",
   "metadata": {},
   "outputs": [],
   "source": [
    "class MovieLens(Dataset):\n",
    "    def __init__(self, df: pd.DataFrame, total_df: pd.DataFrame, ng_ratio:int)->None:\n",
    "        '''\n",
    "        : param df: training dataframe\n",
    "        : param total_df: the entire dataframe\n",
    "        : param ng_ratio: negative sampling ratio\n",
    "        '''\n",
    "        super(MovieLens, self).__init__()\n",
    "\n",
    "        self.df = df\n",
    "        self.total_df = total_df\n",
    "        self.ng_ratio = ng_ratio\n",
    "        self.users, self.items, self.labels = self._negative_sampling()\n",
    "\n",
    "    def __len__(self) -> int:\n",
    "        '''\n",
    "        get length of data\n",
    "        : return: len(data)\n",
    "        '''\n",
    "        return len(self.users)\n",
    "\n",
    "    def __getitem__(self, index):\n",
    "        '''\n",
    "        transform userId[index], item[index] to Tensor and return to Datalaoder object.\n",
    "        : param index: index for dataset.\n",
    "        : return: user, item, rating\n",
    "        '''\n",
    "        return self.users[index], self.items[index], self.labels[index]\n",
    "\n",
    "    def _negative_sampling(self) :\n",
    "        '''\n",
    "        sampling one positive feedback per #(ng ratio) negative feedback\n",
    "        : return: list of users, list of items, list of targets\n",
    "        '''\n",
    "        df = self.df\n",
    "        total_df = self.total_df\n",
    "        users, items, labels = [], [], []\n",
    "        user_item_set = set(zip(df['userId'], df['movieId']))\n",
    "        total_user_item_set = set(zip(total_df['userId'],total_df['movieId']))\n",
    "        all_movieIds = total_df['movieId'].unique()\n",
    "        \n",
    "        # negative feedback dataset ratio\n",
    "        negative_ratio = self.ng_ratio\n",
    "        for u, i in user_item_set:\n",
    "            # positive instance\n",
    "            users.append(u)\n",
    "            items.append(i)\n",
    "            labels.append(1.0)\n",
    "\n",
    "            #visited check\n",
    "            visited=[]\n",
    "            visited.append(i)\n",
    "            \n",
    "            # negative instance\n",
    "            for i in range(negative_ratio):\n",
    "                # first item random choice\n",
    "                negative_item = np.random.choice(all_movieIds)\n",
    " \n",
    "                # check if item and user has interaction, if true then set new value from random\n",
    "                while (u, negative_item) in total_user_item_set or negative_item in visited :\n",
    "                    negative_item = np.random.choice(all_movieIds)\n",
    "                users.append(u)\n",
    "                items.append(negative_item)\n",
    "                visited.append(negative_item)\n",
    "                labels.append(0.0)\n",
    "        print(f\"negative sampled data: {len(labels)}\")\n",
    "        return torch.tensor(users), torch.tensor(items), torch.tensor(labels)"
   ]
  },
  {
   "cell_type": "markdown",
   "id": "287da1b7-2a16-4a18-8a34-0778b6ebd1b0",
   "metadata": {},
   "source": [
    "<h2>The Multi-layered perceptron neural collaborative filtering (NCF) model</h2>"
   ]
  },
  {
   "cell_type": "code",
   "execution_count": 3,
   "id": "a3f36af9-0e70-4aeb-ba42-793cd6982291",
   "metadata": {},
   "outputs": [],
   "source": [
    "class MLP(nn.Module):\n",
    "    def __init__(self, num_users, num_items, embedding_size, layer_dims, use_NeuMF=False):\n",
    "        super(MLP, self).__init__()\n",
    "        self.user_embedding = nn.Embedding(num_users, embedding_size)\n",
    "        self.item_embedding = nn.Embedding(num_items, embedding_size)\n",
    "        \n",
    "        # Calculate input dimension for first layer\n",
    "        first_layer_input = embedding_size * 2  # Concatenated user and item embeddings\n",
    "        \n",
    "        # Build MLP layers dynamically\n",
    "        layers = []\n",
    "        input_dim = first_layer_input\n",
    "        for output_dim in layer_dims:\n",
    "            layers.append(nn.Linear(input_dim, output_dim))\n",
    "            layers.append(nn.ReLU())\n",
    "            input_dim = output_dim\n",
    "        \n",
    "        self.mlp_layers = nn.Sequential(*layers)\n",
    "        self.output_layer = nn.Linear(layer_dims[-1], 1)\n",
    "        self.sigmoid = nn.Sigmoid()\n",
    "        self._init_weights()\n",
    "\n",
    "    def _init_weights(self):\n",
    "        nn.init.normal_(self.user_embedding.weight, std=0.01)\n",
    "        nn.init.normal_(self.item_embedding.weight, std=0.01)\n",
    "        for layer in self.mlp_layers:\n",
    "            if isinstance(layer, nn.Linear):\n",
    "                nn.init.xavier_uniform_(layer.weight)\n",
    "        nn.init.xavier_uniform_(self.output_layer.weight)\n",
    "\n",
    "    def forward(self, user, item):\n",
    "        user_emb = self.user_embedding(user)\n",
    "        item_emb = self.item_embedding(item)\n",
    "        x = torch.cat([user_emb, item_emb], dim=-1)\n",
    "        x = self.mlp_layers(x)\n",
    "        x = self.output_layer(x)\n",
    "        return self.sigmoid(x).view(-1)"
   ]
  },
  {
   "cell_type": "markdown",
   "id": "2712e0b1-22fa-4ba0-8b45-6169a7e8a140",
   "metadata": {},
   "source": [
    "<h2>Evaluation Metrics</h2>"
   ]
  },
  {
   "cell_type": "code",
   "execution_count": 4,
   "id": "eecc2030-6639-4051-a9f8-bea2bc2867cd",
   "metadata": {},
   "outputs": [],
   "source": [
    "def hit(gt_item, pred_items):\n",
    "\tif gt_item in pred_items:\n",
    "\t\treturn 1\n",
    "\treturn 0\n",
    "\n",
    "def ndcg(gt_item, pred_items):\n",
    "\tif gt_item in pred_items:\n",
    "\t\tindex = pred_items.index(gt_item)\n",
    "\t\treturn np.reciprocal(np.log2(index+2))\n",
    "\treturn 0\n",
    "\n",
    "def metrics(model, data_loader, top_k, device):\n",
    "\tHR, NDCG = [], []\n",
    "\n",
    "\tfor user, item, label in data_loader:\n",
    "\n",
    "\t\tuser = user.to(device)\n",
    "\t\titem = item.to(device)\n",
    "\n",
    "\t\tpredictions = model(user, item)\n",
    "\t\t_, indices = torch.topk(predictions, top_k)\n",
    "\n",
    "\t\trecommends = torch.take(\n",
    "\t\t\t\titem, indices).cpu().numpy().tolist()\n",
    "\n",
    "\t\tgt_item = item[0].item()\n",
    "\t\tHR.append(hit(gt_item, recommends))\n",
    "\t\tNDCG.append(ndcg(gt_item, recommends))\n",
    "\n",
    "\treturn np.mean(HR), np.mean(NDCG)"
   ]
  },
  {
   "cell_type": "markdown",
   "id": "7a7df4e9-9aa2-4e56-93c4-a9ec0c1eed62",
   "metadata": {},
   "source": [
    "<h2>Model training class</h2>"
   ]
  },
  {
   "cell_type": "code",
   "execution_count": 5,
   "id": "303026e1-da28-4687-a2f0-1298a132da4d",
   "metadata": {},
   "outputs": [],
   "source": [
    "class Train():\n",
    "    def __init__(self, model: torch.nn.Module,\n",
    "                 optimizer: torch.optim,\n",
    "                 epochs: int,\n",
    "                 dataloader: torch.utils.data.dataloader,\n",
    "                 criterion: torch.nn,\n",
    "                 test_obj: torch.utils.data.dataloader,\n",
    "                 device: str = 'cuda',\n",
    "                 print_cost: bool = True,\n",
    "                 top_k: int = 10):\n",
    "        self.model = model\n",
    "        self.optimizer = optimizer\n",
    "        self.epochs = epochs\n",
    "        self.dataloader = dataloader\n",
    "        self.criterion = criterion\n",
    "        self.device = device\n",
    "        self.print_cost = print_cost\n",
    "        self.test = test_obj\n",
    "        self.top_k = top_k\n",
    "\n",
    "    def train(self):\n",
    "        model = self.model\n",
    "        optimizer = self.optimizer\n",
    "        total_epochs = self.epochs\n",
    "        dataloader = self.dataloader\n",
    "        criterion = self.criterion\n",
    "        total_batch = len(dataloader)\n",
    "        loss = []\n",
    "        device = self.device\n",
    "        test_dataloader = self.test\n",
    "\n",
    "        hr_list = []\n",
    "        ndcg_list = []\n",
    "        test_loss_list = []\n",
    "\n",
    "        for epoch in range(0, total_epochs):\n",
    "            epoch_loss = 0\n",
    "            with tqdm(total=len(dataloader), desc=f'Epoch {epoch + 1}/{total_epochs}', unit='batch') as pbar:\n",
    "                for user, item, target in dataloader:\n",
    "                    user, item, target = user.to(device), item.to(device), target.float().to(device)\n",
    "                    optimizer.zero_grad()\n",
    "                    pred = model(user, item)\n",
    "                    cost = criterion(pred, target)\n",
    "                    cost.backward()\n",
    "                    optimizer.step()\n",
    "                    epoch_loss += cost.item()\n",
    "                    pbar.update(1)\n",
    "                    pbar.set_postfix({'loss': cost.item()})\n",
    "\n",
    "            avg_epoch_loss = epoch_loss / total_batch\n",
    "            loss.append(avg_epoch_loss)\n",
    "\n",
    "            if self.print_cost:\n",
    "                HR, NDCG = metrics(model, self.test, self.top_k, device)\n",
    "\n",
    "                model.eval()\n",
    "                test_loss = 0\n",
    "                with torch.no_grad():\n",
    "                    for user, item, target in test_dataloader:\n",
    "                        user, item, target = user.to(device), item.to(device), target.float().to(device)\n",
    "                        pred = model(user, item)\n",
    "                        cost = criterion(pred, target)\n",
    "                        test_loss += cost.item()\n",
    "                avg_test_loss = test_loss / len(test_dataloader)\n",
    "                model.train()\n",
    "\n",
    "                print(\n",
    "                    \"Epochs: {}\\tAvg Train Loss: {:.4f}\\tAvg Test Loss: {:.4f}\\tHR: {:.3f}\\tNDCG: {:.3f}\".format(\n",
    "                        epoch+1, avg_epoch_loss, avg_test_loss, np.mean(HR), np.mean(NDCG)))\n",
    "\n",
    "                hr_list.append(np.mean(HR))\n",
    "                ndcg_list.append(np.mean(NDCG))\n",
    "                test_loss_list.append(avg_test_loss)\n",
    "\n",
    "        if self.print_cost:\n",
    "            print('Learning finished')\n",
    "        return loss, test_loss_list, hr_list, ndcg_list"
   ]
  },
  {
   "cell_type": "code",
   "execution_count": 6,
   "id": "34f20d01-2ab8-4b6e-8d22-29a1fb148ff5",
   "metadata": {},
   "outputs": [],
   "source": [
    "def plot_comparison_metrics(train_loss_1, test_loss_list_1, hr_list_1, ndcg_list_1,\n",
    "                           train_loss_4, test_loss_list_4, hr_list_4, ndcg_list_4, top_k):\n",
    "    epochs = np.arange(1, len(train_loss_1) + 1)\n",
    "\n",
    "    output_dir = './Training Results/'\n",
    "    os.makedirs(output_dir, exist_ok=True)\n",
    "\n",
    "    # Create a single figure with 4 subplots\n",
    "    plt.figure(figsize=(16, 12))\n",
    "    \n",
    "    # Plot Training Loss\n",
    "    plt.subplot(2, 2, 1)\n",
    "    plt.plot(epochs, train_loss_1, label='Dataset 1', marker='o')\n",
    "    plt.plot(epochs, train_loss_4, label='Dataset 2', marker='x')\n",
    "    plt.title('Training Loss Comparison')\n",
    "    plt.xlabel('Epoch')\n",
    "    plt.ylabel('Loss')\n",
    "    plt.legend()\n",
    "    plt.grid(True, linestyle='--', alpha=0.6)\n",
    "\n",
    "    # Plot Test Loss\n",
    "    plt.subplot(2, 2, 2)\n",
    "    plt.plot(epochs, test_loss_list_1, label='Dataset 1', marker='o')\n",
    "    plt.plot(epochs, test_loss_list_4, label='Dataset 2', marker='x')\n",
    "    plt.title('Test Loss Comparison')\n",
    "    plt.xlabel('Epoch')\n",
    "    plt.ylabel('Loss')\n",
    "    plt.legend()\n",
    "    plt.grid(True, linestyle='--', alpha=0.6)\n",
    "\n",
    "    # Plot HR@10\n",
    "    plt.subplot(2, 2, 3)\n",
    "    plt.plot(epochs, hr_list_1, label='Dataset 1', marker='o')\n",
    "    plt.plot(epochs, hr_list_4, label='Dataset 2', marker='x')\n",
    "    plt.title(f'Hit Ratio @ {top_k} Comparison')\n",
    "    plt.xlabel('Epoch')\n",
    "    plt.ylabel('Score')\n",
    "    plt.legend()\n",
    "    plt.grid(True, linestyle='--', alpha=0.6)\n",
    "\n",
    "    # Plot NDCG@10\n",
    "    plt.subplot(2, 2, 4)\n",
    "    plt.plot(epochs, ndcg_list_1, label='Dataset 1', marker='o')\n",
    "    plt.plot(epochs, ndcg_list_4, label='Dataset 2', marker='x')\n",
    "    plt.title(f'NDCG @ {top_k} Comparison')\n",
    "    plt.xlabel('Epoch')\n",
    "    plt.ylabel('Score')\n",
    "    plt.legend()\n",
    "    plt.grid(True, linestyle='--', alpha=0.6)\n",
    "\n",
    "    # Add main title and adjust layout\n",
    "    plt.suptitle('Model 6 Performance Comparison on Dataset 1 and Dataset 2', fontsize=16, y=1.02)\n",
    "    plt.tight_layout()\n",
    "    \n",
    "    # Save the entire figure\n",
    "    plt.savefig(os.path.join(output_dir, f'ncf_performance_comparison_top_{top_k}_D1D2_M6.png'), \n",
    "                bbox_inches='tight', dpi=300)\n",
    "    plt.show()"
   ]
  },
  {
   "cell_type": "markdown",
   "id": "6083b1be-25d1-4f20-889f-fc72367ed259",
   "metadata": {},
   "source": [
    "<h2>Putting everything together</h2>"
   ]
  },
  {
   "cell_type": "code",
   "execution_count": 7,
   "id": "89f07a97-a3f5-47ab-a7a9-dd3727c46742",
   "metadata": {},
   "outputs": [
    {
     "name": "stdout",
     "output_type": "stream",
     "text": [
      "device: cpu\n",
      "negative sampled data: 400684\n",
      "negative sampled data: 61000\n",
      "negative sampled data: 3976676\n",
      "negative sampled data: 604000\n",
      "data loaded!\n",
      "Training time: 118.75769\n"
     ]
    }
   ],
   "source": [
    "import pandas as pd\n",
    "import torch\n",
    "import argparse\n",
    "from torch.utils.data import DataLoader\n",
    "import torch.optim as optim\n",
    "import matplotlib.pyplot as plt\n",
    "import os\n",
    "import numpy as np\n",
    "import time\n",
    "\n",
    "start_time = time.time()  # Record start time\n",
    "\n",
    "# check device\n",
    "device = torch.device('cuda' if torch.cuda.is_available() else 'cpu')\n",
    "print(f'device: {device}')\n",
    "\n",
    "# print GPU information\n",
    "if torch.cuda.is_available():\n",
    "    print('Current cuda device:', torch.cuda.current_device())\n",
    "    print('Count of using GPUs:', torch.cuda.device_count())\n",
    "\n",
    "# directory to save checkpoints\n",
    "pretrain_dir = 'ncf_models'\n",
    "if not os.path.isdir(pretrain_dir):\n",
    "    os.makedirs(pretrain_dir)\n",
    "\n",
    "# the train, test and total dataset\n",
    "train_df_1 = pd.read_csv(\"./Datasets/train_D1.csv\")\n",
    "test_df_1 = pd.read_csv(\"./Datasets/test_D1.csv\")\n",
    "total_df_1 = pd.read_csv(\"./Datasets/ratings_preprocessed_D1.csv\")\n",
    "\n",
    "train_df_4 = pd.read_csv(\"./Datasets/train_D2.csv\")\n",
    "test_df_4 = pd.read_csv(\"./Datasets/test_D2.csv\")\n",
    "total_df_4 = pd.read_csv(\"./Datasets/ratings_preprocessed_D2.csv\")\n",
    "\n",
    "# make torch.utils.data.Data object\n",
    "train_set_1 = MovieLens(df=train_df_1, total_df=total_df_1, ng_ratio=3)\n",
    "test_set_1 = MovieLens(df=test_df_1, total_df=total_df_1, ng_ratio=99)\n",
    "\n",
    "train_set_4 = MovieLens(df=train_df_4, total_df=total_df_4, ng_ratio=3)\n",
    "test_set_4 = MovieLens(df=test_df_4, total_df=total_df_4, ng_ratio=99)\n",
    "\n",
    "# Find Global Maximums\n",
    "max_num_users_global = max(total_df_1['userId'].max(), total_df_4['userId'].max()) + 1  #, total_df_2['userId'].max()\n",
    "max_num_items_global = max(total_df_1['movieId'].max(), total_df_4['movieId'].max()) + 1  #, total_df_2['movieId'].max()\n",
    "\n",
    "print('data loaded!')\n",
    "\n",
    "# dataloader for train_dataset\n",
    "dataloader_train_1 = DataLoader(dataset=train_set_1, batch_size=256, shuffle=True, num_workers=0)\n",
    "\n",
    "# dataloader for test_dataset\n",
    "dataloader_test_1 = DataLoader(dataset=test_set_1, batch_size=100, shuffle=False, num_workers=0, drop_last=True)\n",
    "\n",
    "# dataloader for train_dataset\n",
    "dataloader_train_4 = DataLoader(dataset=train_set_4, batch_size=256, shuffle=True, num_workers=0)\n",
    "\n",
    "# dataloader for test_dataset\n",
    "dataloader_test_4 = DataLoader(dataset=test_set_4, batch_size=100, shuffle=False, num_workers=0, drop_last=True)\n",
    "\n",
    "model = MLP(num_users=max_num_users_global, num_items=max_num_items_global, embedding_size=8, layer_dims=[16,8,4], use_NeuMF=False) #emb size, layer\n",
    "\n",
    "# Initialize optimizer and loss function\n",
    "optimizer = torch.optim.Adam(model.parameters(), lr=0.005) #learning rate\n",
    "\n",
    "# objective function is log loss (Cross-entropy loss)\n",
    "criterion = torch.nn.BCELoss()\n",
    "\n",
    "model.to(device)\n",
    "save_model = True\n",
    "\n",
    "end_time = time.time()    # Record end time\n",
    "training_time = end_time - start_time  # Calculate training time\n",
    "print(f\"Training time: {training_time:.5f}\")  # Print the training time"
   ]
  },
  {
   "cell_type": "markdown",
   "id": "dac87c73-10a0-41e1-9610-54a0011e66dd",
   "metadata": {},
   "source": [
    "<h2>Dataset 1 Model Training</h2>"
   ]
  },
  {
   "cell_type": "code",
   "execution_count": 9,
   "id": "553c25a2-b7f6-4987-8838-b93b7b2c5fa4",
   "metadata": {},
   "outputs": [
    {
     "name": "stderr",
     "output_type": "stream",
     "text": [
      "Epoch 1/15: 100%|███████████████████████████████████████████████████| 1566/1566 [00:34<00:00, 45.78batch/s, loss=0.362]\n"
     ]
    },
    {
     "name": "stdout",
     "output_type": "stream",
     "text": [
      "Epochs: 1\tAvg Train Loss: 0.4175\tAvg Test Loss: 0.1908\tHR: 0.570\tNDCG: 0.314\n"
     ]
    },
    {
     "name": "stderr",
     "output_type": "stream",
     "text": [
      "Epoch 2/15: 100%|███████████████████████████████████████████████████| 1566/1566 [00:35<00:00, 44.60batch/s, loss=0.345]\n"
     ]
    },
    {
     "name": "stdout",
     "output_type": "stream",
     "text": [
      "Epochs: 2\tAvg Train Loss: 0.3553\tAvg Test Loss: 0.2284\tHR: 0.579\tNDCG: 0.327\n"
     ]
    },
    {
     "name": "stderr",
     "output_type": "stream",
     "text": [
      "Epoch 3/15: 100%|███████████████████████████████████████████████████| 1566/1566 [00:35<00:00, 43.50batch/s, loss=0.423]\n"
     ]
    },
    {
     "name": "stdout",
     "output_type": "stream",
     "text": [
      "Epochs: 3\tAvg Train Loss: 0.3326\tAvg Test Loss: 0.1929\tHR: 0.590\tNDCG: 0.334\n"
     ]
    },
    {
     "name": "stderr",
     "output_type": "stream",
     "text": [
      "Epoch 4/15: 100%|███████████████████████████████████████████████████| 1566/1566 [00:34<00:00, 44.96batch/s, loss=0.381]\n"
     ]
    },
    {
     "name": "stdout",
     "output_type": "stream",
     "text": [
      "Epochs: 4\tAvg Train Loss: 0.3160\tAvg Test Loss: 0.2109\tHR: 0.605\tNDCG: 0.349\n"
     ]
    },
    {
     "name": "stderr",
     "output_type": "stream",
     "text": [
      "Epoch 5/15: 100%|███████████████████████████████████████████████████| 1566/1566 [00:35<00:00, 44.30batch/s, loss=0.242]\n"
     ]
    },
    {
     "name": "stdout",
     "output_type": "stream",
     "text": [
      "Epochs: 5\tAvg Train Loss: 0.3028\tAvg Test Loss: 0.1996\tHR: 0.610\tNDCG: 0.351\n"
     ]
    },
    {
     "name": "stderr",
     "output_type": "stream",
     "text": [
      "Epoch 6/15: 100%|███████████████████████████████████████████████████| 1566/1566 [00:35<00:00, 44.36batch/s, loss=0.245]\n"
     ]
    },
    {
     "name": "stdout",
     "output_type": "stream",
     "text": [
      "Epochs: 6\tAvg Train Loss: 0.2922\tAvg Test Loss: 0.1986\tHR: 0.598\tNDCG: 0.343\n"
     ]
    },
    {
     "name": "stderr",
     "output_type": "stream",
     "text": [
      "Epoch 7/15: 100%|███████████████████████████████████████████████████| 1566/1566 [00:36<00:00, 43.44batch/s, loss=0.257]\n"
     ]
    },
    {
     "name": "stdout",
     "output_type": "stream",
     "text": [
      "Epochs: 7\tAvg Train Loss: 0.2837\tAvg Test Loss: 0.2077\tHR: 0.603\tNDCG: 0.348\n"
     ]
    },
    {
     "name": "stderr",
     "output_type": "stream",
     "text": [
      "Epoch 8/15: 100%|████████████████████████████████████████████████████| 1566/1566 [00:35<00:00, 44.28batch/s, loss=0.63]\n"
     ]
    },
    {
     "name": "stdout",
     "output_type": "stream",
     "text": [
      "Epochs: 8\tAvg Train Loss: 0.2766\tAvg Test Loss: 0.1933\tHR: 0.608\tNDCG: 0.352\n"
     ]
    },
    {
     "name": "stderr",
     "output_type": "stream",
     "text": [
      "Epoch 9/15: 100%|████████████████████████████████████████████████████| 1566/1566 [00:35<00:00, 44.08batch/s, loss=0.27]\n"
     ]
    },
    {
     "name": "stdout",
     "output_type": "stream",
     "text": [
      "Epochs: 9\tAvg Train Loss: 0.2703\tAvg Test Loss: 0.2097\tHR: 0.603\tNDCG: 0.348\n"
     ]
    },
    {
     "name": "stderr",
     "output_type": "stream",
     "text": [
      "Epoch 10/15: 100%|██████████████████████████████████████████████████| 1566/1566 [00:36<00:00, 43.18batch/s, loss=0.285]\n"
     ]
    },
    {
     "name": "stdout",
     "output_type": "stream",
     "text": [
      "Epochs: 10\tAvg Train Loss: 0.2652\tAvg Test Loss: 0.2238\tHR: 0.608\tNDCG: 0.346\n"
     ]
    },
    {
     "name": "stderr",
     "output_type": "stream",
     "text": [
      "Epoch 11/15: 100%|██████████████████████████████████████████████████| 1566/1566 [00:35<00:00, 44.06batch/s, loss=0.287]\n"
     ]
    },
    {
     "name": "stdout",
     "output_type": "stream",
     "text": [
      "Epochs: 11\tAvg Train Loss: 0.2608\tAvg Test Loss: 0.2198\tHR: 0.602\tNDCG: 0.346\n"
     ]
    },
    {
     "name": "stderr",
     "output_type": "stream",
     "text": [
      "Epoch 12/15: 100%|███████████████████████████████████████████████████| 1566/1566 [00:34<00:00, 44.84batch/s, loss=0.22]\n"
     ]
    },
    {
     "name": "stdout",
     "output_type": "stream",
     "text": [
      "Epochs: 12\tAvg Train Loss: 0.2567\tAvg Test Loss: 0.2164\tHR: 0.615\tNDCG: 0.345\n"
     ]
    },
    {
     "name": "stderr",
     "output_type": "stream",
     "text": [
      "Epoch 13/15: 100%|████████████████████████████████████████████████████| 1566/1566 [00:35<00:00, 44.23batch/s, loss=0.3]\n"
     ]
    },
    {
     "name": "stdout",
     "output_type": "stream",
     "text": [
      "Epochs: 13\tAvg Train Loss: 0.2534\tAvg Test Loss: 0.2061\tHR: 0.608\tNDCG: 0.342\n"
     ]
    },
    {
     "name": "stderr",
     "output_type": "stream",
     "text": [
      "Epoch 14/15: 100%|██████████████████████████████████████████████████| 1566/1566 [00:36<00:00, 43.05batch/s, loss=0.278]\n"
     ]
    },
    {
     "name": "stdout",
     "output_type": "stream",
     "text": [
      "Epochs: 14\tAvg Train Loss: 0.2500\tAvg Test Loss: 0.2248\tHR: 0.603\tNDCG: 0.344\n"
     ]
    },
    {
     "name": "stderr",
     "output_type": "stream",
     "text": [
      "Epoch 15/15: 100%|███████████████████████████████████████████████████| 1566/1566 [00:36<00:00, 42.41batch/s, loss=0.23]\n"
     ]
    },
    {
     "name": "stdout",
     "output_type": "stream",
     "text": [
      "Epochs: 15\tAvg Train Loss: 0.2469\tAvg Test Loss: 0.2131\tHR: 0.602\tNDCG: 0.338\n",
      "Learning finished\n",
      "Training time: 583.32618 seconds\n"
     ]
    }
   ],
   "source": [
    "# Initialize trainer with customizable top_k\n",
    "\n",
    "trainer_1 = Train(model=model,\n",
    "              optimizer=optimizer,\n",
    "              criterion=criterion,\n",
    "              epochs=15,\n",
    "              test_obj=dataloader_test_1,\n",
    "              dataloader=dataloader_train_1,\n",
    "              device=device,\n",
    "              print_cost=True,\n",
    "              top_k=10)\n",
    "    \n",
    "# measuring time\n",
    "start = time.time()\n",
    "loss_1, test_loss_list_1, hr_list_1, ndcg_list_1 = trainer_1.train()\n",
    "\n",
    "end = time.time()\n",
    "\n",
    "time_message = f'Training time: {end-start:.5f} seconds'\n",
    "print(time_message)"
   ]
  },
  {
   "cell_type": "markdown",
   "id": "b557102e-7265-409f-a667-3c28a6e97eea",
   "metadata": {},
   "source": [
    "<h2>Dataset 4 Model Training</h2>"
   ]
  },
  {
   "cell_type": "code",
   "execution_count": 8,
   "id": "f61a06d4-19d5-4e6f-9ef4-f5240dbf85ea",
   "metadata": {},
   "outputs": [
    {
     "name": "stderr",
     "output_type": "stream",
     "text": [
      "Epoch 1/15: 100%|█████████████████████████████████████████████████| 15534/15534 [05:57<00:00, 43.42batch/s, loss=0.377]\n"
     ]
    },
    {
     "name": "stdout",
     "output_type": "stream",
     "text": [
      "Epochs: 1\tAvg Train Loss: 0.3897\tAvg Test Loss: 0.2269\tHR: 0.493\tNDCG: 0.271\n"
     ]
    },
    {
     "name": "stderr",
     "output_type": "stream",
     "text": [
      "Epoch 2/15: 100%|█████████████████████████████████████████████████| 15534/15534 [06:05<00:00, 42.51batch/s, loss=0.287]\n"
     ]
    },
    {
     "name": "stdout",
     "output_type": "stream",
     "text": [
      "Epochs: 2\tAvg Train Loss: 0.3551\tAvg Test Loss: 0.2204\tHR: 0.538\tNDCG: 0.297\n"
     ]
    },
    {
     "name": "stderr",
     "output_type": "stream",
     "text": [
      "Epoch 3/15: 100%|█████████████████████████████████████████████████| 15534/15534 [06:13<00:00, 41.61batch/s, loss=0.298]\n"
     ]
    },
    {
     "name": "stdout",
     "output_type": "stream",
     "text": [
      "Epochs: 3\tAvg Train Loss: 0.3365\tAvg Test Loss: 0.1790\tHR: 0.565\tNDCG: 0.315\n"
     ]
    },
    {
     "name": "stderr",
     "output_type": "stream",
     "text": [
      "Epoch 4/15: 100%|█████████████████████████████████████████████████| 15534/15534 [06:10<00:00, 41.97batch/s, loss=0.285]\n"
     ]
    },
    {
     "name": "stdout",
     "output_type": "stream",
     "text": [
      "Epochs: 4\tAvg Train Loss: 0.3265\tAvg Test Loss: 0.1976\tHR: 0.573\tNDCG: 0.323\n"
     ]
    },
    {
     "name": "stderr",
     "output_type": "stream",
     "text": [
      "Epoch 5/15: 100%|█████████████████████████████████████████████████| 15534/15534 [06:26<00:00, 40.18batch/s, loss=0.345]\n"
     ]
    },
    {
     "name": "stdout",
     "output_type": "stream",
     "text": [
      "Epochs: 5\tAvg Train Loss: 0.3201\tAvg Test Loss: 0.2004\tHR: 0.587\tNDCG: 0.331\n"
     ]
    },
    {
     "name": "stderr",
     "output_type": "stream",
     "text": [
      "Epoch 6/15: 100%|█████████████████████████████████████████████████| 15534/15534 [06:29<00:00, 39.91batch/s, loss=0.309]\n"
     ]
    },
    {
     "name": "stdout",
     "output_type": "stream",
     "text": [
      "Epochs: 6\tAvg Train Loss: 0.3154\tAvg Test Loss: 0.1987\tHR: 0.587\tNDCG: 0.332\n"
     ]
    },
    {
     "name": "stderr",
     "output_type": "stream",
     "text": [
      "Epoch 7/15: 100%|█████████████████████████████████████████████████| 15534/15534 [06:36<00:00, 39.17batch/s, loss=0.309]\n"
     ]
    },
    {
     "name": "stdout",
     "output_type": "stream",
     "text": [
      "Epochs: 7\tAvg Train Loss: 0.3122\tAvg Test Loss: 0.1897\tHR: 0.593\tNDCG: 0.338\n"
     ]
    },
    {
     "name": "stderr",
     "output_type": "stream",
     "text": [
      "Epoch 8/15: 100%|█████████████████████████████████████████████████| 15534/15534 [06:30<00:00, 39.76batch/s, loss=0.318]\n"
     ]
    },
    {
     "name": "stdout",
     "output_type": "stream",
     "text": [
      "Epochs: 8\tAvg Train Loss: 0.3099\tAvg Test Loss: 0.1956\tHR: 0.593\tNDCG: 0.336\n"
     ]
    },
    {
     "name": "stderr",
     "output_type": "stream",
     "text": [
      "Epoch 9/15: 100%|█████████████████████████████████████████████████| 15534/15534 [06:36<00:00, 39.20batch/s, loss=0.356]\n"
     ]
    },
    {
     "name": "stdout",
     "output_type": "stream",
     "text": [
      "Epochs: 9\tAvg Train Loss: 0.3083\tAvg Test Loss: 0.1879\tHR: 0.599\tNDCG: 0.337\n"
     ]
    },
    {
     "name": "stderr",
     "output_type": "stream",
     "text": [
      "Epoch 10/15: 100%|████████████████████████████████████████████████| 15534/15534 [06:38<00:00, 39.00batch/s, loss=0.262]\n"
     ]
    },
    {
     "name": "stdout",
     "output_type": "stream",
     "text": [
      "Epochs: 10\tAvg Train Loss: 0.3068\tAvg Test Loss: 0.1967\tHR: 0.602\tNDCG: 0.340\n"
     ]
    },
    {
     "name": "stderr",
     "output_type": "stream",
     "text": [
      "Epoch 11/15: 100%|████████████████████████████████████████████████| 15534/15534 [06:37<00:00, 39.04batch/s, loss=0.345]\n"
     ]
    },
    {
     "name": "stdout",
     "output_type": "stream",
     "text": [
      "Epochs: 11\tAvg Train Loss: 0.3056\tAvg Test Loss: 0.1774\tHR: 0.601\tNDCG: 0.342\n"
     ]
    },
    {
     "name": "stderr",
     "output_type": "stream",
     "text": [
      "Epoch 12/15: 100%|████████████████████████████████████████████████| 15534/15534 [06:40<00:00, 38.78batch/s, loss=0.309]\n"
     ]
    },
    {
     "name": "stdout",
     "output_type": "stream",
     "text": [
      "Epochs: 12\tAvg Train Loss: 0.3046\tAvg Test Loss: 0.1847\tHR: 0.604\tNDCG: 0.340\n"
     ]
    },
    {
     "name": "stderr",
     "output_type": "stream",
     "text": [
      "Epoch 13/15: 100%|████████████████████████████████████████████████| 15534/15534 [06:40<00:00, 38.83batch/s, loss=0.296]\n"
     ]
    },
    {
     "name": "stdout",
     "output_type": "stream",
     "text": [
      "Epochs: 13\tAvg Train Loss: 0.3038\tAvg Test Loss: 0.1907\tHR: 0.602\tNDCG: 0.343\n"
     ]
    },
    {
     "name": "stderr",
     "output_type": "stream",
     "text": [
      "Epoch 14/15: 100%|████████████████████████████████████████████████| 15534/15534 [06:08<00:00, 42.14batch/s, loss=0.306]\n"
     ]
    },
    {
     "name": "stdout",
     "output_type": "stream",
     "text": [
      "Epochs: 14\tAvg Train Loss: 0.3031\tAvg Test Loss: 0.1696\tHR: 0.607\tNDCG: 0.346\n"
     ]
    },
    {
     "name": "stderr",
     "output_type": "stream",
     "text": [
      "Epoch 15/15: 100%|████████████████████████████████████████████████| 15534/15534 [06:10<00:00, 41.93batch/s, loss=0.348]\n"
     ]
    },
    {
     "name": "stdout",
     "output_type": "stream",
     "text": [
      "Epochs: 15\tAvg Train Loss: 0.3024\tAvg Test Loss: 0.1817\tHR: 0.605\tNDCG: 0.345\n",
      "Learning finished\n",
      "Training time: 6216.82477 seconds\n"
     ]
    }
   ],
   "source": [
    "# Initialize trainer with customizable top_k\n",
    "\n",
    "trainer_2 = Train(model=model,\n",
    "              optimizer=optimizer,\n",
    "              criterion=criterion,\n",
    "              epochs=15,\n",
    "              test_obj=dataloader_test_4,\n",
    "              dataloader=dataloader_train_4,\n",
    "              device=device,\n",
    "              print_cost=True,\n",
    "              top_k=10)\n",
    "    \n",
    "# measuring time\n",
    "start = time.time()\n",
    "loss_4, test_loss_list_4, hr_list_4, ndcg_list_4 = trainer_2.train()\n",
    "\n",
    "end = time.time()\n",
    "\n",
    "time_message = f'Training time: {end-start:.5f} seconds'\n",
    "print(time_message)"
   ]
  },
  {
   "cell_type": "markdown",
   "id": "8fbfb201-c3d8-4e6f-ba3c-5a8d8d2aa4d6",
   "metadata": {},
   "source": [
    "<h2>Plotting Graphs</h2>"
   ]
  },
  {
   "cell_type": "code",
   "execution_count": 10,
   "id": "283f1afd-1689-4121-aa56-6772c6185910",
   "metadata": {},
   "outputs": [
    {
     "data": {
      "image/png": "[encoded data removed]",
      "text/plain": [
       "<Figure size 1600x1200 with 4 Axes>"
      ]
     },
     "metadata": {},
     "output_type": "display_data"
    }
   ],
   "source": [
    "plot_comparison_metrics(loss_1, test_loss_list_1, hr_list_1, ndcg_list_1, loss_4, test_loss_list_4, hr_list_4, ndcg_list_4, top_k=trainer_2.top_k)"
   ]
  },
  {
   "cell_type": "code",
   "execution_count": 11,
   "id": "5d8c37b5-c0b2-4cfd-85ad-b0ceae28ef2e",
   "metadata": {},
   "outputs": [
    {
     "data": {
      "text/plain": [
       "MLP(\n",
       "  (user_embedding): Embedding(6041, 8)\n",
       "  (item_embedding): Embedding(193610, 8)\n",
       "  (mlp_layers): Sequential(\n",
       "    (0): Linear(in_features=16, out_features=16, bias=True)\n",
       "    (1): ReLU()\n",
       "    (2): Linear(in_features=16, out_features=8, bias=True)\n",
       "    (3): ReLU()\n",
       "    (4): Linear(in_features=8, out_features=4, bias=True)\n",
       "    (5): ReLU()\n",
       "  )\n",
       "  (output_layer): Linear(in_features=4, out_features=1, bias=True)\n",
       "  (sigmoid): Sigmoid()\n",
       ")"
      ]
     },
     "execution_count": 11,
     "metadata": {},
     "output_type": "execute_result"
    }
   ],
   "source": [
    "model"
   ]
  },
  {
   "cell_type": "markdown",
   "id": "5beb4616-19cb-4b4d-9ecf-c7a0715b7902",
   "metadata": {},
   "source": [
    "<h2>Inference Checking</h2>"
   ]
  },
  {
   "cell_type": "markdown",
   "id": "4e73193e-e866-49cb-95c0-0f0a58dd3f4c",
   "metadata": {},
   "source": [
    "<h3>Getting inference with corresponding metrics from a test set</h3>"
   ]
  },
  {
   "cell_type": "code",
   "execution_count": 12,
   "id": "c2549ae0-c4b8-4680-96a9-07594b495cbb",
   "metadata": {},
   "outputs": [
    {
     "name": "stdout",
     "output_type": "stream",
     "text": [
      "Evaluation Metrics:\n",
      "HR@10: 0.602\n",
      "NDCG@10: 0.338\n",
      "\n",
      "User: 31\n",
      "Ground Truth: Pallbearer, The (1996) (MovieID: 612)\n",
      "\n",
      "Top 10 Recommendations for User 31:\n",
      "1. Star Wars: Episode I - The Phantom Menace (1999) (MovieID: 2628, Score: 0.937)\n",
      "2. Austin Powers: International Man of Mystery (1997) (MovieID: 1517, Score: 0.885)\n",
      "3. Galaxy Quest (1999) (MovieID: 3175, Score: 0.879)\n",
      "4. Honey, I Blew Up the Kid (1992) (MovieID: 2053, Score: 0.878)\n",
      "5. Jagged Edge (1985) (MovieID: 3102, Score: 0.851)\n",
      "6. Godzilla 2000 (Gojira ni-sen mireniamu) (1999) (MovieID: 3864, Score: 0.827)\n",
      "7. She-Devil (1989) (MovieID: 3392, Score: 0.809)\n",
      "8. Star Trek: Generations (1994) (MovieID: 329, Score: 0.791)\n",
      "9. Blues Brothers, The (1980) (MovieID: 1220, Score: 0.759)\n",
      "10. Dave (1993) (MovieID: 440, Score: 0.711)\n"
     ]
    }
   ],
   "source": [
    "def metrics_with_recommendations_with_titles(model, test_loader, top_k, total_dataframe, device):\n",
    "    \"\"\"\n",
    "    Function to return recommendations with metrics and predicted scores.\n",
    "\n",
    "    Parameters:\n",
    "    -----------\n",
    "    model: The trained model checkpoints\n",
    "    test_loader: The test data loader\n",
    "    top_k: Total numbers of movies to recommend\n",
    "    total_dataframe: The total dataframe to map the id of the movie with title\n",
    "    device: According to availability CPU or a GPU\n",
    "\n",
    "    Returns:\n",
    "    ---------\n",
    "    HR: The Hit rate metrics\n",
    "    NDCG: The NDCG metrics\n",
    "    all_recommendations: The top_k recommended movies with titles and predicted scores\n",
    "    \"\"\"\n",
    "    HR, NDCG, all_recommendations = [], [], []\n",
    "\n",
    "    for user, item, label in test_loader:\n",
    "        user = user.to(device)\n",
    "        item = item.to(device)\n",
    "\n",
    "        predictions = model(user, item)\n",
    "        # Get top-k predictions and their indices\n",
    "        top_k_scores, top_k_indices = torch.topk(predictions, top_k)\n",
    "\n",
    "        # Convert to lists\n",
    "        recommends = torch.take(item, top_k_indices).cpu().numpy().tolist()\n",
    "        recommend_scores = top_k_scores.cpu().detach().numpy().tolist()\n",
    "\n",
    "        # Ground truth item\n",
    "        gt_item = item[0].item()\n",
    "        HR.append(hit(gt_item, recommends))\n",
    "        NDCG.append(ndcg(gt_item, recommends))\n",
    "\n",
    "        # Get movie titles and scores for the recommended movies\n",
    "        recommended_movies = []\n",
    "        for rec, score in zip(recommends, recommend_scores):\n",
    "            title = total_dataframe[total_dataframe['movieId'] == rec]['title'].values[0]\n",
    "            recommended_movies.append({\n",
    "                'movieId': rec,\n",
    "                'title': title,\n",
    "                'score': float(score)  # Convert numpy float to Python float for JSON compatibility\n",
    "            })\n",
    "\n",
    "        all_recommendations.append({\n",
    "            'user': user[0].item() if user.numel() == 1 else user.tolist()[0],  # Ensure single user per batch\n",
    "            'ground_truth': {\n",
    "                'movieId': gt_item,\n",
    "                'title': total_dataframe[total_dataframe['movieId'] == gt_item]['title'].values[0]\n",
    "            },\n",
    "            'recommendations': recommended_movies\n",
    "        })\n",
    "\n",
    "    return np.mean(HR), np.mean(NDCG), all_recommendations\n",
    "\n",
    "# main HERE\n",
    "k = 10 # change the value of k here\n",
    "\n",
    "HR, NDCG, all_recommendations = metrics_with_recommendations_with_titles(\n",
    "    model, \n",
    "    test_loader=dataloader_test_1, \n",
    "    top_k=k,\n",
    "    total_dataframe=total_df_1, \n",
    "    device=device\n",
    ")\n",
    "\n",
    "# Print metrics\n",
    "print(f\"Evaluation Metrics:\")\n",
    "print(f\"HR@{k}: {HR:.3f}\")\n",
    "print(f\"NDCG@{k}: {NDCG:.3f}\")\n",
    "\n",
    "# Print recommendations with scores (for the first user)\n",
    "first_user_rec = all_recommendations[0]\n",
    "print(f\"\\nUser: {first_user_rec['user']}\")\n",
    "print(f\"Ground Truth: {first_user_rec['ground_truth']['title']} (MovieID: {first_user_rec['ground_truth']['movieId']})\")\n",
    "print(f\"\\nTop {k} Recommendations for User {first_user_rec['user']}:\") # attention HERE\n",
    "for idx, rec in enumerate(first_user_rec['recommendations'], 1):\n",
    "    print(f\"{idx}. {rec['title']} (MovieID: {rec['movieId']}, Score: {rec['score']:.3f})\")"
   ]
  },
  {
   "cell_type": "code",
   "execution_count": 13,
   "id": "6b6a45aa-3ad0-4517-a8bc-9f1e790cdfe2",
   "metadata": {},
   "outputs": [
    {
     "name": "stdout",
     "output_type": "stream",
     "text": [
      "Evaluation Metrics:\n",
      "HR@10: 0.411\n",
      "NDCG@10: 0.218\n",
      "\n",
      "User: 891\n",
      "Ground Truth: Devil's Own, The (1997) (MovieID: 1488)\n",
      "\n",
      "Top 10 Recommendations for User 891:\n",
      "1. Jaws (1975) (MovieID: 1387, Score: 0.857)\n",
      "2. Wild Wild West (1999) (MovieID: 2701, Score: 0.728)\n",
      "3. Lock, Stock & Two Smoking Barrels (1998) (MovieID: 2542, Score: 0.702)\n",
      "4. Truth About Cats & Dogs, The (1996) (MovieID: 708, Score: 0.698)\n",
      "5. Crow, The (1994) (MovieID: 353, Score: 0.694)\n",
      "6. Mutters Courage (1995) (MovieID: 655, Score: 0.661)\n",
      "7. City of Lost Children, The (1995) (MovieID: 29, Score: 0.646)\n",
      "8. Bridge on the River Kwai, The (1957) (MovieID: 1250, Score: 0.609)\n",
      "9. Amityville 3-D (1983) (MovieID: 1323, Score: 0.530)\n",
      "10. Stuart Little (1999) (MovieID: 3157, Score: 0.520)\n"
     ]
    }
   ],
   "source": [
    "def metrics_with_recommendations_with_titles(model, test_loader, top_k, total_dataframe, device):\n",
    "    \"\"\"\n",
    "    Function to return recommendations with metrics and predicted scores.\n",
    "\n",
    "    Parameters:\n",
    "    -----------\n",
    "    model: The trained model checkpoints\n",
    "    test_loader: The test data loader\n",
    "    top_k: Total numbers of movies to recommend\n",
    "    total_dataframe: The total dataframe to map the id of the movie with title\n",
    "    device: According to availability CPU or a GPU\n",
    "\n",
    "    Returns:\n",
    "    ---------\n",
    "    HR: The Hit rate metrics\n",
    "    NDCG: The NDCG metrics\n",
    "    all_recommendations: The top_k recommended movies with titles and predicted scores\n",
    "    \"\"\"\n",
    "    HR, NDCG, all_recommendations = [], [], []\n",
    "\n",
    "    for user, item, label in test_loader:\n",
    "        user = user.to(device)\n",
    "        item = item.to(device)\n",
    "\n",
    "        predictions = model(user, item)\n",
    "        # Get top-k predictions and their indices\n",
    "        top_k_scores, top_k_indices = torch.topk(predictions, top_k)\n",
    "\n",
    "        # Convert to lists\n",
    "        recommends = torch.take(item, top_k_indices).cpu().numpy().tolist()\n",
    "        recommend_scores = top_k_scores.cpu().detach().numpy().tolist()\n",
    "\n",
    "        # Ground truth item\n",
    "        gt_item = item[0].item()\n",
    "        HR.append(hit(gt_item, recommends))\n",
    "        NDCG.append(ndcg(gt_item, recommends))\n",
    "\n",
    "        # Get movie titles and scores for the recommended movies\n",
    "        recommended_movies = []\n",
    "        for rec, score in zip(recommends, recommend_scores):\n",
    "            title = total_dataframe[total_dataframe['movieId'] == rec]['title'].values[0]\n",
    "            recommended_movies.append({\n",
    "                'movieId': rec,\n",
    "                'title': title,\n",
    "                'score': float(score)  # Convert numpy float to Python float for JSON compatibility\n",
    "            })\n",
    "\n",
    "        all_recommendations.append({\n",
    "            'user': user[0].item() if user.numel() == 1 else user.tolist()[0],  # Ensure single user per batch\n",
    "            'ground_truth': {\n",
    "                'movieId': gt_item,\n",
    "                'title': total_dataframe[total_dataframe['movieId'] == gt_item]['title'].values[0]\n",
    "            },\n",
    "            'recommendations': recommended_movies\n",
    "        })\n",
    "\n",
    "    return np.mean(HR), np.mean(NDCG), all_recommendations\n",
    "\n",
    "# main HERE\n",
    "k = 10 # change the value of k here\n",
    "HR, NDCG, all_recommendations = metrics_with_recommendations_with_titles(\n",
    "    model, \n",
    "    test_loader=dataloader_test_4, \n",
    "    top_k=k, \n",
    "    total_dataframe=total_df_4, \n",
    "    device=device\n",
    ")\n",
    "\n",
    "print(f\"Evaluation Metrics:\")\n",
    "print(f\"HR@{k}: {HR:.3f}\")\n",
    "print(f\"NDCG@{k}: {NDCG:.3f}\")\n",
    "\n",
    "# Print recommendations with scores (for the first user)\n",
    "first_user_rec = all_recommendations[0]\n",
    "print(f\"\\nUser: {first_user_rec['user']}\")\n",
    "print(f\"Ground Truth: {first_user_rec['ground_truth']['title']} (MovieID: {first_user_rec['ground_truth']['movieId']})\")\n",
    "print(f\"\\nTop {k} Recommendations for User {first_user_rec['user']}:\") # attention HERE\n",
    "for idx, rec in enumerate(first_user_rec['recommendations'], 1):\n",
    "    print(f\"{idx}. {rec['title']} (MovieID: {rec['movieId']}, Score: {rec['score']:.3f})\")"
   ]
  },
  {
   "cell_type": "markdown",
   "id": "edc59644-3757-498d-b11a-645aee08c8a6",
   "metadata": {},
   "source": [
    "<h3>Getting recommendations for an existing user of the system</h3>"
   ]
  },
  {
   "cell_type": "code",
   "execution_count": 14,
   "id": "2e374629-c41d-4e31-82c9-1abca1f3c612",
   "metadata": {},
   "outputs": [
    {
     "name": "stdout",
     "output_type": "stream",
     "text": [
      "User ID 1 found in the test loader.\n",
      "\n",
      "Top 10 Recommendations for User 1:\n",
      "1. Breakfast Club, The (1985) (ID: 1968) | Score: 0.938\n",
      "2. Speed (1994) (ID: 377) | Score: 0.885\n",
      "3. Snow White and the Seven Dwarfs (1937) (ID: 594) | Score: 0.772\n",
      "4. Exorcist, The (1973) (ID: 1997) | Score: 0.735\n",
      "5. Philadelphia (1993) (ID: 508) | Score: 0.690\n",
      "6. Notting Hill (1999) (ID: 2671) | Score: 0.665\n",
      "7. No Country for Old Men (2007) (ID: 55820) | Score: 0.630\n",
      "8. Addams Family, The (1991) (ID: 2124) | Score: 0.603\n",
      "9. Star Trek IV: The Voyage Home (1986) (ID: 1376) | Score: 0.578\n",
      "10. English Patient, The (1996) (ID: 1183) | Score: 0.547\n"
     ]
    }
   ],
   "source": [
    "def inference_for_single_user_by_id(model, user_id, top_k, total_dataframe, test_loader, device):\n",
    "    \"\"\"\n",
    "    Function to perform inference for a single user by user ID and return recommendations with metrics.\n",
    "\n",
    "    Parameters:\n",
    "    -----------\n",
    "    model: The trained model checkpoints\n",
    "    user_id: The ID of the user for whom to make recommendations\n",
    "    top_k: Total numbers of movies to recommend\n",
    "    total_dataframe: The total dataframe to map the id of the movie with title\n",
    "    test_loader: The DataLoader for the test set\n",
    "    device: According to availability CPU or a GPU\n",
    "\n",
    "    Returns:\n",
    "    ---------\n",
    "    recommendations: Dictionary with user ID, ground truth, and recommended movies with scores\n",
    "    \"\"\"\n",
    "    user_found = False\n",
    "    \n",
    "    for user, item, label in test_loader:\n",
    "        if user[0].item() == user_id:\n",
    "            user_found = True\n",
    "            user = user.to(device)\n",
    "            item = item.to(device)\n",
    "\n",
    "            print(f\"User ID {user_id} found in the test loader.\")\n",
    "            predictions = model(user, item)\n",
    "            top_k_scores, top_k_indices = torch.topk(predictions, top_k)\n",
    "\n",
    "            # Convert to lists\n",
    "            recommends = torch.take(item, top_k_indices).cpu().numpy().tolist()\n",
    "            recommend_scores = top_k_scores.cpu().detach().numpy().tolist()\n",
    "\n",
    "            # Get movie details for the recommended movies\n",
    "            recommended_movies = []\n",
    "            for rec, score in zip(recommends, recommend_scores):\n",
    "                title = total_dataframe[total_dataframe['movieId'] == rec]['title'].values[0]\n",
    "                recommended_movies.append({\n",
    "                    'movieId': rec,\n",
    "                    'title': title,\n",
    "                    'score': float(score)  # Convert numpy float to Python float\n",
    "                })\n",
    "\n",
    "            return {\n",
    "                'user': user[0].item(),\n",
    "                'recommendations': recommended_movies\n",
    "            }\n",
    "    \n",
    "    if not user_found:\n",
    "        raise ValueError(f\"User ID {user_id} not found in the test loader.\")\n",
    "\n",
    "# Example usage\n",
    "user_id_to_infer = 1  # Replace with the user ID you want to infer\n",
    "recommendations = inference_for_single_user_by_id(\n",
    "    model, \n",
    "    user_id_to_infer, \n",
    "    top_k=10, \n",
    "    total_dataframe=total_df_1, \n",
    "    test_loader=dataloader_test_1, \n",
    "    device=device\n",
    ")\n",
    "\n",
    "# Print recommendations with scores\n",
    "print(f\"\\nTop {len(recommendations['recommendations'])} Recommendations for User {recommendations['user']}:\")\n",
    "for idx, rec in enumerate(recommendations['recommendations'], 1):\n",
    "    print(f\"{idx}. {rec['title']} (ID: {rec['movieId']}) | Score: {rec['score']:.3f}\")"
   ]
  },
  {
   "cell_type": "code",
   "execution_count": 15,
   "id": "f69503d2-8153-4fcd-a777-9df81512ee53",
   "metadata": {},
   "outputs": [
    {
     "name": "stdout",
     "output_type": "stream",
     "text": [
      "User ID 1 found in the test loader.\n",
      "\n",
      "Top 10 Recommendations for User 1:\n",
      "1. Dumb & Dumber (1994) (ID: 231) | Score: 0.910\n",
      "2. Star Trek: Generations (1994) (ID: 329) | Score: 0.833\n",
      "3. Twister (1996) (ID: 736) | Score: 0.826\n",
      "4. North by Northwest (1959) (ID: 908) | Score: 0.806\n",
      "5. Raising Arizona (1987) (ID: 1394) | Score: 0.771\n",
      "6. Edward Scissorhands (1990) (ID: 2291) | Score: 0.749\n",
      "7. Aristocats, The (1970) (ID: 616) | Score: 0.647\n",
      "8. Cyrano de Bergerac (1990) (ID: 1277) | Score: 0.633\n",
      "9. Leaving Las Vegas (1995) (ID: 25) | Score: 0.622\n",
      "10. Deuce Bigalow: Male Gigolo (1999) (ID: 3146) | Score: 0.607\n"
     ]
    }
   ],
   "source": [
    "def inference_for_single_user_by_id(model, user_id, top_k, total_dataframe, test_loader, device):\n",
    "    \"\"\"\n",
    "    Function to perform inference for a single user by user ID and return recommendations with metrics.\n",
    "\n",
    "    Parameters:\n",
    "    -----------\n",
    "    model: The trained model checkpoints\n",
    "    user_id: The ID of the user for whom to make recommendations\n",
    "    top_k: Total numbers of movies to recommend\n",
    "    total_dataframe: The total dataframe to map the id of the movie with title\n",
    "    test_loader: The DataLoader for the test set\n",
    "    device: According to availability CPU or a GPU\n",
    "\n",
    "    Returns:\n",
    "    ---------\n",
    "    recommendations: Dictionary with user ID, ground truth, and recommended movies with scores\n",
    "    \"\"\"\n",
    "    user_found = False\n",
    "    \n",
    "    for user, item, label in test_loader:\n",
    "        if user[0].item() == user_id:\n",
    "            user_found = True\n",
    "            user = user.to(device)\n",
    "            item = item.to(device)\n",
    "\n",
    "            print(f\"User ID {user_id} found in the test loader.\")\n",
    "            predictions = model(user, item)\n",
    "            top_k_scores, top_k_indices = torch.topk(predictions, top_k)\n",
    "\n",
    "            # Convert to lists\n",
    "            recommends = torch.take(item, top_k_indices).cpu().numpy().tolist()\n",
    "            recommend_scores = top_k_scores.cpu().detach().numpy().tolist()\n",
    "\n",
    "            # Get movie details for the recommended movies\n",
    "            recommended_movies = []\n",
    "            for rec, score in zip(recommends, recommend_scores):\n",
    "                title = total_dataframe[total_dataframe['movieId'] == rec]['title'].values[0]\n",
    "                recommended_movies.append({\n",
    "                    'movieId': rec,\n",
    "                    'title': title,\n",
    "                    'score': float(score)  # Convert numpy float to Python float\n",
    "                })\n",
    "\n",
    "            return {\n",
    "                'user': user[0].item(),\n",
    "                'recommendations': recommended_movies\n",
    "            }\n",
    "    \n",
    "    if not user_found:\n",
    "        raise ValueError(f\"User ID {user_id} not found in the test loader.\")\n",
    "\n",
    "# Example usage\n",
    "user_id_to_infer = 1  # Replace with the user ID you want to infer\n",
    "recommendations = inference_for_single_user_by_id(\n",
    "    model, \n",
    "    user_id_to_infer, \n",
    "    top_k=10, \n",
    "    total_dataframe=total_df_4, \n",
    "    test_loader=dataloader_test_4, \n",
    "    device=device\n",
    ")\n",
    "\n",
    "# Print recommendations with scores\n",
    "print(f\"\\nTop {len(recommendations['recommendations'])} Recommendations for User {recommendations['user']}:\")\n",
    "for idx, rec in enumerate(recommendations['recommendations'], 1):\n",
    "    print(f\"{idx}. {rec['title']} (ID: {rec['movieId']}) | Score: {rec['score']:.3f}\")"
   ]
  },
  {
   "cell_type": "code",
   "execution_count": 16,
   "id": "a103a37f-bccb-4db7-b465-c5c00179baf7",
   "metadata": {},
   "outputs": [
    {
     "name": "stdout",
     "output_type": "stream",
     "text": [
      "       user_id  item_id  label\n",
      "0           31      612    1.0\n",
      "1           31    71379    0.0\n",
      "2           31   114074    0.0\n",
      "3           31    97665    0.0\n",
      "4           31     4954    0.0\n",
      "...        ...      ...    ...\n",
      "60995       27    37475    0.0\n",
      "60996       27     7141    0.0\n",
      "60997       27    86320    0.0\n",
      "60998       27     1252    0.0\n",
      "60999       27     1212    0.0\n",
      "\n",
      "[61000 rows x 3 columns]\n",
      "\n",
      "Data saved to: ./Datasets/dataloader_test_D1_M6.csv\n"
     ]
    }
   ],
   "source": [
    "import pandas as pd\n",
    "import torch\n",
    "\n",
    "# Initialize a list to store all batches\n",
    "all_batches = []\n",
    "\n",
    "# Iterate through the DataLoader\n",
    "for batch in dataloader_test_1:\n",
    "    users, items, labels = batch\n",
    "    batch_data = {\n",
    "        'user_id': users.numpy(),  # Convert tensors to numpy arrays\n",
    "        'item_id': items.numpy(),\n",
    "        'label': labels.numpy()\n",
    "    }\n",
    "    all_batches.append(batch_data)\n",
    "\n",
    "# Combine all batches into a single DataFrame\n",
    "df = pd.DataFrame({\n",
    "    'user_id': np.concatenate([batch['user_id'] for batch in all_batches]),\n",
    "    'item_id': np.concatenate([batch['item_id'] for batch in all_batches]),\n",
    "    'label': np.concatenate([batch['label'] for batch in all_batches])\n",
    "})\n",
    "\n",
    "print(df)\n",
    "\n",
    "# Save to CSV\n",
    "csv_path = './Datasets/dataloader_test_D1_M6.csv'\n",
    "df.to_csv(csv_path, index=False)\n",
    "print(f\"\\nData saved to: {csv_path}\")"
   ]
  },
  {
   "cell_type": "code",
   "execution_count": 17,
   "id": "d128be5f-13d6-4382-9ce8-3c077c17c7fe",
   "metadata": {},
   "outputs": [
    {
     "name": "stdout",
     "output_type": "stream",
     "text": [
      "        user_id  item_id  label\n",
      "0           891     1488    1.0\n",
      "1           891     1868    0.0\n",
      "2           891     2273    0.0\n",
      "3           891      896    0.0\n",
      "4           891       61    0.0\n",
      "...         ...      ...    ...\n",
      "603995     2023     2661    0.0\n",
      "603996     2023     2240    0.0\n",
      "603997     2023     2416    0.0\n",
      "603998     2023     1313    0.0\n",
      "603999     2023     3700    0.0\n",
      "\n",
      "[604000 rows x 3 columns]\n",
      "\n",
      "Data saved to: ./Datasets/dataloader_test_D2_M6.csv\n"
     ]
    }
   ],
   "source": [
    "import pandas as pd\n",
    "import torch\n",
    "\n",
    "# Initialize a list to store all batches\n",
    "all_batches = []\n",
    "\n",
    "# Iterate through the DataLoader\n",
    "for batch in dataloader_test_4:\n",
    "    users, items, labels = batch\n",
    "    batch_data = {\n",
    "        'user_id': users.numpy(),  # Convert tensors to numpy arrays\n",
    "        'item_id': items.numpy(),\n",
    "        'label': labels.numpy()\n",
    "    }\n",
    "    all_batches.append(batch_data)\n",
    "\n",
    "# Combine all batches into a single DataFrame\n",
    "df = pd.DataFrame({\n",
    "    'user_id': np.concatenate([batch['user_id'] for batch in all_batches]),\n",
    "    'item_id': np.concatenate([batch['item_id'] for batch in all_batches]),\n",
    "    'label': np.concatenate([batch['label'] for batch in all_batches])\n",
    "})\n",
    "\n",
    "print(df)\n",
    "\n",
    "# Save to CSV\n",
    "csv_path = './Datasets/dataloader_test_D2_M6.csv'\n",
    "df.to_csv(csv_path, index=False)\n",
    "print(f\"\\nData saved to: {csv_path}\")"
   ]
  },
  {
   "cell_type": "markdown",
   "id": "be36cd0d-82dc-4958-9e07-759688ea1758",
   "metadata": {},
   "source": [
    "<h2>Save Model</h2>"
   ]
  },
  {
   "cell_type": "code",
   "execution_count": 18,
   "id": "7df48ca8-d078-4956-a80b-ac546bb41f89",
   "metadata": {},
   "outputs": [],
   "source": [
    "# Save model + minimal metadata\n",
    "deployment_checkpoint = {\n",
    "    'model_state_dict': model.state_dict(),  # Weights\n",
    "    'model_hyperparams': {                  # Architecture config\n",
    "        'num_users': max_num_users_global,\n",
    "        'num_items': max_num_items_global,\n",
    "        'embedding_size': 8,\n",
    "        'layer_dims': [16, 8, 4],\n",
    "        'use_NeuMF': False\n",
    "    }\n",
    "}"
   ]
  },
  {
   "cell_type": "code",
   "execution_count": 19,
   "id": "4f04528d-38df-46ca-ac72-1b1cf2f504b4",
   "metadata": {},
   "outputs": [
    {
     "data": {
      "text/plain": [
       "{'model_state_dict': OrderedDict([('user_embedding.weight',\n",
       "               tensor([[-2.3199e-03, -5.4123e-03,  3.2467e-04,  ...,  1.8287e-03,\n",
       "                        -1.3595e-02, -1.4258e-02],\n",
       "                       [-8.1090e-01, -5.5013e-01, -4.3536e+00,  ...,  1.8182e+00,\n",
       "                        -3.0549e+00, -5.9859e+00],\n",
       "                       [ 1.5842e+00,  3.9824e+00,  2.3225e-01,  ...,  4.4780e+00,\n",
       "                         1.2754e+00, -2.5884e+00],\n",
       "                       ...,\n",
       "                       [ 1.0714e+00,  2.1261e+00, -3.0624e+00,  ...,  2.0504e+00,\n",
       "                        -1.8828e+00, -6.5881e+00],\n",
       "                       [ 1.3132e+00, -4.5495e+00, -3.8214e+00,  ...,  4.1500e-01,\n",
       "                        -3.2984e+00, -6.6760e+00],\n",
       "                       [-7.9066e+00,  2.8193e+00, -1.4052e+00,  ...,  2.8874e+00,\n",
       "                        -2.6218e+00, -2.2588e-01]])),\n",
       "              ('item_embedding.weight',\n",
       "               tensor([[ 4.5894e-03,  6.6486e-03,  1.1368e-02,  ..., -7.9151e-04,\n",
       "                        -1.3391e-03, -7.0706e-03],\n",
       "                       [-6.3258e+00, -1.8190e+00,  1.4380e+00,  ..., -6.7278e+00,\n",
       "                         4.6484e+00, -1.5387e-01],\n",
       "                       [-3.0692e+00,  5.8305e-01,  3.2888e-01,  ..., -3.9052e+00,\n",
       "                         3.8660e+00, -3.6868e+00],\n",
       "                       ...,\n",
       "                       [-7.0410e-03,  2.8651e-03, -8.9180e-03,  ...,  1.2173e-02,\n",
       "                         3.3058e-03, -9.0744e-03],\n",
       "                       [ 4.1118e-03, -1.3361e-02,  1.3824e-02,  ..., -1.2260e-02,\n",
       "                        -3.5634e-03, -1.9288e-02],\n",
       "                       [ 2.9746e-01, -5.0477e-01, -4.7208e-01,  ...,  6.6539e-01,\n",
       "                        -2.5963e-01, -1.6034e-01]])),\n",
       "              ('mlp_layers.0.weight',\n",
       "               tensor([[ 0.5009,  2.4390,  1.0638, -2.6775, -3.1678, -1.7734, -1.7910, -0.9313,\n",
       "                         2.4280,  0.1085,  1.1161, -1.7501, -1.9664, -2.2332,  4.8404, -0.9041],\n",
       "                       [-1.4863,  1.1215,  3.5614,  1.8376, -2.1194,  0.1203,  0.5458, -2.9609,\n",
       "                         1.0509, -2.8146, -2.1851,  1.0916,  3.7613, -0.7668, -0.6219, -0.4316],\n",
       "                       [ 3.0885, -2.6113,  1.7145, -0.9791,  0.2390,  0.7850, -1.7430, -2.2523,\n",
       "                        -1.4182, -2.5655, -0.5620, -2.3086, -1.6942,  1.2797,  3.5385, -0.5015],\n",
       "                       [-0.3655,  0.3182,  1.5745, -1.0064,  0.5668,  1.6214,  0.4372, -0.4688,\n",
       "                        -0.6768, -0.5807,  1.6275, -4.2150, -3.5690, -2.0785,  2.1353,  0.7405],\n",
       "                       [ 0.7752, -1.5754, -0.4553,  2.9010, -2.2207,  0.2518, -1.8964,  0.5244,\n",
       "                         0.8207, -3.9704,  1.9309,  1.4835, -1.3419,  4.4701,  1.4466,  3.5810],\n",
       "                       [-1.4643,  0.7789,  1.6429, -0.0138, -0.1146, -0.8852, -0.3249,  0.4381,\n",
       "                        -2.2380, -2.2703, -2.1554, -0.3609,  5.8861, -1.3958,  5.2886,  0.9820],\n",
       "                       [-1.2561, -2.5021, -0.3705, -1.1308,  2.1054, -3.8887,  2.4628, -2.6377,\n",
       "                        -0.1945, -3.0166,  0.4863, -0.4764,  1.3277, -2.2859,  1.1812,  2.3776],\n",
       "                       [-0.4863, -0.3171,  0.1970,  2.5664,  2.4770,  2.5758, -1.0382,  2.1828,\n",
       "                         1.4766, -3.4192,  0.8002, -1.4293,  4.1594, -1.0670, -2.6718,  0.9612],\n",
       "                       [ 0.7017, -1.3603,  0.4957,  0.1870,  1.6035, -2.5535, -0.6405, -0.8819,\n",
       "                        -4.0125,  1.0395, -3.2515,  0.6994, -2.6436,  1.3492,  1.5844, -0.1724],\n",
       "                       [-0.2684, -0.1314,  1.5786,  2.0007,  0.1264, -2.0211, -0.8789, -3.1511,\n",
       "                         3.3464,  1.0270, -1.0117,  2.5305,  0.1815, -1.4343,  4.6478,  0.6270],\n",
       "                       [-3.0984,  1.1276,  2.9984, -3.9198,  2.4232,  1.7783,  0.2482,  0.6141,\n",
       "                         0.4073,  0.3195, -2.7032, -0.9637, -0.6679, -0.1758,  0.7075,  2.0414],\n",
       "                       [-2.1263,  0.9959, -2.4690,  1.7087,  1.0778,  1.1388, -3.0258, -2.1880,\n",
       "                        -0.1997, -0.2387,  1.0804,  1.4427, -1.2125,  5.4533,  3.7770,  0.1137],\n",
       "                       [ 1.5737,  3.1986,  1.0510,  1.1506,  2.4720,  0.4344,  1.3784,  0.1763,\n",
       "                         1.3871, -1.8528, -1.6412,  1.5804, -1.7887,  1.5420, -1.4914,  0.7725],\n",
       "                       [-1.3336, -1.4598,  1.6435, -3.9291,  1.6449,  0.7571, -0.1144, -1.0907,\n",
       "                         0.1727, -3.2632, -4.0219,  0.5781, -4.0458, -0.2496,  0.4587, -2.7830],\n",
       "                       [-1.3051, -2.3165, -1.7070, -1.3502,  0.0953,  4.8650,  1.6215,  2.0302,\n",
       "                        -4.3947,  2.0466, -1.4043,  0.8727, -0.1925,  0.2816,  2.5307,  0.8994],\n",
       "                       [-0.9500,  2.3251, -0.0104, -1.3703, -0.0551,  0.8362, -0.7819, -2.4135,\n",
       "                        -3.0776, -1.5697,  3.3759,  1.4024, -0.9333, -2.2656,  1.6671,  0.3491]])),\n",
       "              ('mlp_layers.0.bias',\n",
       "               tensor([ -4.9504,  -1.7166,  -2.9476, -11.3195,  -3.0266,   1.4728,   1.9825,\n",
       "                        -1.5889,  -7.0130,   3.0596,   2.8174,  -7.0834,  -7.7764,  -4.1939,\n",
       "                        -2.0931,   4.1605])),\n",
       "              ('mlp_layers.2.weight',\n",
       "               tensor([[ 1.8890, -1.5900, -0.1759, -2.8978, -0.8086, -0.5904,  0.0801, -0.7836,\n",
       "                        -0.3270, -0.5508, -0.1474, -1.0064,  2.0944, -1.2431,  0.9008, -2.0514],\n",
       "                       [-0.0483,  0.0578, -1.0499, -0.0100, -0.9420,  0.4127, -2.8171, -2.5061,\n",
       "                        -1.6592,  0.0710, -0.6138,  3.0377,  0.9819,  0.4713,  0.9069, -1.4436],\n",
       "                       [-3.9080,  0.8339,  0.8059, -0.8077, -1.4240, -0.8092,  0.3059, -2.8954,\n",
       "                        -0.1464,  0.8141, -3.3280,  0.2502, -0.8374, -1.1413, -0.6166, -0.2775],\n",
       "                       [ 1.3828,  0.0235,  0.9932, -4.2132, -3.2333, -3.1609,  0.9212, -1.2544,\n",
       "                        -1.8748, -0.0708,  0.8321,  1.7425,  1.6322, -1.5440,  1.5357,  0.1237],\n",
       "                       [-3.6084, -1.5471, -1.5420,  1.2380,  0.5455,  1.5564,  0.8446,  0.2412,\n",
       "                        -2.1565,  1.6356, -1.8810, -1.0355, -1.5676,  2.2657,  0.1977, -2.3749],\n",
       "                       [-0.2760, -1.4669, -1.0359,  1.6572,  2.0606,  1.6884, -1.0251,  1.0249,\n",
       "                         1.5795,  1.8846, -1.3892, -1.2403, -0.2523,  1.6992,  0.1798,  2.3724],\n",
       "                       [-1.0074, -0.4228, -0.7748,  1.1248, -0.7471,  0.0895,  0.3444,  0.0396,\n",
       "                         2.7092, -0.1294, -0.1944, -2.9175, -0.0629, -1.0422, -2.5775, -2.8556],\n",
       "                       [-2.3858, -1.2005,  2.1751,  0.3604,  1.5630,  0.7486, -2.2736,  0.2317,\n",
       "                         0.1199,  0.4107, -1.4924, -7.6879, -1.1782,  0.3290, -3.1567,  0.3125]])),\n",
       "              ('mlp_layers.2.bias',\n",
       "               tensor([ -6.6205, -10.2758,  -7.4321,  -2.0211,  -5.3548,  -6.6905, -14.2493,\n",
       "                         0.8942])),\n",
       "              ('mlp_layers.4.weight',\n",
       "               tensor([[-0.5471, -0.7743,  0.2261,  0.6193, -1.1717, -0.7498,  0.6406, -1.2787],\n",
       "                       [ 0.2324, -0.2216,  0.7457,  0.2644,  0.6225,  0.1199, -0.6172,  0.6666],\n",
       "                       [-0.5189, -0.5574, -0.1144, -0.5805, -0.6483, -0.1250, -0.6765, -0.4971],\n",
       "                       [-0.0424, -0.7814, -0.8364, -0.3373, -0.1504, -0.2106, -0.5771, -0.5633]])),\n",
       "              ('mlp_layers.4.bias',\n",
       "               tensor([-1.8444, -0.0096, -0.9926, -0.3345])),\n",
       "              ('output_layer.weight',\n",
       "               tensor([[-0.2947,  0.0957,  0.1181, -0.0919]])),\n",
       "              ('output_layer.bias', tensor([-0.9442]))]),\n",
       " 'model_hyperparams': {'num_users': 6041,\n",
       "  'num_items': 193610,\n",
       "  'embedding_size': 8,\n",
       "  'layer_dims': [16, 8, 4],\n",
       "  'use_NeuMF': False}}"
      ]
     },
     "execution_count": 19,
     "metadata": {},
     "output_type": "execute_result"
    }
   ],
   "source": [
    "deployment_checkpoint"
   ]
  },
  {
   "cell_type": "code",
   "execution_count": 20,
   "id": "ba71e112-6bb3-4f9e-b06f-dde31cc9e670",
   "metadata": {},
   "outputs": [],
   "source": [
    "torch.save(deployment_checkpoint, './ncf_models/deployment_model_M6.pth')"
   ]
  },
  {
   "cell_type": "code",
   "execution_count": null,
   "id": "f27f7009-4c95-46ef-9be6-79074c13a47d",
   "metadata": {},
   "outputs": [],
   "source": []
  }
 ],
 "metadata": {
  "kernelspec": {
   "display_name": "fyp",
   "language": "python",
   "name": "fyp"
  },
  "language_info": {
   "codemirror_mode": {
    "name": "ipython",
    "version": 3
   },
   "file_extension": ".py",
   "mimetype": "text/x-python",
   "name": "python",
   "nbconvert_exporter": "python",
   "pygments_lexer": "ipython3",
   "version": "3.12.9"
  }
 },
 "nbformat": 4,
 "nbformat_minor": 5
}
