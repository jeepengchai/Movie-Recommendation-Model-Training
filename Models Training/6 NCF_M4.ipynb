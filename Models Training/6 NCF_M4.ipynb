{
 "cells": [
  {
   "cell_type": "markdown",
   "id": "ff036bd3-c45c-408f-abf2-c3f249631ca1",
   "metadata": {},
   "source": [
    "<h1>The Multi-layered Perceptron Neural Collaborative Filtering (MLP-NCF) proposed model training</h1>"
   ]
  },
  {
   "cell_type": "markdown",
   "id": "bf063ae7-c06a-40be-981d-5e7672bcccbe",
   "metadata": {},
   "source": [
    "<h2>Import necessary python library for model training</h2>"
   ]
  },
  {
   "cell_type": "code",
   "execution_count": 1,
   "id": "68c77e3d-492a-47c1-8b58-13816d13f296",
   "metadata": {},
   "outputs": [],
   "source": [
    "import zipfile\n",
    "from zipfile import ZipFile\n",
    "from torch.utils.data import Dataset, DataLoader\n",
    "import torch\n",
    "import torch.optim as optim\n",
    "import torch.nn as nn\n",
    "import os\n",
    "import pandas as pd\n",
    "import numpy as np\n",
    "import requests\n",
    "import sklearn\n",
    "from sklearn.model_selection import train_test_split\n",
    "from tqdm import tqdm\n",
    "import random\n",
    "import time\n",
    "import argparse\n",
    "import matplotlib.pyplot as plt"
   ]
  },
  {
   "cell_type": "markdown",
   "id": "a6a16cfb-aa07-47fc-b4e6-22df432ab5b2",
   "metadata": {},
   "source": [
    "<h2>The data preparation for training class</h2>"
   ]
  },
  {
   "cell_type": "code",
   "execution_count": 2,
   "id": "52f0c6ad-8c14-4d2e-89f8-24d7034d5a65",
   "metadata": {},
   "outputs": [],
   "source": [
    "class MovieLens(Dataset):\n",
    "    def __init__(self, df: pd.DataFrame, total_df: pd.DataFrame, ng_ratio:int)->None:\n",
    "        '''\n",
    "        : param df: training dataframe\n",
    "        : param total_df: the entire dataframe\n",
    "        : param ng_ratio: negative sampling ratio\n",
    "        '''\n",
    "        super(MovieLens, self).__init__()\n",
    "\n",
    "        self.df = df\n",
    "        self.total_df = total_df\n",
    "        self.ng_ratio = ng_ratio\n",
    "        self.users, self.items, self.labels = self._negative_sampling()\n",
    "\n",
    "    def __len__(self) -> int:\n",
    "        '''\n",
    "        get length of data\n",
    "        : return: len(data)\n",
    "        '''\n",
    "        return len(self.users)\n",
    "\n",
    "    def __getitem__(self, index):\n",
    "        '''\n",
    "        transform userId[index], item[index] to Tensor and return to Datalaoder object.\n",
    "        : param index: index for dataset.\n",
    "        : return: user, item, rating\n",
    "        '''\n",
    "        return self.users[index], self.items[index], self.labels[index]\n",
    "\n",
    "    def _negative_sampling(self) :\n",
    "        '''\n",
    "        sampling one positive feedback per #(ng ratio) negative feedback\n",
    "        : return: list of users, list of items, list of targets\n",
    "        '''\n",
    "        df = self.df\n",
    "        total_df = self.total_df\n",
    "        users, items, labels = [], [], []\n",
    "        user_item_set = set(zip(df['userId'], df['movieId']))\n",
    "        total_user_item_set = set(zip(total_df['userId'],total_df['movieId']))\n",
    "        all_movieIds = total_df['movieId'].unique()\n",
    "        \n",
    "        # negative feedback dataset ratio\n",
    "        negative_ratio = self.ng_ratio\n",
    "        for u, i in user_item_set:\n",
    "            # positive instance\n",
    "            users.append(u)\n",
    "            items.append(i)\n",
    "            labels.append(1.0)\n",
    "\n",
    "            #visited check\n",
    "            visited=[]\n",
    "            visited.append(i)\n",
    "            \n",
    "            # negative instance\n",
    "            for i in range(negative_ratio):\n",
    "                # first item random choice\n",
    "                negative_item = np.random.choice(all_movieIds)\n",
    " \n",
    "                # check if item and user has interaction, if true then set new value from random\n",
    "                while (u, negative_item) in total_user_item_set or negative_item in visited :\n",
    "                    negative_item = np.random.choice(all_movieIds)\n",
    "                users.append(u)\n",
    "                items.append(negative_item)\n",
    "                visited.append(negative_item)\n",
    "                labels.append(0.0)\n",
    "        print(f\"negative sampled data: {len(labels)}\")\n",
    "        return torch.tensor(users), torch.tensor(items), torch.tensor(labels)"
   ]
  },
  {
   "cell_type": "markdown",
   "id": "287da1b7-2a16-4a18-8a34-0778b6ebd1b0",
   "metadata": {},
   "source": [
    "<h2>The Multi-layered perceptron neural collaborative filtering (NCF) model</h2>"
   ]
  },
  {
   "cell_type": "code",
   "execution_count": 3,
   "id": "a3f36af9-0e70-4aeb-ba42-793cd6982291",
   "metadata": {},
   "outputs": [],
   "source": [
    "class MLP(nn.Module):\n",
    "    def __init__(self, num_users, num_items, embedding_size, layer_dims, use_NeuMF=False):\n",
    "        super(MLP, self).__init__()\n",
    "        self.user_embedding = nn.Embedding(num_users, embedding_size)\n",
    "        self.item_embedding = nn.Embedding(num_items, embedding_size)\n",
    "        \n",
    "        # Calculate input dimension for first layer\n",
    "        first_layer_input = embedding_size * 2  # Concatenated user and item embeddings\n",
    "        \n",
    "        # Build MLP layers dynamically\n",
    "        layers = []\n",
    "        input_dim = first_layer_input\n",
    "        for output_dim in layer_dims:\n",
    "            layers.append(nn.Linear(input_dim, output_dim))\n",
    "            layers.append(nn.ReLU())\n",
    "            input_dim = output_dim\n",
    "        \n",
    "        self.mlp_layers = nn.Sequential(*layers)\n",
    "        self.output_layer = nn.Linear(layer_dims[-1], 1)\n",
    "        self.sigmoid = nn.Sigmoid()\n",
    "        self._init_weights()\n",
    "\n",
    "    def _init_weights(self):\n",
    "        nn.init.normal_(self.user_embedding.weight, std=0.01)\n",
    "        nn.init.normal_(self.item_embedding.weight, std=0.01)\n",
    "        for layer in self.mlp_layers:\n",
    "            if isinstance(layer, nn.Linear):\n",
    "                nn.init.xavier_uniform_(layer.weight)\n",
    "        nn.init.xavier_uniform_(self.output_layer.weight)\n",
    "\n",
    "    def forward(self, user, item):\n",
    "        user_emb = self.user_embedding(user)\n",
    "        item_emb = self.item_embedding(item)\n",
    "        x = torch.cat([user_emb, item_emb], dim=-1)\n",
    "        x = self.mlp_layers(x)\n",
    "        x = self.output_layer(x)\n",
    "        return self.sigmoid(x).view(-1)"
   ]
  },
  {
   "cell_type": "markdown",
   "id": "2712e0b1-22fa-4ba0-8b45-6169a7e8a140",
   "metadata": {},
   "source": [
    "<h2>Evaluation Metrics</h2>"
   ]
  },
  {
   "cell_type": "code",
   "execution_count": 4,
   "id": "eecc2030-6639-4051-a9f8-bea2bc2867cd",
   "metadata": {},
   "outputs": [],
   "source": [
    "def hit(gt_item, pred_items):\n",
    "\tif gt_item in pred_items:\n",
    "\t\treturn 1\n",
    "\treturn 0\n",
    "\n",
    "def ndcg(gt_item, pred_items):\n",
    "\tif gt_item in pred_items:\n",
    "\t\tindex = pred_items.index(gt_item)\n",
    "\t\treturn np.reciprocal(np.log2(index+2))\n",
    "\treturn 0\n",
    "\n",
    "def metrics(model, data_loader, top_k, device):\n",
    "\tHR, NDCG = [], []\n",
    "\n",
    "\tfor user, item, label in data_loader:\n",
    "\n",
    "\t\tuser = user.to(device)\n",
    "\t\titem = item.to(device)\n",
    "\n",
    "\t\tpredictions = model(user, item)\n",
    "\t\t_, indices = torch.topk(predictions, top_k)\n",
    "\n",
    "\t\trecommends = torch.take(\n",
    "\t\t\t\titem, indices).cpu().numpy().tolist()\n",
    "\n",
    "\t\tgt_item = item[0].item()\n",
    "\t\tHR.append(hit(gt_item, recommends))\n",
    "\t\tNDCG.append(ndcg(gt_item, recommends))\n",
    "\n",
    "\treturn np.mean(HR), np.mean(NDCG)"
   ]
  },
  {
   "cell_type": "markdown",
   "id": "7a7df4e9-9aa2-4e56-93c4-a9ec0c1eed62",
   "metadata": {},
   "source": [
    "<h2>Model training class</h2>"
   ]
  },
  {
   "cell_type": "code",
   "execution_count": 5,
   "id": "303026e1-da28-4687-a2f0-1298a132da4d",
   "metadata": {},
   "outputs": [],
   "source": [
    "class Train():\n",
    "    def __init__(self, model: torch.nn.Module,\n",
    "                 optimizer: torch.optim,\n",
    "                 epochs: int,\n",
    "                 dataloader: torch.utils.data.dataloader,\n",
    "                 criterion: torch.nn,\n",
    "                 test_obj: torch.utils.data.dataloader,\n",
    "                 device: str = 'cuda',\n",
    "                 print_cost: bool = True,\n",
    "                 top_k: int = 10):\n",
    "        self.model = model\n",
    "        self.optimizer = optimizer\n",
    "        self.epochs = epochs\n",
    "        self.dataloader = dataloader\n",
    "        self.criterion = criterion\n",
    "        self.device = device\n",
    "        self.print_cost = print_cost\n",
    "        self.test = test_obj\n",
    "        self.top_k = top_k\n",
    "\n",
    "    def train(self):\n",
    "        model = self.model\n",
    "        optimizer = self.optimizer\n",
    "        total_epochs = self.epochs\n",
    "        dataloader = self.dataloader\n",
    "        criterion = self.criterion\n",
    "        total_batch = len(dataloader)\n",
    "        loss = []\n",
    "        device = self.device\n",
    "        test_dataloader = self.test\n",
    "\n",
    "        hr_list = []\n",
    "        ndcg_list = []\n",
    "        test_loss_list = []\n",
    "\n",
    "        for epoch in range(0, total_epochs):\n",
    "            epoch_loss = 0\n",
    "            with tqdm(total=len(dataloader), desc=f'Epoch {epoch + 1}/{total_epochs}', unit='batch') as pbar:\n",
    "                for user, item, target in dataloader:\n",
    "                    user, item, target = user.to(device), item.to(device), target.float().to(device)\n",
    "                    optimizer.zero_grad()\n",
    "                    pred = model(user, item)\n",
    "                    cost = criterion(pred, target)\n",
    "                    cost.backward()\n",
    "                    optimizer.step()\n",
    "                    epoch_loss += cost.item()\n",
    "                    pbar.update(1)\n",
    "                    pbar.set_postfix({'loss': cost.item()})\n",
    "\n",
    "            avg_epoch_loss = epoch_loss / total_batch\n",
    "            loss.append(avg_epoch_loss)\n",
    "\n",
    "            if self.print_cost:\n",
    "                HR, NDCG = metrics(model, self.test, self.top_k, device)\n",
    "\n",
    "                model.eval()\n",
    "                test_loss = 0\n",
    "                with torch.no_grad():\n",
    "                    for user, item, target in test_dataloader:\n",
    "                        user, item, target = user.to(device), item.to(device), target.float().to(device)\n",
    "                        pred = model(user, item)\n",
    "                        cost = criterion(pred, target)\n",
    "                        test_loss += cost.item()\n",
    "                avg_test_loss = test_loss / len(test_dataloader)\n",
    "                model.train()\n",
    "\n",
    "                print(\n",
    "                    \"Epochs: {}\\tAvg Train Loss: {:.4f}\\tAvg Test Loss: {:.4f}\\tHR: {:.3f}\\tNDCG: {:.3f}\".format(\n",
    "                        epoch+1, avg_epoch_loss, avg_test_loss, np.mean(HR), np.mean(NDCG)))\n",
    "\n",
    "                hr_list.append(np.mean(HR))\n",
    "                ndcg_list.append(np.mean(NDCG))\n",
    "                test_loss_list.append(avg_test_loss)\n",
    "\n",
    "        if self.print_cost:\n",
    "            print('Learning finished')\n",
    "        return loss, test_loss_list, hr_list, ndcg_list"
   ]
  },
  {
   "cell_type": "code",
   "execution_count": 6,
   "id": "34f20d01-2ab8-4b6e-8d22-29a1fb148ff5",
   "metadata": {},
   "outputs": [],
   "source": [
    "def plot_comparison_metrics(train_loss_1, test_loss_list_1, hr_list_1, ndcg_list_1,\n",
    "                           train_loss_4, test_loss_list_4, hr_list_4, ndcg_list_4, top_k):\n",
    "    epochs = np.arange(1, len(train_loss_1) + 1)\n",
    "\n",
    "    output_dir = './Training Results/'\n",
    "    os.makedirs(output_dir, exist_ok=True)\n",
    "\n",
    "    # Create a single figure with 4 subplots\n",
    "    plt.figure(figsize=(16, 12))\n",
    "    \n",
    "    # Plot Training Loss\n",
    "    plt.subplot(2, 2, 1)\n",
    "    plt.plot(epochs, train_loss_1, label='Dataset 1', marker='o')\n",
    "    plt.plot(epochs, train_loss_4, label='Dataset 2', marker='x')\n",
    "    plt.title('Training Loss Comparison')\n",
    "    plt.xlabel('Epoch')\n",
    "    plt.ylabel('Loss')\n",
    "    plt.legend()\n",
    "    plt.grid(True, linestyle='--', alpha=0.6)\n",
    "\n",
    "    # Plot Test Loss\n",
    "    plt.subplot(2, 2, 2)\n",
    "    plt.plot(epochs, test_loss_list_1, label='Dataset 1', marker='o')\n",
    "    plt.plot(epochs, test_loss_list_4, label='Dataset 2', marker='x')\n",
    "    plt.title('Test Loss Comparison')\n",
    "    plt.xlabel('Epoch')\n",
    "    plt.ylabel('Loss')\n",
    "    plt.legend()\n",
    "    plt.grid(True, linestyle='--', alpha=0.6)\n",
    "\n",
    "    # Plot HR@10\n",
    "    plt.subplot(2, 2, 3)\n",
    "    plt.plot(epochs, hr_list_1, label='Dataset 1', marker='o')\n",
    "    plt.plot(epochs, hr_list_4, label='Dataset 2', marker='x')\n",
    "    plt.title(f'Hit Ratio @ {top_k} Comparison')\n",
    "    plt.xlabel('Epoch')\n",
    "    plt.ylabel('Score')\n",
    "    plt.legend()\n",
    "    plt.grid(True, linestyle='--', alpha=0.6)\n",
    "\n",
    "    # Plot NDCG@10\n",
    "    plt.subplot(2, 2, 4)\n",
    "    plt.plot(epochs, ndcg_list_1, label='Dataset 1', marker='o')\n",
    "    plt.plot(epochs, ndcg_list_4, label='Dataset 2', marker='x')\n",
    "    plt.title(f'NDCG @ {top_k} Comparison')\n",
    "    plt.xlabel('Epoch')\n",
    "    plt.ylabel('Score')\n",
    "    plt.legend()\n",
    "    plt.grid(True, linestyle='--', alpha=0.6)\n",
    "\n",
    "    # Add main title and adjust layout\n",
    "    plt.suptitle('Model 4 Performance Comparison on Dataset 1 and Dataset 2', fontsize=16, y=1.02)\n",
    "    plt.tight_layout()\n",
    "    \n",
    "    # Save the entire figure\n",
    "    plt.savefig(os.path.join(output_dir, f'ncf_performance_comparison_top_{top_k}_D1D2_M4.png'), \n",
    "                bbox_inches='tight', dpi=300)\n",
    "    plt.show()"
   ]
  },
  {
   "cell_type": "markdown",
   "id": "6083b1be-25d1-4f20-889f-fc72367ed259",
   "metadata": {},
   "source": [
    "<h2>Putting everything together</h2>"
   ]
  },
  {
   "cell_type": "code",
   "execution_count": 18,
   "id": "89f07a97-a3f5-47ab-a7a9-dd3727c46742",
   "metadata": {},
   "outputs": [
    {
     "name": "stdout",
     "output_type": "stream",
     "text": [
      "device: cpu\n",
      "negative sampled data: 400684\n",
      "negative sampled data: 61000\n",
      "negative sampled data: 3976676\n",
      "negative sampled data: 604000\n",
      "data loaded!\n",
      "Training time: 114.39969\n"
     ]
    }
   ],
   "source": [
    "import pandas as pd\n",
    "import torch\n",
    "import argparse\n",
    "from torch.utils.data import DataLoader\n",
    "import torch.optim as optim\n",
    "import matplotlib.pyplot as plt\n",
    "import os\n",
    "import numpy as np\n",
    "import time\n",
    "\n",
    "start_time = time.time()  # Record start time\n",
    "\n",
    "# check device\n",
    "device = torch.device('cuda' if torch.cuda.is_available() else 'cpu')\n",
    "print(f'device: {device}')\n",
    "\n",
    "# print GPU information\n",
    "if torch.cuda.is_available():\n",
    "    print('Current cuda device:', torch.cuda.current_device())\n",
    "    print('Count of using GPUs:', torch.cuda.device_count())\n",
    "\n",
    "# directory to save checkpoints\n",
    "pretrain_dir = 'ncf_models'\n",
    "if not os.path.isdir(pretrain_dir):\n",
    "    os.makedirs(pretrain_dir)\n",
    "\n",
    "# the train, test and total dataset\n",
    "train_df_1 = pd.read_csv(\"./Datasets/train_D1.csv\")\n",
    "test_df_1 = pd.read_csv(\"./Datasets/test_D1.csv\")\n",
    "total_df_1 = pd.read_csv(\"./Datasets/ratings_preprocessed_D1.csv\")\n",
    "\n",
    "train_df_4 = pd.read_csv(\"./Datasets/train_D2.csv\")\n",
    "test_df_4 = pd.read_csv(\"./Datasets/test_D2.csv\")\n",
    "total_df_4 = pd.read_csv(\"./Datasets/ratings_preprocessed_D2.csv\")\n",
    "\n",
    "# make torch.utils.data.Data object\n",
    "train_set_1 = MovieLens(df=train_df_1, total_df=total_df_1, ng_ratio=3)\n",
    "test_set_1 = MovieLens(df=test_df_1, total_df=total_df_1, ng_ratio=99)\n",
    "\n",
    "train_set_4 = MovieLens(df=train_df_4, total_df=total_df_4, ng_ratio=3)\n",
    "test_set_4 = MovieLens(df=test_df_4, total_df=total_df_4, ng_ratio=99)\n",
    "\n",
    "# Find Global Maximums\n",
    "max_num_users_global = max(total_df_1['userId'].max(), total_df_4['userId'].max()) + 1  #, total_df_2['userId'].max()\n",
    "max_num_items_global = max(total_df_1['movieId'].max(), total_df_4['movieId'].max()) + 1  #, total_df_2['movieId'].max()\n",
    "\n",
    "print('data loaded!')\n",
    "\n",
    "# dataloader for train_dataset\n",
    "dataloader_train_1 = DataLoader(dataset=train_set_1, batch_size=256, shuffle=True, num_workers=0)\n",
    "\n",
    "# dataloader for test_dataset\n",
    "dataloader_test_1 = DataLoader(dataset=test_set_1, batch_size=100, shuffle=False, num_workers=0, drop_last=True)\n",
    "\n",
    "# dataloader for train_dataset\n",
    "dataloader_train_4 = DataLoader(dataset=train_set_4, batch_size=256, shuffle=True, num_workers=0)\n",
    "\n",
    "# dataloader for test_dataset\n",
    "dataloader_test_4 = DataLoader(dataset=test_set_4, batch_size=100, shuffle=False, num_workers=0, drop_last=True)\n",
    "\n",
    "model = MLP(num_users=max_num_users_global, num_items=max_num_items_global, embedding_size=16, layer_dims=[32,16,8], use_NeuMF=False) #emb size, layer\n",
    "\n",
    "# Initialize optimizer and loss function\n",
    "optimizer = torch.optim.Adam(model.parameters(), lr=0.01) #learning rate\n",
    "\n",
    "# objective function is log loss (Cross-entropy loss)\n",
    "criterion = torch.nn.BCELoss()\n",
    "\n",
    "model.to(device)\n",
    "save_model = True\n",
    "\n",
    "end_time = time.time()    # Record end time\n",
    "training_time = end_time - start_time  # Calculate training time\n",
    "print(f\"Training time: {training_time:.5f}\")  # Print the training time"
   ]
  },
  {
   "cell_type": "markdown",
   "id": "dac87c73-10a0-41e1-9610-54a0011e66dd",
   "metadata": {},
   "source": [
    "<h2>Dataset 1 Model Training</h2>"
   ]
  },
  {
   "cell_type": "code",
   "execution_count": 20,
   "id": "553c25a2-b7f6-4987-8838-b93b7b2c5fa4",
   "metadata": {},
   "outputs": [
    {
     "name": "stderr",
     "output_type": "stream",
     "text": [
      "Epoch 1/15: 100%|███████████████████████████████████████████████████| 1566/1566 [00:55<00:00, 28.33batch/s, loss=0.438]\n"
     ]
    },
    {
     "name": "stdout",
     "output_type": "stream",
     "text": [
      "Epochs: 1\tAvg Train Loss: 0.4097\tAvg Test Loss: 0.2561\tHR: 0.598\tNDCG: 0.330\n"
     ]
    },
    {
     "name": "stderr",
     "output_type": "stream",
     "text": [
      "Epoch 2/15: 100%|███████████████████████████████████████████████████| 1566/1566 [00:54<00:00, 28.83batch/s, loss=0.209]\n"
     ]
    },
    {
     "name": "stdout",
     "output_type": "stream",
     "text": [
      "Epochs: 2\tAvg Train Loss: 0.3408\tAvg Test Loss: 0.2029\tHR: 0.615\tNDCG: 0.352\n"
     ]
    },
    {
     "name": "stderr",
     "output_type": "stream",
     "text": [
      "Epoch 3/15: 100%|███████████████████████████████████████████████████| 1566/1566 [00:55<00:00, 28.25batch/s, loss=0.164]\n"
     ]
    },
    {
     "name": "stdout",
     "output_type": "stream",
     "text": [
      "Epochs: 3\tAvg Train Loss: 0.3094\tAvg Test Loss: 0.1962\tHR: 0.626\tNDCG: 0.358\n"
     ]
    },
    {
     "name": "stderr",
     "output_type": "stream",
     "text": [
      "Epoch 4/15: 100%|███████████████████████████████████████████████████| 1566/1566 [00:55<00:00, 28.31batch/s, loss=0.229]\n"
     ]
    },
    {
     "name": "stdout",
     "output_type": "stream",
     "text": [
      "Epochs: 4\tAvg Train Loss: 0.2845\tAvg Test Loss: 0.1971\tHR: 0.621\tNDCG: 0.361\n"
     ]
    },
    {
     "name": "stderr",
     "output_type": "stream",
     "text": [
      "Epoch 5/15: 100%|███████████████████████████████████████████████████| 1566/1566 [00:54<00:00, 28.94batch/s, loss=0.233]\n"
     ]
    },
    {
     "name": "stdout",
     "output_type": "stream",
     "text": [
      "Epochs: 5\tAvg Train Loss: 0.2671\tAvg Test Loss: 0.2060\tHR: 0.628\tNDCG: 0.371\n"
     ]
    },
    {
     "name": "stderr",
     "output_type": "stream",
     "text": [
      "Epoch 6/15: 100%|███████████████████████████████████████████████████| 1566/1566 [00:53<00:00, 29.17batch/s, loss=0.205]\n"
     ]
    },
    {
     "name": "stdout",
     "output_type": "stream",
     "text": [
      "Epochs: 6\tAvg Train Loss: 0.2530\tAvg Test Loss: 0.2128\tHR: 0.651\tNDCG: 0.379\n"
     ]
    },
    {
     "name": "stderr",
     "output_type": "stream",
     "text": [
      "Epoch 7/15: 100%|███████████████████████████████████████████████████| 1566/1566 [00:54<00:00, 28.65batch/s, loss=0.356]\n"
     ]
    },
    {
     "name": "stdout",
     "output_type": "stream",
     "text": [
      "Epochs: 7\tAvg Train Loss: 0.2426\tAvg Test Loss: 0.2272\tHR: 0.638\tNDCG: 0.377\n"
     ]
    },
    {
     "name": "stderr",
     "output_type": "stream",
     "text": [
      "Epoch 8/15: 100%|███████████████████████████████████████████████████| 1566/1566 [00:55<00:00, 28.42batch/s, loss=0.198]\n"
     ]
    },
    {
     "name": "stdout",
     "output_type": "stream",
     "text": [
      "Epochs: 8\tAvg Train Loss: 0.2335\tAvg Test Loss: 0.2092\tHR: 0.616\tNDCG: 0.374\n"
     ]
    },
    {
     "name": "stderr",
     "output_type": "stream",
     "text": [
      "Epoch 9/15: 100%|███████████████████████████████████████████████████| 1566/1566 [00:53<00:00, 29.41batch/s, loss=0.346]\n"
     ]
    },
    {
     "name": "stdout",
     "output_type": "stream",
     "text": [
      "Epochs: 9\tAvg Train Loss: 0.2270\tAvg Test Loss: 0.2075\tHR: 0.631\tNDCG: 0.381\n"
     ]
    },
    {
     "name": "stderr",
     "output_type": "stream",
     "text": [
      "Epoch 10/15: 100%|██████████████████████████████████████████████████| 1566/1566 [00:55<00:00, 28.22batch/s, loss=0.243]\n"
     ]
    },
    {
     "name": "stdout",
     "output_type": "stream",
     "text": [
      "Epochs: 10\tAvg Train Loss: 0.2203\tAvg Test Loss: 0.2031\tHR: 0.639\tNDCG: 0.381\n"
     ]
    },
    {
     "name": "stderr",
     "output_type": "stream",
     "text": [
      "Epoch 11/15: 100%|███████████████████████████████████████████████████| 1566/1566 [00:56<00:00, 27.48batch/s, loss=0.19]\n"
     ]
    },
    {
     "name": "stdout",
     "output_type": "stream",
     "text": [
      "Epochs: 11\tAvg Train Loss: 0.2154\tAvg Test Loss: 0.1912\tHR: 0.638\tNDCG: 0.382\n"
     ]
    },
    {
     "name": "stderr",
     "output_type": "stream",
     "text": [
      "Epoch 12/15: 100%|████████████████████████████████████████████████████| 1566/1566 [00:55<00:00, 28.15batch/s, loss=0.2]\n"
     ]
    },
    {
     "name": "stdout",
     "output_type": "stream",
     "text": [
      "Epochs: 12\tAvg Train Loss: 0.2104\tAvg Test Loss: 0.2401\tHR: 0.643\tNDCG: 0.382\n"
     ]
    },
    {
     "name": "stderr",
     "output_type": "stream",
     "text": [
      "Epoch 13/15: 100%|██████████████████████████████████████████████████| 1566/1566 [00:54<00:00, 28.76batch/s, loss=0.296]\n"
     ]
    },
    {
     "name": "stdout",
     "output_type": "stream",
     "text": [
      "Epochs: 13\tAvg Train Loss: 0.2065\tAvg Test Loss: 0.1713\tHR: 0.633\tNDCG: 0.375\n"
     ]
    },
    {
     "name": "stderr",
     "output_type": "stream",
     "text": [
      "Epoch 14/15: 100%|██████████████████████████████████████████████████| 1566/1566 [00:53<00:00, 29.06batch/s, loss=0.321]\n"
     ]
    },
    {
     "name": "stdout",
     "output_type": "stream",
     "text": [
      "Epochs: 14\tAvg Train Loss: 0.2030\tAvg Test Loss: 0.1945\tHR: 0.639\tNDCG: 0.377\n"
     ]
    },
    {
     "name": "stderr",
     "output_type": "stream",
     "text": [
      "Epoch 15/15: 100%|██████████████████████████████████████████████████| 1566/1566 [00:53<00:00, 29.45batch/s, loss=0.177]\n"
     ]
    },
    {
     "name": "stdout",
     "output_type": "stream",
     "text": [
      "Epochs: 15\tAvg Train Loss: 0.1996\tAvg Test Loss: 0.2140\tHR: 0.639\tNDCG: 0.380\n",
      "Learning finished\n",
      "Training time: 866.95729 seconds\n"
     ]
    }
   ],
   "source": [
    "# Initialize trainer with customizable top_k\n",
    "\n",
    "trainer_1 = Train(model=model,\n",
    "              optimizer=optimizer,\n",
    "              criterion=criterion,\n",
    "              epochs=15,\n",
    "              test_obj=dataloader_test_1,\n",
    "              dataloader=dataloader_train_1,\n",
    "              device=device,\n",
    "              print_cost=True,\n",
    "              top_k=10)\n",
    "    \n",
    "# measuring time\n",
    "start = time.time()\n",
    "loss_1, test_loss_list_1, hr_list_1, ndcg_list_1 = trainer_1.train()\n",
    "\n",
    "end = time.time()\n",
    "\n",
    "time_message = f'Training time: {end-start:.5f} seconds'\n",
    "print(time_message)"
   ]
  },
  {
   "cell_type": "markdown",
   "id": "b557102e-7265-409f-a667-3c28a6e97eea",
   "metadata": {},
   "source": [
    "<h2>Dataset 4 Model Training</h2>"
   ]
  },
  {
   "cell_type": "code",
   "execution_count": 19,
   "id": "f61a06d4-19d5-4e6f-9ef4-f5240dbf85ea",
   "metadata": {},
   "outputs": [
    {
     "name": "stderr",
     "output_type": "stream",
     "text": [
      "Epoch 1/15: 100%|█████████████████████████████████████████████████| 15534/15534 [09:44<00:00, 26.60batch/s, loss=0.371]\n"
     ]
    },
    {
     "name": "stdout",
     "output_type": "stream",
     "text": [
      "Epochs: 1\tAvg Train Loss: 0.3898\tAvg Test Loss: 0.2317\tHR: 0.500\tNDCG: 0.281\n"
     ]
    },
    {
     "name": "stderr",
     "output_type": "stream",
     "text": [
      "Epoch 2/15: 100%|█████████████████████████████████████████████████| 15534/15534 [09:46<00:00, 26.50batch/s, loss=0.326]\n"
     ]
    },
    {
     "name": "stdout",
     "output_type": "stream",
     "text": [
      "Epochs: 2\tAvg Train Loss: 0.3485\tAvg Test Loss: 0.2409\tHR: 0.565\tNDCG: 0.313\n"
     ]
    },
    {
     "name": "stderr",
     "output_type": "stream",
     "text": [
      "Epoch 3/15: 100%|█████████████████████████████████████████████████| 15534/15534 [09:39<00:00, 26.79batch/s, loss=0.303]\n"
     ]
    },
    {
     "name": "stdout",
     "output_type": "stream",
     "text": [
      "Epochs: 3\tAvg Train Loss: 0.3249\tAvg Test Loss: 0.1939\tHR: 0.590\tNDCG: 0.332\n"
     ]
    },
    {
     "name": "stderr",
     "output_type": "stream",
     "text": [
      "Epoch 4/15: 100%|█████████████████████████████████████████████████| 15534/15534 [09:49<00:00, 26.36batch/s, loss=0.308]\n"
     ]
    },
    {
     "name": "stdout",
     "output_type": "stream",
     "text": [
      "Epochs: 4\tAvg Train Loss: 0.3136\tAvg Test Loss: 0.2142\tHR: 0.598\tNDCG: 0.341\n"
     ]
    },
    {
     "name": "stderr",
     "output_type": "stream",
     "text": [
      "Epoch 5/15: 100%|█████████████████████████████████████████████████| 15534/15534 [09:35<00:00, 26.97batch/s, loss=0.341]\n"
     ]
    },
    {
     "name": "stdout",
     "output_type": "stream",
     "text": [
      "Epochs: 5\tAvg Train Loss: 0.3066\tAvg Test Loss: 0.1776\tHR: 0.617\tNDCG: 0.351\n"
     ]
    },
    {
     "name": "stderr",
     "output_type": "stream",
     "text": [
      "Epoch 6/15: 100%|█████████████████████████████████████████████████| 15534/15534 [09:28<00:00, 27.33batch/s, loss=0.263]\n"
     ]
    },
    {
     "name": "stdout",
     "output_type": "stream",
     "text": [
      "Epochs: 6\tAvg Train Loss: 0.3012\tAvg Test Loss: 0.1755\tHR: 0.617\tNDCG: 0.353\n"
     ]
    },
    {
     "name": "stderr",
     "output_type": "stream",
     "text": [
      "Epoch 7/15: 100%|█████████████████████████████████████████████████| 15534/15534 [09:24<00:00, 27.51batch/s, loss=0.333]\n"
     ]
    },
    {
     "name": "stdout",
     "output_type": "stream",
     "text": [
      "Epochs: 7\tAvg Train Loss: 0.2970\tAvg Test Loss: 0.2033\tHR: 0.617\tNDCG: 0.352\n"
     ]
    },
    {
     "name": "stderr",
     "output_type": "stream",
     "text": [
      "Epoch 8/15: 100%|█████████████████████████████████████████████████| 15534/15534 [09:30<00:00, 27.24batch/s, loss=0.346]\n"
     ]
    },
    {
     "name": "stdout",
     "output_type": "stream",
     "text": [
      "Epochs: 8\tAvg Train Loss: 0.2936\tAvg Test Loss: 0.2057\tHR: 0.629\tNDCG: 0.358\n"
     ]
    },
    {
     "name": "stderr",
     "output_type": "stream",
     "text": [
      "Epoch 9/15: 100%|█████████████████████████████████████████████████| 15534/15534 [09:28<00:00, 27.35batch/s, loss=0.272]\n"
     ]
    },
    {
     "name": "stdout",
     "output_type": "stream",
     "text": [
      "Epochs: 9\tAvg Train Loss: 0.2908\tAvg Test Loss: 0.1762\tHR: 0.627\tNDCG: 0.361\n"
     ]
    },
    {
     "name": "stderr",
     "output_type": "stream",
     "text": [
      "Epoch 10/15: 100%|█████████████████████████████████████████████████| 15534/15534 [09:28<00:00, 27.32batch/s, loss=0.26]\n"
     ]
    },
    {
     "name": "stdout",
     "output_type": "stream",
     "text": [
      "Epochs: 10\tAvg Train Loss: 0.2885\tAvg Test Loss: 0.1622\tHR: 0.628\tNDCG: 0.362\n"
     ]
    },
    {
     "name": "stderr",
     "output_type": "stream",
     "text": [
      "Epoch 11/15: 100%|████████████████████████████████████████████████| 15534/15534 [09:29<00:00, 27.29batch/s, loss=0.254]\n"
     ]
    },
    {
     "name": "stdout",
     "output_type": "stream",
     "text": [
      "Epochs: 11\tAvg Train Loss: 0.2866\tAvg Test Loss: 0.1692\tHR: 0.635\tNDCG: 0.361\n"
     ]
    },
    {
     "name": "stderr",
     "output_type": "stream",
     "text": [
      "Epoch 12/15: 100%|████████████████████████████████████████████████| 15534/15534 [09:22<00:00, 27.62batch/s, loss=0.263]\n"
     ]
    },
    {
     "name": "stdout",
     "output_type": "stream",
     "text": [
      "Epochs: 12\tAvg Train Loss: 0.2849\tAvg Test Loss: 0.1536\tHR: 0.630\tNDCG: 0.365\n"
     ]
    },
    {
     "name": "stderr",
     "output_type": "stream",
     "text": [
      "Epoch 13/15: 100%|████████████████████████████████████████████████| 15534/15534 [09:29<00:00, 27.28batch/s, loss=0.301]\n"
     ]
    },
    {
     "name": "stdout",
     "output_type": "stream",
     "text": [
      "Epochs: 13\tAvg Train Loss: 0.2836\tAvg Test Loss: 0.1859\tHR: 0.630\tNDCG: 0.366\n"
     ]
    },
    {
     "name": "stderr",
     "output_type": "stream",
     "text": [
      "Epoch 14/15: 100%|████████████████████████████████████████████████| 15534/15534 [09:21<00:00, 27.68batch/s, loss=0.344]\n"
     ]
    },
    {
     "name": "stdout",
     "output_type": "stream",
     "text": [
      "Epochs: 14\tAvg Train Loss: 0.2824\tAvg Test Loss: 0.2089\tHR: 0.636\tNDCG: 0.367\n"
     ]
    },
    {
     "name": "stderr",
     "output_type": "stream",
     "text": [
      "Epoch 15/15: 100%|████████████████████████████████████████████████| 15534/15534 [09:24<00:00, 27.51batch/s, loss=0.271]\n"
     ]
    },
    {
     "name": "stdout",
     "output_type": "stream",
     "text": [
      "Epochs: 15\tAvg Train Loss: 0.2814\tAvg Test Loss: 0.1858\tHR: 0.639\tNDCG: 0.370\n",
      "Learning finished\n",
      "Training time: 9036.40552 seconds\n"
     ]
    }
   ],
   "source": [
    "# Initialize trainer with customizable top_k\n",
    "\n",
    "trainer_2 = Train(model=model,\n",
    "              optimizer=optimizer,\n",
    "              criterion=criterion,\n",
    "              epochs=15,\n",
    "              test_obj=dataloader_test_4,\n",
    "              dataloader=dataloader_train_4,\n",
    "              device=device,\n",
    "              print_cost=True,\n",
    "              top_k=10)\n",
    "    \n",
    "# measuring time\n",
    "start = time.time()\n",
    "loss_4, test_loss_list_4, hr_list_4, ndcg_list_4 = trainer_2.train()\n",
    "\n",
    "end = time.time()\n",
    "\n",
    "time_message = f'Training time: {end-start:.5f} seconds'\n",
    "print(time_message)"
   ]
  },
  {
   "cell_type": "markdown",
   "id": "8fbfb201-c3d8-4e6f-ba3c-5a8d8d2aa4d6",
   "metadata": {},
   "source": [
    "<h2>Plotting Graphs</h2>"
   ]
  },
  {
   "cell_type": "code",
   "execution_count": 21,
   "id": "283f1afd-1689-4121-aa56-6772c6185910",
   "metadata": {},
   "outputs": [
    {
     "data": {
      "image/png": "[encoded data removed]",
      "text/plain": [
       "<Figure size 1600x1200 with 4 Axes>"
      ]
     },
     "metadata": {},
     "output_type": "display_data"
    }
   ],
   "source": [
    "plot_comparison_metrics(loss_1, test_loss_list_1, hr_list_1, ndcg_list_1, loss_4, test_loss_list_4, hr_list_4, ndcg_list_4, top_k=trainer_2.top_k)"
   ]
  },
  {
   "cell_type": "code",
   "execution_count": 22,
   "id": "5d8c37b5-c0b2-4cfd-85ad-b0ceae28ef2e",
   "metadata": {},
   "outputs": [
    {
     "data": {
      "text/plain": [
       "MLP(\n",
       "  (user_embedding): Embedding(6041, 16)\n",
       "  (item_embedding): Embedding(193610, 16)\n",
       "  (mlp_layers): Sequential(\n",
       "    (0): Linear(in_features=32, out_features=32, bias=True)\n",
       "    (1): ReLU()\n",
       "    (2): Linear(in_features=32, out_features=16, bias=True)\n",
       "    (3): ReLU()\n",
       "    (4): Linear(in_features=16, out_features=8, bias=True)\n",
       "    (5): ReLU()\n",
       "  )\n",
       "  (output_layer): Linear(in_features=8, out_features=1, bias=True)\n",
       "  (sigmoid): Sigmoid()\n",
       ")"
      ]
     },
     "execution_count": 22,
     "metadata": {},
     "output_type": "execute_result"
    }
   ],
   "source": [
    "model"
   ]
  },
  {
   "cell_type": "markdown",
   "id": "5beb4616-19cb-4b4d-9ecf-c7a0715b7902",
   "metadata": {},
   "source": [
    "<h2>Inference Checking</h2>"
   ]
  },
  {
   "cell_type": "markdown",
   "id": "4e73193e-e866-49cb-95c0-0f0a58dd3f4c",
   "metadata": {},
   "source": [
    "<h3>Getting inference with corresponding metrics from a test set</h3>"
   ]
  },
  {
   "cell_type": "code",
   "execution_count": 23,
   "id": "c2549ae0-c4b8-4680-96a9-07594b495cbb",
   "metadata": {},
   "outputs": [
    {
     "name": "stdout",
     "output_type": "stream",
     "text": [
      "Evaluation Metrics:\n",
      "HR@10: 0.639\n",
      "NDCG@10: 0.380\n",
      "\n",
      "User: 31\n",
      "Ground Truth: Pallbearer, The (1996) (MovieID: 612)\n",
      "\n",
      "Top 10 Recommendations for User 31:\n",
      "1. Apollo 13 (1995) (MovieID: 150, Score: 0.961)\n",
      "2. Con Air (1997) (MovieID: 1552, Score: 0.844)\n",
      "3. Little Women (1994) (MovieID: 261, Score: 0.823)\n",
      "4. Muppet Treasure Island (1996) (MovieID: 107, Score: 0.812)\n",
      "5. Green Mile, The (1999) (MovieID: 3147, Score: 0.795)\n",
      "6. Rob Roy (1995) (MovieID: 151, Score: 0.786)\n",
      "7. Shakespeare in Love (1998) (MovieID: 2396, Score: 0.775)\n",
      "8. Blue Lagoon, The (1980) (MovieID: 2950, Score: 0.773)\n",
      "9. Karate Kid, Part II, The (1986) (MovieID: 2421, Score: 0.719)\n",
      "10. Unbreakable (2000) (MovieID: 3994, Score: 0.644)\n"
     ]
    }
   ],
   "source": [
    "def metrics_with_recommendations_with_titles(model, test_loader, top_k, total_dataframe, device):\n",
    "    \"\"\"\n",
    "    Function to return recommendations with metrics and predicted scores.\n",
    "\n",
    "    Parameters:\n",
    "    -----------\n",
    "    model: The trained model checkpoints\n",
    "    test_loader: The test data loader\n",
    "    top_k: Total numbers of movies to recommend\n",
    "    total_dataframe: The total dataframe to map the id of the movie with title\n",
    "    device: According to availability CPU or a GPU\n",
    "\n",
    "    Returns:\n",
    "    ---------\n",
    "    HR: The Hit rate metrics\n",
    "    NDCG: The NDCG metrics\n",
    "    all_recommendations: The top_k recommended movies with titles and predicted scores\n",
    "    \"\"\"\n",
    "    HR, NDCG, all_recommendations = [], [], []\n",
    "\n",
    "    for user, item, label in test_loader:\n",
    "        user = user.to(device)\n",
    "        item = item.to(device)\n",
    "\n",
    "        predictions = model(user, item)\n",
    "        # Get top-k predictions and their indices\n",
    "        top_k_scores, top_k_indices = torch.topk(predictions, top_k)\n",
    "\n",
    "        # Convert to lists\n",
    "        recommends = torch.take(item, top_k_indices).cpu().numpy().tolist()\n",
    "        recommend_scores = top_k_scores.cpu().detach().numpy().tolist()\n",
    "\n",
    "        # Ground truth item\n",
    "        gt_item = item[0].item()\n",
    "        HR.append(hit(gt_item, recommends))\n",
    "        NDCG.append(ndcg(gt_item, recommends))\n",
    "\n",
    "        # Get movie titles and scores for the recommended movies\n",
    "        recommended_movies = []\n",
    "        for rec, score in zip(recommends, recommend_scores):\n",
    "            title = total_dataframe[total_dataframe['movieId'] == rec]['title'].values[0]\n",
    "            recommended_movies.append({\n",
    "                'movieId': rec,\n",
    "                'title': title,\n",
    "                'score': float(score)  # Convert numpy float to Python float for JSON compatibility\n",
    "            })\n",
    "\n",
    "        all_recommendations.append({\n",
    "            'user': user[0].item() if user.numel() == 1 else user.tolist()[0],  # Ensure single user per batch\n",
    "            'ground_truth': {\n",
    "                'movieId': gt_item,\n",
    "                'title': total_dataframe[total_dataframe['movieId'] == gt_item]['title'].values[0]\n",
    "            },\n",
    "            'recommendations': recommended_movies\n",
    "        })\n",
    "\n",
    "    return np.mean(HR), np.mean(NDCG), all_recommendations\n",
    "\n",
    "# main HERE\n",
    "k = 10 # change the value of k here\n",
    "\n",
    "HR, NDCG, all_recommendations = metrics_with_recommendations_with_titles(\n",
    "    model, \n",
    "    test_loader=dataloader_test_1, \n",
    "    top_k=k,\n",
    "    total_dataframe=total_df_1, \n",
    "    device=device\n",
    ")\n",
    "\n",
    "# Print metrics\n",
    "print(f\"Evaluation Metrics:\")\n",
    "print(f\"HR@{k}: {HR:.3f}\")\n",
    "print(f\"NDCG@{k}: {NDCG:.3f}\")\n",
    "\n",
    "# Print recommendations with scores (for the first user)\n",
    "first_user_rec = all_recommendations[0]\n",
    "print(f\"\\nUser: {first_user_rec['user']}\")\n",
    "print(f\"Ground Truth: {first_user_rec['ground_truth']['title']} (MovieID: {first_user_rec['ground_truth']['movieId']})\")\n",
    "print(f\"\\nTop {k} Recommendations for User {first_user_rec['user']}:\") # attention HERE\n",
    "for idx, rec in enumerate(first_user_rec['recommendations'], 1):\n",
    "    print(f\"{idx}. {rec['title']} (MovieID: {rec['movieId']}, Score: {rec['score']:.3f})\")"
   ]
  },
  {
   "cell_type": "code",
   "execution_count": 24,
   "id": "6b6a45aa-3ad0-4517-a8bc-9f1e790cdfe2",
   "metadata": {},
   "outputs": [
    {
     "name": "stdout",
     "output_type": "stream",
     "text": [
      "Evaluation Metrics:\n",
      "HR@10: 0.514\n",
      "NDCG@10: 0.271\n",
      "\n",
      "User: 891\n",
      "Ground Truth: Devil's Own, The (1997) (MovieID: 1488)\n",
      "\n",
      "Top 10 Recommendations for User 891:\n",
      "1. Apollo 13 (1995) (MovieID: 150, Score: 0.920)\n",
      "2. Life Is Beautiful (La Vita è bella) (1997) (MovieID: 2324, Score: 0.913)\n",
      "3. Lethal Weapon (1987) (MovieID: 2000, Score: 0.897)\n",
      "4. Batman Forever (1995) (MovieID: 153, Score: 0.872)\n",
      "5. Indiana Jones and the Temple of Doom (1984) (MovieID: 2115, Score: 0.843)\n",
      "6. Truth About Cats & Dogs, The (1996) (MovieID: 708, Score: 0.817)\n",
      "7. Age of Innocence, The (1993) (MovieID: 412, Score: 0.811)\n",
      "8. For a Few Dollars More (1965) (MovieID: 3681, Score: 0.794)\n",
      "9. Nosferatu (Nosferatu, eine Symphonie des Grauens) (1922) (MovieID: 1348, Score: 0.773)\n",
      "10. Cinema Paradiso (1988) (MovieID: 1172, Score: 0.766)\n"
     ]
    }
   ],
   "source": [
    "def metrics_with_recommendations_with_titles(model, test_loader, top_k, total_dataframe, device):\n",
    "    \"\"\"\n",
    "    Function to return recommendations with metrics and predicted scores.\n",
    "\n",
    "    Parameters:\n",
    "    -----------\n",
    "    model: The trained model checkpoints\n",
    "    test_loader: The test data loader\n",
    "    top_k: Total numbers of movies to recommend\n",
    "    total_dataframe: The total dataframe to map the id of the movie with title\n",
    "    device: According to availability CPU or a GPU\n",
    "\n",
    "    Returns:\n",
    "    ---------\n",
    "    HR: The Hit rate metrics\n",
    "    NDCG: The NDCG metrics\n",
    "    all_recommendations: The top_k recommended movies with titles and predicted scores\n",
    "    \"\"\"\n",
    "    HR, NDCG, all_recommendations = [], [], []\n",
    "\n",
    "    for user, item, label in test_loader:\n",
    "        user = user.to(device)\n",
    "        item = item.to(device)\n",
    "\n",
    "        predictions = model(user, item)\n",
    "        # Get top-k predictions and their indices\n",
    "        top_k_scores, top_k_indices = torch.topk(predictions, top_k)\n",
    "\n",
    "        # Convert to lists\n",
    "        recommends = torch.take(item, top_k_indices).cpu().numpy().tolist()\n",
    "        recommend_scores = top_k_scores.cpu().detach().numpy().tolist()\n",
    "\n",
    "        # Ground truth item\n",
    "        gt_item = item[0].item()\n",
    "        HR.append(hit(gt_item, recommends))\n",
    "        NDCG.append(ndcg(gt_item, recommends))\n",
    "\n",
    "        # Get movie titles and scores for the recommended movies\n",
    "        recommended_movies = []\n",
    "        for rec, score in zip(recommends, recommend_scores):\n",
    "            title = total_dataframe[total_dataframe['movieId'] == rec]['title'].values[0]\n",
    "            recommended_movies.append({\n",
    "                'movieId': rec,\n",
    "                'title': title,\n",
    "                'score': float(score)  # Convert numpy float to Python float for JSON compatibility\n",
    "            })\n",
    "\n",
    "        all_recommendations.append({\n",
    "            'user': user[0].item() if user.numel() == 1 else user.tolist()[0],  # Ensure single user per batch\n",
    "            'ground_truth': {\n",
    "                'movieId': gt_item,\n",
    "                'title': total_dataframe[total_dataframe['movieId'] == gt_item]['title'].values[0]\n",
    "            },\n",
    "            'recommendations': recommended_movies\n",
    "        })\n",
    "\n",
    "    return np.mean(HR), np.mean(NDCG), all_recommendations\n",
    "\n",
    "# main HERE\n",
    "k = 10 # change the value of k here\n",
    "HR, NDCG, all_recommendations = metrics_with_recommendations_with_titles(\n",
    "    model, \n",
    "    test_loader=dataloader_test_4, \n",
    "    top_k=k, \n",
    "    total_dataframe=total_df_4, \n",
    "    device=device\n",
    ")\n",
    "\n",
    "print(f\"Evaluation Metrics:\")\n",
    "print(f\"HR@{k}: {HR:.3f}\")\n",
    "print(f\"NDCG@{k}: {NDCG:.3f}\")\n",
    "\n",
    "# Print recommendations with scores (for the first user)\n",
    "first_user_rec = all_recommendations[0]\n",
    "print(f\"\\nUser: {first_user_rec['user']}\")\n",
    "print(f\"Ground Truth: {first_user_rec['ground_truth']['title']} (MovieID: {first_user_rec['ground_truth']['movieId']})\")\n",
    "print(f\"\\nTop {k} Recommendations for User {first_user_rec['user']}:\") # attention HERE\n",
    "for idx, rec in enumerate(first_user_rec['recommendations'], 1):\n",
    "    print(f\"{idx}. {rec['title']} (MovieID: {rec['movieId']}, Score: {rec['score']:.3f})\")"
   ]
  },
  {
   "cell_type": "markdown",
   "id": "edc59644-3757-498d-b11a-645aee08c8a6",
   "metadata": {},
   "source": [
    "<h3>Getting recommendations for an existing user of the system</h3>"
   ]
  },
  {
   "cell_type": "code",
   "execution_count": 25,
   "id": "2e374629-c41d-4e31-82c9-1abca1f3c612",
   "metadata": {},
   "outputs": [
    {
     "name": "stdout",
     "output_type": "stream",
     "text": [
      "User ID 1 found in the test loader.\n",
      "\n",
      "Top 10 Recommendations for User 1:\n",
      "1. Fly, The (1986) (ID: 2455) | Score: 0.798\n",
      "2. Nightmare Before Christmas, The (1993) (ID: 551) | Score: 0.784\n",
      "3. Peacemaker, The (1997) (ID: 1616) | Score: 0.783\n",
      "4. Christmas Story, A (1983) (ID: 2804) | Score: 0.768\n",
      "5. Sabrina (1995) (ID: 7) | Score: 0.754\n",
      "6. I Am Sam (2001) (ID: 5014) | Score: 0.744\n",
      "7. Mighty Aphrodite (1995) (ID: 52) | Score: 0.712\n",
      "8. Medicine Man (1992) (ID: 2822) | Score: 0.702\n",
      "9. Flashdance (1983) (ID: 2942) | Score: 0.645\n",
      "10. Empire Records (1995) (ID: 3477) | Score: 0.476\n"
     ]
    }
   ],
   "source": [
    "def inference_for_single_user_by_id(model, user_id, top_k, total_dataframe, test_loader, device):\n",
    "    \"\"\"\n",
    "    Function to perform inference for a single user by user ID and return recommendations with metrics.\n",
    "\n",
    "    Parameters:\n",
    "    -----------\n",
    "    model: The trained model checkpoints\n",
    "    user_id: The ID of the user for whom to make recommendations\n",
    "    top_k: Total numbers of movies to recommend\n",
    "    total_dataframe: The total dataframe to map the id of the movie with title\n",
    "    test_loader: The DataLoader for the test set\n",
    "    device: According to availability CPU or a GPU\n",
    "\n",
    "    Returns:\n",
    "    ---------\n",
    "    recommendations: Dictionary with user ID, ground truth, and recommended movies with scores\n",
    "    \"\"\"\n",
    "    user_found = False\n",
    "    \n",
    "    for user, item, label in test_loader:\n",
    "        if user[0].item() == user_id:\n",
    "            user_found = True\n",
    "            user = user.to(device)\n",
    "            item = item.to(device)\n",
    "\n",
    "            print(f\"User ID {user_id} found in the test loader.\")\n",
    "            predictions = model(user, item)\n",
    "            top_k_scores, top_k_indices = torch.topk(predictions, top_k)\n",
    "\n",
    "            # Convert to lists\n",
    "            recommends = torch.take(item, top_k_indices).cpu().numpy().tolist()\n",
    "            recommend_scores = top_k_scores.cpu().detach().numpy().tolist()\n",
    "\n",
    "            # Get movie details for the recommended movies\n",
    "            recommended_movies = []\n",
    "            for rec, score in zip(recommends, recommend_scores):\n",
    "                title = total_dataframe[total_dataframe['movieId'] == rec]['title'].values[0]\n",
    "                recommended_movies.append({\n",
    "                    'movieId': rec,\n",
    "                    'title': title,\n",
    "                    'score': float(score)  # Convert numpy float to Python float\n",
    "                })\n",
    "\n",
    "            return {\n",
    "                'user': user[0].item(),\n",
    "                'recommendations': recommended_movies\n",
    "            }\n",
    "    \n",
    "    if not user_found:\n",
    "        raise ValueError(f\"User ID {user_id} not found in the test loader.\")\n",
    "\n",
    "# Example usage\n",
    "user_id_to_infer = 1  # Replace with the user ID you want to infer\n",
    "recommendations = inference_for_single_user_by_id(\n",
    "    model, \n",
    "    user_id_to_infer, \n",
    "    top_k=10, \n",
    "    total_dataframe=total_df_1, \n",
    "    test_loader=dataloader_test_1, \n",
    "    device=device\n",
    ")\n",
    "\n",
    "# Print recommendations with scores\n",
    "print(f\"\\nTop {len(recommendations['recommendations'])} Recommendations for User {recommendations['user']}:\")\n",
    "for idx, rec in enumerate(recommendations['recommendations'], 1):\n",
    "    print(f\"{idx}. {rec['title']} (ID: {rec['movieId']}) | Score: {rec['score']:.3f}\")"
   ]
  },
  {
   "cell_type": "code",
   "execution_count": 26,
   "id": "f69503d2-8153-4fcd-a777-9df81512ee53",
   "metadata": {},
   "outputs": [
    {
     "name": "stdout",
     "output_type": "stream",
     "text": [
      "User ID 1 found in the test loader.\n",
      "\n",
      "Top 10 Recommendations for User 1:\n",
      "1. Star Wars: Episode VI - Return of the Jedi (1983) (ID: 1210) | Score: 0.980\n",
      "2. Independence Day (ID4) (1996) (ID: 780) | Score: 0.973\n",
      "3. Good Will Hunting (1997) (ID: 1704) | Score: 0.926\n",
      "4. Ghostbusters (1984) (ID: 2716) | Score: 0.894\n",
      "5. Running Man, The (1987) (ID: 3698) | Score: 0.846\n",
      "6. Lost World: Jurassic Park, The (1997) (ID: 1544) | Score: 0.844\n",
      "7. Casino (1995) (ID: 16) | Score: 0.826\n",
      "8. Entrapment (1999) (ID: 2605) | Score: 0.821\n",
      "9. Pocahontas (1995) (ID: 48) | Score: 0.803\n",
      "10. Goonies, The (1985) (ID: 2005) | Score: 0.786\n"
     ]
    }
   ],
   "source": [
    "def inference_for_single_user_by_id(model, user_id, top_k, total_dataframe, test_loader, device):\n",
    "    \"\"\"\n",
    "    Function to perform inference for a single user by user ID and return recommendations with metrics.\n",
    "\n",
    "    Parameters:\n",
    "    -----------\n",
    "    model: The trained model checkpoints\n",
    "    user_id: The ID of the user for whom to make recommendations\n",
    "    top_k: Total numbers of movies to recommend\n",
    "    total_dataframe: The total dataframe to map the id of the movie with title\n",
    "    test_loader: The DataLoader for the test set\n",
    "    device: According to availability CPU or a GPU\n",
    "\n",
    "    Returns:\n",
    "    ---------\n",
    "    recommendations: Dictionary with user ID, ground truth, and recommended movies with scores\n",
    "    \"\"\"\n",
    "    user_found = False\n",
    "    \n",
    "    for user, item, label in test_loader:\n",
    "        if user[0].item() == user_id:\n",
    "            user_found = True\n",
    "            user = user.to(device)\n",
    "            item = item.to(device)\n",
    "\n",
    "            print(f\"User ID {user_id} found in the test loader.\")\n",
    "            predictions = model(user, item)\n",
    "            top_k_scores, top_k_indices = torch.topk(predictions, top_k)\n",
    "\n",
    "            # Convert to lists\n",
    "            recommends = torch.take(item, top_k_indices).cpu().numpy().tolist()\n",
    "            recommend_scores = top_k_scores.cpu().detach().numpy().tolist()\n",
    "\n",
    "            # Get movie details for the recommended movies\n",
    "            recommended_movies = []\n",
    "            for rec, score in zip(recommends, recommend_scores):\n",
    "                title = total_dataframe[total_dataframe['movieId'] == rec]['title'].values[0]\n",
    "                recommended_movies.append({\n",
    "                    'movieId': rec,\n",
    "                    'title': title,\n",
    "                    'score': float(score)  # Convert numpy float to Python float\n",
    "                })\n",
    "\n",
    "            return {\n",
    "                'user': user[0].item(),\n",
    "                'recommendations': recommended_movies\n",
    "            }\n",
    "    \n",
    "    if not user_found:\n",
    "        raise ValueError(f\"User ID {user_id} not found in the test loader.\")\n",
    "\n",
    "# Example usage\n",
    "user_id_to_infer = 1  # Replace with the user ID you want to infer\n",
    "recommendations = inference_for_single_user_by_id(\n",
    "    model, \n",
    "    user_id_to_infer, \n",
    "    top_k=10, \n",
    "    total_dataframe=total_df_4, \n",
    "    test_loader=dataloader_test_4, \n",
    "    device=device\n",
    ")\n",
    "\n",
    "# Print recommendations with scores\n",
    "print(f\"\\nTop {len(recommendations['recommendations'])} Recommendations for User {recommendations['user']}:\")\n",
    "for idx, rec in enumerate(recommendations['recommendations'], 1):\n",
    "    print(f\"{idx}. {rec['title']} (ID: {rec['movieId']}) | Score: {rec['score']:.3f}\")"
   ]
  },
  {
   "cell_type": "code",
   "execution_count": 27,
   "id": "a103a37f-bccb-4db7-b465-c5c00179baf7",
   "metadata": {},
   "outputs": [
    {
     "name": "stdout",
     "output_type": "stream",
     "text": [
      "       user_id  item_id  label\n",
      "0           31      612    1.0\n",
      "1           31     6410    0.0\n",
      "2           31     3402    0.0\n",
      "3           31   142602    0.0\n",
      "4           31    84553    0.0\n",
      "...        ...      ...    ...\n",
      "60995       27     8738    0.0\n",
      "60996       27     1514    0.0\n",
      "60997       27     3404    0.0\n",
      "60998       27     4734    0.0\n",
      "60999       27   102066    0.0\n",
      "\n",
      "[61000 rows x 3 columns]\n",
      "\n",
      "Data saved to: ./Datasets/dataloader_test_D1_M4.csv\n"
     ]
    }
   ],
   "source": [
    "import pandas as pd\n",
    "import torch\n",
    "\n",
    "# Initialize a list to store all batches\n",
    "all_batches = []\n",
    "\n",
    "# Iterate through the DataLoader\n",
    "for batch in dataloader_test_1:\n",
    "    users, items, labels = batch\n",
    "    batch_data = {\n",
    "        'user_id': users.numpy(),  # Convert tensors to numpy arrays\n",
    "        'item_id': items.numpy(),\n",
    "        'label': labels.numpy()\n",
    "    }\n",
    "    all_batches.append(batch_data)\n",
    "\n",
    "# Combine all batches into a single DataFrame\n",
    "df = pd.DataFrame({\n",
    "    'user_id': np.concatenate([batch['user_id'] for batch in all_batches]),\n",
    "    'item_id': np.concatenate([batch['item_id'] for batch in all_batches]),\n",
    "    'label': np.concatenate([batch['label'] for batch in all_batches])\n",
    "})\n",
    "\n",
    "print(df)\n",
    "\n",
    "# Save to CSV\n",
    "csv_path = './Datasets/dataloader_test_D1_M4.csv'\n",
    "df.to_csv(csv_path, index=False)\n",
    "print(f\"\\nData saved to: {csv_path}\")"
   ]
  },
  {
   "cell_type": "code",
   "execution_count": 28,
   "id": "d128be5f-13d6-4382-9ce8-3c077c17c7fe",
   "metadata": {},
   "outputs": [
    {
     "name": "stdout",
     "output_type": "stream",
     "text": [
      "        user_id  item_id  label\n",
      "0           891     1488    1.0\n",
      "1           891      412    0.0\n",
      "2           891      955    0.0\n",
      "3           891      413    0.0\n",
      "4           891     1796    0.0\n",
      "...         ...      ...    ...\n",
      "603995     2023     1383    0.0\n",
      "603996     2023     2232    0.0\n",
      "603997     2023     2376    0.0\n",
      "603998     2023     1951    0.0\n",
      "603999     2023      314    0.0\n",
      "\n",
      "[604000 rows x 3 columns]\n",
      "\n",
      "Data saved to: ./Datasets/dataloader_test_D2_M4.csv\n"
     ]
    }
   ],
   "source": [
    "import pandas as pd\n",
    "import torch\n",
    "\n",
    "# Initialize a list to store all batches\n",
    "all_batches = []\n",
    "\n",
    "# Iterate through the DataLoader\n",
    "for batch in dataloader_test_4:\n",
    "    users, items, labels = batch\n",
    "    batch_data = {\n",
    "        'user_id': users.numpy(),  # Convert tensors to numpy arrays\n",
    "        'item_id': items.numpy(),\n",
    "        'label': labels.numpy()\n",
    "    }\n",
    "    all_batches.append(batch_data)\n",
    "\n",
    "# Combine all batches into a single DataFrame\n",
    "df = pd.DataFrame({\n",
    "    'user_id': np.concatenate([batch['user_id'] for batch in all_batches]),\n",
    "    'item_id': np.concatenate([batch['item_id'] for batch in all_batches]),\n",
    "    'label': np.concatenate([batch['label'] for batch in all_batches])\n",
    "})\n",
    "\n",
    "print(df)\n",
    "\n",
    "# Save to CSV\n",
    "csv_path = './Datasets/dataloader_test_D2_M4.csv'\n",
    "df.to_csv(csv_path, index=False)\n",
    "print(f\"\\nData saved to: {csv_path}\")"
   ]
  },
  {
   "cell_type": "markdown",
   "id": "be36cd0d-82dc-4958-9e07-759688ea1758",
   "metadata": {},
   "source": [
    "<h2>Save Model</h2>"
   ]
  },
  {
   "cell_type": "code",
   "execution_count": 29,
   "id": "7df48ca8-d078-4956-a80b-ac546bb41f89",
   "metadata": {},
   "outputs": [],
   "source": [
    "# Save model + minimal metadata\n",
    "deployment_checkpoint = {\n",
    "    'model_state_dict': model.state_dict(),  # Weights\n",
    "    'model_hyperparams': {                  # Architecture config\n",
    "        'num_users': max_num_users_global,\n",
    "        'num_items': max_num_items_global,\n",
    "        'embedding_size': 16,\n",
    "        'layer_dims': [32, 16, 8],\n",
    "        'use_NeuMF': False\n",
    "    }\n",
    "}"
   ]
  },
  {
   "cell_type": "code",
   "execution_count": 30,
   "id": "4f04528d-38df-46ca-ac72-1b1cf2f504b4",
   "metadata": {},
   "outputs": [
    {
     "data": {
      "text/plain": [
       "{'model_state_dict': OrderedDict([('user_embedding.weight',\n",
       "               tensor([[-5.1686e-03,  1.3396e-02,  5.9488e-03,  ..., -4.4409e-03,\n",
       "                         8.5557e-03, -4.0336e-04],\n",
       "                       [-1.2736e+01, -2.2435e+00,  1.4183e+00,  ...,  3.2382e+00,\n",
       "                        -1.2047e+01,  1.1306e+01],\n",
       "                       [-6.6416e+00,  3.9122e+00,  7.4923e+00,  ...,  1.2939e+00,\n",
       "                        -7.9496e+00,  6.0427e+00],\n",
       "                       ...,\n",
       "                       [-1.1715e+01, -3.3389e+00, -3.4073e+00,  ...,  1.3452e+00,\n",
       "                        -1.3885e+01,  1.5587e+01],\n",
       "                       [-1.0552e+01, -6.7392e+00,  5.4043e+00,  ..., -4.4029e-01,\n",
       "                        -1.3826e+01,  1.5070e+01],\n",
       "                       [-1.2598e+01,  2.0313e+00, -7.6361e+00,  ...,  1.2524e+00,\n",
       "                        -5.0282e+00,  6.0405e+00]])),\n",
       "              ('item_embedding.weight',\n",
       "               tensor([[ 1.1474e-02, -4.8093e-03, -1.1398e-02,  ..., -1.9869e-03,\n",
       "                        -3.0511e-03, -2.1095e-02],\n",
       "                       [-6.8770e-01,  1.4535e+01, -1.5851e+00,  ..., -4.2259e+00,\n",
       "                         9.6413e+00,  1.9956e+00],\n",
       "                       [-1.5439e+00,  4.0852e+00,  2.8298e+00,  ...,  5.2209e-01,\n",
       "                        -3.1450e+00, -7.9619e+00],\n",
       "                       ...,\n",
       "                       [-1.7769e-02, -5.0407e-03,  4.5989e-04,  ..., -5.4005e-03,\n",
       "                        -1.8304e-02,  7.6648e-03],\n",
       "                       [-1.4318e-03,  1.1021e-02,  2.9787e-03,  ...,  4.9741e-03,\n",
       "                        -5.3632e-05,  6.1970e-03],\n",
       "                       [-3.2311e-01, -3.4114e+00, -7.9638e-01,  ...,  1.4605e+00,\n",
       "                        -4.2705e+00,  2.8931e-01]])),\n",
       "              ('mlp_layers.0.weight',\n",
       "               tensor([[-7.0981e+00, -1.6321e+00, -1.8228e+00,  ...,  2.4566e+00,\n",
       "                        -1.9579e+00, -2.3890e+00],\n",
       "                       [ 3.5506e+00, -1.1479e+01,  1.2420e+00,  ..., -6.5938e+00,\n",
       "                        -2.8717e+00, -1.2710e+00],\n",
       "                       [-7.8697e-01,  2.2891e+00, -1.3277e+00,  ...,  9.8553e-01,\n",
       "                        -3.7003e-01,  6.2395e+00],\n",
       "                       ...,\n",
       "                       [ 1.5240e+00, -8.7470e+00,  1.0104e+00,  ..., -1.7277e+00,\n",
       "                         3.7376e-03,  4.1970e+00],\n",
       "                       [ 5.2419e-01, -4.3918e+00, -2.5525e+00,  ...,  6.5574e+00,\n",
       "                        -8.2713e-01,  3.2421e+00],\n",
       "                       [-1.4564e+00, -1.0671e+00, -1.9281e+00,  ...,  1.9047e-01,\n",
       "                        -4.0971e+00, -1.4844e+00]])),\n",
       "              ('mlp_layers.0.bias',\n",
       "               tensor([ -6.5174, -33.4555, -29.3294,  -1.8136,  -5.2509, -15.0775, -15.1635,\n",
       "                       -16.0311, -17.4860,   3.5021, -16.9365, -24.1948,   0.1708, -13.0525,\n",
       "                       -24.0633, -13.4955, -26.9434,  -2.3739,   8.6793, -18.0688, -14.8154,\n",
       "                        20.1683,  -1.8713, -28.3827,  -1.3381,   3.3156, -16.4579, -16.2614,\n",
       "                       -10.2647, -16.5823, -15.4860, -31.0434])),\n",
       "              ('mlp_layers.2.weight',\n",
       "               tensor([[-6.0461e-01, -1.9039e-01, -7.8722e-01, -1.7967e+00, -2.2979e-01,\n",
       "                        -3.9032e-01, -1.2884e-01, -5.0639e-02, -1.2926e+00, -9.5358e-01,\n",
       "                        -5.8884e-01, -6.1290e-01, -2.3381e-01, -4.9492e-01, -9.1337e-01,\n",
       "                        -3.2423e-01, -7.2163e-01, -8.5455e-01, -1.5674e+00, -8.5668e-01,\n",
       "                        -5.1160e-01, -9.3671e-01, -1.2963e+00, -4.7049e-01, -1.3734e+00,\n",
       "                        -1.5043e+00, -1.0825e+00, -6.0798e-01, -7.3920e-01, -3.5750e-01,\n",
       "                        -5.6701e-02, -9.2387e-01],\n",
       "                       [-1.9826e+00, -1.9903e-01, -1.9435e-01, -1.0535e+00, -6.8329e-01,\n",
       "                        -1.0715e-01, -5.9236e-01, -8.1155e-01, -9.7859e-01, -2.3718e+00,\n",
       "                        -3.2263e-01, -4.9012e-01, -1.6930e+00, -1.1238e+00,  1.4082e-01,\n",
       "                        -2.0412e+00, -1.0847e+00, -9.0508e-01, -1.8020e+00, -6.9094e-01,\n",
       "                        -1.4148e+00, -1.2160e+00, -1.5880e+00, -1.8865e+00, -1.2150e+00,\n",
       "                        -1.3186e+00, -2.4269e-01, -1.5015e+00, -3.0842e-01, -7.7137e-01,\n",
       "                        -6.9586e-01, -1.0993e+00],\n",
       "                       [-3.6057e+00,  5.0758e-01, -6.7127e-01, -1.9315e+00, -6.1132e-01,\n",
       "                        -1.8399e+00, -7.7859e-01, -1.3896e-01, -1.3892e+00, -4.6429e-01,\n",
       "                        -1.1669e+00, -1.7302e+00, -6.3649e-01, -1.5194e+00, -7.5307e-01,\n",
       "                        -1.0230e+00, -6.5441e-01, -1.0747e+00, -5.0660e-01,  1.4312e-02,\n",
       "                        -2.0236e+00, -1.7277e+00, -2.4402e+00, -1.2733e+00, -2.0365e+00,\n",
       "                        -7.6948e-01, -7.2116e-01, -1.5144e+00, -4.7687e-01, -5.4039e-01,\n",
       "                        -7.9720e-01, -4.2209e-01],\n",
       "                       [-3.7579e+00, -1.5405e+00,  1.4864e+00, -1.7309e+00,  1.5462e+00,\n",
       "                        -2.4516e+00,  1.2265e+00,  2.1634e+00,  9.0402e-01, -1.2142e+00,\n",
       "                        -3.1508e+00,  1.0808e+00, -1.9902e+00,  9.9355e-01, -2.6426e+00,\n",
       "                         4.1808e-01,  1.1121e+00, -2.3657e+00, -1.0869e+00, -3.1194e+00,\n",
       "                         1.7296e-01, -8.1157e-01, -2.1561e+00,  1.5796e+00, -2.8668e+00,\n",
       "                        -3.0047e+00,  1.8992e+00,  1.3609e+00, -1.8471e+00,  8.4810e-01,\n",
       "                         1.2720e+00,  2.4388e+00],\n",
       "                       [-5.6870e-01,  1.3620e-01, -3.0223e+00, -2.1505e+00, -6.5928e-01,\n",
       "                        -6.9010e-01, -1.2562e+00, -9.0419e-01, -1.0853e+00, -4.7020e-01,\n",
       "                        -8.7604e-01, -2.1704e+00, -1.6458e-01, -3.9491e-01, -7.8423e-01,\n",
       "                        -2.2961e+00,  3.7327e-01, -2.4222e+00,  7.0006e-01, -4.2237e-01,\n",
       "                        -1.7417e+00,  6.8451e-03, -1.3073e+00, -4.7819e-01, -1.7569e+00,\n",
       "                        -1.2277e+00, -1.0003e-01, -2.6595e-01,  1.6797e-01, -2.0940e-01,\n",
       "                        -5.2312e-01, -2.3232e+00],\n",
       "                       [ 1.4988e+00, -2.3692e+00, -9.5108e-01,  7.9580e-01, -6.5460e-01,\n",
       "                         2.0331e+00, -7.4794e-01, -6.4691e-01,  6.5344e-01,  1.0749e+00,\n",
       "                         3.6268e-01, -1.2817e+00, -1.3911e+00, -1.0877e+00,  6.7141e-01,\n",
       "                        -1.0141e+00, -1.1079e+00,  3.3812e-01,  1.5156e+00,  1.4071e+00,\n",
       "                        -1.4823e+00,  2.1987e+00,  3.1212e-01,  2.4734e-01,  9.5748e-01,\n",
       "                         4.7762e-01, -1.6044e+00,  2.5497e-01,  1.8256e+00, -1.5674e+00,\n",
       "                        -5.3613e-01, -1.0562e+00],\n",
       "                       [-3.0310e-01, -3.3545e-01, -6.3424e-01, -5.4161e-01, -5.9677e-01,\n",
       "                        -2.0764e-01, -3.7366e-01, -9.0360e-02, -7.8676e-02, -5.9495e-01,\n",
       "                        -6.6966e-01, -6.2054e-02, -6.4015e-01, -2.7459e-01, -4.3932e-01,\n",
       "                        -2.3703e-01, -1.7720e-01, -2.9570e-02, -2.7252e-01, -1.8715e-01,\n",
       "                        -1.2270e+00, -1.7698e-01, -9.5512e-02, -3.6098e-01, -3.0667e-01,\n",
       "                        -3.5035e-01, -1.7454e-01, -9.8305e-01, -5.1889e-01, -3.2332e-01,\n",
       "                        -8.3808e-01, -1.0255e-01],\n",
       "                       [-4.5883e-01, -3.6422e-02, -2.0443e-01, -3.4300e-01, -8.1583e-01,\n",
       "                        -5.2019e-01, -3.8215e-01, -6.0909e-01, -1.0709e+00, -1.2378e+00,\n",
       "                        -1.1790e-01, -4.1091e-01, -6.3000e-01, -4.4283e-01, -5.4266e-01,\n",
       "                        -4.7071e-01, -4.0996e-01, -1.8925e-01, -9.1157e-01, -3.4853e-01,\n",
       "                        -9.9690e-01, -2.7853e-01, -5.8312e-01, -3.4560e-01, -7.2740e-01,\n",
       "                        -5.3431e-01, -1.4052e-01, -6.3352e-01, -2.7800e-01, -5.4136e-01,\n",
       "                        -4.4726e-01, -5.2485e-02],\n",
       "                       [-5.5746e-01, -8.3524e-01, -1.1409e+00, -4.9983e-01, -1.0362e+00,\n",
       "                        -3.5516e-01, -4.6030e-01, -1.1651e+00, -8.9241e-01, -1.8702e+00,\n",
       "                        -1.3027e+00, -1.0174e-01, -6.4377e-01, -1.2378e+00, -2.4602e+00,\n",
       "                        -4.4056e-01, -8.3743e-01, -4.2964e-01, -4.4249e-01, -4.0257e-01,\n",
       "                        -1.3637e+00, -6.1651e-01, -5.8446e-01, -5.2381e-01, -1.3736e+00,\n",
       "                        -7.0407e-01, -6.3773e-02, -1.7053e+00, -2.4437e-01, -2.6062e+00,\n",
       "                        -1.3966e+00, -8.7956e-01],\n",
       "                       [-7.2807e-01, -2.8868e+00, -1.3086e-01, -7.0659e-01, -1.4118e-03,\n",
       "                         4.7625e-02, -5.8516e-01, -5.1571e-01, -7.4974e-01, -2.0437e+00,\n",
       "                        -2.2780e-01, -9.2045e-01, -1.9789e+00, -8.9262e-01, -8.2004e-01,\n",
       "                        -1.7282e+00, -1.3252e+00, -1.4471e+00, -8.0973e-01, -6.9053e-01,\n",
       "                        -2.7202e+00, -7.4221e-01, -1.2641e+00, -2.1881e+00, -3.7218e-01,\n",
       "                        -1.8512e+00, -5.6205e-01, -1.9587e+00, -2.3323e-01, -1.7863e+00,\n",
       "                        -1.0856e+00, -9.7441e-01],\n",
       "                       [-2.7591e+00,  1.5949e+00, -4.3077e-01, -1.2490e+00, -1.7025e+00,\n",
       "                        -2.1722e+00, -1.2371e+00,  1.2669e-01, -2.1479e+00, -1.1817e+00,\n",
       "                        -2.7532e+00,  6.4648e-01, -1.1153e+00, -2.4436e+00, -7.1266e-01,\n",
       "                        -2.7985e+00,  3.6765e-01, -9.5728e-01, -3.6239e-01, -3.8009e-01,\n",
       "                        -2.1267e+00, -1.9000e+00, -1.5496e+00, -2.7134e+00, -8.3706e-01,\n",
       "                        -1.6068e-01,  9.8431e-01,  2.0996e-01, -1.6721e+00, -2.9674e+00,\n",
       "                        -5.6241e-01,  2.7799e-02],\n",
       "                       [-1.9632e+00,  1.1259e+00,  8.0028e-01, -8.8741e-01, -1.0976e+00,\n",
       "                        -1.2468e+00, -1.1939e+00,  4.4476e-01, -1.5634e+00, -9.7389e-01,\n",
       "                        -8.7810e-01, -8.0963e-01, -2.3941e+00, -8.9129e-01, -1.4673e+00,\n",
       "                        -1.0252e+00, -1.3498e-01, -2.4534e+00, -3.1804e+00, -1.0885e+00,\n",
       "                        -2.4885e+00, -2.1610e+00, -1.7575e+00, -1.9555e-01, -1.1481e+00,\n",
       "                        -1.8265e+00, -9.4345e-02, -7.5727e-01, -1.6681e+00, -2.3198e+00,\n",
       "                        -8.7359e-01,  6.4703e-01],\n",
       "                       [-1.2983e+00,  2.0270e-02, -9.6574e-01, -1.5848e+00, -6.4915e-01,\n",
       "                        -5.2912e-01,  1.0257e+00, -1.8297e-01, -1.3810e+00, -2.6621e-01,\n",
       "                         8.5079e-02, -5.2315e-01, -8.6889e-01,  4.5915e-01, -7.6778e-01,\n",
       "                        -4.8116e-01, -8.7933e-01, -1.7764e+00, -9.0040e-01, -3.4155e-01,\n",
       "                        -1.6284e+00, -1.3625e+00, -1.2959e+00, -4.5962e-01, -1.2915e+00,\n",
       "                        -7.1347e-01,  1.1137e+00, -8.1872e-01,  2.5940e-01, -5.5364e-02,\n",
       "                        -1.8571e+00, -1.2546e-01],\n",
       "                       [-4.1843e-01, -1.2815e+00, -1.3656e+00, -3.3089e-01, -1.1258e+00,\n",
       "                        -9.1756e-01, -5.6258e-01, -1.0757e+00, -1.6932e+00, -1.0831e+00,\n",
       "                        -2.0340e-01, -2.9091e-01, -9.7456e-01, -2.0702e+00, -8.2885e-02,\n",
       "                        -1.3463e+00, -1.9326e+00, -9.9539e-01, -1.9461e+00, -5.0108e-02,\n",
       "                        -1.1731e+00, -1.8766e+00, -1.0366e+00, -1.4166e+00, -4.1509e-01,\n",
       "                        -3.2114e-01, -1.6846e+00, -4.4186e-01,  1.3668e-01, -1.2875e-01,\n",
       "                        -1.5184e+00, -7.1371e-01],\n",
       "                       [-2.3255e-01, -1.3417e+00, -8.0256e-01, -1.3121e+00, -3.1277e-01,\n",
       "                        -2.5592e-01, -3.2393e-01, -8.1862e-01, -5.5197e-01, -1.6638e+00,\n",
       "                        -9.9196e-01, -3.5402e-02, -2.1615e-01, -4.6071e-01, -2.4230e-01,\n",
       "                        -1.2943e-01, -8.3806e-01, -3.2590e-01, -3.3171e-01, -4.1336e-01,\n",
       "                        -5.2499e-01, -6.1076e-01, -2.3212e-01, -1.7536e+00, -4.2054e-01,\n",
       "                        -1.3637e+00, -3.1710e-01, -8.2059e-01, -1.5585e+00, -1.2400e+00,\n",
       "                        -1.5217e+00, -4.0479e-01],\n",
       "                       [-2.7315e-01, -5.7307e-01, -7.2340e-01, -5.7312e-01, -5.2497e-01,\n",
       "                        -2.8625e-01, -3.6557e-01, -6.3039e-02, -3.4305e-01, -9.8958e-01,\n",
       "                        -6.8665e-01, -5.4073e-01, -1.9999e-01, -1.5014e-01, -4.1867e-01,\n",
       "                        -5.0405e-01,  3.8319e-04, -5.5698e-01, -4.6944e-01, -2.1790e-02,\n",
       "                        -3.9688e-01, -4.3361e-01, -5.1949e-01, -1.3514e+00, -4.5266e-01,\n",
       "                        -5.6786e-01, -2.6508e-01, -4.3311e-02, -9.5518e-02, -1.5996e-01,\n",
       "                        -2.2933e-01, -4.4761e-01]])),\n",
       "              ('mlp_layers.2.bias',\n",
       "               tensor([ -0.9641,  -4.2907,  -9.2859,   3.1232,  -4.8082,  17.7809,  -1.1844,\n",
       "                        -0.7648,  -1.6063,  -3.5834, -11.1986,  -8.9227,  -3.7135,  -2.2926,\n",
       "                        -1.7606,  -0.4830])),\n",
       "              ('mlp_layers.4.weight',\n",
       "               tensor([[ 0.0054, -0.8093, -0.1270, -1.0992, -0.1541, -0.2755, -0.1370,  0.1151,\n",
       "                         0.1774, -0.8604, -0.1204, -0.0955, -0.0871, -0.5154, -0.5646, -0.3044],\n",
       "                       [-0.0058,  0.4639, -0.8278, -0.5468,  0.0154, -0.7085, -0.2772, -0.2294,\n",
       "                        -0.0655, -0.2780, -0.2073, -0.0720, -0.0105, -0.4840, -0.1378, -0.2749],\n",
       "                       [ 0.1218,  0.2606, -0.4702, -0.7544, -0.1025, -0.7333,  0.0386, -0.3698,\n",
       "                        -0.2683, -0.2253, -0.1088, -0.2522, -0.0791,  0.0194, -0.2298,  0.1449],\n",
       "                       [-0.1800, -0.1405, -0.0105, -0.6546, -0.1723, -0.6718, -0.4808,  0.0076,\n",
       "                        -0.3255, -0.0558, -0.2061, -0.1443, -0.5665, -0.3952, -0.5084, -0.5128],\n",
       "                       [-0.6064, -0.1425, -0.1727, -0.7326, -0.1132, -0.5839, -0.2694, -0.3301,\n",
       "                         0.0408, -0.7484, -0.0019, -0.2442, -0.1488, -0.4884, -0.3765,  0.0144],\n",
       "                       [-0.2816, -0.2681, -0.3256, -0.7082,  0.0031, -0.3545, -0.3158, -0.0884,\n",
       "                        -0.4987, -0.7158, -0.1147, -0.3025, -0.1644, -0.2824, -0.2618, -0.1530],\n",
       "                       [-0.0137,  0.0676,  0.2653, -0.1981,  1.2534,  0.0740, -0.2392, -0.2734,\n",
       "                         0.2169, -0.0633,  0.6694,  0.5346, -0.3045,  0.4665,  0.0110, -0.2134],\n",
       "                       [ 0.1265, -0.1355,  0.0452,  0.3032, -0.0266, -0.1533,  0.2220, -0.0211,\n",
       "                         0.1260,  0.2960, -0.0129, -0.0309,  0.0165, -0.2340, -0.0664, -0.1381]])),\n",
       "              ('mlp_layers.4.bias',\n",
       "               tensor([-7.5178e-01, -1.9700e+00, -1.9385e+00, -1.0029e+00, -1.9176e+00,\n",
       "                       -1.6576e+00,  2.6190e-03,  8.8615e+00])),\n",
       "              ('output_layer.weight',\n",
       "               tensor([[-0.1984, -0.4284, -0.0306, -0.1912, -0.1083, -0.0718,  0.0598, -0.2667]])),\n",
       "              ('output_layer.bias', tensor([0.5391]))]),\n",
       " 'model_hyperparams': {'num_users': 6041,\n",
       "  'num_items': 193610,\n",
       "  'embedding_size': 16,\n",
       "  'layer_dims': [32, 16, 8],\n",
       "  'use_NeuMF': False}}"
      ]
     },
     "execution_count": 30,
     "metadata": {},
     "output_type": "execute_result"
    }
   ],
   "source": [
    "deployment_checkpoint"
   ]
  },
  {
   "cell_type": "code",
   "execution_count": 31,
   "id": "ba71e112-6bb3-4f9e-b06f-dde31cc9e670",
   "metadata": {},
   "outputs": [],
   "source": [
    "torch.save(deployment_checkpoint, './ncf_models/deployment_model_M4.pth')"
   ]
  },
  {
   "cell_type": "code",
   "execution_count": null,
   "id": "f27f7009-4c95-46ef-9be6-79074c13a47d",
   "metadata": {},
   "outputs": [],
   "source": []
  }
 ],
 "metadata": {
  "kernelspec": {
   "display_name": "fyp",
   "language": "python",
   "name": "fyp"
  },
  "language_info": {
   "codemirror_mode": {
    "name": "ipython",
    "version": 3
   },
   "file_extension": ".py",
   "mimetype": "text/x-python",
   "name": "python",
   "nbconvert_exporter": "python",
   "pygments_lexer": "ipython3",
   "version": "3.12.9"
  }
 },
 "nbformat": 4,
 "nbformat_minor": 5
}
