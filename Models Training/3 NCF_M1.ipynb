{
 "cells": [
  {
   "cell_type": "markdown",
   "id": "ff036bd3-c45c-408f-abf2-c3f249631ca1",
   "metadata": {},
   "source": [
    "<h1>The Multi-layered Perceptron Neural Collaborative Filtering (MLP-NCF) proposed model training</h1>"
   ]
  },
  {
   "cell_type": "markdown",
   "id": "bf063ae7-c06a-40be-981d-5e7672bcccbe",
   "metadata": {},
   "source": [
    "<h2>Import necessary python library for model training</h2>"
   ]
  },
  {
   "cell_type": "code",
   "execution_count": 1,
   "id": "68c77e3d-492a-47c1-8b58-13816d13f296",
   "metadata": {},
   "outputs": [],
   "source": [
    "import zipfile\n",
    "from zipfile import ZipFile\n",
    "from torch.utils.data import Dataset, DataLoader\n",
    "import torch\n",
    "import torch.optim as optim\n",
    "import torch.nn as nn\n",
    "import os\n",
    "import pandas as pd\n",
    "import numpy as np\n",
    "import requests\n",
    "import sklearn\n",
    "from sklearn.model_selection import train_test_split\n",
    "from tqdm import tqdm\n",
    "import random\n",
    "import time\n",
    "import argparse\n",
    "import matplotlib.pyplot as plt"
   ]
  },
  {
   "cell_type": "markdown",
   "id": "a6a16cfb-aa07-47fc-b4e6-22df432ab5b2",
   "metadata": {},
   "source": [
    "<h2>The data preparation for training class</h2>"
   ]
  },
  {
   "cell_type": "code",
   "execution_count": 2,
   "id": "52f0c6ad-8c14-4d2e-89f8-24d7034d5a65",
   "metadata": {},
   "outputs": [],
   "source": [
    "class MovieLens(Dataset):\n",
    "    def __init__(self, df: pd.DataFrame, total_df: pd.DataFrame, ng_ratio:int)->None:\n",
    "        '''\n",
    "        : param df: training dataframe\n",
    "        : param total_df: the entire dataframe\n",
    "        : param ng_ratio: negative sampling ratio\n",
    "        '''\n",
    "        super(MovieLens, self).__init__()\n",
    "\n",
    "        self.df = df\n",
    "        self.total_df = total_df\n",
    "        self.ng_ratio = ng_ratio\n",
    "        self.users, self.items, self.labels = self._negative_sampling()\n",
    "\n",
    "    def __len__(self) -> int:\n",
    "        '''\n",
    "        get length of data\n",
    "        : return: len(data)\n",
    "        '''\n",
    "        return len(self.users)\n",
    "\n",
    "    def __getitem__(self, index):\n",
    "        '''\n",
    "        transform userId[index], item[index] to Tensor and return to Datalaoder object.\n",
    "        : param index: index for dataset.\n",
    "        : return: user, item, rating\n",
    "        '''\n",
    "        return self.users[index], self.items[index], self.labels[index]\n",
    "\n",
    "    def _negative_sampling(self) :\n",
    "        '''\n",
    "        sampling one positive feedback per #(ng ratio) negative feedback\n",
    "        : return: list of users, list of items, list of targets\n",
    "        '''\n",
    "        df = self.df\n",
    "        total_df = self.total_df\n",
    "        users, items, labels = [], [], []\n",
    "        user_item_set = set(zip(df['userId'], df['movieId']))\n",
    "        total_user_item_set = set(zip(total_df['userId'],total_df['movieId']))\n",
    "        all_movieIds = total_df['movieId'].unique()\n",
    "        \n",
    "        # negative feedback dataset ratio\n",
    "        negative_ratio = self.ng_ratio\n",
    "        for u, i in user_item_set:\n",
    "            # positive instance\n",
    "            users.append(u)\n",
    "            items.append(i)\n",
    "            labels.append(1.0)\n",
    "\n",
    "            #visited check\n",
    "            visited=[]\n",
    "            visited.append(i)\n",
    "            \n",
    "            # negative instance\n",
    "            for i in range(negative_ratio):\n",
    "                # first item random choice\n",
    "                negative_item = np.random.choice(all_movieIds)\n",
    " \n",
    "                # check if item and user has interaction, if true then set new value from random\n",
    "                while (u, negative_item) in total_user_item_set or negative_item in visited :\n",
    "                    negative_item = np.random.choice(all_movieIds)\n",
    "                users.append(u)\n",
    "                items.append(negative_item)\n",
    "                visited.append(negative_item)\n",
    "                labels.append(0.0)\n",
    "        print(f\"negative sampled data: {len(labels)}\")\n",
    "        return torch.tensor(users), torch.tensor(items), torch.tensor(labels)"
   ]
  },
  {
   "cell_type": "markdown",
   "id": "287da1b7-2a16-4a18-8a34-0778b6ebd1b0",
   "metadata": {},
   "source": [
    "<h2>The Multi-layered perceptron neural collaborative filtering (NCF) model</h2>"
   ]
  },
  {
   "cell_type": "code",
   "execution_count": 3,
   "id": "a3f36af9-0e70-4aeb-ba42-793cd6982291",
   "metadata": {},
   "outputs": [],
   "source": [
    "class MLP(nn.Module):\n",
    "    def __init__(self, num_users, num_items, embedding_size, layer_dims, use_NeuMF=False):\n",
    "        super(MLP, self).__init__()\n",
    "        self.user_embedding = nn.Embedding(num_users, embedding_size)\n",
    "        self.item_embedding = nn.Embedding(num_items, embedding_size)\n",
    "        \n",
    "        # Calculate input dimension for first layer\n",
    "        first_layer_input = embedding_size * 2  # Concatenated user and item embeddings\n",
    "        \n",
    "        # Build MLP layers dynamically\n",
    "        layers = []\n",
    "        input_dim = first_layer_input\n",
    "        for output_dim in layer_dims:\n",
    "            layers.append(nn.Linear(input_dim, output_dim))\n",
    "            layers.append(nn.ReLU())\n",
    "            input_dim = output_dim\n",
    "        \n",
    "        self.mlp_layers = nn.Sequential(*layers)\n",
    "        self.output_layer = nn.Linear(layer_dims[-1], 1)\n",
    "        self.sigmoid = nn.Sigmoid()\n",
    "        self._init_weights()\n",
    "\n",
    "    def _init_weights(self):\n",
    "        nn.init.normal_(self.user_embedding.weight, std=0.01)\n",
    "        nn.init.normal_(self.item_embedding.weight, std=0.01)\n",
    "        for layer in self.mlp_layers:\n",
    "            if isinstance(layer, nn.Linear):\n",
    "                nn.init.xavier_uniform_(layer.weight)\n",
    "        nn.init.xavier_uniform_(self.output_layer.weight)\n",
    "\n",
    "    def forward(self, user, item):\n",
    "        user_emb = self.user_embedding(user)\n",
    "        item_emb = self.item_embedding(item)\n",
    "        x = torch.cat([user_emb, item_emb], dim=-1)\n",
    "        x = self.mlp_layers(x)\n",
    "        x = self.output_layer(x)\n",
    "        return self.sigmoid(x).view(-1)"
   ]
  },
  {
   "cell_type": "markdown",
   "id": "2712e0b1-22fa-4ba0-8b45-6169a7e8a140",
   "metadata": {},
   "source": [
    "<h2>Evaluation Metrics</h2>"
   ]
  },
  {
   "cell_type": "code",
   "execution_count": 4,
   "id": "eecc2030-6639-4051-a9f8-bea2bc2867cd",
   "metadata": {},
   "outputs": [],
   "source": [
    "def hit(gt_item, pred_items):\n",
    "\tif gt_item in pred_items:\n",
    "\t\treturn 1\n",
    "\treturn 0\n",
    "\n",
    "def ndcg(gt_item, pred_items):\n",
    "\tif gt_item in pred_items:\n",
    "\t\tindex = pred_items.index(gt_item)\n",
    "\t\treturn np.reciprocal(np.log2(index+2))\n",
    "\treturn 0\n",
    "\n",
    "def metrics(model, data_loader, top_k, device):\n",
    "\tHR, NDCG = [], []\n",
    "\n",
    "\tfor user, item, label in data_loader:\n",
    "\n",
    "\t\tuser = user.to(device)\n",
    "\t\titem = item.to(device)\n",
    "\n",
    "\t\tpredictions = model(user, item)\n",
    "\t\t_, indices = torch.topk(predictions, top_k)\n",
    "\n",
    "\t\trecommends = torch.take(\n",
    "\t\t\t\titem, indices).cpu().numpy().tolist()\n",
    "\n",
    "\t\tgt_item = item[0].item()\n",
    "\t\tHR.append(hit(gt_item, recommends))\n",
    "\t\tNDCG.append(ndcg(gt_item, recommends))\n",
    "\n",
    "\treturn np.mean(HR), np.mean(NDCG)"
   ]
  },
  {
   "cell_type": "markdown",
   "id": "7a7df4e9-9aa2-4e56-93c4-a9ec0c1eed62",
   "metadata": {},
   "source": [
    "<h2>Model training class</h2>"
   ]
  },
  {
   "cell_type": "code",
   "execution_count": 5,
   "id": "303026e1-da28-4687-a2f0-1298a132da4d",
   "metadata": {},
   "outputs": [],
   "source": [
    "class Train():\n",
    "    def __init__(self, model: torch.nn.Module,\n",
    "                 optimizer: torch.optim,\n",
    "                 epochs: int,\n",
    "                 dataloader: torch.utils.data.dataloader,\n",
    "                 criterion: torch.nn,\n",
    "                 test_obj: torch.utils.data.dataloader,\n",
    "                 device: str = 'cuda',\n",
    "                 print_cost: bool = True,\n",
    "                 top_k: int = 10):\n",
    "        self.model = model\n",
    "        self.optimizer = optimizer\n",
    "        self.epochs = epochs\n",
    "        self.dataloader = dataloader\n",
    "        self.criterion = criterion\n",
    "        self.device = device\n",
    "        self.print_cost = print_cost\n",
    "        self.test = test_obj\n",
    "        self.top_k = top_k\n",
    "\n",
    "    def train(self):\n",
    "        model = self.model\n",
    "        optimizer = self.optimizer\n",
    "        total_epochs = self.epochs\n",
    "        dataloader = self.dataloader\n",
    "        criterion = self.criterion\n",
    "        total_batch = len(dataloader)\n",
    "        loss = []\n",
    "        device = self.device\n",
    "        test_dataloader = self.test\n",
    "\n",
    "        hr_list = []\n",
    "        ndcg_list = []\n",
    "        test_loss_list = []\n",
    "\n",
    "        for epoch in range(0, total_epochs):\n",
    "            epoch_loss = 0\n",
    "            with tqdm(total=len(dataloader), desc=f'Epoch {epoch + 1}/{total_epochs}', unit='batch') as pbar:\n",
    "                for user, item, target in dataloader:\n",
    "                    user, item, target = user.to(device), item.to(device), target.float().to(device)\n",
    "                    optimizer.zero_grad()\n",
    "                    pred = model(user, item)\n",
    "                    cost = criterion(pred, target)\n",
    "                    cost.backward()\n",
    "                    optimizer.step()\n",
    "                    epoch_loss += cost.item()\n",
    "                    pbar.update(1)\n",
    "                    pbar.set_postfix({'loss': cost.item()})\n",
    "\n",
    "            avg_epoch_loss = epoch_loss / total_batch\n",
    "            loss.append(avg_epoch_loss)\n",
    "\n",
    "            if self.print_cost:\n",
    "                HR, NDCG = metrics(model, self.test, self.top_k, device)\n",
    "\n",
    "                model.eval()\n",
    "                test_loss = 0\n",
    "                with torch.no_grad():\n",
    "                    for user, item, target in test_dataloader:\n",
    "                        user, item, target = user.to(device), item.to(device), target.float().to(device)\n",
    "                        pred = model(user, item)\n",
    "                        cost = criterion(pred, target)\n",
    "                        test_loss += cost.item()\n",
    "                avg_test_loss = test_loss / len(test_dataloader)\n",
    "                model.train()\n",
    "\n",
    "                print(\n",
    "                    \"Epochs: {}\\tAvg Train Loss: {:.4f}\\tAvg Test Loss: {:.4f}\\tHR: {:.3f}\\tNDCG: {:.3f}\".format(\n",
    "                        epoch+1, avg_epoch_loss, avg_test_loss, np.mean(HR), np.mean(NDCG)))\n",
    "\n",
    "                hr_list.append(np.mean(HR))\n",
    "                ndcg_list.append(np.mean(NDCG))\n",
    "                test_loss_list.append(avg_test_loss)\n",
    "\n",
    "        if self.print_cost:\n",
    "            print('Learning finished')\n",
    "        return loss, test_loss_list, hr_list, ndcg_list"
   ]
  },
  {
   "cell_type": "code",
   "execution_count": 6,
   "id": "34f20d01-2ab8-4b6e-8d22-29a1fb148ff5",
   "metadata": {},
   "outputs": [],
   "source": [
    "def plot_comparison_metrics(train_loss_1, test_loss_list_1, hr_list_1, ndcg_list_1,\n",
    "                           train_loss_4, test_loss_list_4, hr_list_4, ndcg_list_4, top_k):\n",
    "    epochs = np.arange(1, len(train_loss_1) + 1)\n",
    "\n",
    "    output_dir = './Training Results/'\n",
    "    os.makedirs(output_dir, exist_ok=True)\n",
    "\n",
    "    # Create a single figure with 4 subplots\n",
    "    plt.figure(figsize=(16, 12))\n",
    "    \n",
    "    # Plot Training Loss\n",
    "    plt.subplot(2, 2, 1)\n",
    "    plt.plot(epochs, train_loss_1, label='Dataset 1', marker='o')\n",
    "    plt.plot(epochs, train_loss_4, label='Dataset 2', marker='x')\n",
    "    plt.title('Training Loss Comparison')\n",
    "    plt.xlabel('Epoch')\n",
    "    plt.ylabel('Loss')\n",
    "    plt.legend()\n",
    "    plt.grid(True, linestyle='--', alpha=0.6)\n",
    "\n",
    "    # Plot Test Loss\n",
    "    plt.subplot(2, 2, 2)\n",
    "    plt.plot(epochs, test_loss_list_1, label='Dataset 1', marker='o')\n",
    "    plt.plot(epochs, test_loss_list_4, label='Dataset 2', marker='x')\n",
    "    plt.title('Test Loss Comparison')\n",
    "    plt.xlabel('Epoch')\n",
    "    plt.ylabel('Loss')\n",
    "    plt.legend()\n",
    "    plt.grid(True, linestyle='--', alpha=0.6)\n",
    "\n",
    "    # Plot HR@10\n",
    "    plt.subplot(2, 2, 3)\n",
    "    plt.plot(epochs, hr_list_1, label='Dataset 1', marker='o')\n",
    "    plt.plot(epochs, hr_list_4, label='Dataset 2', marker='x')\n",
    "    plt.title(f'Hit Ratio @ {top_k} Comparison')\n",
    "    plt.xlabel('Epoch')\n",
    "    plt.ylabel('Score')\n",
    "    plt.legend()\n",
    "    plt.grid(True, linestyle='--', alpha=0.6)\n",
    "\n",
    "    # Plot NDCG@10\n",
    "    plt.subplot(2, 2, 4)\n",
    "    plt.plot(epochs, ndcg_list_1, label='Dataset 1', marker='o')\n",
    "    plt.plot(epochs, ndcg_list_4, label='Dataset 2', marker='x')\n",
    "    plt.title(f'NDCG @ {top_k} Comparison')\n",
    "    plt.xlabel('Epoch')\n",
    "    plt.ylabel('Score')\n",
    "    plt.legend()\n",
    "    plt.grid(True, linestyle='--', alpha=0.6)\n",
    "\n",
    "    # Add main title and adjust layout\n",
    "    plt.suptitle('Model 1 Performance Comparison on Dataset 1 and Dataset 2', fontsize=16, y=1.02)\n",
    "    plt.tight_layout()\n",
    "    \n",
    "    # Save the entire figure\n",
    "    plt.savefig(os.path.join(output_dir, f'ncf_performance_comparison_top_{top_k}_D1D2_M1.png'), \n",
    "                bbox_inches='tight', dpi=300)\n",
    "    plt.show()"
   ]
  },
  {
   "cell_type": "markdown",
   "id": "6083b1be-25d1-4f20-889f-fc72367ed259",
   "metadata": {},
   "source": [
    "<h2>Putting everything together</h2>"
   ]
  },
  {
   "cell_type": "code",
   "execution_count": 7,
   "id": "89f07a97-a3f5-47ab-a7a9-dd3727c46742",
   "metadata": {},
   "outputs": [
    {
     "name": "stdout",
     "output_type": "stream",
     "text": [
      "device: cpu\n",
      "negative sampled data: 400684\n",
      "negative sampled data: 61000\n",
      "negative sampled data: 3976676\n",
      "negative sampled data: 604000\n",
      "data loaded!\n",
      "Training time: 118.99995\n"
     ]
    }
   ],
   "source": [
    "import pandas as pd\n",
    "import torch\n",
    "import argparse\n",
    "from torch.utils.data import DataLoader\n",
    "import torch.optim as optim\n",
    "import matplotlib.pyplot as plt\n",
    "import os\n",
    "import numpy as np\n",
    "import time\n",
    "\n",
    "start_time = time.time()  # Record start time\n",
    "\n",
    "# check device\n",
    "device = torch.device('cuda' if torch.cuda.is_available() else 'cpu')\n",
    "print(f'device: {device}')\n",
    "\n",
    "# print GPU information\n",
    "if torch.cuda.is_available():\n",
    "    print('Current cuda device:', torch.cuda.current_device())\n",
    "    print('Count of using GPUs:', torch.cuda.device_count())\n",
    "\n",
    "# directory to save checkpoints\n",
    "pretrain_dir = 'ncf_models'\n",
    "if not os.path.isdir(pretrain_dir):\n",
    "    os.makedirs(pretrain_dir)\n",
    "\n",
    "# the train, test and total dataset\n",
    "train_df_1 = pd.read_csv(\"./Datasets/train_D1.csv\")\n",
    "test_df_1 = pd.read_csv(\"./Datasets/test_D1.csv\")\n",
    "total_df_1 = pd.read_csv(\"./Datasets/ratings_preprocessed_D1.csv\")\n",
    "\n",
    "train_df_4 = pd.read_csv(\"./Datasets/train_D2.csv\")\n",
    "test_df_4 = pd.read_csv(\"./Datasets/test_D2.csv\")\n",
    "total_df_4 = pd.read_csv(\"./Datasets/ratings_preprocessed_D2.csv\")\n",
    "\n",
    "# make torch.utils.data.Data object\n",
    "train_set_1 = MovieLens(df=train_df_1, total_df=total_df_1, ng_ratio=3)\n",
    "test_set_1 = MovieLens(df=test_df_1, total_df=total_df_1, ng_ratio=99)\n",
    "train_set_4 = MovieLens(df=train_df_4, total_df=total_df_4, ng_ratio=3)\n",
    "test_set_4 = MovieLens(df=test_df_4, total_df=total_df_4, ng_ratio=99)\n",
    "\n",
    "# Find Global Maximums\n",
    "max_num_users_global = max(total_df_1['userId'].max(), total_df_4['userId'].max()) + 1  #, total_df_2['userId'].max()\n",
    "max_num_items_global = max(total_df_1['movieId'].max(), total_df_4['movieId'].max()) + 1  #, total_df_2['movieId'].max()\n",
    "\n",
    "print('data loaded!')\n",
    "\n",
    "# dataloader for train_dataset\n",
    "dataloader_train_1 = DataLoader(dataset=train_set_1, batch_size=256, shuffle=True, num_workers=0)\n",
    "\n",
    "# dataloader for test_dataset\n",
    "dataloader_test_1 = DataLoader(dataset=test_set_1, batch_size=100, shuffle=False, num_workers=0, drop_last=True)\n",
    "\n",
    "# dataloader for train_dataset\n",
    "dataloader_train_4 = DataLoader(dataset=train_set_4, batch_size=256, shuffle=True, num_workers=0)\n",
    "\n",
    "# dataloader for test_dataset\n",
    "dataloader_test_4 = DataLoader(dataset=test_set_4, batch_size=100, shuffle=False, num_workers=0, drop_last=True)\n",
    "\n",
    "model = MLP(num_users=max_num_users_global, num_items=max_num_items_global, embedding_size=32, layer_dims=[64,32,16], use_NeuMF=False) #emb size, layer\n",
    "\n",
    "# Initialize optimizer and loss function\n",
    "optimizer = torch.optim.Adam(model.parameters(), lr=0.005) #learning rate\n",
    "\n",
    "# objective function is log loss (Cross-entropy loss)\n",
    "criterion = torch.nn.BCELoss()\n",
    "\n",
    "model.to(device)\n",
    "save_model = True\n",
    "\n",
    "end_time = time.time()    # Record end time\n",
    "training_time = end_time - start_time  # Calculate training time\n",
    "print(f\"Training time: {training_time:.5f}\")  # Print the training time"
   ]
  },
  {
   "cell_type": "markdown",
   "id": "dac87c73-10a0-41e1-9610-54a0011e66dd",
   "metadata": {},
   "source": [
    "<h2>Dataset 1 Model Training</h2>"
   ]
  },
  {
   "cell_type": "code",
   "execution_count": 9,
   "id": "553c25a2-b7f6-4987-8838-b93b7b2c5fa4",
   "metadata": {},
   "outputs": [
    {
     "name": "stderr",
     "output_type": "stream",
     "text": [
      "Epoch 1/15: 100%|███████████████████████████████████████████████████| 1566/1566 [01:24<00:00, 18.50batch/s, loss=0.439]\n"
     ]
    },
    {
     "name": "stdout",
     "output_type": "stream",
     "text": [
      "Epochs: 1\tAvg Train Loss: 0.3974\tAvg Test Loss: 0.1823\tHR: 0.590\tNDCG: 0.325\n"
     ]
    },
    {
     "name": "stderr",
     "output_type": "stream",
     "text": [
      "Epoch 2/15: 100%|███████████████████████████████████████████████████| 1566/1566 [01:27<00:00, 17.87batch/s, loss=0.215]\n"
     ]
    },
    {
     "name": "stdout",
     "output_type": "stream",
     "text": [
      "Epochs: 2\tAvg Train Loss: 0.3222\tAvg Test Loss: 0.1887\tHR: 0.613\tNDCG: 0.354\n"
     ]
    },
    {
     "name": "stderr",
     "output_type": "stream",
     "text": [
      "Epoch 3/15: 100%|███████████████████████████████████████████████████| 1566/1566 [01:27<00:00, 17.90batch/s, loss=0.136]\n"
     ]
    },
    {
     "name": "stdout",
     "output_type": "stream",
     "text": [
      "Epochs: 3\tAvg Train Loss: 0.2779\tAvg Test Loss: 0.1858\tHR: 0.608\tNDCG: 0.356\n"
     ]
    },
    {
     "name": "stderr",
     "output_type": "stream",
     "text": [
      "Epoch 4/15: 100%|████████████████████████████████████████████████████| 1566/1566 [01:31<00:00, 17.16batch/s, loss=0.31]\n"
     ]
    },
    {
     "name": "stdout",
     "output_type": "stream",
     "text": [
      "Epochs: 4\tAvg Train Loss: 0.2430\tAvg Test Loss: 0.1915\tHR: 0.644\tNDCG: 0.369\n"
     ]
    },
    {
     "name": "stderr",
     "output_type": "stream",
     "text": [
      "Epoch 5/15: 100%|███████████████████████████████████████████████████| 1566/1566 [01:29<00:00, 17.48batch/s, loss=0.262]\n"
     ]
    },
    {
     "name": "stdout",
     "output_type": "stream",
     "text": [
      "Epochs: 5\tAvg Train Loss: 0.2188\tAvg Test Loss: 0.1880\tHR: 0.631\tNDCG: 0.366\n"
     ]
    },
    {
     "name": "stderr",
     "output_type": "stream",
     "text": [
      "Epoch 6/15: 100%|███████████████████████████████████████████████████| 1566/1566 [01:36<00:00, 16.15batch/s, loss=0.187]\n"
     ]
    },
    {
     "name": "stdout",
     "output_type": "stream",
     "text": [
      "Epochs: 6\tAvg Train Loss: 0.2010\tAvg Test Loss: 0.2106\tHR: 0.631\tNDCG: 0.366\n"
     ]
    },
    {
     "name": "stderr",
     "output_type": "stream",
     "text": [
      "Epoch 7/15: 100%|███████████████████████████████████████████████████| 1566/1566 [01:34<00:00, 16.60batch/s, loss=0.158]\n"
     ]
    },
    {
     "name": "stdout",
     "output_type": "stream",
     "text": [
      "Epochs: 7\tAvg Train Loss: 0.1864\tAvg Test Loss: 0.2515\tHR: 0.628\tNDCG: 0.369\n"
     ]
    },
    {
     "name": "stderr",
     "output_type": "stream",
     "text": [
      "Epoch 8/15: 100%|████████████████████████████████████████████████████| 1566/1566 [01:33<00:00, 16.78batch/s, loss=0.22]\n"
     ]
    },
    {
     "name": "stdout",
     "output_type": "stream",
     "text": [
      "Epochs: 8\tAvg Train Loss: 0.1747\tAvg Test Loss: 0.2246\tHR: 0.625\tNDCG: 0.360\n"
     ]
    },
    {
     "name": "stderr",
     "output_type": "stream",
     "text": [
      "Epoch 9/15: 100%|███████████████████████████████████████████████████| 1566/1566 [01:32<00:00, 16.95batch/s, loss=0.269]\n"
     ]
    },
    {
     "name": "stdout",
     "output_type": "stream",
     "text": [
      "Epochs: 9\tAvg Train Loss: 0.1656\tAvg Test Loss: 0.2103\tHR: 0.621\tNDCG: 0.362\n"
     ]
    },
    {
     "name": "stderr",
     "output_type": "stream",
     "text": [
      "Epoch 10/15: 100%|███████████████████████████████████████████████████| 1566/1566 [01:32<00:00, 16.93batch/s, loss=0.18]\n"
     ]
    },
    {
     "name": "stdout",
     "output_type": "stream",
     "text": [
      "Epochs: 10\tAvg Train Loss: 0.1570\tAvg Test Loss: 0.2545\tHR: 0.626\tNDCG: 0.356\n"
     ]
    },
    {
     "name": "stderr",
     "output_type": "stream",
     "text": [
      "Epoch 11/15: 100%|██████████████████████████████████████████████████| 1566/1566 [01:32<00:00, 16.96batch/s, loss=0.105]\n"
     ]
    },
    {
     "name": "stdout",
     "output_type": "stream",
     "text": [
      "Epochs: 11\tAvg Train Loss: 0.1493\tAvg Test Loss: 0.2740\tHR: 0.628\tNDCG: 0.353\n"
     ]
    },
    {
     "name": "stderr",
     "output_type": "stream",
     "text": [
      "Epoch 12/15: 100%|██████████████████████████████████████████████████| 1566/1566 [01:35<00:00, 16.46batch/s, loss=0.148]\n"
     ]
    },
    {
     "name": "stdout",
     "output_type": "stream",
     "text": [
      "Epochs: 12\tAvg Train Loss: 0.1427\tAvg Test Loss: 0.2788\tHR: 0.621\tNDCG: 0.351\n"
     ]
    },
    {
     "name": "stderr",
     "output_type": "stream",
     "text": [
      "Epoch 13/15: 100%|██████████████████████████████████████████████████| 1566/1566 [01:27<00:00, 17.82batch/s, loss=0.181]\n"
     ]
    },
    {
     "name": "stdout",
     "output_type": "stream",
     "text": [
      "Epochs: 13\tAvg Train Loss: 0.1364\tAvg Test Loss: 0.2704\tHR: 0.621\tNDCG: 0.352\n"
     ]
    },
    {
     "name": "stderr",
     "output_type": "stream",
     "text": [
      "Epoch 14/15: 100%|██████████████████████████████████████████████████| 1566/1566 [01:31<00:00, 17.20batch/s, loss=0.129]\n"
     ]
    },
    {
     "name": "stdout",
     "output_type": "stream",
     "text": [
      "Epochs: 14\tAvg Train Loss: 0.1310\tAvg Test Loss: 0.2750\tHR: 0.626\tNDCG: 0.348\n"
     ]
    },
    {
     "name": "stderr",
     "output_type": "stream",
     "text": [
      "Epoch 15/15: 100%|█████████████████████████████████████████████████| 1566/1566 [01:30<00:00, 17.30batch/s, loss=0.0595]\n"
     ]
    },
    {
     "name": "stdout",
     "output_type": "stream",
     "text": [
      "Epochs: 15\tAvg Train Loss: 0.1254\tAvg Test Loss: 0.2790\tHR: 0.631\tNDCG: 0.355\n",
      "Learning finished\n",
      "Training time: 1422.54342 seconds\n"
     ]
    }
   ],
   "source": [
    "# Initialize trainer with customizable top_k\n",
    "\n",
    "trainer_1 = Train(model=model,\n",
    "              optimizer=optimizer,\n",
    "              criterion=criterion,\n",
    "              epochs=15,\n",
    "              test_obj=dataloader_test_1,\n",
    "              dataloader=dataloader_train_1,\n",
    "              device=device,\n",
    "              print_cost=True,\n",
    "              top_k=10)\n",
    "    \n",
    "# measuring time\n",
    "start = time.time()\n",
    "loss_1, test_loss_list_1, hr_list_1, ndcg_list_1 = trainer_1.train()\n",
    "\n",
    "end = time.time()\n",
    "\n",
    "time_message = f'Training time: {end-start:.5f} seconds'\n",
    "print(time_message)"
   ]
  },
  {
   "cell_type": "markdown",
   "id": "b557102e-7265-409f-a667-3c28a6e97eea",
   "metadata": {},
   "source": [
    "<h2>Dataset 4 Model Training</h2>"
   ]
  },
  {
   "cell_type": "code",
   "execution_count": 8,
   "id": "f61a06d4-19d5-4e6f-9ef4-f5240dbf85ea",
   "metadata": {},
   "outputs": [
    {
     "name": "stderr",
     "output_type": "stream",
     "text": [
      "Epoch 1/15: 100%|█████████████████████████████████████████████████| 15534/15534 [14:22<00:00, 18.00batch/s, loss=0.386]\n"
     ]
    },
    {
     "name": "stdout",
     "output_type": "stream",
     "text": [
      "Epochs: 1\tAvg Train Loss: 0.3845\tAvg Test Loss: 0.2273\tHR: 0.524\tNDCG: 0.290\n"
     ]
    },
    {
     "name": "stderr",
     "output_type": "stream",
     "text": [
      "Epoch 2/15: 100%|██████████████████████████████████████████████████| 15534/15534 [14:47<00:00, 17.51batch/s, loss=0.36]\n"
     ]
    },
    {
     "name": "stdout",
     "output_type": "stream",
     "text": [
      "Epochs: 2\tAvg Train Loss: 0.3362\tAvg Test Loss: 0.2001\tHR: 0.579\tNDCG: 0.329\n"
     ]
    },
    {
     "name": "stderr",
     "output_type": "stream",
     "text": [
      "Epoch 3/15: 100%|█████████████████████████████████████████████████| 15534/15534 [14:17<00:00, 18.11batch/s, loss=0.328]\n"
     ]
    },
    {
     "name": "stdout",
     "output_type": "stream",
     "text": [
      "Epochs: 3\tAvg Train Loss: 0.3124\tAvg Test Loss: 0.1943\tHR: 0.615\tNDCG: 0.347\n"
     ]
    },
    {
     "name": "stderr",
     "output_type": "stream",
     "text": [
      "Epoch 4/15: 100%|█████████████████████████████████████████████████| 15534/15534 [14:21<00:00, 18.03batch/s, loss=0.348]\n"
     ]
    },
    {
     "name": "stdout",
     "output_type": "stream",
     "text": [
      "Epochs: 4\tAvg Train Loss: 0.2998\tAvg Test Loss: 0.1890\tHR: 0.628\tNDCG: 0.360\n"
     ]
    },
    {
     "name": "stderr",
     "output_type": "stream",
     "text": [
      "Epoch 5/15: 100%|█████████████████████████████████████████████████| 15534/15534 [14:41<00:00, 17.61batch/s, loss=0.309]\n"
     ]
    },
    {
     "name": "stdout",
     "output_type": "stream",
     "text": [
      "Epochs: 5\tAvg Train Loss: 0.2913\tAvg Test Loss: 0.1885\tHR: 0.632\tNDCG: 0.362\n"
     ]
    },
    {
     "name": "stderr",
     "output_type": "stream",
     "text": [
      "Epoch 6/15: 100%|█████████████████████████████████████████████████| 15534/15534 [14:54<00:00, 17.37batch/s, loss=0.307]\n"
     ]
    },
    {
     "name": "stdout",
     "output_type": "stream",
     "text": [
      "Epochs: 6\tAvg Train Loss: 0.2844\tAvg Test Loss: 0.1619\tHR: 0.642\tNDCG: 0.370\n"
     ]
    },
    {
     "name": "stderr",
     "output_type": "stream",
     "text": [
      "Epoch 7/15: 100%|█████████████████████████████████████████████████| 15534/15534 [16:41<00:00, 15.51batch/s, loss=0.284]\n"
     ]
    },
    {
     "name": "stdout",
     "output_type": "stream",
     "text": [
      "Epochs: 7\tAvg Train Loss: 0.2787\tAvg Test Loss: 0.1497\tHR: 0.643\tNDCG: 0.373\n"
     ]
    },
    {
     "name": "stderr",
     "output_type": "stream",
     "text": [
      "Epoch 8/15: 100%|█████████████████████████████████████████████████| 15534/15534 [16:01<00:00, 16.16batch/s, loss=0.274]\n"
     ]
    },
    {
     "name": "stdout",
     "output_type": "stream",
     "text": [
      "Epochs: 8\tAvg Train Loss: 0.2739\tAvg Test Loss: 0.1815\tHR: 0.642\tNDCG: 0.374\n"
     ]
    },
    {
     "name": "stderr",
     "output_type": "stream",
     "text": [
      "Epoch 9/15: 100%|█████████████████████████████████████████████████| 15534/15534 [14:55<00:00, 17.34batch/s, loss=0.258]\n"
     ]
    },
    {
     "name": "stdout",
     "output_type": "stream",
     "text": [
      "Epochs: 9\tAvg Train Loss: 0.2695\tAvg Test Loss: 0.1794\tHR: 0.647\tNDCG: 0.380\n"
     ]
    },
    {
     "name": "stderr",
     "output_type": "stream",
     "text": [
      "Epoch 10/15: 100%|████████████████████████████████████████████████| 15534/15534 [15:34<00:00, 16.62batch/s, loss=0.318]\n"
     ]
    },
    {
     "name": "stdout",
     "output_type": "stream",
     "text": [
      "Epochs: 10\tAvg Train Loss: 0.2657\tAvg Test Loss: 0.1829\tHR: 0.650\tNDCG: 0.385\n"
     ]
    },
    {
     "name": "stderr",
     "output_type": "stream",
     "text": [
      "Epoch 11/15: 100%|████████████████████████████████████████████████| 15534/15534 [15:16<00:00, 16.95batch/s, loss=0.236]\n"
     ]
    },
    {
     "name": "stdout",
     "output_type": "stream",
     "text": [
      "Epochs: 11\tAvg Train Loss: 0.2626\tAvg Test Loss: 0.2036\tHR: 0.646\tNDCG: 0.379\n"
     ]
    },
    {
     "name": "stderr",
     "output_type": "stream",
     "text": [
      "Epoch 12/15: 100%|████████████████████████████████████████████████| 15534/15534 [14:53<00:00, 17.38batch/s, loss=0.279]\n"
     ]
    },
    {
     "name": "stdout",
     "output_type": "stream",
     "text": [
      "Epochs: 12\tAvg Train Loss: 0.2597\tAvg Test Loss: 0.2001\tHR: 0.649\tNDCG: 0.379\n"
     ]
    },
    {
     "name": "stderr",
     "output_type": "stream",
     "text": [
      "Epoch 13/15: 100%|████████████████████████████████████████████████| 15534/15534 [15:24<00:00, 16.80batch/s, loss=0.293]\n"
     ]
    },
    {
     "name": "stdout",
     "output_type": "stream",
     "text": [
      "Epochs: 13\tAvg Train Loss: 0.2573\tAvg Test Loss: 0.1931\tHR: 0.651\tNDCG: 0.379\n"
     ]
    },
    {
     "name": "stderr",
     "output_type": "stream",
     "text": [
      "Epoch 14/15: 100%|████████████████████████████████████████████████| 15534/15534 [14:49<00:00, 17.45batch/s, loss=0.331]\n"
     ]
    },
    {
     "name": "stdout",
     "output_type": "stream",
     "text": [
      "Epochs: 14\tAvg Train Loss: 0.2551\tAvg Test Loss: 0.1733\tHR: 0.644\tNDCG: 0.377\n"
     ]
    },
    {
     "name": "stderr",
     "output_type": "stream",
     "text": [
      "Epoch 15/15: 100%|████████████████████████████████████████████████| 15534/15534 [16:41<00:00, 15.51batch/s, loss=0.256]\n"
     ]
    },
    {
     "name": "stdout",
     "output_type": "stream",
     "text": [
      "Epochs: 15\tAvg Train Loss: 0.2530\tAvg Test Loss: 0.1839\tHR: 0.650\tNDCG: 0.382\n",
      "Learning finished\n",
      "Training time: 14202.67160 seconds\n"
     ]
    }
   ],
   "source": [
    "# Initialize trainer with customizable top_k\n",
    "\n",
    "trainer_2 = Train(model=model,\n",
    "              optimizer=optimizer,\n",
    "              criterion=criterion,\n",
    "              epochs=15,\n",
    "              test_obj=dataloader_test_4,\n",
    "              dataloader=dataloader_train_4,\n",
    "              device=device,\n",
    "              print_cost=True,\n",
    "              top_k=10)\n",
    "    \n",
    "# measuring time\n",
    "start = time.time()\n",
    "loss_4, test_loss_list_4, hr_list_4, ndcg_list_4 = trainer_2.train()\n",
    "\n",
    "end = time.time()\n",
    "\n",
    "time_message = f'Training time: {end-start:.5f} seconds'\n",
    "print(time_message)"
   ]
  },
  {
   "cell_type": "markdown",
   "id": "8fbfb201-c3d8-4e6f-ba3c-5a8d8d2aa4d6",
   "metadata": {},
   "source": [
    "<h2>Plotting Graphs</h2>"
   ]
  },
  {
   "cell_type": "code",
   "execution_count": 10,
   "id": "283f1afd-1689-4121-aa56-6772c6185910",
   "metadata": {},
   "outputs": [
    {
     "data": {
      "image/png": "[encoded data removed]",
      "text/plain": [
       "<Figure size 1600x1200 with 4 Axes>"
      ]
     },
     "metadata": {},
     "output_type": "display_data"
    }
   ],
   "source": [
    "plot_comparison_metrics(loss_1, test_loss_list_1, hr_list_1, ndcg_list_1, loss_4, test_loss_list_4, hr_list_4, ndcg_list_4, top_k=trainer_2.top_k)"
   ]
  },
  {
   "cell_type": "code",
   "execution_count": 11,
   "id": "5d8c37b5-c0b2-4cfd-85ad-b0ceae28ef2e",
   "metadata": {},
   "outputs": [
    {
     "data": {
      "text/plain": [
       "MLP(\n",
       "  (user_embedding): Embedding(6041, 32)\n",
       "  (item_embedding): Embedding(193610, 32)\n",
       "  (mlp_layers): Sequential(\n",
       "    (0): Linear(in_features=64, out_features=64, bias=True)\n",
       "    (1): ReLU()\n",
       "    (2): Linear(in_features=64, out_features=32, bias=True)\n",
       "    (3): ReLU()\n",
       "    (4): Linear(in_features=32, out_features=16, bias=True)\n",
       "    (5): ReLU()\n",
       "  )\n",
       "  (output_layer): Linear(in_features=16, out_features=1, bias=True)\n",
       "  (sigmoid): Sigmoid()\n",
       ")"
      ]
     },
     "execution_count": 11,
     "metadata": {},
     "output_type": "execute_result"
    }
   ],
   "source": [
    "model"
   ]
  },
  {
   "cell_type": "markdown",
   "id": "5beb4616-19cb-4b4d-9ecf-c7a0715b7902",
   "metadata": {},
   "source": [
    "<h2>Inference Checking</h2>"
   ]
  },
  {
   "cell_type": "markdown",
   "id": "4e73193e-e866-49cb-95c0-0f0a58dd3f4c",
   "metadata": {},
   "source": [
    "<h3>Getting inference with corresponding metrics from a test set</h3>"
   ]
  },
  {
   "cell_type": "code",
   "execution_count": 12,
   "id": "c2549ae0-c4b8-4680-96a9-07594b495cbb",
   "metadata": {},
   "outputs": [
    {
     "name": "stdout",
     "output_type": "stream",
     "text": [
      "Evaluation Metrics:\n",
      "HR@10: 0.631\n",
      "NDCG@10: 0.355\n",
      "\n",
      "User: 31\n",
      "Ground Truth: Pallbearer, The (1996) (MovieID: 612)\n",
      "\n",
      "Top 10 Recommendations for User 31:\n",
      "1. Scarface (1983) (MovieID: 4262, Score: 0.897)\n",
      "2. National Lampoon's Van Wilder (2002) (MovieID: 5283, Score: 0.806)\n",
      "3. Ed Wood (1994) (MovieID: 235, Score: 0.679)\n",
      "4. Lightning Jack (1994) (MovieID: 487, Score: 0.586)\n",
      "5. Wag the Dog (1997) (MovieID: 1747, Score: 0.348)\n",
      "6. Pinocchio (1940) (MovieID: 596, Score: 0.317)\n",
      "7. Pallbearer, The (1996) (MovieID: 612, Score: 0.262)\n",
      "8. 'burbs, The (1989) (MovieID: 2072, Score: 0.262)\n",
      "9. Eaten Alive (1977) (MovieID: 3294, Score: 0.262)\n",
      "10. Boot, Das (Boat, The) (1981) (MovieID: 1233, Score: 0.262)\n"
     ]
    }
   ],
   "source": [
    "def metrics_with_recommendations_with_titles(model, test_loader, top_k, total_dataframe, device):\n",
    "    \"\"\"\n",
    "    Function to return recommendations with metrics and predicted scores.\n",
    "\n",
    "    Parameters:\n",
    "    -----------\n",
    "    model: The trained model checkpoints\n",
    "    test_loader: The test data loader\n",
    "    top_k: Total numbers of movies to recommend\n",
    "    total_dataframe: The total dataframe to map the id of the movie with title\n",
    "    device: According to availability CPU or a GPU\n",
    "\n",
    "    Returns:\n",
    "    ---------\n",
    "    HR: The Hit rate metrics\n",
    "    NDCG: The NDCG metrics\n",
    "    all_recommendations: The top_k recommended movies with titles and predicted scores\n",
    "    \"\"\"\n",
    "    HR, NDCG, all_recommendations = [], [], []\n",
    "\n",
    "    for user, item, label in test_loader:\n",
    "        user = user.to(device)\n",
    "        item = item.to(device)\n",
    "\n",
    "        predictions = model(user, item)\n",
    "        # Get top-k predictions and their indices\n",
    "        top_k_scores, top_k_indices = torch.topk(predictions, top_k)\n",
    "\n",
    "        # Convert to lists\n",
    "        recommends = torch.take(item, top_k_indices).cpu().numpy().tolist()\n",
    "        recommend_scores = top_k_scores.cpu().detach().numpy().tolist()\n",
    "\n",
    "        # Ground truth item\n",
    "        gt_item = item[0].item()\n",
    "        HR.append(hit(gt_item, recommends))\n",
    "        NDCG.append(ndcg(gt_item, recommends))\n",
    "\n",
    "        # Get movie titles and scores for the recommended movies\n",
    "        recommended_movies = []\n",
    "        for rec, score in zip(recommends, recommend_scores):\n",
    "            title = total_dataframe[total_dataframe['movieId'] == rec]['title'].values[0]\n",
    "            recommended_movies.append({\n",
    "                'movieId': rec,\n",
    "                'title': title,\n",
    "                'score': float(score)  # Convert numpy float to Python float for JSON compatibility\n",
    "            })\n",
    "\n",
    "        all_recommendations.append({\n",
    "            'user': user[0].item() if user.numel() == 1 else user.tolist()[0],  # Ensure single user per batch\n",
    "            'ground_truth': {\n",
    "                'movieId': gt_item,\n",
    "                'title': total_dataframe[total_dataframe['movieId'] == gt_item]['title'].values[0]\n",
    "            },\n",
    "            'recommendations': recommended_movies\n",
    "        })\n",
    "\n",
    "    return np.mean(HR), np.mean(NDCG), all_recommendations\n",
    "\n",
    "# main HERE\n",
    "k = 10 # change the value of k here\n",
    "\n",
    "HR, NDCG, all_recommendations = metrics_with_recommendations_with_titles(\n",
    "    model, \n",
    "    test_loader=dataloader_test_1, \n",
    "    top_k=k,\n",
    "    total_dataframe=total_df_1, \n",
    "    device=device\n",
    ")\n",
    "\n",
    "# Print metrics\n",
    "print(f\"Evaluation Metrics:\")\n",
    "print(f\"HR@{k}: {HR:.3f}\")\n",
    "print(f\"NDCG@{k}: {NDCG:.3f}\")\n",
    "\n",
    "# Print recommendations with scores (for the first user)\n",
    "first_user_rec = all_recommendations[0]\n",
    "print(f\"\\nUser: {first_user_rec['user']}\")\n",
    "print(f\"Ground Truth: {first_user_rec['ground_truth']['title']} (MovieID: {first_user_rec['ground_truth']['movieId']})\")\n",
    "print(f\"\\nTop {k} Recommendations for User {first_user_rec['user']}:\") # attention HERE\n",
    "for idx, rec in enumerate(first_user_rec['recommendations'], 1):\n",
    "    print(f\"{idx}. {rec['title']} (MovieID: {rec['movieId']}, Score: {rec['score']:.3f})\")"
   ]
  },
  {
   "cell_type": "code",
   "execution_count": 13,
   "id": "6b6a45aa-3ad0-4517-a8bc-9f1e790cdfe2",
   "metadata": {},
   "outputs": [
    {
     "name": "stdout",
     "output_type": "stream",
     "text": [
      "Evaluation Metrics:\n",
      "HR@10: 0.469\n",
      "NDCG@10: 0.242\n",
      "\n",
      "User: 891\n",
      "Ground Truth: Devil's Own, The (1997) (MovieID: 1488)\n",
      "\n",
      "Top 10 Recommendations for User 891:\n",
      "1. Fargo (1996) (MovieID: 608, Score: 0.996)\n",
      "2. Sword in the Stone, The (1963) (MovieID: 1025, Score: 0.917)\n",
      "3. Robin Hood (1973) (MovieID: 3034, Score: 0.846)\n",
      "4. Star Trek: First Contact (1996) (MovieID: 1356, Score: 0.845)\n",
      "5. Vertigo (1958) (MovieID: 903, Score: 0.813)\n",
      "6. Firm, The (1993) (MovieID: 454, Score: 0.765)\n",
      "7. Trainspotting (1996) (MovieID: 778, Score: 0.761)\n",
      "8. Spring Fever USA (a.k.a. Lauderdale) (1989) (MovieID: 3123, Score: 0.731)\n",
      "9. Boogie Nights (1997) (MovieID: 1673, Score: 0.684)\n",
      "10. Breakfast at Tiffany's (1961) (MovieID: 902, Score: 0.677)\n"
     ]
    }
   ],
   "source": [
    "def metrics_with_recommendations_with_titles(model, test_loader, top_k, total_dataframe, device):\n",
    "    \"\"\"\n",
    "    Function to return recommendations with metrics and predicted scores.\n",
    "\n",
    "    Parameters:\n",
    "    -----------\n",
    "    model: The trained model checkpoints\n",
    "    test_loader: The test data loader\n",
    "    top_k: Total numbers of movies to recommend\n",
    "    total_dataframe: The total dataframe to map the id of the movie with title\n",
    "    device: According to availability CPU or a GPU\n",
    "\n",
    "    Returns:\n",
    "    ---------\n",
    "    HR: The Hit rate metrics\n",
    "    NDCG: The NDCG metrics\n",
    "    all_recommendations: The top_k recommended movies with titles and predicted scores\n",
    "    \"\"\"\n",
    "    HR, NDCG, all_recommendations = [], [], []\n",
    "\n",
    "    for user, item, label in test_loader:\n",
    "        user = user.to(device)\n",
    "        item = item.to(device)\n",
    "\n",
    "        predictions = model(user, item)\n",
    "        # Get top-k predictions and their indices\n",
    "        top_k_scores, top_k_indices = torch.topk(predictions, top_k)\n",
    "\n",
    "        # Convert to lists\n",
    "        recommends = torch.take(item, top_k_indices).cpu().numpy().tolist()\n",
    "        recommend_scores = top_k_scores.cpu().detach().numpy().tolist()\n",
    "\n",
    "        # Ground truth item\n",
    "        gt_item = item[0].item()\n",
    "        HR.append(hit(gt_item, recommends))\n",
    "        NDCG.append(ndcg(gt_item, recommends))\n",
    "\n",
    "        # Get movie titles and scores for the recommended movies\n",
    "        recommended_movies = []\n",
    "        for rec, score in zip(recommends, recommend_scores):\n",
    "            title = total_dataframe[total_dataframe['movieId'] == rec]['title'].values[0]\n",
    "            recommended_movies.append({\n",
    "                'movieId': rec,\n",
    "                'title': title,\n",
    "                'score': float(score)  # Convert numpy float to Python float for JSON compatibility\n",
    "            })\n",
    "\n",
    "        all_recommendations.append({\n",
    "            'user': user[0].item() if user.numel() == 1 else user.tolist()[0],  # Ensure single user per batch\n",
    "            'ground_truth': {\n",
    "                'movieId': gt_item,\n",
    "                'title': total_dataframe[total_dataframe['movieId'] == gt_item]['title'].values[0]\n",
    "            },\n",
    "            'recommendations': recommended_movies\n",
    "        })\n",
    "\n",
    "    return np.mean(HR), np.mean(NDCG), all_recommendations\n",
    "\n",
    "# main HERE\n",
    "k = 10 # change the value of k here\n",
    "HR, NDCG, all_recommendations = metrics_with_recommendations_with_titles(\n",
    "    model, \n",
    "    test_loader=dataloader_test_4, \n",
    "    top_k=k, \n",
    "    total_dataframe=total_df_4, \n",
    "    device=device\n",
    ")\n",
    "\n",
    "print(f\"Evaluation Metrics:\")\n",
    "print(f\"HR@{k}: {HR:.3f}\")\n",
    "print(f\"NDCG@{k}: {NDCG:.3f}\")\n",
    "\n",
    "# Print recommendations with scores (for the first user)\n",
    "first_user_rec = all_recommendations[0]\n",
    "print(f\"\\nUser: {first_user_rec['user']}\")\n",
    "print(f\"Ground Truth: {first_user_rec['ground_truth']['title']} (MovieID: {first_user_rec['ground_truth']['movieId']})\")\n",
    "print(f\"\\nTop {k} Recommendations for User {first_user_rec['user']}:\") # attention HERE\n",
    "for idx, rec in enumerate(first_user_rec['recommendations'], 1):\n",
    "    print(f\"{idx}. {rec['title']} (MovieID: {rec['movieId']}, Score: {rec['score']:.3f})\")"
   ]
  },
  {
   "cell_type": "markdown",
   "id": "edc59644-3757-498d-b11a-645aee08c8a6",
   "metadata": {},
   "source": [
    "<h3>Getting recommendations for an existing user of the system</h3>"
   ]
  },
  {
   "cell_type": "code",
   "execution_count": 14,
   "id": "2e374629-c41d-4e31-82c9-1abca1f3c612",
   "metadata": {},
   "outputs": [
    {
     "name": "stdout",
     "output_type": "stream",
     "text": [
      "User ID 1 found in the test loader.\n",
      "\n",
      "Top 10 Recommendations for User 1:\n",
      "1. Goofy Movie, A (1995) (ID: 239) | Score: 0.986\n",
      "2. Addams Family Values (1993) (ID: 410) | Score: 0.985\n",
      "3. Dracula (Bram Stoker's Dracula) (1992) (ID: 1339) | Score: 0.979\n",
      "4. George of the Jungle (1997) (ID: 1588) | Score: 0.972\n",
      "5. Rocky IV (1985) (ID: 2411) | Score: 0.968\n",
      "6. Adventures of Priscilla, Queen of the Desert, The (1994) (ID: 345) | Score: 0.885\n",
      "7. Rounders (1998) (ID: 2231) | Score: 0.863\n",
      "8. Bowfinger (1999) (ID: 2770) | Score: 0.828\n",
      "9. Sphere (1998) (ID: 1779) | Score: 0.750\n",
      "10. Wyatt Earp (1994) (ID: 383) | Score: 0.407\n"
     ]
    }
   ],
   "source": [
    "def inference_for_single_user_by_id(model, user_id, top_k, total_dataframe, test_loader, device):\n",
    "    \"\"\"\n",
    "    Function to perform inference for a single user by user ID and return recommendations with metrics.\n",
    "\n",
    "    Parameters:\n",
    "    -----------\n",
    "    model: The trained model checkpoints\n",
    "    user_id: The ID of the user for whom to make recommendations\n",
    "    top_k: Total numbers of movies to recommend\n",
    "    total_dataframe: The total dataframe to map the id of the movie with title\n",
    "    test_loader: The DataLoader for the test set\n",
    "    device: According to availability CPU or a GPU\n",
    "\n",
    "    Returns:\n",
    "    ---------\n",
    "    recommendations: Dictionary with user ID, ground truth, and recommended movies with scores\n",
    "    \"\"\"\n",
    "    user_found = False\n",
    "    \n",
    "    for user, item, label in test_loader:\n",
    "        if user[0].item() == user_id:\n",
    "            user_found = True\n",
    "            user = user.to(device)\n",
    "            item = item.to(device)\n",
    "\n",
    "            print(f\"User ID {user_id} found in the test loader.\")\n",
    "            predictions = model(user, item)\n",
    "            top_k_scores, top_k_indices = torch.topk(predictions, top_k)\n",
    "\n",
    "            # Convert to lists\n",
    "            recommends = torch.take(item, top_k_indices).cpu().numpy().tolist()\n",
    "            recommend_scores = top_k_scores.cpu().detach().numpy().tolist()\n",
    "\n",
    "            # Get movie details for the recommended movies\n",
    "            recommended_movies = []\n",
    "            for rec, score in zip(recommends, recommend_scores):\n",
    "                title = total_dataframe[total_dataframe['movieId'] == rec]['title'].values[0]\n",
    "                recommended_movies.append({\n",
    "                    'movieId': rec,\n",
    "                    'title': title,\n",
    "                    'score': float(score)  # Convert numpy float to Python float\n",
    "                })\n",
    "\n",
    "            return {\n",
    "                'user': user[0].item(),\n",
    "                'recommendations': recommended_movies\n",
    "            }\n",
    "    \n",
    "    if not user_found:\n",
    "        raise ValueError(f\"User ID {user_id} not found in the test loader.\")\n",
    "\n",
    "# Example usage\n",
    "user_id_to_infer = 1  # Replace with the user ID you want to infer\n",
    "recommendations = inference_for_single_user_by_id(\n",
    "    model, \n",
    "    user_id_to_infer, \n",
    "    top_k=10, \n",
    "    total_dataframe=total_df_1, \n",
    "    test_loader=dataloader_test_1, \n",
    "    device=device\n",
    ")\n",
    "\n",
    "# Print recommendations with scores\n",
    "print(f\"\\nTop {len(recommendations['recommendations'])} Recommendations for User {recommendations['user']}:\")\n",
    "for idx, rec in enumerate(recommendations['recommendations'], 1):\n",
    "    print(f\"{idx}. {rec['title']} (ID: {rec['movieId']}) | Score: {rec['score']:.3f}\")"
   ]
  },
  {
   "cell_type": "code",
   "execution_count": 15,
   "id": "f69503d2-8153-4fcd-a777-9df81512ee53",
   "metadata": {},
   "outputs": [
    {
     "name": "stdout",
     "output_type": "stream",
     "text": [
      "User ID 1 found in the test loader.\n",
      "\n",
      "Top 10 Recommendations for User 1:\n",
      "1. Eraser (1996) (ID: 786) | Score: 0.999\n",
      "2. Batman Forever (1995) (ID: 153) | Score: 0.996\n",
      "3. Cocoon (1985) (ID: 2407) | Score: 0.993\n",
      "4. Sgt. Bilko (1996) (ID: 637) | Score: 0.993\n",
      "5. Better Off Dead... (1985) (ID: 1257) | Score: 0.983\n",
      "6. Blair Witch Project, The (1999) (ID: 2710) | Score: 0.971\n",
      "7. Weekend at Bernie's (1989) (ID: 1091) | Score: 0.964\n",
      "8. Half Baked (1998) (ID: 1753) | Score: 0.959\n",
      "9. City Slickers II: The Legend of Curly's Gold (1994) (ID: 432) | Score: 0.956\n",
      "10. Fly Away Home (1996) (ID: 986) | Score: 0.949\n"
     ]
    }
   ],
   "source": [
    "def inference_for_single_user_by_id(model, user_id, top_k, total_dataframe, test_loader, device):\n",
    "    \"\"\"\n",
    "    Function to perform inference for a single user by user ID and return recommendations with metrics.\n",
    "\n",
    "    Parameters:\n",
    "    -----------\n",
    "    model: The trained model checkpoints\n",
    "    user_id: The ID of the user for whom to make recommendations\n",
    "    top_k: Total numbers of movies to recommend\n",
    "    total_dataframe: The total dataframe to map the id of the movie with title\n",
    "    test_loader: The DataLoader for the test set\n",
    "    device: According to availability CPU or a GPU\n",
    "\n",
    "    Returns:\n",
    "    ---------\n",
    "    recommendations: Dictionary with user ID, ground truth, and recommended movies with scores\n",
    "    \"\"\"\n",
    "    user_found = False\n",
    "    \n",
    "    for user, item, label in test_loader:\n",
    "        if user[0].item() == user_id:\n",
    "            user_found = True\n",
    "            user = user.to(device)\n",
    "            item = item.to(device)\n",
    "\n",
    "            print(f\"User ID {user_id} found in the test loader.\")\n",
    "            predictions = model(user, item)\n",
    "            top_k_scores, top_k_indices = torch.topk(predictions, top_k)\n",
    "\n",
    "            # Convert to lists\n",
    "            recommends = torch.take(item, top_k_indices).cpu().numpy().tolist()\n",
    "            recommend_scores = top_k_scores.cpu().detach().numpy().tolist()\n",
    "\n",
    "            # Get movie details for the recommended movies\n",
    "            recommended_movies = []\n",
    "            for rec, score in zip(recommends, recommend_scores):\n",
    "                title = total_dataframe[total_dataframe['movieId'] == rec]['title'].values[0]\n",
    "                recommended_movies.append({\n",
    "                    'movieId': rec,\n",
    "                    'title': title,\n",
    "                    'score': float(score)  # Convert numpy float to Python float\n",
    "                })\n",
    "\n",
    "            return {\n",
    "                'user': user[0].item(),\n",
    "                'recommendations': recommended_movies\n",
    "            }\n",
    "    \n",
    "    if not user_found:\n",
    "        raise ValueError(f\"User ID {user_id} not found in the test loader.\")\n",
    "\n",
    "# Example usage\n",
    "user_id_to_infer = 1  # Replace with the user ID you want to infer\n",
    "recommendations = inference_for_single_user_by_id(\n",
    "    model, \n",
    "    user_id_to_infer, \n",
    "    top_k=10, \n",
    "    total_dataframe=total_df_4, \n",
    "    test_loader=dataloader_test_4, \n",
    "    device=device\n",
    ")\n",
    "\n",
    "# Print recommendations with scores\n",
    "print(f\"\\nTop {len(recommendations['recommendations'])} Recommendations for User {recommendations['user']}:\")\n",
    "for idx, rec in enumerate(recommendations['recommendations'], 1):\n",
    "    print(f\"{idx}. {rec['title']} (ID: {rec['movieId']}) | Score: {rec['score']:.3f}\")"
   ]
  },
  {
   "cell_type": "code",
   "execution_count": 16,
   "id": "92c9f0a7-fe99-4a6e-860b-e13b647141a2",
   "metadata": {},
   "outputs": [
    {
     "name": "stdout",
     "output_type": "stream",
     "text": [
      "       user_id  item_id  label\n",
      "0           31      612    1.0\n",
      "1           31    48774    0.0\n",
      "2           31    69953    0.0\n",
      "3           31     6774    0.0\n",
      "4           31    33558    0.0\n",
      "...        ...      ...    ...\n",
      "60995       27     4361    0.0\n",
      "60996       27     6013    0.0\n",
      "60997       27     4459    0.0\n",
      "60998       27     7345    0.0\n",
      "60999       27    88515    0.0\n",
      "\n",
      "[61000 rows x 3 columns]\n",
      "\n",
      "Data saved to: ./Datasets/dataloader_test_D1_M1.csv\n"
     ]
    }
   ],
   "source": [
    "import pandas as pd\n",
    "import torch\n",
    "\n",
    "# Initialize a list to store all batches\n",
    "all_batches = []\n",
    "\n",
    "# Iterate through the DataLoader\n",
    "for batch in dataloader_test_1:  # Replace with your DataLoader\n",
    "    users, items, labels = batch\n",
    "    batch_data = {\n",
    "        'user_id': users.numpy(),  # Convert tensors to numpy arrays\n",
    "        'item_id': items.numpy(),\n",
    "        'label': labels.numpy()\n",
    "    }\n",
    "    all_batches.append(batch_data)\n",
    "\n",
    "# Combine all batches into a single DataFrame\n",
    "df = pd.DataFrame({\n",
    "    'user_id': np.concatenate([batch['user_id'] for batch in all_batches]),\n",
    "    'item_id': np.concatenate([batch['item_id'] for batch in all_batches]),\n",
    "    'label': np.concatenate([batch['label'] for batch in all_batches])\n",
    "})\n",
    "\n",
    "print(df)\n",
    "\n",
    "# Save to CSV\n",
    "csv_path = './Datasets/dataloader_test_D1_M1.csv'\n",
    "df.to_csv(csv_path, index=False)\n",
    "print(f\"\\nData saved to: {csv_path}\")"
   ]
  },
  {
   "cell_type": "code",
   "execution_count": 17,
   "id": "09f39f0d-3070-41ad-9f18-1bad02849159",
   "metadata": {},
   "outputs": [
    {
     "name": "stdout",
     "output_type": "stream",
     "text": [
      "        user_id  item_id  label\n",
      "0           891     1488    1.0\n",
      "1           891     2961    0.0\n",
      "2           891     3424    0.0\n",
      "3           891     1474    0.0\n",
      "4           891      902    0.0\n",
      "...         ...      ...    ...\n",
      "603995     2023     3790    0.0\n",
      "603996     2023      373    0.0\n",
      "603997     2023     2123    0.0\n",
      "603998     2023     1038    0.0\n",
      "603999     2023     1356    0.0\n",
      "\n",
      "[604000 rows x 3 columns]\n",
      "\n",
      "Data saved to: ./Datasets/dataloader_test_D2_M1.csv\n"
     ]
    }
   ],
   "source": [
    "import pandas as pd\n",
    "import torch\n",
    "\n",
    "# Initialize a list to store all batches\n",
    "all_batches = []\n",
    "\n",
    "# Iterate through the DataLoader\n",
    "for batch in dataloader_test_4:  # Replace with your DataLoader\n",
    "    users, items, labels = batch\n",
    "    batch_data = {\n",
    "        'user_id': users.numpy(),  # Convert tensors to numpy arrays\n",
    "        'item_id': items.numpy(),\n",
    "        'label': labels.numpy()\n",
    "    }\n",
    "    all_batches.append(batch_data)\n",
    "\n",
    "# Combine all batches into a single DataFrame\n",
    "df = pd.DataFrame({\n",
    "    'user_id': np.concatenate([batch['user_id'] for batch in all_batches]),\n",
    "    'item_id': np.concatenate([batch['item_id'] for batch in all_batches]),\n",
    "    'label': np.concatenate([batch['label'] for batch in all_batches])\n",
    "})\n",
    "\n",
    "print(df)\n",
    "\n",
    "# Save to CSV\n",
    "csv_path = './Datasets/dataloader_test_D2_M1.csv'\n",
    "df.to_csv(csv_path, index=False)\n",
    "print(f\"\\nData saved to: {csv_path}\")"
   ]
  },
  {
   "cell_type": "markdown",
   "id": "be36cd0d-82dc-4958-9e07-759688ea1758",
   "metadata": {},
   "source": [
    "<h2>Save Model</h2>"
   ]
  },
  {
   "cell_type": "code",
   "execution_count": 18,
   "id": "7df48ca8-d078-4956-a80b-ac546bb41f89",
   "metadata": {},
   "outputs": [],
   "source": [
    "# Save model + minimal metadata\n",
    "deployment_checkpoint = {\n",
    "    'model_state_dict': model.state_dict(),  # Weights\n",
    "    'model_hyperparams': {                  # Architecture config\n",
    "        'num_users': max_num_users_global,\n",
    "        'num_items': max_num_items_global,\n",
    "        'embedding_size': 32,\n",
    "        'layer_dims': [64, 32, 16],\n",
    "        'use_NeuMF': False\n",
    "    }\n",
    "}"
   ]
  },
  {
   "cell_type": "code",
   "execution_count": 19,
   "id": "4f04528d-38df-46ca-ac72-1b1cf2f504b4",
   "metadata": {},
   "outputs": [
    {
     "data": {
      "text/plain": [
       "{'model_state_dict': OrderedDict([('user_embedding.weight',\n",
       "               tensor([[ 1.3773e-02, -1.4636e-02, -5.9528e-03,  ...,  9.2487e-03,\n",
       "                         2.1891e-03,  2.5006e-03],\n",
       "                       [-1.5009e+00, -3.6257e+00,  1.5096e+00,  ..., -3.2291e+00,\n",
       "                        -3.1750e-01, -1.8425e+00],\n",
       "                       [-1.6044e+00, -2.0462e+00,  3.3445e+00,  ...,  5.6716e+00,\n",
       "                        -1.4683e+00,  4.5492e+00],\n",
       "                       ...,\n",
       "                       [ 2.1660e+00,  3.7568e-01,  1.8357e+00,  ..., -5.8125e+00,\n",
       "                        -9.6208e-01,  2.5302e+00],\n",
       "                       [-1.0104e+00,  2.7517e+00, -4.0751e+00,  ..., -3.3321e+00,\n",
       "                        -1.1749e+00,  1.4503e+00],\n",
       "                       [ 1.5746e+00,  5.7216e-01, -5.9104e-01,  ..., -3.0657e+00,\n",
       "                        -5.4826e+00,  4.0748e+00]])),\n",
       "              ('item_embedding.weight',\n",
       "               tensor([[ 9.7387e-03, -2.0052e-03, -5.9385e-03,  ..., -1.1131e-02,\n",
       "                        -4.1412e-03, -7.0035e-03],\n",
       "                       [ 3.8851e+00,  9.0578e+00,  6.0842e-01,  ...,  1.6311e+00,\n",
       "                         1.9874e-01, -2.1924e+00],\n",
       "                       [-2.3609e+00,  4.3390e+00,  1.5090e+00,  ..., -6.7502e-01,\n",
       "                        -1.4841e+00, -2.2103e+00],\n",
       "                       ...,\n",
       "                       [ 2.5009e-02, -5.5989e-03, -6.1974e-03,  ...,  1.1921e-02,\n",
       "                         4.7074e-03, -8.6529e-03],\n",
       "                       [ 5.3765e-03,  2.9055e-02, -1.0619e-02,  ..., -1.4490e-02,\n",
       "                         1.4202e-03,  2.2607e-02],\n",
       "                       [ 4.7101e-02, -7.3501e-01, -7.5527e-02,  ...,  1.8928e+00,\n",
       "                         5.1051e-01,  7.1911e-01]])),\n",
       "              ('mlp_layers.0.weight',\n",
       "               tensor([[ 0.2848, -1.5843,  0.3863,  ..., -1.9164, -1.1958, -0.8172],\n",
       "                       [-0.6246,  2.2647, -2.0426,  ..., -0.9595, -1.1650, -1.2822],\n",
       "                       [ 1.3985, -1.9420, -3.1633,  ...,  0.3154,  0.8081,  1.4849],\n",
       "                       ...,\n",
       "                       [-2.3596,  3.6853, -3.0297,  ...,  3.2445, -2.7126, -1.4274],\n",
       "                       [ 1.0424,  2.1390,  1.5903,  ..., -1.6260,  1.6287, -0.6925],\n",
       "                       [ 4.0096, -1.8338, -0.6507,  ..., -0.4691,  2.2386, -1.3857]])),\n",
       "              ('mlp_layers.0.bias',\n",
       "               tensor([-1.1101e+01, -2.6243e+00, -3.6285e+00, -4.1296e-01,  1.6423e-02,\n",
       "                       -1.1376e+01,  5.2796e-02, -6.6188e+00, -6.7178e+00, -1.8120e+00,\n",
       "                        3.1100e-01, -6.2759e+00, -5.8860e-01, -1.1648e+01,  5.0385e-01,\n",
       "                       -7.9526e+00, -7.8952e+00, -3.0710e+00, -5.8587e+00,  7.6026e+00,\n",
       "                       -1.1416e+01, -1.7974e+01, -1.2584e+01, -4.4131e+00, -3.1984e+00,\n",
       "                       -3.8688e+00, -4.4148e+00, -2.7634e+00, -5.4713e+00, -1.1165e+00,\n",
       "                       -7.0832e+00, -1.0450e+01, -4.1950e+00, -4.7290e+00, -3.7083e+00,\n",
       "                       -5.9915e+00, -4.4028e+00, -7.5214e+00, -3.1137e+00, -3.0446e+00,\n",
       "                        7.2208e-01, -5.5703e+00, -7.2003e+00, -5.4922e+00, -1.1635e+00,\n",
       "                       -6.8622e+00, -1.0570e+01, -8.4341e+00, -6.1060e+00, -6.9121e+00,\n",
       "                        5.9461e+00, -6.7508e+00, -1.1232e+01, -7.6269e+00, -8.1336e+00,\n",
       "                       -4.8763e+00, -7.7478e+00, -8.7773e+00, -3.3340e+00, -5.4067e+00,\n",
       "                       -9.4668e+00, -3.8181e-01, -4.2039e+00, -6.8221e+00])),\n",
       "              ('mlp_layers.2.weight',\n",
       "               tensor([[-0.0881, -0.6907, -0.3046,  ..., -0.4294, -0.3822, -0.2375],\n",
       "                       [-0.0390, -1.9533,  0.3393,  ..., -0.3021, -0.8460, -0.6531],\n",
       "                       [ 0.8837,  1.9519, -2.7567,  ..., -0.7059,  0.6112, -2.3109],\n",
       "                       ...,\n",
       "                       [-0.9854,  0.0175, -0.2072,  ...,  0.4633, -1.1465, -1.5573],\n",
       "                       [-0.7086, -0.2543, -0.6091,  ..., -0.4056, -1.4100, -0.1211],\n",
       "                       [-1.7227, -0.5476, -0.2856,  ..., -1.0264, -1.1264, -0.7398]])),\n",
       "              ('mlp_layers.2.bias',\n",
       "               tensor([-1.6835, -2.9022, -3.7804, -5.1808,  8.7989, -2.0349, -2.6345, -0.9018,\n",
       "                       -2.0843, -1.1484, -0.3299, -8.7839, -0.7277, -4.1641, -4.9395, -1.1906,\n",
       "                        3.8665, -4.8475, -0.8148, -0.9423, -1.4316, -0.1335, -3.7934,  7.2617,\n",
       "                       -3.3939, -0.5184, -1.0677, -5.0035, -7.2043, -7.1453, -4.4104, -5.0065])),\n",
       "              ('mlp_layers.4.weight',\n",
       "               tensor([[-4.0027e-01, -1.1395e-01, -6.0071e-02, -5.8196e-01, -6.4512e-01,\n",
       "                        -3.4445e-02, -6.7155e-02, -1.8547e-01, -4.5421e-01, -3.5770e-02,\n",
       "                         1.6427e-01, -6.0449e-01, -4.6003e-02, -4.6847e-01, -1.3000e-01,\n",
       "                         3.7188e-02, -2.5034e-01, -5.2650e-02, -8.4214e-02,  2.9552e-01,\n",
       "                        -3.8869e-01, -4.8102e-01, -3.5702e-02, -8.5974e-01, -9.6668e-02,\n",
       "                         2.2592e-01, -8.5887e-02, -5.1521e-01, -2.0002e-01, -1.5202e-01,\n",
       "                        -1.8046e-01, -8.0950e-02],\n",
       "                       [-3.1706e-01,  1.6197e-02, -5.6553e-01, -6.3635e-01,  1.4084e-01,\n",
       "                         2.2842e-01,  1.9321e-02, -7.8513e-02,  3.8345e-01, -5.6915e-02,\n",
       "                         2.3860e-01, -1.4289e+00,  2.7707e-02,  3.3713e-01,  1.4208e-01,\n",
       "                        -4.3727e-02,  3.5973e-01, -8.1210e-02,  9.6004e-02,  1.5355e-01,\n",
       "                        -4.7103e-02, -5.9583e-01,  7.7710e-02, -3.9125e-01, -5.8164e-01,\n",
       "                         1.2585e-01,  4.7666e-02, -1.3547e-01, -2.1940e-01, -6.6659e-01,\n",
       "                         1.2457e-01,  1.2659e-01],\n",
       "                       [-4.5980e-02, -7.6542e-02, -4.2610e-02, -1.7318e-01, -1.4856e-01,\n",
       "                         4.8127e-01, -9.3588e-02,  2.8056e-01, -8.0464e-02, -3.9458e-01,\n",
       "                         2.1341e-01, -1.8306e-01, -1.9919e-02, -5.3112e-01,  1.6429e-01,\n",
       "                        -1.3449e-01, -6.9019e-01, -1.0435e-01, -2.4117e-01, -7.1608e-02,\n",
       "                         1.4058e-01, -1.8228e-02, -1.0104e-01, -6.1672e-01, -9.0936e-02,\n",
       "                         9.8097e-02,  5.5298e-02, -2.7174e-01, -1.0108e-01, -4.7004e-02,\n",
       "                        -2.1044e-01, -2.0825e-01],\n",
       "                       [ 5.3275e-02, -1.3466e-01, -3.9577e-01, -4.2863e-02, -5.5213e-01,\n",
       "                        -1.3056e-01, -8.4558e-03, -5.5439e-02, -1.8867e-01,  2.5543e-01,\n",
       "                        -2.6120e-01, -1.5324e-02,  1.2693e-01, -1.8612e-01, -2.2809e-01,\n",
       "                        -3.1381e-01, -3.0980e-01, -3.9229e-03, -1.1809e-01,  1.6048e-01,\n",
       "                         1.2042e-02, -1.6732e-01,  5.9259e-03, -2.9870e-01, -7.6842e-02,\n",
       "                        -1.0753e-01, -1.7194e-01, -5.0708e-01, -5.6239e-02, -6.3763e-01,\n",
       "                         2.0947e-01, -5.4588e-02],\n",
       "                       [ 2.8450e-02, -5.4722e-01, -8.9705e-02, -3.9513e-01, -1.4043e+00,\n",
       "                        -2.7986e-02, -1.7924e-01, -8.4616e-03, -1.7355e-01, -1.1491e-01,\n",
       "                         2.0686e-01, -8.1518e-02,  2.9288e-01, -2.1838e-01, -2.1870e-01,\n",
       "                        -9.5977e-02, -3.0938e-01, -1.5428e-01,  3.3825e-02, -7.7825e-02,\n",
       "                        -1.2249e-01, -5.8688e-02,  6.3949e-03, -7.9233e-01, -1.6630e-01,\n",
       "                         1.6036e-01,  8.6072e-02, -3.3231e-01, -5.3814e-02, -7.5535e-01,\n",
       "                        -2.2489e-02, -1.0483e-01],\n",
       "                       [-8.2552e-02, -3.0914e-02, -4.4473e-01, -2.2310e-01, -9.1406e-01,\n",
       "                        -5.7941e-03, -1.5091e-01,  1.6367e-01, -2.4819e-02, -2.0993e-01,\n",
       "                         8.1680e-02, -1.0832e-01, -2.2339e-01, -3.6108e-01, -1.7400e-01,\n",
       "                        -1.9489e-01, -5.9186e-01, -2.6056e-01, -5.2835e-02, -7.8836e-02,\n",
       "                        -7.0681e-02, -1.0196e-01, -2.1248e-02, -8.5803e-01, -1.9854e-02,\n",
       "                         1.9245e-01, -1.6642e-01, -1.0754e-01, -1.2921e-01, -2.6198e-01,\n",
       "                        -1.7834e-01, -5.0030e-03],\n",
       "                       [-2.3268e-01, -4.2069e-02, -1.2230e-01, -3.4485e-02, -1.5347e+00,\n",
       "                        -3.4105e-01, -4.3942e-01,  5.2330e-01, -1.9215e-01, -2.9638e-02,\n",
       "                        -7.7058e-02, -2.8975e-01, -2.8180e-01, -1.8394e-01, -2.7327e-01,\n",
       "                         2.5924e-01, -5.1373e-01, -7.9079e-02,  2.7319e-02,  2.8385e-02,\n",
       "                        -8.2016e-02, -6.5670e-01, -4.7971e-03, -6.1483e-01, -8.4277e-02,\n",
       "                         1.3440e-01,  3.0606e-02, -1.5469e-01, -3.2110e-02, -6.1195e-01,\n",
       "                        -5.3221e-01, -2.1709e-02],\n",
       "                       [-6.4806e-03, -3.1432e-01, -4.7602e-02, -8.0122e-03, -1.0967e+00,\n",
       "                         3.6110e-03, -5.0279e-02,  2.5950e-01, -1.2503e-01, -1.3576e-01,\n",
       "                         1.3589e-01, -6.7560e-03,  8.2292e-02, -6.6382e-01, -9.7250e-02,\n",
       "                        -9.2713e-02, -3.8939e-01, -1.8397e-01, -6.0667e-02, -2.5350e-01,\n",
       "                        -7.8484e-02, -7.5140e-02, -2.1033e-01, -3.5430e-01, -2.1730e-01,\n",
       "                         1.0069e-01,  7.3588e-02, -2.7991e-01, -2.1942e-01, -1.7777e-01,\n",
       "                        -2.4531e-02, -9.5712e-02],\n",
       "                       [-1.7533e-01, -5.2203e-02, -8.8787e-02, -3.9507e-01, -1.1528e+00,\n",
       "                         1.1033e-01, -1.4444e-01,  2.2271e-01, -7.4713e-02, -6.1040e-02,\n",
       "                         2.5185e-01, -1.0969e-01, -3.4595e-03, -4.4366e-01, -2.8908e-02,\n",
       "                         4.5443e-02, -8.2792e-01, -4.3587e-01, -6.2036e-01, -1.9133e-01,\n",
       "                        -8.6414e-01, -6.4343e-01, -6.1201e-02, -2.0295e+00, -7.9930e-02,\n",
       "                        -3.2864e-01,  1.6408e-01, -6.4476e-01, -5.7694e-02, -4.0369e-01,\n",
       "                        -5.3099e-02, -9.2637e-02],\n",
       "                       [ 3.0238e-03,  5.9390e-02, -1.5651e-01, -1.2953e-01, -5.1088e-01,\n",
       "                        -9.4761e-02, -3.9078e-02,  2.4713e-01, -3.2816e-01, -1.7270e-01,\n",
       "                         6.0123e-02, -2.9732e-02, -2.9147e-01, -4.3391e-01, -2.8824e-01,\n",
       "                         2.4179e-01, -1.0228e+00, -2.0780e-03,  2.9492e-01, -5.6317e-02,\n",
       "                        -3.3204e-01, -2.1495e-01, -9.0181e-02, -7.0877e-01,  1.1266e-02,\n",
       "                         2.6840e-01, -2.2050e-01, -2.6937e-01,  4.7517e-02,  1.9590e-02,\n",
       "                         3.0350e-01,  1.2382e-03],\n",
       "                       [-5.7133e-02, -7.4370e-02, -2.0873e-01, -1.6184e-01, -1.0609e+00,\n",
       "                        -1.6260e-01, -5.0490e-02, -2.9727e-01, -6.9831e-02, -1.4789e-02,\n",
       "                        -1.4685e-02, -2.1357e-01,  1.6730e-01, -1.4313e-01, -1.6089e-02,\n",
       "                         4.6959e-02, -5.9935e-01, -2.2387e-02, -4.1495e-02, -1.3761e-01,\n",
       "                        -1.0790e-01, -2.2209e-01, -5.3384e-02, -4.0343e-01, -2.9842e-01,\n",
       "                        -1.8109e-01,  2.3052e-01, -1.4077e-01, -5.7262e-02, -1.2498e-01,\n",
       "                        -4.1236e-01, -2.9043e-01],\n",
       "                       [-1.0060e-01, -7.5182e-02, -1.4814e-01, -2.6214e-01, -1.1328e+00,\n",
       "                        -4.5095e-01, -7.3227e-02, -8.7905e-02, -3.0195e-01, -2.2664e-01,\n",
       "                        -5.3634e-01, -4.3635e-01, -4.1174e-01, -9.8402e-01, -6.3456e-01,\n",
       "                         3.2898e-01, -6.9251e-01,  2.9910e-04,  8.8578e-02, -3.7619e-01,\n",
       "                         1.9209e-01, -1.9974e-01, -2.1055e-01, -7.7495e-01, -1.5907e-01,\n",
       "                        -9.1631e-02, -2.4061e-01, -4.4610e-01, -1.6934e-01, -3.9013e-02,\n",
       "                        -7.8621e-02, -3.7446e-01],\n",
       "                       [-3.4171e-01, -6.9602e-02, -2.4869e-01, -5.5836e-01, -4.7984e-01,\n",
       "                        -1.6602e-01,  5.6196e-02, -2.5354e-01, -9.6722e-02, -2.1182e-01,\n",
       "                         4.2700e-02, -1.4805e-01,  3.4992e-01, -6.5570e-03, -3.7279e-01,\n",
       "                         9.3092e-02, -7.8583e-01, -3.9324e-01, -2.1633e-01, -1.8366e-01,\n",
       "                        -6.3677e-02, -1.3971e-01, -1.8862e-01, -6.7453e-01, -1.2526e-02,\n",
       "                        -1.9627e-01, -7.5316e-02, -3.9954e-01, -1.2848e-01, -4.8514e-01,\n",
       "                         2.6792e-01, -3.3260e-01],\n",
       "                       [-4.0547e-03,  4.3353e-02, -1.0545e-01, -5.9254e-02, -1.5757e+00,\n",
       "                         1.0801e-04, -2.3194e-02, -2.4036e-01, -3.9133e-02,  9.8819e-02,\n",
       "                        -1.5718e-01, -2.3053e-01, -1.7642e-01, -5.8093e-01, -1.4907e-01,\n",
       "                        -9.2392e-02, -1.2503e+00, -6.9457e-02, -3.0843e-01, -7.3368e-01,\n",
       "                         1.2771e-02, -3.3123e-01, -1.1026e-01, -9.4288e-01, -1.1115e-01,\n",
       "                        -5.2187e-01,  2.2671e-01, -1.1485e+00, -6.4005e-01, -2.6787e-01,\n",
       "                        -1.2650e-01, -5.9068e-02],\n",
       "                       [-1.2728e-01, -1.9707e-01, -5.3069e-02, -2.5509e-01, -6.3303e-01,\n",
       "                        -3.5280e-01, -1.0838e-01, -1.6598e-01, -4.1866e-01, -3.9237e-02,\n",
       "                        -1.9534e-01, -1.6695e-01, -1.0967e-01, -1.5096e-01, -4.4609e-02,\n",
       "                         3.4138e-01, -5.9731e-01, -9.2672e-02,  5.7200e-02,  3.8445e-02,\n",
       "                        -3.8491e-02, -5.8011e-01, -1.5437e-01, -7.7279e-01, -1.4391e-02,\n",
       "                         4.7593e-02,  1.1357e-01, -3.6734e-02, -1.0977e-01, -1.4398e-01,\n",
       "                        -3.1110e-01, -1.3223e-01],\n",
       "                       [ 6.5967e-02,  4.7623e-02,  5.5760e-02,  1.3573e-01, -1.4289e-01,\n",
       "                         2.7812e-01,  5.3518e-02, -1.0855e-01, -2.4235e-01, -7.2146e-02,\n",
       "                         2.3689e-01,  5.5114e-01, -4.1961e-01, -6.5382e-01,  7.1272e-02,\n",
       "                         1.2905e-01,  1.7013e-01, -1.8709e-01, -2.1564e-01,  1.9448e-01,\n",
       "                         4.7293e-02, -1.5929e-01, -8.5375e-02,  4.9308e-01, -1.0978e-01,\n",
       "                        -1.3712e-01,  7.6949e-02,  1.7253e-01,  5.6885e-03, -2.3969e-01,\n",
       "                        -2.2710e-02, -8.8246e-02]])),\n",
       "              ('mlp_layers.4.bias',\n",
       "               tensor([-1.8467,  1.6895, -2.0939, -1.2836, -1.5842, -1.9852, -1.4064, -1.8645,\n",
       "                       -2.6420, -4.0560, -1.6842, -1.6566, -1.2974, -2.9904, -1.9349,  5.8912])),\n",
       "              ('output_layer.weight',\n",
       "               tensor([[-0.0453,  0.1257, -0.3390,  0.0393, -0.0367, -0.0570,  0.0983,  0.0403,\n",
       "                         0.1103, -0.0019, -0.0281, -0.0340,  0.1207,  0.0546,  0.0328, -0.1656]])),\n",
       "              ('output_layer.bias', tensor([-0.2729]))]),\n",
       " 'model_hyperparams': {'num_users': 6041,\n",
       "  'num_items': 193610,\n",
       "  'embedding_size': 32,\n",
       "  'layer_dims': [64, 32, 16],\n",
       "  'use_NeuMF': False}}"
      ]
     },
     "execution_count": 19,
     "metadata": {},
     "output_type": "execute_result"
    }
   ],
   "source": [
    "deployment_checkpoint"
   ]
  },
  {
   "cell_type": "code",
   "execution_count": 20,
   "id": "ba71e112-6bb3-4f9e-b06f-dde31cc9e670",
   "metadata": {},
   "outputs": [],
   "source": [
    "torch.save(deployment_checkpoint, './ncf_models/deployment_model_M1.pth')"
   ]
  },
  {
   "cell_type": "code",
   "execution_count": null,
   "id": "f27f7009-4c95-46ef-9be6-79074c13a47d",
   "metadata": {},
   "outputs": [],
   "source": []
  }
 ],
 "metadata": {
  "kernelspec": {
   "display_name": "fyp",
   "language": "python",
   "name": "fyp"
  },
  "language_info": {
   "codemirror_mode": {
    "name": "ipython",
    "version": 3
   },
   "file_extension": ".py",
   "mimetype": "text/x-python",
   "name": "python",
   "nbconvert_exporter": "python",
   "pygments_lexer": "ipython3",
   "version": "3.12.9"
  }
 },
 "nbformat": 4,
 "nbformat_minor": 5
}
