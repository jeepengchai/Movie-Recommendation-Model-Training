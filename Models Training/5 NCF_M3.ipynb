{
 "cells": [
  {
   "cell_type": "markdown",
   "id": "ff036bd3-c45c-408f-abf2-c3f249631ca1",
   "metadata": {},
   "source": [
    "<h1>The Multi-layered Perceptron Neural Collaborative Filtering (MLP-NCF) proposed model training</h1>"
   ]
  },
  {
   "cell_type": "markdown",
   "id": "bf063ae7-c06a-40be-981d-5e7672bcccbe",
   "metadata": {},
   "source": [
    "<h2>Import necessary python library for model training</h2>"
   ]
  },
  {
   "cell_type": "code",
   "execution_count": 1,
   "id": "68c77e3d-492a-47c1-8b58-13816d13f296",
   "metadata": {},
   "outputs": [],
   "source": [
    "import zipfile\n",
    "from zipfile import ZipFile\n",
    "from torch.utils.data import Dataset, DataLoader\n",
    "import torch\n",
    "import torch.optim as optim\n",
    "import torch.nn as nn\n",
    "import os\n",
    "import pandas as pd\n",
    "import numpy as np\n",
    "import requests\n",
    "import sklearn\n",
    "from sklearn.model_selection import train_test_split\n",
    "from tqdm import tqdm\n",
    "import random\n",
    "import time\n",
    "import argparse\n",
    "import matplotlib.pyplot as plt"
   ]
  },
  {
   "cell_type": "markdown",
   "id": "a6a16cfb-aa07-47fc-b4e6-22df432ab5b2",
   "metadata": {},
   "source": [
    "<h2>The data preparation for training class</h2>"
   ]
  },
  {
   "cell_type": "code",
   "execution_count": 2,
   "id": "52f0c6ad-8c14-4d2e-89f8-24d7034d5a65",
   "metadata": {},
   "outputs": [],
   "source": [
    "class MovieLens(Dataset):\n",
    "    def __init__(self, df: pd.DataFrame, total_df: pd.DataFrame, ng_ratio:int)->None:\n",
    "        '''\n",
    "        : param df: training dataframe\n",
    "        : param total_df: the entire dataframe\n",
    "        : param ng_ratio: negative sampling ratio\n",
    "        '''\n",
    "        super(MovieLens, self).__init__()\n",
    "\n",
    "        self.df = df\n",
    "        self.total_df = total_df\n",
    "        self.ng_ratio = ng_ratio\n",
    "        self.users, self.items, self.labels = self._negative_sampling()\n",
    "\n",
    "    def __len__(self) -> int:\n",
    "        '''\n",
    "        get length of data\n",
    "        : return: len(data)\n",
    "        '''\n",
    "        return len(self.users)\n",
    "\n",
    "    def __getitem__(self, index):\n",
    "        '''\n",
    "        transform userId[index], item[index] to Tensor and return to Datalaoder object.\n",
    "        : param index: index for dataset.\n",
    "        : return: user, item, rating\n",
    "        '''\n",
    "        return self.users[index], self.items[index], self.labels[index]\n",
    "\n",
    "    def _negative_sampling(self) :\n",
    "        '''\n",
    "        sampling one positive feedback per #(ng ratio) negative feedback\n",
    "        : return: list of users, list of items, list of targets\n",
    "        '''\n",
    "        df = self.df\n",
    "        total_df = self.total_df\n",
    "        users, items, labels = [], [], []\n",
    "        user_item_set = set(zip(df['userId'], df['movieId']))\n",
    "        total_user_item_set = set(zip(total_df['userId'],total_df['movieId']))\n",
    "        all_movieIds = total_df['movieId'].unique()\n",
    "        \n",
    "        # negative feedback dataset ratio\n",
    "        negative_ratio = self.ng_ratio\n",
    "        for u, i in user_item_set:\n",
    "            # positive instance\n",
    "            users.append(u)\n",
    "            items.append(i)\n",
    "            labels.append(1.0)\n",
    "\n",
    "            #visited check\n",
    "            visited=[]\n",
    "            visited.append(i)\n",
    "            \n",
    "            # negative instance\n",
    "            for i in range(negative_ratio):\n",
    "                # first item random choice\n",
    "                negative_item = np.random.choice(all_movieIds)\n",
    " \n",
    "                # check if item and user has interaction, if true then set new value from random\n",
    "                while (u, negative_item) in total_user_item_set or negative_item in visited :\n",
    "                    negative_item = np.random.choice(all_movieIds)\n",
    "                users.append(u)\n",
    "                items.append(negative_item)\n",
    "                visited.append(negative_item)\n",
    "                labels.append(0.0)\n",
    "        print(f\"negative sampled data: {len(labels)}\")\n",
    "        return torch.tensor(users), torch.tensor(items), torch.tensor(labels)"
   ]
  },
  {
   "cell_type": "markdown",
   "id": "287da1b7-2a16-4a18-8a34-0778b6ebd1b0",
   "metadata": {},
   "source": [
    "<h2>The Multi-layered perceptron neural collaborative filtering (NCF) model</h2>"
   ]
  },
  {
   "cell_type": "code",
   "execution_count": 3,
   "id": "a3f36af9-0e70-4aeb-ba42-793cd6982291",
   "metadata": {},
   "outputs": [],
   "source": [
    "class MLP(nn.Module):\n",
    "    def __init__(self, num_users, num_items, embedding_size, layer_dims, use_NeuMF=False):\n",
    "        super(MLP, self).__init__()\n",
    "        self.user_embedding = nn.Embedding(num_users, embedding_size)\n",
    "        self.item_embedding = nn.Embedding(num_items, embedding_size)\n",
    "        \n",
    "        # Calculate input dimension for first layer\n",
    "        first_layer_input = embedding_size * 2  # Concatenated user and item embeddings\n",
    "        \n",
    "        # Build MLP layers dynamically\n",
    "        layers = []\n",
    "        input_dim = first_layer_input\n",
    "        for output_dim in layer_dims:\n",
    "            layers.append(nn.Linear(input_dim, output_dim))\n",
    "            layers.append(nn.ReLU())\n",
    "            input_dim = output_dim\n",
    "        \n",
    "        self.mlp_layers = nn.Sequential(*layers)\n",
    "        self.output_layer = nn.Linear(layer_dims[-1], 1)\n",
    "        self.sigmoid = nn.Sigmoid()\n",
    "        self._init_weights()\n",
    "\n",
    "    def _init_weights(self):\n",
    "        nn.init.normal_(self.user_embedding.weight, std=0.01)\n",
    "        nn.init.normal_(self.item_embedding.weight, std=0.01)\n",
    "        for layer in self.mlp_layers:\n",
    "            if isinstance(layer, nn.Linear):\n",
    "                nn.init.xavier_uniform_(layer.weight)\n",
    "        nn.init.xavier_uniform_(self.output_layer.weight)\n",
    "\n",
    "    def forward(self, user, item):\n",
    "        user_emb = self.user_embedding(user)\n",
    "        item_emb = self.item_embedding(item)\n",
    "        x = torch.cat([user_emb, item_emb], dim=-1)\n",
    "        x = self.mlp_layers(x)\n",
    "        x = self.output_layer(x)\n",
    "        return self.sigmoid(x).view(-1)"
   ]
  },
  {
   "cell_type": "markdown",
   "id": "2712e0b1-22fa-4ba0-8b45-6169a7e8a140",
   "metadata": {},
   "source": [
    "<h2>Evaluation Metrics</h2>"
   ]
  },
  {
   "cell_type": "code",
   "execution_count": 4,
   "id": "eecc2030-6639-4051-a9f8-bea2bc2867cd",
   "metadata": {},
   "outputs": [],
   "source": [
    "def hit(gt_item, pred_items):\n",
    "\tif gt_item in pred_items:\n",
    "\t\treturn 1\n",
    "\treturn 0\n",
    "\n",
    "def ndcg(gt_item, pred_items):\n",
    "\tif gt_item in pred_items:\n",
    "\t\tindex = pred_items.index(gt_item)\n",
    "\t\treturn np.reciprocal(np.log2(index+2))\n",
    "\treturn 0\n",
    "\n",
    "def metrics(model, data_loader, top_k, device):\n",
    "\tHR, NDCG = [], []\n",
    "\n",
    "\tfor user, item, label in data_loader:\n",
    "\n",
    "\t\tuser = user.to(device)\n",
    "\t\titem = item.to(device)\n",
    "\n",
    "\t\tpredictions = model(user, item)\n",
    "\t\t_, indices = torch.topk(predictions, top_k)\n",
    "\n",
    "\t\trecommends = torch.take(\n",
    "\t\t\t\titem, indices).cpu().numpy().tolist()\n",
    "\n",
    "\t\tgt_item = item[0].item()\n",
    "\t\tHR.append(hit(gt_item, recommends))\n",
    "\t\tNDCG.append(ndcg(gt_item, recommends))\n",
    "\n",
    "\treturn np.mean(HR), np.mean(NDCG)"
   ]
  },
  {
   "cell_type": "markdown",
   "id": "7a7df4e9-9aa2-4e56-93c4-a9ec0c1eed62",
   "metadata": {},
   "source": [
    "<h2>Model training class</h2>"
   ]
  },
  {
   "cell_type": "code",
   "execution_count": 5,
   "id": "303026e1-da28-4687-a2f0-1298a132da4d",
   "metadata": {},
   "outputs": [],
   "source": [
    "class Train():\n",
    "    def __init__(self, model: torch.nn.Module,\n",
    "                 optimizer: torch.optim,\n",
    "                 epochs: int,\n",
    "                 dataloader: torch.utils.data.dataloader,\n",
    "                 criterion: torch.nn,\n",
    "                 test_obj: torch.utils.data.dataloader,\n",
    "                 device: str = 'cuda',\n",
    "                 print_cost: bool = True,\n",
    "                 top_k: int = 10):\n",
    "        self.model = model\n",
    "        self.optimizer = optimizer\n",
    "        self.epochs = epochs\n",
    "        self.dataloader = dataloader\n",
    "        self.criterion = criterion\n",
    "        self.device = device\n",
    "        self.print_cost = print_cost\n",
    "        self.test = test_obj\n",
    "        self.top_k = top_k\n",
    "\n",
    "    def train(self):\n",
    "        model = self.model\n",
    "        optimizer = self.optimizer\n",
    "        total_epochs = self.epochs\n",
    "        dataloader = self.dataloader\n",
    "        criterion = self.criterion\n",
    "        total_batch = len(dataloader)\n",
    "        loss = []\n",
    "        device = self.device\n",
    "        test_dataloader = self.test\n",
    "\n",
    "        hr_list = []\n",
    "        ndcg_list = []\n",
    "        test_loss_list = []\n",
    "\n",
    "        for epoch in range(0, total_epochs):\n",
    "            epoch_loss = 0\n",
    "            with tqdm(total=len(dataloader), desc=f'Epoch {epoch + 1}/{total_epochs}', unit='batch') as pbar:\n",
    "                for user, item, target in dataloader:\n",
    "                    user, item, target = user.to(device), item.to(device), target.float().to(device)\n",
    "                    optimizer.zero_grad()\n",
    "                    pred = model(user, item)\n",
    "                    cost = criterion(pred, target)\n",
    "                    cost.backward()\n",
    "                    optimizer.step()\n",
    "                    epoch_loss += cost.item()\n",
    "                    pbar.update(1)\n",
    "                    pbar.set_postfix({'loss': cost.item()})\n",
    "\n",
    "            avg_epoch_loss = epoch_loss / total_batch\n",
    "            loss.append(avg_epoch_loss)\n",
    "\n",
    "            if self.print_cost:\n",
    "                HR, NDCG = metrics(model, self.test, self.top_k, device)\n",
    "\n",
    "                model.eval()\n",
    "                test_loss = 0\n",
    "                with torch.no_grad():\n",
    "                    for user, item, target in test_dataloader:\n",
    "                        user, item, target = user.to(device), item.to(device), target.float().to(device)\n",
    "                        pred = model(user, item)\n",
    "                        cost = criterion(pred, target)\n",
    "                        test_loss += cost.item()\n",
    "                avg_test_loss = test_loss / len(test_dataloader)\n",
    "                model.train()\n",
    "\n",
    "                print(\n",
    "                    \"Epochs: {}\\tAvg Train Loss: {:.4f}\\tAvg Test Loss: {:.4f}\\tHR: {:.3f}\\tNDCG: {:.3f}\".format(\n",
    "                        epoch+1, avg_epoch_loss, avg_test_loss, np.mean(HR), np.mean(NDCG)))\n",
    "\n",
    "                hr_list.append(np.mean(HR))\n",
    "                ndcg_list.append(np.mean(NDCG))\n",
    "                test_loss_list.append(avg_test_loss)\n",
    "\n",
    "        if self.print_cost:\n",
    "            print('Learning finished')\n",
    "        return loss, test_loss_list, hr_list, ndcg_list"
   ]
  },
  {
   "cell_type": "code",
   "execution_count": 6,
   "id": "34f20d01-2ab8-4b6e-8d22-29a1fb148ff5",
   "metadata": {},
   "outputs": [],
   "source": [
    "def plot_comparison_metrics(train_loss_1, test_loss_list_1, hr_list_1, ndcg_list_1,\n",
    "                           train_loss_4, test_loss_list_4, hr_list_4, ndcg_list_4, top_k):\n",
    "    epochs = np.arange(1, len(train_loss_1) + 1)\n",
    "\n",
    "    output_dir = './Training Results/'\n",
    "    os.makedirs(output_dir, exist_ok=True)\n",
    "\n",
    "    # Create a single figure with 4 subplots\n",
    "    plt.figure(figsize=(16, 12))\n",
    "    \n",
    "    # Plot Training Loss\n",
    "    plt.subplot(2, 2, 1)\n",
    "    plt.plot(epochs, train_loss_1, label='Dataset 1', marker='o')\n",
    "    plt.plot(epochs, train_loss_4, label='Dataset 2', marker='x')\n",
    "    plt.title('Training Loss Comparison')\n",
    "    plt.xlabel('Epoch')\n",
    "    plt.ylabel('Loss')\n",
    "    plt.legend()\n",
    "    plt.grid(True, linestyle='--', alpha=0.6)\n",
    "\n",
    "    # Plot Test Loss\n",
    "    plt.subplot(2, 2, 2)\n",
    "    plt.plot(epochs, test_loss_list_1, label='Dataset 1', marker='o')\n",
    "    plt.plot(epochs, test_loss_list_4, label='Dataset 2', marker='x')\n",
    "    plt.title('Test Loss Comparison')\n",
    "    plt.xlabel('Epoch')\n",
    "    plt.ylabel('Loss')\n",
    "    plt.legend()\n",
    "    plt.grid(True, linestyle='--', alpha=0.6)\n",
    "\n",
    "    # Plot HR@10\n",
    "    plt.subplot(2, 2, 3)\n",
    "    plt.plot(epochs, hr_list_1, label='Dataset 1', marker='o')\n",
    "    plt.plot(epochs, hr_list_4, label='Dataset 2', marker='x')\n",
    "    plt.title(f'Hit Ratio @ {top_k} Comparison')\n",
    "    plt.xlabel('Epoch')\n",
    "    plt.ylabel('Score')\n",
    "    plt.legend()\n",
    "    plt.grid(True, linestyle='--', alpha=0.6)\n",
    "\n",
    "    # Plot NDCG@10\n",
    "    plt.subplot(2, 2, 4)\n",
    "    plt.plot(epochs, ndcg_list_1, label='Dataset 1', marker='o')\n",
    "    plt.plot(epochs, ndcg_list_4, label='Dataset 2', marker='x')\n",
    "    plt.title(f'NDCG @ {top_k} Comparison')\n",
    "    plt.xlabel('Epoch')\n",
    "    plt.ylabel('Score')\n",
    "    plt.legend()\n",
    "    plt.grid(True, linestyle='--', alpha=0.6)\n",
    "\n",
    "    # Add main title and adjust layout\n",
    "    plt.suptitle('Model 3 Performance Comparison on Dataset 1 and Dataset 2', fontsize=16, y=1.02)\n",
    "    plt.tight_layout()\n",
    "    \n",
    "    # Save the entire figure\n",
    "    plt.savefig(os.path.join(output_dir, f'ncf_performance_comparison_top_{top_k}_D1D2_M3.png'), \n",
    "                bbox_inches='tight', dpi=300)\n",
    "    plt.show()"
   ]
  },
  {
   "cell_type": "markdown",
   "id": "6083b1be-25d1-4f20-889f-fc72367ed259",
   "metadata": {},
   "source": [
    "<h2>Putting everything together</h2>"
   ]
  },
  {
   "cell_type": "code",
   "execution_count": 9,
   "id": "89f07a97-a3f5-47ab-a7a9-dd3727c46742",
   "metadata": {},
   "outputs": [
    {
     "name": "stdout",
     "output_type": "stream",
     "text": [
      "device: cpu\n",
      "negative sampled data: 400684\n",
      "negative sampled data: 61000\n",
      "negative sampled data: 3976676\n",
      "negative sampled data: 604000\n",
      "data loaded!\n",
      "Training time: 112.48734\n"
     ]
    }
   ],
   "source": [
    "import pandas as pd\n",
    "import torch\n",
    "import argparse\n",
    "from torch.utils.data import DataLoader\n",
    "import torch.optim as optim\n",
    "import matplotlib.pyplot as plt\n",
    "import os\n",
    "import numpy as np\n",
    "import time\n",
    "\n",
    "start_time = time.time()  # Record start time\n",
    "\n",
    "# check device\n",
    "device = torch.device('cuda' if torch.cuda.is_available() else 'cpu')\n",
    "print(f'device: {device}')\n",
    "\n",
    "# print GPU information\n",
    "if torch.cuda.is_available():\n",
    "    print('Current cuda device:', torch.cuda.current_device())\n",
    "    print('Count of using GPUs:', torch.cuda.device_count())\n",
    "\n",
    "# directory to save checkpoints\n",
    "pretrain_dir = 'ncf_models'\n",
    "if not os.path.isdir(pretrain_dir):\n",
    "    os.makedirs(pretrain_dir)\n",
    "\n",
    "# the train, test and total dataset\n",
    "train_df_1 = pd.read_csv(\"./Datasets/train_D1.csv\")\n",
    "test_df_1 = pd.read_csv(\"./Datasets/test_D1.csv\")\n",
    "total_df_1 = pd.read_csv(\"./Datasets/ratings_preprocessed_D1.csv\")\n",
    "\n",
    "train_df_4 = pd.read_csv(\"./Datasets/train_D2.csv\")\n",
    "test_df_4 = pd.read_csv(\"./Datasets/test_D2.csv\")\n",
    "total_df_4 = pd.read_csv(\"./Datasets/ratings_preprocessed_D2.csv\")\n",
    "\n",
    "# make torch.utils.data.Data object\n",
    "train_set_1 = MovieLens(df=train_df_1, total_df=total_df_1, ng_ratio=3)\n",
    "test_set_1 = MovieLens(df=test_df_1, total_df=total_df_1, ng_ratio=99)\n",
    "\n",
    "train_set_4 = MovieLens(df=train_df_4, total_df=total_df_4, ng_ratio=3)\n",
    "test_set_4 = MovieLens(df=test_df_4, total_df=total_df_4, ng_ratio=99)\n",
    "\n",
    "# Find Global Maximums\n",
    "max_num_users_global = max(total_df_1['userId'].max(), total_df_4['userId'].max()) + 1  #, total_df_2['userId'].max()\n",
    "max_num_items_global = max(total_df_1['movieId'].max(), total_df_4['movieId'].max()) + 1  #, total_df_2['movieId'].max()\n",
    "\n",
    "print('data loaded!')\n",
    "\n",
    "# dataloader for train_dataset\n",
    "dataloader_train_1 = DataLoader(dataset=train_set_1, batch_size=256, shuffle=True, num_workers=0)\n",
    "\n",
    "# dataloader for test_dataset\n",
    "dataloader_test_1 = DataLoader(dataset=test_set_1, batch_size=100, shuffle=False, num_workers=0, drop_last=True)\n",
    "\n",
    "# dataloader for train_dataset\n",
    "dataloader_train_4 = DataLoader(dataset=train_set_4, batch_size=256, shuffle=True, num_workers=0)\n",
    "\n",
    "# dataloader for test_dataset\n",
    "dataloader_test_4 = DataLoader(dataset=test_set_4, batch_size=100, shuffle=False, num_workers=0, drop_last=True)\n",
    "\n",
    "model = MLP(num_users=max_num_users_global, num_items=max_num_items_global, embedding_size=32, layer_dims=[64,32,16], use_NeuMF=False) #emb size, layer\n",
    "\n",
    "# Initialize optimizer and loss function\n",
    "optimizer = torch.optim.Adam(model.parameters(), lr=0.01) #learning rate\n",
    "\n",
    "# objective function is log loss (Cross-entropy loss)\n",
    "criterion = torch.nn.BCELoss()\n",
    "\n",
    "model.to(device)\n",
    "save_model = True\n",
    "\n",
    "end_time = time.time()    # Record end time\n",
    "training_time = end_time - start_time  # Calculate training time\n",
    "print(f\"Training time: {training_time:.5f}\")  # Print the training time"
   ]
  },
  {
   "cell_type": "markdown",
   "id": "dac87c73-10a0-41e1-9610-54a0011e66dd",
   "metadata": {},
   "source": [
    "<h2>Dataset 1 Model Training</h2>"
   ]
  },
  {
   "cell_type": "code",
   "execution_count": 12,
   "id": "553c25a2-b7f6-4987-8838-b93b7b2c5fa4",
   "metadata": {},
   "outputs": [
    {
     "name": "stderr",
     "output_type": "stream",
     "text": [
      "Epoch 1/15: 100%|███████████████████████████████████████████████████| 1566/1566 [01:25<00:00, 18.39batch/s, loss=0.548]\n"
     ]
    },
    {
     "name": "stdout",
     "output_type": "stream",
     "text": [
      "Epochs: 1\tAvg Train Loss: 0.4095\tAvg Test Loss: 0.2056\tHR: 0.608\tNDCG: 0.343\n"
     ]
    },
    {
     "name": "stderr",
     "output_type": "stream",
     "text": [
      "Epoch 2/15: 100%|███████████████████████████████████████████████████| 1566/1566 [01:27<00:00, 17.91batch/s, loss=0.364]\n"
     ]
    },
    {
     "name": "stdout",
     "output_type": "stream",
     "text": [
      "Epochs: 2\tAvg Train Loss: 0.3386\tAvg Test Loss: 0.2146\tHR: 0.598\tNDCG: 0.355\n"
     ]
    },
    {
     "name": "stderr",
     "output_type": "stream",
     "text": [
      "Epoch 3/15: 100%|███████████████████████████████████████████████████| 1566/1566 [01:28<00:00, 17.71batch/s, loss=0.495]\n"
     ]
    },
    {
     "name": "stdout",
     "output_type": "stream",
     "text": [
      "Epochs: 3\tAvg Train Loss: 0.3049\tAvg Test Loss: 0.1879\tHR: 0.618\tNDCG: 0.364\n"
     ]
    },
    {
     "name": "stderr",
     "output_type": "stream",
     "text": [
      "Epoch 4/15: 100%|███████████████████████████████████████████████████| 1566/1566 [01:26<00:00, 18.02batch/s, loss=0.291]\n"
     ]
    },
    {
     "name": "stdout",
     "output_type": "stream",
     "text": [
      "Epochs: 4\tAvg Train Loss: 0.2748\tAvg Test Loss: 0.2331\tHR: 0.643\tNDCG: 0.377\n"
     ]
    },
    {
     "name": "stderr",
     "output_type": "stream",
     "text": [
      "Epoch 5/15: 100%|███████████████████████████████████████████████████| 1566/1566 [01:27<00:00, 17.98batch/s, loss=0.204]\n"
     ]
    },
    {
     "name": "stdout",
     "output_type": "stream",
     "text": [
      "Epochs: 5\tAvg Train Loss: 0.2502\tAvg Test Loss: 0.1578\tHR: 0.633\tNDCG: 0.377\n"
     ]
    },
    {
     "name": "stderr",
     "output_type": "stream",
     "text": [
      "Epoch 6/15: 100%|███████████████████████████████████████████████████| 1566/1566 [01:26<00:00, 18.12batch/s, loss=0.294]\n"
     ]
    },
    {
     "name": "stdout",
     "output_type": "stream",
     "text": [
      "Epochs: 6\tAvg Train Loss: 0.2297\tAvg Test Loss: 0.1977\tHR: 0.634\tNDCG: 0.377\n"
     ]
    },
    {
     "name": "stderr",
     "output_type": "stream",
     "text": [
      "Epoch 7/15: 100%|███████████████████████████████████████████████████| 1566/1566 [01:25<00:00, 18.35batch/s, loss=0.162]\n"
     ]
    },
    {
     "name": "stdout",
     "output_type": "stream",
     "text": [
      "Epochs: 7\tAvg Train Loss: 0.2135\tAvg Test Loss: 0.1980\tHR: 0.648\tNDCG: 0.386\n"
     ]
    },
    {
     "name": "stderr",
     "output_type": "stream",
     "text": [
      "Epoch 8/15: 100%|███████████████████████████████████████████████████| 1566/1566 [01:28<00:00, 17.70batch/s, loss=0.247]\n"
     ]
    },
    {
     "name": "stdout",
     "output_type": "stream",
     "text": [
      "Epochs: 8\tAvg Train Loss: 0.2009\tAvg Test Loss: 0.1823\tHR: 0.631\tNDCG: 0.386\n"
     ]
    },
    {
     "name": "stderr",
     "output_type": "stream",
     "text": [
      "Epoch 9/15: 100%|███████████████████████████████████████████████████| 1566/1566 [01:28<00:00, 17.63batch/s, loss=0.113]\n"
     ]
    },
    {
     "name": "stdout",
     "output_type": "stream",
     "text": [
      "Epochs: 9\tAvg Train Loss: 0.1911\tAvg Test Loss: 0.2069\tHR: 0.652\tNDCG: 0.385\n"
     ]
    },
    {
     "name": "stderr",
     "output_type": "stream",
     "text": [
      "Epoch 10/15: 100%|██████████████████████████████████████████████████| 1566/1566 [01:26<00:00, 18.03batch/s, loss=0.164]\n"
     ]
    },
    {
     "name": "stdout",
     "output_type": "stream",
     "text": [
      "Epochs: 10\tAvg Train Loss: 0.1788\tAvg Test Loss: 0.2451\tHR: 0.648\tNDCG: 0.386\n"
     ]
    },
    {
     "name": "stderr",
     "output_type": "stream",
     "text": [
      "Epoch 11/15: 100%|██████████████████████████████████████████████████| 1566/1566 [01:29<00:00, 17.57batch/s, loss=0.314]\n"
     ]
    },
    {
     "name": "stdout",
     "output_type": "stream",
     "text": [
      "Epochs: 11\tAvg Train Loss: 0.1704\tAvg Test Loss: 0.2183\tHR: 0.644\tNDCG: 0.388\n"
     ]
    },
    {
     "name": "stderr",
     "output_type": "stream",
     "text": [
      "Epoch 12/15: 100%|██████████████████████████████████████████████████| 1566/1566 [01:30<00:00, 17.37batch/s, loss=0.197]\n"
     ]
    },
    {
     "name": "stdout",
     "output_type": "stream",
     "text": [
      "Epochs: 12\tAvg Train Loss: 0.1628\tAvg Test Loss: 0.2177\tHR: 0.654\tNDCG: 0.383\n"
     ]
    },
    {
     "name": "stderr",
     "output_type": "stream",
     "text": [
      "Epoch 13/15: 100%|██████████████████████████████████████████████████| 1566/1566 [01:34<00:00, 16.62batch/s, loss=0.145]\n"
     ]
    },
    {
     "name": "stdout",
     "output_type": "stream",
     "text": [
      "Epochs: 13\tAvg Train Loss: 0.1556\tAvg Test Loss: 0.2341\tHR: 0.651\tNDCG: 0.392\n"
     ]
    },
    {
     "name": "stderr",
     "output_type": "stream",
     "text": [
      "Epoch 14/15: 100%|██████████████████████████████████████████████████| 1566/1566 [01:33<00:00, 16.79batch/s, loss=0.209]\n"
     ]
    },
    {
     "name": "stdout",
     "output_type": "stream",
     "text": [
      "Epochs: 14\tAvg Train Loss: 0.1490\tAvg Test Loss: 0.2165\tHR: 0.649\tNDCG: 0.387\n"
     ]
    },
    {
     "name": "stderr",
     "output_type": "stream",
     "text": [
      "Epoch 15/15: 100%|█████████████████████████████████████████████████| 1566/1566 [01:29<00:00, 17.55batch/s, loss=0.0465]\n"
     ]
    },
    {
     "name": "stdout",
     "output_type": "stream",
     "text": [
      "Epochs: 15\tAvg Train Loss: 0.1433\tAvg Test Loss: 0.2449\tHR: 0.648\tNDCG: 0.393\n",
      "Learning finished\n",
      "Training time: 1386.77971 seconds\n"
     ]
    }
   ],
   "source": [
    "# Initialize trainer with customizable top_k\n",
    "\n",
    "trainer_1 = Train(model=model,\n",
    "              optimizer=optimizer,\n",
    "              criterion=criterion,\n",
    "              epochs=15,\n",
    "              test_obj=dataloader_test_1,\n",
    "              dataloader=dataloader_train_1,\n",
    "              device=device,\n",
    "              print_cost=True,\n",
    "              top_k=10)\n",
    "    \n",
    "# measuring time\n",
    "start = time.time()\n",
    "loss_1, test_loss_list_1, hr_list_1, ndcg_list_1 = trainer_1.train()\n",
    "\n",
    "end = time.time()\n",
    "\n",
    "time_message = f'Training time: {end-start:.5f} seconds'\n",
    "print(time_message)"
   ]
  },
  {
   "cell_type": "markdown",
   "id": "b557102e-7265-409f-a667-3c28a6e97eea",
   "metadata": {},
   "source": [
    "<h2>Dataset 4 Model Training</h2>"
   ]
  },
  {
   "cell_type": "code",
   "execution_count": 10,
   "id": "f61a06d4-19d5-4e6f-9ef4-f5240dbf85ea",
   "metadata": {},
   "outputs": [
    {
     "name": "stderr",
     "output_type": "stream",
     "text": [
      "Epoch 1/15: 100%|█████████████████████████████████████████████████| 15534/15534 [15:17<00:00, 16.93batch/s, loss=0.318]\n"
     ]
    },
    {
     "name": "stdout",
     "output_type": "stream",
     "text": [
      "Epochs: 1\tAvg Train Loss: 0.3877\tAvg Test Loss: 0.2247\tHR: 0.518\tNDCG: 0.288\n"
     ]
    },
    {
     "name": "stderr",
     "output_type": "stream",
     "text": [
      "Epoch 2/15: 100%|█████████████████████████████████████████████████| 15534/15534 [15:09<00:00, 17.08batch/s, loss=0.359]\n"
     ]
    },
    {
     "name": "stdout",
     "output_type": "stream",
     "text": [
      "Epochs: 2\tAvg Train Loss: 0.3430\tAvg Test Loss: 0.2032\tHR: 0.576\tNDCG: 0.322\n"
     ]
    },
    {
     "name": "stderr",
     "output_type": "stream",
     "text": [
      "Epoch 3/15: 100%|█████████████████████████████████████████████████| 15534/15534 [14:57<00:00, 17.31batch/s, loss=0.296]\n"
     ]
    },
    {
     "name": "stdout",
     "output_type": "stream",
     "text": [
      "Epochs: 3\tAvg Train Loss: 0.3181\tAvg Test Loss: 0.1701\tHR: 0.606\tNDCG: 0.342\n"
     ]
    },
    {
     "name": "stderr",
     "output_type": "stream",
     "text": [
      "Epoch 4/15: 100%|█████████████████████████████████████████████████| 15534/15534 [14:46<00:00, 17.52batch/s, loss=0.258]\n"
     ]
    },
    {
     "name": "stdout",
     "output_type": "stream",
     "text": [
      "Epochs: 4\tAvg Train Loss: 0.3045\tAvg Test Loss: 0.1890\tHR: 0.623\tNDCG: 0.356\n"
     ]
    },
    {
     "name": "stderr",
     "output_type": "stream",
     "text": [
      "Epoch 5/15: 100%|█████████████████████████████████████████████████| 15534/15534 [14:54<00:00, 17.36batch/s, loss=0.373]\n"
     ]
    },
    {
     "name": "stdout",
     "output_type": "stream",
     "text": [
      "Epochs: 5\tAvg Train Loss: 0.2956\tAvg Test Loss: 0.1807\tHR: 0.636\tNDCG: 0.364\n"
     ]
    },
    {
     "name": "stderr",
     "output_type": "stream",
     "text": [
      "Epoch 6/15: 100%|█████████████████████████████████████████████████| 15534/15534 [15:33<00:00, 16.65batch/s, loss=0.363]\n"
     ]
    },
    {
     "name": "stdout",
     "output_type": "stream",
     "text": [
      "Epochs: 6\tAvg Train Loss: 0.2888\tAvg Test Loss: 0.1877\tHR: 0.634\tNDCG: 0.364\n"
     ]
    },
    {
     "name": "stderr",
     "output_type": "stream",
     "text": [
      "Epoch 7/15: 100%|█████████████████████████████████████████████████| 15534/15534 [15:56<00:00, 16.24batch/s, loss=0.326]\n"
     ]
    },
    {
     "name": "stdout",
     "output_type": "stream",
     "text": [
      "Epochs: 7\tAvg Train Loss: 0.2833\tAvg Test Loss: 0.1752\tHR: 0.646\tNDCG: 0.373\n"
     ]
    },
    {
     "name": "stderr",
     "output_type": "stream",
     "text": [
      "Epoch 8/15: 100%|█████████████████████████████████████████████████| 15534/15534 [15:34<00:00, 16.63batch/s, loss=0.227]\n"
     ]
    },
    {
     "name": "stdout",
     "output_type": "stream",
     "text": [
      "Epochs: 8\tAvg Train Loss: 0.2786\tAvg Test Loss: 0.1791\tHR: 0.641\tNDCG: 0.371\n"
     ]
    },
    {
     "name": "stderr",
     "output_type": "stream",
     "text": [
      "Epoch 9/15: 100%|█████████████████████████████████████████████████| 15534/15534 [17:19<00:00, 14.95batch/s, loss=0.237]\n"
     ]
    },
    {
     "name": "stdout",
     "output_type": "stream",
     "text": [
      "Epochs: 9\tAvg Train Loss: 0.2746\tAvg Test Loss: 0.1849\tHR: 0.645\tNDCG: 0.375\n"
     ]
    },
    {
     "name": "stderr",
     "output_type": "stream",
     "text": [
      "Epoch 10/15: 100%|████████████████████████████████████████████████| 15534/15534 [16:48<00:00, 15.40batch/s, loss=0.328]\n"
     ]
    },
    {
     "name": "stdout",
     "output_type": "stream",
     "text": [
      "Epochs: 10\tAvg Train Loss: 0.2710\tAvg Test Loss: 0.2097\tHR: 0.649\tNDCG: 0.376\n"
     ]
    },
    {
     "name": "stderr",
     "output_type": "stream",
     "text": [
      "Epoch 11/15: 100%|████████████████████████████████████████████████| 15534/15534 [16:39<00:00, 15.54batch/s, loss=0.282]\n"
     ]
    },
    {
     "name": "stdout",
     "output_type": "stream",
     "text": [
      "Epochs: 11\tAvg Train Loss: 0.2681\tAvg Test Loss: 0.1791\tHR: 0.648\tNDCG: 0.377\n"
     ]
    },
    {
     "name": "stderr",
     "output_type": "stream",
     "text": [
      "Epoch 12/15: 100%|████████████████████████████████████████████████| 15534/15534 [15:49<00:00, 16.37batch/s, loss=0.201]\n"
     ]
    },
    {
     "name": "stdout",
     "output_type": "stream",
     "text": [
      "Epochs: 12\tAvg Train Loss: 0.2656\tAvg Test Loss: 0.1757\tHR: 0.656\tNDCG: 0.380\n"
     ]
    },
    {
     "name": "stderr",
     "output_type": "stream",
     "text": [
      "Epoch 13/15: 100%|████████████████████████████████████████████████| 15534/15534 [16:30<00:00, 15.68batch/s, loss=0.234]\n"
     ]
    },
    {
     "name": "stdout",
     "output_type": "stream",
     "text": [
      "Epochs: 13\tAvg Train Loss: 0.2629\tAvg Test Loss: 0.1914\tHR: 0.651\tNDCG: 0.377\n"
     ]
    },
    {
     "name": "stderr",
     "output_type": "stream",
     "text": [
      "Epoch 14/15: 100%|████████████████████████████████████████████████| 15534/15534 [15:21<00:00, 16.86batch/s, loss=0.297]\n"
     ]
    },
    {
     "name": "stdout",
     "output_type": "stream",
     "text": [
      "Epochs: 14\tAvg Train Loss: 0.2606\tAvg Test Loss: 0.1744\tHR: 0.658\tNDCG: 0.382\n"
     ]
    },
    {
     "name": "stderr",
     "output_type": "stream",
     "text": [
      "Epoch 15/15: 100%|████████████████████████████████████████████████| 15534/15534 [14:57<00:00, 17.31batch/s, loss=0.264]\n"
     ]
    },
    {
     "name": "stdout",
     "output_type": "stream",
     "text": [
      "Epochs: 15\tAvg Train Loss: 0.2589\tAvg Test Loss: 0.2117\tHR: 0.662\tNDCG: 0.388\n",
      "Learning finished\n",
      "Training time: 14709.87085 seconds\n"
     ]
    }
   ],
   "source": [
    "# Initialize trainer with customizable top_k\n",
    "\n",
    "trainer_2 = Train(model=model,\n",
    "              optimizer=optimizer,\n",
    "              criterion=criterion,\n",
    "              epochs=15,\n",
    "              test_obj=dataloader_test_4,\n",
    "              dataloader=dataloader_train_4,\n",
    "              device=device,\n",
    "              print_cost=True,\n",
    "              top_k=10)\n",
    "    \n",
    "# measuring time\n",
    "start = time.time()\n",
    "loss_4, test_loss_list_4, hr_list_4, ndcg_list_4 = trainer_2.train()\n",
    "\n",
    "end = time.time()\n",
    "\n",
    "time_message = f'Training time: {end-start:.5f} seconds'\n",
    "print(time_message)"
   ]
  },
  {
   "cell_type": "markdown",
   "id": "8fbfb201-c3d8-4e6f-ba3c-5a8d8d2aa4d6",
   "metadata": {},
   "source": [
    "<h2>Plotting Graphs</h2>"
   ]
  },
  {
   "cell_type": "code",
   "execution_count": 13,
   "id": "283f1afd-1689-4121-aa56-6772c6185910",
   "metadata": {},
   "outputs": [
    {
     "data": {
      "image/png": "[encoded data removed]",
      "text/plain": [
       "<Figure size 1600x1200 with 4 Axes>"
      ]
     },
     "metadata": {},
     "output_type": "display_data"
    }
   ],
   "source": [
    "plot_comparison_metrics(loss_1, test_loss_list_1, hr_list_1, ndcg_list_1, loss_4, test_loss_list_4, hr_list_4, ndcg_list_4, top_k=trainer_2.top_k)"
   ]
  },
  {
   "cell_type": "code",
   "execution_count": 14,
   "id": "5d8c37b5-c0b2-4cfd-85ad-b0ceae28ef2e",
   "metadata": {},
   "outputs": [
    {
     "data": {
      "text/plain": [
       "MLP(\n",
       "  (user_embedding): Embedding(6041, 32)\n",
       "  (item_embedding): Embedding(193610, 32)\n",
       "  (mlp_layers): Sequential(\n",
       "    (0): Linear(in_features=64, out_features=64, bias=True)\n",
       "    (1): ReLU()\n",
       "    (2): Linear(in_features=64, out_features=32, bias=True)\n",
       "    (3): ReLU()\n",
       "    (4): Linear(in_features=32, out_features=16, bias=True)\n",
       "    (5): ReLU()\n",
       "  )\n",
       "  (output_layer): Linear(in_features=16, out_features=1, bias=True)\n",
       "  (sigmoid): Sigmoid()\n",
       ")"
      ]
     },
     "execution_count": 14,
     "metadata": {},
     "output_type": "execute_result"
    }
   ],
   "source": [
    "model"
   ]
  },
  {
   "cell_type": "markdown",
   "id": "5beb4616-19cb-4b4d-9ecf-c7a0715b7902",
   "metadata": {},
   "source": [
    "<h2>Inference Checking</h2>"
   ]
  },
  {
   "cell_type": "markdown",
   "id": "4e73193e-e866-49cb-95c0-0f0a58dd3f4c",
   "metadata": {},
   "source": [
    "<h3>Getting inference with corresponding metrics from a test set</h3>"
   ]
  },
  {
   "cell_type": "code",
   "execution_count": 15,
   "id": "c2549ae0-c4b8-4680-96a9-07594b495cbb",
   "metadata": {},
   "outputs": [
    {
     "name": "stdout",
     "output_type": "stream",
     "text": [
      "Evaluation Metrics:\n",
      "HR@10: 0.648\n",
      "NDCG@10: 0.393\n",
      "\n",
      "User: 31\n",
      "Ground Truth: Pallbearer, The (1996) (MovieID: 612)\n",
      "\n",
      "Top 10 Recommendations for User 31:\n",
      "1. Terminator 2: Judgment Day (1991) (MovieID: 589, Score: 0.983)\n",
      "2. Batman Returns (1992) (MovieID: 1377, Score: 0.977)\n",
      "3. Star Trek VI: The Undiscovered Country (1991) (MovieID: 1372, Score: 0.868)\n",
      "4. Billy Madison (1995) (MovieID: 216, Score: 0.805)\n",
      "5. Sleepy Hollow (1999) (MovieID: 3081, Score: 0.684)\n",
      "6. Young Guns II (1990) (MovieID: 1379, Score: 0.572)\n",
      "7. French Connection, The (1971) (MovieID: 1953, Score: 0.219)\n",
      "8. Volunteers (1985) (MovieID: 3385, Score: 0.219)\n",
      "9. Daylight (1996) (MovieID: 798, Score: 0.219)\n",
      "10. Aladdin and the King of Thieves (1996) (MovieID: 1064, Score: 0.219)\n"
     ]
    }
   ],
   "source": [
    "def metrics_with_recommendations_with_titles(model, test_loader, top_k, total_dataframe, device):\n",
    "    \"\"\"\n",
    "    Function to return recommendations with metrics and predicted scores.\n",
    "\n",
    "    Parameters:\n",
    "    -----------\n",
    "    model: The trained model checkpoints\n",
    "    test_loader: The test data loader\n",
    "    top_k: Total numbers of movies to recommend\n",
    "    total_dataframe: The total dataframe to map the id of the movie with title\n",
    "    device: According to availability CPU or a GPU\n",
    "\n",
    "    Returns:\n",
    "    ---------\n",
    "    HR: The Hit rate metrics\n",
    "    NDCG: The NDCG metrics\n",
    "    all_recommendations: The top_k recommended movies with titles and predicted scores\n",
    "    \"\"\"\n",
    "    HR, NDCG, all_recommendations = [], [], []\n",
    "\n",
    "    for user, item, label in test_loader:\n",
    "        user = user.to(device)\n",
    "        item = item.to(device)\n",
    "\n",
    "        predictions = model(user, item)\n",
    "        # Get top-k predictions and their indices\n",
    "        top_k_scores, top_k_indices = torch.topk(predictions, top_k)\n",
    "\n",
    "        # Convert to lists\n",
    "        recommends = torch.take(item, top_k_indices).cpu().numpy().tolist()\n",
    "        recommend_scores = top_k_scores.cpu().detach().numpy().tolist()\n",
    "\n",
    "        # Ground truth item\n",
    "        gt_item = item[0].item()\n",
    "        HR.append(hit(gt_item, recommends))\n",
    "        NDCG.append(ndcg(gt_item, recommends))\n",
    "\n",
    "        # Get movie titles and scores for the recommended movies\n",
    "        recommended_movies = []\n",
    "        for rec, score in zip(recommends, recommend_scores):\n",
    "            title = total_dataframe[total_dataframe['movieId'] == rec]['title'].values[0]\n",
    "            recommended_movies.append({\n",
    "                'movieId': rec,\n",
    "                'title': title,\n",
    "                'score': float(score)  # Convert numpy float to Python float for JSON compatibility\n",
    "            })\n",
    "\n",
    "        all_recommendations.append({\n",
    "            'user': user[0].item() if user.numel() == 1 else user.tolist()[0],  # Ensure single user per batch\n",
    "            'ground_truth': {\n",
    "                'movieId': gt_item,\n",
    "                'title': total_dataframe[total_dataframe['movieId'] == gt_item]['title'].values[0]\n",
    "            },\n",
    "            'recommendations': recommended_movies\n",
    "        })\n",
    "\n",
    "    return np.mean(HR), np.mean(NDCG), all_recommendations\n",
    "\n",
    "# main HERE\n",
    "k = 10 # change the value of k here\n",
    "\n",
    "HR, NDCG, all_recommendations = metrics_with_recommendations_with_titles(\n",
    "    model, \n",
    "    test_loader=dataloader_test_1, \n",
    "    top_k=k,\n",
    "    total_dataframe=total_df_1, \n",
    "    device=device\n",
    ")\n",
    "\n",
    "# Print metrics\n",
    "print(f\"Evaluation Metrics:\")\n",
    "print(f\"HR@{k}: {HR:.3f}\")\n",
    "print(f\"NDCG@{k}: {NDCG:.3f}\")\n",
    "\n",
    "# Print recommendations with scores (for the first user)\n",
    "first_user_rec = all_recommendations[0]\n",
    "print(f\"\\nUser: {first_user_rec['user']}\")\n",
    "print(f\"Ground Truth: {first_user_rec['ground_truth']['title']} (MovieID: {first_user_rec['ground_truth']['movieId']})\")\n",
    "print(f\"\\nTop {k} Recommendations for User {first_user_rec['user']}:\") # attention HERE\n",
    "for idx, rec in enumerate(first_user_rec['recommendations'], 1):\n",
    "    print(f\"{idx}. {rec['title']} (MovieID: {rec['movieId']}, Score: {rec['score']:.3f})\")"
   ]
  },
  {
   "cell_type": "code",
   "execution_count": 11,
   "id": "6b6a45aa-3ad0-4517-a8bc-9f1e790cdfe2",
   "metadata": {},
   "outputs": [
    {
     "name": "stdout",
     "output_type": "stream",
     "text": [
      "Evaluation Metrics:\n",
      "HR@10: 0.662\n",
      "NDCG@10: 0.388\n",
      "\n",
      "User: 891\n",
      "Ground Truth: Devil's Own, The (1997) (MovieID: 1488)\n",
      "\n",
      "Top 10 Recommendations for User 891:\n",
      "1. Keeping the Faith (2000) (MovieID: 3536, Score: 0.682)\n",
      "2. Whole Nine Yards, The (2000) (MovieID: 3301, Score: 0.676)\n",
      "3. Fifth Element, The (1997) (MovieID: 1527, Score: 0.660)\n",
      "4. Anywhere But Here (1999) (MovieID: 3051, Score: 0.450)\n",
      "5. Saving Grace (2000) (MovieID: 3831, Score: 0.450)\n",
      "6. Con Air (1997) (MovieID: 1552, Score: 0.450)\n",
      "7. Straight Story, The (1999) (MovieID: 2966, Score: 0.450)\n",
      "8. Superman (1978) (MovieID: 2640, Score: 0.450)\n",
      "9. My Own Private Idaho (1991) (MovieID: 1611, Score: 0.439)\n",
      "10. Wilde (1997) (MovieID: 2437, Score: 0.424)\n"
     ]
    }
   ],
   "source": [
    "def metrics_with_recommendations_with_titles(model, test_loader, top_k, total_dataframe, device):\n",
    "    \"\"\"\n",
    "    Function to return recommendations with metrics and predicted scores.\n",
    "\n",
    "    Parameters:\n",
    "    -----------\n",
    "    model: The trained model checkpoints\n",
    "    test_loader: The test data loader\n",
    "    top_k: Total numbers of movies to recommend\n",
    "    total_dataframe: The total dataframe to map the id of the movie with title\n",
    "    device: According to availability CPU or a GPU\n",
    "\n",
    "    Returns:\n",
    "    ---------\n",
    "    HR: The Hit rate metrics\n",
    "    NDCG: The NDCG metrics\n",
    "    all_recommendations: The top_k recommended movies with titles and predicted scores\n",
    "    \"\"\"\n",
    "    HR, NDCG, all_recommendations = [], [], []\n",
    "\n",
    "    for user, item, label in test_loader:\n",
    "        user = user.to(device)\n",
    "        item = item.to(device)\n",
    "\n",
    "        predictions = model(user, item)\n",
    "        # Get top-k predictions and their indices\n",
    "        top_k_scores, top_k_indices = torch.topk(predictions, top_k)\n",
    "\n",
    "        # Convert to lists\n",
    "        recommends = torch.take(item, top_k_indices).cpu().numpy().tolist()\n",
    "        recommend_scores = top_k_scores.cpu().detach().numpy().tolist()\n",
    "\n",
    "        # Ground truth item\n",
    "        gt_item = item[0].item()\n",
    "        HR.append(hit(gt_item, recommends))\n",
    "        NDCG.append(ndcg(gt_item, recommends))\n",
    "\n",
    "        # Get movie titles and scores for the recommended movies\n",
    "        recommended_movies = []\n",
    "        for rec, score in zip(recommends, recommend_scores):\n",
    "            title = total_dataframe[total_dataframe['movieId'] == rec]['title'].values[0]\n",
    "            recommended_movies.append({\n",
    "                'movieId': rec,\n",
    "                'title': title,\n",
    "                'score': float(score)  # Convert numpy float to Python float for JSON compatibility\n",
    "            })\n",
    "\n",
    "        all_recommendations.append({\n",
    "            'user': user[0].item() if user.numel() == 1 else user.tolist()[0],  # Ensure single user per batch\n",
    "            'ground_truth': {\n",
    "                'movieId': gt_item,\n",
    "                'title': total_dataframe[total_dataframe['movieId'] == gt_item]['title'].values[0]\n",
    "            },\n",
    "            'recommendations': recommended_movies\n",
    "        })\n",
    "\n",
    "    return np.mean(HR), np.mean(NDCG), all_recommendations\n",
    "\n",
    "# main HERE\n",
    "k = 10 # change the value of k here\n",
    "HR, NDCG, all_recommendations = metrics_with_recommendations_with_titles(\n",
    "    model, \n",
    "    test_loader=dataloader_test_4, \n",
    "    top_k=k, \n",
    "    total_dataframe=total_df_4, \n",
    "    device=device\n",
    ")\n",
    "\n",
    "print(f\"Evaluation Metrics:\")\n",
    "print(f\"HR@{k}: {HR:.3f}\")\n",
    "print(f\"NDCG@{k}: {NDCG:.3f}\")\n",
    "\n",
    "# Print recommendations with scores (for the first user)\n",
    "first_user_rec = all_recommendations[0]\n",
    "print(f\"\\nUser: {first_user_rec['user']}\")\n",
    "print(f\"Ground Truth: {first_user_rec['ground_truth']['title']} (MovieID: {first_user_rec['ground_truth']['movieId']})\")\n",
    "print(f\"\\nTop {k} Recommendations for User {first_user_rec['user']}:\") # attention HERE\n",
    "for idx, rec in enumerate(first_user_rec['recommendations'], 1):\n",
    "    print(f\"{idx}. {rec['title']} (MovieID: {rec['movieId']}, Score: {rec['score']:.3f})\")"
   ]
  },
  {
   "cell_type": "markdown",
   "id": "edc59644-3757-498d-b11a-645aee08c8a6",
   "metadata": {},
   "source": [
    "<h3>Getting recommendations for an existing user of the system</h3>"
   ]
  },
  {
   "cell_type": "code",
   "execution_count": 16,
   "id": "2e374629-c41d-4e31-82c9-1abca1f3c612",
   "metadata": {},
   "outputs": [
    {
     "name": "stdout",
     "output_type": "stream",
     "text": [
      "User ID 1 found in the test loader.\n",
      "\n",
      "Top 10 Recommendations for User 1:\n",
      "1. Top Gun (1986) (ID: 1101) | Score: 0.987\n",
      "2. Good, the Bad and the Ugly, The (Buono, il brutto, il cattivo, Il) (1966) (ID: 1201) | Score: 0.947\n",
      "3. Mallrats (1995) (ID: 180) | Score: 0.939\n",
      "4. Muppet Movie, The (1979) (ID: 3396) | Score: 0.913\n",
      "5. 28 Days (2000) (ID: 3534) | Score: 0.840\n",
      "6. Mickey Blue Eyes (1999) (ID: 2805) | Score: 0.816\n",
      "7. Princess Mononoke (Mononoke-hime) (1997) (ID: 3000) | Score: 0.801\n",
      "8. High Noon (1952) (ID: 1283) | Score: 0.659\n",
      "9. Carnal Knowledge (1971) (ID: 3167) | Score: 0.658\n",
      "10. Hart's War (2002) (ID: 5107) | Score: 0.587\n"
     ]
    }
   ],
   "source": [
    "def inference_for_single_user_by_id(model, user_id, top_k, total_dataframe, test_loader, device):\n",
    "    \"\"\"\n",
    "    Function to perform inference for a single user by user ID and return recommendations with metrics.\n",
    "\n",
    "    Parameters:\n",
    "    -----------\n",
    "    model: The trained model checkpoints\n",
    "    user_id: The ID of the user for whom to make recommendations\n",
    "    top_k: Total numbers of movies to recommend\n",
    "    total_dataframe: The total dataframe to map the id of the movie with title\n",
    "    test_loader: The DataLoader for the test set\n",
    "    device: According to availability CPU or a GPU\n",
    "\n",
    "    Returns:\n",
    "    ---------\n",
    "    recommendations: Dictionary with user ID, ground truth, and recommended movies with scores\n",
    "    \"\"\"\n",
    "    user_found = False\n",
    "    \n",
    "    for user, item, label in test_loader:\n",
    "        if user[0].item() == user_id:\n",
    "            user_found = True\n",
    "            user = user.to(device)\n",
    "            item = item.to(device)\n",
    "\n",
    "            print(f\"User ID {user_id} found in the test loader.\")\n",
    "            predictions = model(user, item)\n",
    "            top_k_scores, top_k_indices = torch.topk(predictions, top_k)\n",
    "\n",
    "            # Convert to lists\n",
    "            recommends = torch.take(item, top_k_indices).cpu().numpy().tolist()\n",
    "            recommend_scores = top_k_scores.cpu().detach().numpy().tolist()\n",
    "\n",
    "            # Get movie details for the recommended movies\n",
    "            recommended_movies = []\n",
    "            for rec, score in zip(recommends, recommend_scores):\n",
    "                title = total_dataframe[total_dataframe['movieId'] == rec]['title'].values[0]\n",
    "                recommended_movies.append({\n",
    "                    'movieId': rec,\n",
    "                    'title': title,\n",
    "                    'score': float(score)  # Convert numpy float to Python float\n",
    "                })\n",
    "\n",
    "            return {\n",
    "                'user': user[0].item(),\n",
    "                'recommendations': recommended_movies\n",
    "            }\n",
    "    \n",
    "    if not user_found:\n",
    "        raise ValueError(f\"User ID {user_id} not found in the test loader.\")\n",
    "\n",
    "# Example usage\n",
    "user_id_to_infer = 1  # Replace with the user ID you want to infer\n",
    "recommendations = inference_for_single_user_by_id(\n",
    "    model, \n",
    "    user_id_to_infer, \n",
    "    top_k=10, \n",
    "    total_dataframe=total_df_1, \n",
    "    test_loader=dataloader_test_1, \n",
    "    device=device\n",
    ")\n",
    "\n",
    "# Print recommendations with scores\n",
    "print(f\"\\nTop {len(recommendations['recommendations'])} Recommendations for User {recommendations['user']}:\")\n",
    "for idx, rec in enumerate(recommendations['recommendations'], 1):\n",
    "    print(f\"{idx}. {rec['title']} (ID: {rec['movieId']}) | Score: {rec['score']:.3f}\")"
   ]
  },
  {
   "cell_type": "code",
   "execution_count": 17,
   "id": "f69503d2-8153-4fcd-a777-9df81512ee53",
   "metadata": {},
   "outputs": [
    {
     "name": "stdout",
     "output_type": "stream",
     "text": [
      "User ID 1 found in the test loader.\n",
      "\n",
      "Top 10 Recommendations for User 1:\n",
      "1. Pocahontas (1995) (ID: 48) | Score: 0.988\n",
      "2. Men in Black (1997) (ID: 1580) | Score: 0.980\n",
      "3. Independence Day (ID4) (1996) (ID: 780) | Score: 0.980\n",
      "4. GoldenEye (1995) (ID: 10) | Score: 0.972\n",
      "5. Get Shorty (1995) (ID: 21) | Score: 0.957\n",
      "6. Boondock Saints, The (1999) (ID: 3275) | Score: 0.948\n",
      "7. Tron (1982) (ID: 2105) | Score: 0.943\n",
      "8. Matilda (1996) (ID: 837) | Score: 0.921\n",
      "9. Escape from New York (1981) (ID: 1129) | Score: 0.919\n",
      "10. Last Action Hero (1993) (ID: 485) | Score: 0.913\n"
     ]
    }
   ],
   "source": [
    "def inference_for_single_user_by_id(model, user_id, top_k, total_dataframe, test_loader, device):\n",
    "    \"\"\"\n",
    "    Function to perform inference for a single user by user ID and return recommendations with metrics.\n",
    "\n",
    "    Parameters:\n",
    "    -----------\n",
    "    model: The trained model checkpoints\n",
    "    user_id: The ID of the user for whom to make recommendations\n",
    "    top_k: Total numbers of movies to recommend\n",
    "    total_dataframe: The total dataframe to map the id of the movie with title\n",
    "    test_loader: The DataLoader for the test set\n",
    "    device: According to availability CPU or a GPU\n",
    "\n",
    "    Returns:\n",
    "    ---------\n",
    "    recommendations: Dictionary with user ID, ground truth, and recommended movies with scores\n",
    "    \"\"\"\n",
    "    user_found = False\n",
    "    \n",
    "    for user, item, label in test_loader:\n",
    "        if user[0].item() == user_id:\n",
    "            user_found = True\n",
    "            user = user.to(device)\n",
    "            item = item.to(device)\n",
    "\n",
    "            print(f\"User ID {user_id} found in the test loader.\")\n",
    "            predictions = model(user, item)\n",
    "            top_k_scores, top_k_indices = torch.topk(predictions, top_k)\n",
    "\n",
    "            # Convert to lists\n",
    "            recommends = torch.take(item, top_k_indices).cpu().numpy().tolist()\n",
    "            recommend_scores = top_k_scores.cpu().detach().numpy().tolist()\n",
    "\n",
    "            # Get movie details for the recommended movies\n",
    "            recommended_movies = []\n",
    "            for rec, score in zip(recommends, recommend_scores):\n",
    "                title = total_dataframe[total_dataframe['movieId'] == rec]['title'].values[0]\n",
    "                recommended_movies.append({\n",
    "                    'movieId': rec,\n",
    "                    'title': title,\n",
    "                    'score': float(score)  # Convert numpy float to Python float\n",
    "                })\n",
    "\n",
    "            return {\n",
    "                'user': user[0].item(),\n",
    "                'recommendations': recommended_movies\n",
    "            }\n",
    "    \n",
    "    if not user_found:\n",
    "        raise ValueError(f\"User ID {user_id} not found in the test loader.\")\n",
    "\n",
    "# Example usage\n",
    "user_id_to_infer = 1  # Replace with the user ID you want to infer\n",
    "recommendations = inference_for_single_user_by_id(\n",
    "    model, \n",
    "    user_id_to_infer, \n",
    "    top_k=10, \n",
    "    total_dataframe=total_df_4, \n",
    "    test_loader=dataloader_test_4, \n",
    "    device=device\n",
    ")\n",
    "\n",
    "# Print recommendations with scores\n",
    "print(f\"\\nTop {len(recommendations['recommendations'])} Recommendations for User {recommendations['user']}:\")\n",
    "for idx, rec in enumerate(recommendations['recommendations'], 1):\n",
    "    print(f\"{idx}. {rec['title']} (ID: {rec['movieId']}) | Score: {rec['score']:.3f}\")"
   ]
  },
  {
   "cell_type": "code",
   "execution_count": 18,
   "id": "56dc101b-7114-4b39-b68f-fc7009f4fb94",
   "metadata": {},
   "outputs": [
    {
     "name": "stdout",
     "output_type": "stream",
     "text": [
      "       user_id  item_id  label\n",
      "0           31      612    1.0\n",
      "1           31   135456    0.0\n",
      "2           31     3747    0.0\n",
      "3           31     1953    0.0\n",
      "4           31     7202    0.0\n",
      "...        ...      ...    ...\n",
      "60995       27    96488    0.0\n",
      "60996       27   107771    0.0\n",
      "60997       27      665    0.0\n",
      "60998       27      897    0.0\n",
      "60999       27     3422    0.0\n",
      "\n",
      "[61000 rows x 3 columns]\n",
      "\n",
      "Data saved to: ./Datasets/dataloader_test_D1_M3.csv\n"
     ]
    }
   ],
   "source": [
    "import pandas as pd\n",
    "import torch\n",
    "\n",
    "# Initialize a list to store all batches\n",
    "all_batches = []\n",
    "\n",
    "# Iterate through the DataLoader\n",
    "for batch in dataloader_test_1:  # Replace with your DataLoader\n",
    "    users, items, labels = batch\n",
    "    batch_data = {\n",
    "        'user_id': users.numpy(),  # Convert tensors to numpy arrays\n",
    "        'item_id': items.numpy(),\n",
    "        'label': labels.numpy()\n",
    "    }\n",
    "    all_batches.append(batch_data)\n",
    "\n",
    "# Combine all batches into a single DataFrame\n",
    "df = pd.DataFrame({\n",
    "    'user_id': np.concatenate([batch['user_id'] for batch in all_batches]),\n",
    "    'item_id': np.concatenate([batch['item_id'] for batch in all_batches]),\n",
    "    'label': np.concatenate([batch['label'] for batch in all_batches])\n",
    "})\n",
    "\n",
    "print(df)\n",
    "\n",
    "# Save to CSV\n",
    "csv_path = './Datasets/dataloader_test_D1_M3.csv'\n",
    "df.to_csv(csv_path, index=False)\n",
    "print(f\"\\nData saved to: {csv_path}\")"
   ]
  },
  {
   "cell_type": "code",
   "execution_count": 19,
   "id": "acc9072e-2bc6-48d9-a4c3-e16cfbc2044d",
   "metadata": {},
   "outputs": [
    {
     "name": "stdout",
     "output_type": "stream",
     "text": [
      "        user_id  item_id  label\n",
      "0           891     1488    1.0\n",
      "1           891     2465    0.0\n",
      "2           891     3764    0.0\n",
      "3           891     1926    0.0\n",
      "4           891      645    0.0\n",
      "...         ...      ...    ...\n",
      "603995     2023     2033    0.0\n",
      "603996     2023     1447    0.0\n",
      "603997     2023      315    0.0\n",
      "603998     2023     2258    0.0\n",
      "603999     2023     3385    0.0\n",
      "\n",
      "[604000 rows x 3 columns]\n",
      "\n",
      "Data saved to: ./Datasets/dataloader_test_D2_M3.csv\n"
     ]
    }
   ],
   "source": [
    "import pandas as pd\n",
    "import torch\n",
    "\n",
    "# Initialize a list to store all batches\n",
    "all_batches = []\n",
    "\n",
    "# Iterate through the DataLoader\n",
    "for batch in dataloader_test_4:  # Replace with your DataLoader\n",
    "    users, items, labels = batch\n",
    "    batch_data = {\n",
    "        'user_id': users.numpy(),  # Convert tensors to numpy arrays\n",
    "        'item_id': items.numpy(),\n",
    "        'label': labels.numpy()\n",
    "    }\n",
    "    all_batches.append(batch_data)\n",
    "\n",
    "# Combine all batches into a single DataFrame\n",
    "df = pd.DataFrame({\n",
    "    'user_id': np.concatenate([batch['user_id'] for batch in all_batches]),\n",
    "    'item_id': np.concatenate([batch['item_id'] for batch in all_batches]),\n",
    "    'label': np.concatenate([batch['label'] for batch in all_batches])\n",
    "})\n",
    "\n",
    "print(df)\n",
    "\n",
    "# Save to CSV\n",
    "csv_path = './Datasets/dataloader_test_D2_M3.csv'\n",
    "df.to_csv(csv_path, index=False)\n",
    "print(f\"\\nData saved to: {csv_path}\")"
   ]
  },
  {
   "cell_type": "markdown",
   "id": "be36cd0d-82dc-4958-9e07-759688ea1758",
   "metadata": {},
   "source": [
    "<h2>Save Model</h2>"
   ]
  },
  {
   "cell_type": "code",
   "execution_count": 23,
   "id": "7df48ca8-d078-4956-a80b-ac546bb41f89",
   "metadata": {},
   "outputs": [],
   "source": [
    "# Save model + minimal metadata\n",
    "deployment_checkpoint = {\n",
    "    'model_state_dict': model.state_dict(),  # Weights\n",
    "    'model_hyperparams': {                  # Architecture config\n",
    "        'num_users': max_num_users_global,\n",
    "        'num_items': max_num_items_global,\n",
    "        'embedding_size': 32,\n",
    "        'layer_dims': [64, 32, 16],\n",
    "        'use_NeuMF': False\n",
    "    }\n",
    "}"
   ]
  },
  {
   "cell_type": "code",
   "execution_count": 24,
   "id": "4f04528d-38df-46ca-ac72-1b1cf2f504b4",
   "metadata": {},
   "outputs": [
    {
     "data": {
      "text/plain": [
       "{'model_state_dict': OrderedDict([('user_embedding.weight',\n",
       "               tensor([[ 1.1036e-02,  9.3605e-03,  8.6879e-03,  ..., -4.2150e-03,\n",
       "                         7.5909e-04, -1.8885e-04],\n",
       "                       [-2.3212e-01,  1.6864e+00,  1.0852e-01,  ..., -4.5530e+00,\n",
       "                        -1.6731e+00, -2.9644e+00],\n",
       "                       [-9.3279e+00,  3.2349e+00, -8.3928e-01,  ...,  2.9826e+00,\n",
       "                        -1.0899e+01, -6.2399e+00],\n",
       "                       ...,\n",
       "                       [-7.3539e+00, -1.0814e+01, -3.1576e+00,  ..., -7.8514e+00,\n",
       "                        -7.6426e+00,  9.2091e+00],\n",
       "                       [-1.7926e+00, -3.0063e+00, -8.3259e+00,  ..., -1.2525e+01,\n",
       "                        -5.4916e+00, -5.6935e+00],\n",
       "                       [-5.6726e+00, -6.3007e+00, -5.6948e-01,  ..., -9.4266e+00,\n",
       "                        -6.1842e+00,  6.6116e+00]])),\n",
       "              ('item_embedding.weight',\n",
       "               tensor([[ 9.2588e-04,  1.2950e-03,  1.0854e-02,  ..., -3.0770e-02,\n",
       "                         5.0656e-03,  4.6748e-03],\n",
       "                       [ 6.2549e+00, -3.4046e+00,  7.0154e+00,  ...,  9.8268e+00,\n",
       "                        -1.4377e+01, -6.2493e+00],\n",
       "                       [-4.1251e+00,  2.4350e-01,  9.1621e+00,  ..., -8.5919e-01,\n",
       "                        -1.5796e+00,  2.5547e+00],\n",
       "                       ...,\n",
       "                       [-3.6871e-03, -7.2842e-03,  5.7438e-03,  ...,  1.1256e-02,\n",
       "                         4.8378e-03,  9.4852e-03],\n",
       "                       [ 2.9632e-04, -9.6804e-03,  1.2587e-02,  ..., -3.8921e-03,\n",
       "                        -3.6415e-04, -2.3955e-03],\n",
       "                       [ 1.9726e+00, -2.6156e+00, -1.7198e+00,  ..., -1.3853e+00,\n",
       "                         2.6395e+00,  8.1736e-01]])),\n",
       "              ('mlp_layers.0.weight',\n",
       "               tensor([[ 1.6342, -1.6475,  5.4688,  ...,  0.6414, -1.4684,  7.8911],\n",
       "                       [ 2.6231, -5.1698, -3.1015,  ...,  2.0584, -1.7811, -1.2532],\n",
       "                       [-3.1281, -1.1252, -5.2449,  ..., -5.1249,  2.1678, -2.8461],\n",
       "                       ...,\n",
       "                       [ 1.2518, -9.6766, -1.8747,  ..., -5.7467, -4.1630, -2.2790],\n",
       "                       [ 4.9737, -4.5166, -3.8243,  ..., -0.3451,  5.2653,  2.2460],\n",
       "                       [-2.6653, -2.1662, -2.3980,  ..., -5.7462,  9.3501, -3.2208]])),\n",
       "              ('mlp_layers.0.bias',\n",
       "               tensor([-23.2561, -25.5605, -15.2275, -22.7889, -22.4993,  -9.2302, -11.7223,\n",
       "                         1.7912, -18.2945, -11.0017, -14.4100, -21.7381, -26.7213, -16.1215,\n",
       "                       -19.8893,  -5.6709, -29.4169, -16.2244,  -3.3240, -14.4331, -14.9781,\n",
       "                        -2.3018,   0.2640, -12.4765,  -0.7675, -11.8822, -14.4142, -12.0900,\n",
       "                       -18.8742, -13.1149, -16.7654, -12.8001, -16.6014, -13.1081, -11.8100,\n",
       "                        -6.6994, -18.2649, -18.0914, -16.2505,  -0.8755, -25.3724, -13.7016,\n",
       "                       -16.4965, -14.6944,  -1.6449,  -9.8049, -37.9772, -22.2468,   4.9169,\n",
       "                       -19.7702, -27.8350, -32.6018, -21.8285, -11.6690, -26.0605, -13.7018,\n",
       "                       -12.9860, -15.4021,  -2.8075,  -3.1570, -16.4938,  -8.2612, -22.2990,\n",
       "                        -9.6922])),\n",
       "              ('mlp_layers.2.weight',\n",
       "               tensor([[-0.0830,  0.5180, -0.5118,  ..., -0.3414,  0.4952, -0.6031],\n",
       "                       [-0.2091,  0.1414, -0.3414,  ...,  0.1497, -0.3332, -0.0502],\n",
       "                       [-0.1008,  0.7566, -2.7423,  ...,  1.1762, -2.8963,  1.1521],\n",
       "                       ...,\n",
       "                       [-0.1659,  1.2674, -0.3415,  ..., -0.7336, -0.8979, -0.9460],\n",
       "                       [-0.7667,  1.1498, -1.2612,  ..., -0.2187, -0.8577, -0.1883],\n",
       "                       [ 0.0160, -0.9307, -0.3345,  ..., -0.0957, -0.2171, -0.4664]])),\n",
       "              ('mlp_layers.2.bias',\n",
       "               tensor([ -3.1168,  -1.2654, -13.3646,  -5.0432,  -1.2543,  -4.1595,  -1.1672,\n",
       "                        15.7925,  -1.5608,  -2.1104,  -1.4257,  -2.2096,  -0.3246,  -1.1772,\n",
       "                        -0.4656,  -0.8876,   7.8334,  -0.7121,  -2.1108,  -3.7951,  -1.3772,\n",
       "                        -0.8836,  -6.9961,  -0.5061,  -1.9797,  -1.2708,  -4.5396,  -3.7147,\n",
       "                        -2.6668,  -2.6586,  -3.3067,  -1.2480])),\n",
       "              ('mlp_layers.4.weight',\n",
       "               tensor([[-1.3968e-01, -1.7467e-01, -3.2928e-01, -1.9906e-01,  3.8861e-02,\n",
       "                        -1.7265e-01, -1.5009e-01, -5.0946e-01,  9.8398e-02, -2.1861e-01,\n",
       "                        -8.2645e-02, -1.9698e-01, -2.8407e-01, -1.9047e-01, -3.8384e-01,\n",
       "                        -2.7738e-01, -7.0455e-01, -2.3548e-01, -2.0267e-01, -2.5895e-01,\n",
       "                         5.1747e-02,  3.6496e-02, -1.4192e-01, -2.4141e-02, -3.5258e-01,\n",
       "                        -7.9025e-02, -1.8402e-01, -7.6008e-02, -2.7226e-01, -4.7023e-01,\n",
       "                        -7.3756e-02, -2.3520e-01],\n",
       "                       [-3.8510e-01,  8.4598e-02, -1.4599e-01, -2.7482e-01, -7.7388e-02,\n",
       "                        -2.7884e-01, -2.9830e-02, -4.3711e-01, -3.9346e-02, -9.9852e-02,\n",
       "                        -1.9114e-01, -2.3982e-01, -5.2511e-01,  2.5460e-02,  3.9600e-03,\n",
       "                         1.1680e-01, -6.5405e-01, -8.2912e-02, -1.1390e-02, -2.0994e-01,\n",
       "                        -7.2122e-02, -1.0009e-01, -5.8777e-01, -5.6624e-02, -1.8914e-02,\n",
       "                         3.4604e-03, -1.8003e-01, -1.7029e-01, -3.5818e-01, -3.0094e-01,\n",
       "                        -2.5266e-01,  2.8192e-01],\n",
       "                       [-1.0128e-01, -3.1570e-01, -2.4538e-01, -2.4947e-01, -2.0356e-01,\n",
       "                        -6.6997e-03,  4.3491e-02, -8.8652e-01,  3.2871e-01, -1.1551e-01,\n",
       "                        -2.1006e-01, -2.6565e-01, -3.1994e-01, -1.2994e-01, -2.3273e-01,\n",
       "                         1.0036e-01, -1.3651e+00, -1.6339e-01, -8.3916e-02, -2.1597e-01,\n",
       "                        -5.1021e-02, -4.5403e-01, -1.7060e-02, -2.4788e-01,  3.1080e-02,\n",
       "                        -2.1019e-01, -8.8429e-03, -3.1618e-01, -2.0858e-02, -1.5553e-01,\n",
       "                        -2.6024e-01, -2.4869e-01],\n",
       "                       [-2.1735e-01,  1.2252e-02,  3.1444e-01, -2.1762e-02, -1.0344e-01,\n",
       "                         4.2358e-01,  4.2193e-02, -9.2163e-02,  3.8340e-02, -3.6384e-01,\n",
       "                         3.3693e-01, -3.0860e-02,  1.4855e-01,  1.5836e-01, -2.9277e-03,\n",
       "                         3.0639e-01,  1.3090e-01, -3.5983e-02, -5.9551e-02, -2.1743e-01,\n",
       "                         8.4765e-02,  2.5863e-01,  1.6901e-02, -1.5754e-02,  9.3492e-02,\n",
       "                        -2.2062e-02, -2.9488e-02,  3.4345e-02,  1.8347e-01, -1.5709e-01,\n",
       "                         4.6555e-03, -1.2442e-01],\n",
       "                       [-3.1413e-01, -1.5354e-01, -1.2863e-01, -2.9924e-01, -3.8292e-01,\n",
       "                        -4.6634e-02, -1.4501e-01, -8.6220e-01, -5.8440e-03, -5.5961e-02,\n",
       "                        -1.8113e-01, -2.3429e-01, -2.9404e-01,  1.6391e-01, -2.7827e-01,\n",
       "                         5.1393e-02, -1.1207e+00,  1.5091e-02, -4.0000e-02,  9.8326e-03,\n",
       "                         7.2218e-02, -3.1420e-01, -4.2381e-01,  2.4186e-01,  3.6635e-01,\n",
       "                        -2.4966e-01, -4.8511e-03, -3.2929e-01, -2.3431e-01, -3.1760e-01,\n",
       "                         1.9320e-02, -2.5537e-01],\n",
       "                       [-1.9195e-01, -2.9712e-01, -1.7406e-01, -2.7058e-01, -1.4406e-01,\n",
       "                        -1.6189e-01, -2.2165e-01, -1.0437e+00,  5.4398e-02, -3.0999e-01,\n",
       "                        -1.0443e-01, -9.9690e-01, -1.6424e-01, -1.3871e-01, -2.1240e-01,\n",
       "                         4.4805e-01, -1.0501e+00,  1.7937e-01, -4.4602e-01, -8.1222e-02,\n",
       "                        -4.3959e-02, -9.9128e-02, -1.8119e-01,  1.6340e-02, -2.5979e-02,\n",
       "                        -2.8997e-01, -4.9472e-02, -2.6613e-01, -8.7960e-02,  5.5298e-01,\n",
       "                        -2.7553e-01,  3.8875e-03],\n",
       "                       [-1.0645e-01, -1.7990e-01, -3.9691e-01, -3.1975e-01, -4.6563e-02,\n",
       "                        -1.4146e-01,  2.3662e-01, -1.6247e+00, -4.9591e-01, -2.2857e-01,\n",
       "                        -2.4416e-02, -6.4412e-01, -3.4344e-01, -3.1690e-01,  5.4905e-03,\n",
       "                        -1.2229e-02, -1.0049e+00, -1.2253e-01, -8.4297e-02, -1.4350e-01,\n",
       "                        -3.5119e-01, -6.0485e-03, -1.2313e-01,  1.5272e-01, -4.7804e-01,\n",
       "                        -2.4828e-01, -1.6974e-01, -7.8597e-02, -1.0751e-01,  1.9086e-01,\n",
       "                        -5.9537e-02,  1.9394e-01],\n",
       "                       [-2.5553e-01,  2.8846e-02, -2.8024e-01, -2.4595e-01, -3.5156e-02,\n",
       "                        -3.0957e-01,  5.0654e-01, -8.2643e-01, -2.6099e-01, -9.9863e-02,\n",
       "                         2.0816e-01, -4.7699e-01, -2.5565e-01, -1.4319e-01, -2.0898e-01,\n",
       "                         5.8974e-02, -5.2390e-01,  3.2890e-02, -3.6823e-01, -3.0782e-01,\n",
       "                         3.0612e-01, -5.6962e-02, -1.6939e-01, -2.2245e-01, -1.8752e-01,\n",
       "                        -3.4973e-01, -3.0106e-01, -1.3866e-01, -2.3769e-01, -2.0692e-01,\n",
       "                        -2.4500e-01,  2.5372e-01],\n",
       "                       [-1.7360e-01,  3.7573e-02, -5.4513e-02, -2.0350e-01, -1.2994e-01,\n",
       "                        -5.4751e-03, -2.3645e-01, -8.6832e-01,  1.3706e-01, -2.3263e-01,\n",
       "                        -3.7822e-01, -6.4520e-01, -3.7632e-01, -2.1003e-03, -3.5582e-01,\n",
       "                        -2.1444e-01, -7.5594e-01, -2.7269e-02, -4.1984e-01,  2.3717e-02,\n",
       "                        -5.1850e-01, -1.3786e-01, -2.8113e-01,  1.6259e-01, -2.5473e-01,\n",
       "                        -6.4723e-02, -1.1079e-01, -2.7558e-01, -2.3101e-01,  2.3101e-01,\n",
       "                        -3.8919e-01,  6.4451e-02],\n",
       "                       [-1.7400e-01,  5.5115e-01, -2.7223e-01, -9.5737e-02, -9.5238e-02,\n",
       "                        -1.9276e-01,  1.8103e-01, -2.7720e-01,  1.7002e-01, -5.4376e-02,\n",
       "                        -1.1841e-01, -7.9748e-01, -3.8994e-01, -1.9921e-01, -3.2976e-01,\n",
       "                         2.3198e-01, -3.6095e-01,  5.0727e-02, -4.2136e-01, -1.1881e-01,\n",
       "                        -2.2294e-01,  1.2745e-01, -4.1396e-01, -2.8388e-01, -2.9507e-01,\n",
       "                         9.5788e-02, -2.9971e-01, -6.7603e-02, -2.4109e-01, -2.5144e-01,\n",
       "                        -3.2682e-01,  3.3125e-01],\n",
       "                       [-4.6948e-02, -3.3337e-01, -1.7394e-01, -2.4870e-01, -1.3377e-01,\n",
       "                        -4.2065e-01, -3.5134e-02, -3.7994e-01,  1.5088e-01,  4.5619e-04,\n",
       "                        -1.5101e-01, -1.0365e+00, -1.1305e-01,  3.5472e-01,  7.3089e-01,\n",
       "                        -2.0463e-01, -8.2129e-01, -2.3236e-01, -6.0804e-02, -3.9029e-02,\n",
       "                        -4.0392e-02, -3.6169e-02, -3.4859e-01,  2.8412e-02, -6.5677e-02,\n",
       "                         2.4204e-02, -2.4049e-01, -2.9861e-02, -2.9294e-01,  4.6622e-01,\n",
       "                        -1.6055e-01,  7.2225e-02],\n",
       "                       [-4.5915e-01,  1.4506e-01, -3.1067e-01, -8.3952e-01, -1.2197e-01,\n",
       "                        -6.5368e-01, -1.1619e-01, -5.0798e-01, -2.4443e-01, -2.0159e-02,\n",
       "                        -6.2617e-01, -1.2330e-02, -8.6922e-01, -3.7637e-01, -1.3080e-01,\n",
       "                         1.7018e-01, -1.2759e+00, -2.8910e-01, -1.5286e-01,  6.9900e-01,\n",
       "                        -4.4520e-01, -3.6651e-01, -9.9933e-02,  1.6523e-01, -8.8870e-03,\n",
       "                        -6.6812e-02, -1.4554e-01, -9.7345e-02, -8.3090e-01, -1.0135e+00,\n",
       "                        -3.5974e-01, -2.1333e-01],\n",
       "                       [-9.2997e-02, -2.4926e-01, -2.4010e-02, -7.4708e-02,  5.5722e-01,\n",
       "                        -2.0005e-02, -4.9548e-01, -1.0583e+00, -1.8057e-01, -1.7618e-02,\n",
       "                         1.5722e-01, -1.0632e+00, -3.9174e-01, -5.4075e-01, -6.3886e-02,\n",
       "                         4.3353e-02, -9.8145e-01,  8.0738e-02, -2.8183e-01,  1.2642e-01,\n",
       "                        -4.0151e-01,  1.0068e-01, -8.7957e-02,  1.1028e-01, -3.2218e-01,\n",
       "                        -3.6965e-01, -4.4781e-03, -2.5834e-01, -1.8721e-01, -3.5835e-01,\n",
       "                        -1.2458e-01,  3.0922e-01],\n",
       "                       [-1.4392e-01, -9.5867e-03, -1.1172e-01, -4.0439e-01, -2.1101e-02,\n",
       "                        -2.5221e-01, -4.1142e-01, -1.2995e+00,  5.2745e-01, -2.3557e-01,\n",
       "                         4.1532e-01, -4.3838e-01, -2.1238e-01,  5.8460e-01,  5.1451e-01,\n",
       "                         2.9963e-01, -9.5756e-01,  3.4575e-01, -1.0594e+00, -6.7738e-02,\n",
       "                         4.5884e-01,  1.6784e-01, -3.7624e-01,  3.8849e-01, -1.9794e-01,\n",
       "                        -3.5020e-02, -4.9477e-02, -1.0006e-01, -3.6290e-02,  6.1017e-01,\n",
       "                        -1.0794e-01, -7.6682e-02],\n",
       "                       [-2.7803e-01, -3.6356e-01, -1.9945e-01, -5.9761e-01, -2.6664e-01,\n",
       "                         9.4717e-01,  1.6639e-01,  6.9816e-02, -2.7766e-01,  6.9301e-02,\n",
       "                         1.1555e-01, -1.5067e-01, -1.6324e-01, -7.5183e-02,  3.4524e-01,\n",
       "                         2.0855e-02, -2.6098e-01, -1.8867e-01,  3.1565e-01,  3.0976e-01,\n",
       "                        -2.4399e-01,  1.3153e-01,  3.3256e-01, -7.3902e-02,  1.1649e-01,\n",
       "                        -2.5493e-01,  9.6494e-01, -6.1006e-01,  7.9841e-01, -5.5214e-01,\n",
       "                         1.1672e+00, -2.5306e-01],\n",
       "                       [-2.2269e-01, -4.4054e-01, -9.2293e-02, -3.0541e-01, -5.0899e-02,\n",
       "                        -8.5426e-02,  2.6296e-01, -3.7823e-01,  5.0375e-02, -1.9358e-01,\n",
       "                         1.7616e-01, -1.2576e-01, -2.0944e-02, -1.2521e-01, -7.2902e-02,\n",
       "                        -3.0066e-01, -1.9395e-01,  2.7656e-02, -6.9126e-02, -1.6691e-01,\n",
       "                        -3.5680e-02, -2.7905e-01, -1.0609e-01, -1.3811e-01, -1.9892e-02,\n",
       "                        -2.4175e-01, -3.2325e-01, -1.4633e-01, -1.4327e-01, -8.1736e-02,\n",
       "                        -1.7152e-01, -5.7174e-02]])),\n",
       "              ('mlp_layers.4.bias',\n",
       "               tensor([-1.3407, -1.2131, -3.0072, 11.0865, -1.4272, -2.2091, -2.3170, -2.7430,\n",
       "                       -1.5027, -0.5551, -1.0313, -1.1739, -3.6951, -1.9849, -0.0142, -0.5350])),\n",
       "              ('output_layer.weight',\n",
       "               tensor([[-0.2101,  0.3172,  0.0865, -0.1835, -0.1759,  0.0589, -0.2347, -0.1178,\n",
       "                         0.4986,  0.0868, -0.0339, -0.2122,  0.1519,  0.2810,  0.0643,  0.2769]])),\n",
       "              ('output_layer.bias', tensor([0.7646]))]),\n",
       " 'model_hyperparams': {'num_users': 6041,\n",
       "  'num_items': 193610,\n",
       "  'embedding_size': 32,\n",
       "  'layer_dims': [64, 32, 16],\n",
       "  'use_NeuMF': False}}"
      ]
     },
     "execution_count": 24,
     "metadata": {},
     "output_type": "execute_result"
    }
   ],
   "source": [
    "deployment_checkpoint"
   ]
  },
  {
   "cell_type": "code",
   "execution_count": 25,
   "id": "ba71e112-6bb3-4f9e-b06f-dde31cc9e670",
   "metadata": {},
   "outputs": [],
   "source": [
    "torch.save(deployment_checkpoint, './ncf_models/deployment_model_M3.pth')"
   ]
  },
  {
   "cell_type": "code",
   "execution_count": null,
   "id": "f27f7009-4c95-46ef-9be6-79074c13a47d",
   "metadata": {},
   "outputs": [],
   "source": []
  }
 ],
 "metadata": {
  "kernelspec": {
   "display_name": "fyp",
   "language": "python",
   "name": "fyp"
  },
  "language_info": {
   "codemirror_mode": {
    "name": "ipython",
    "version": 3
   },
   "file_extension": ".py",
   "mimetype": "text/x-python",
   "name": "python",
   "nbconvert_exporter": "python",
   "pygments_lexer": "ipython3",
   "version": "3.12.9"
  }
 },
 "nbformat": 4,
 "nbformat_minor": 5
}
