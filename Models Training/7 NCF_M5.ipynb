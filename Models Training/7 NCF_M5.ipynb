{
 "cells": [
  {
   "cell_type": "markdown",
   "id": "ff036bd3-c45c-408f-abf2-c3f249631ca1",
   "metadata": {},
   "source": [
    "<h1>The Multi-layered Perceptron Neural Collaborative Filtering (MLP-NCF) proposed model training</h1>"
   ]
  },
  {
   "cell_type": "markdown",
   "id": "bf063ae7-c06a-40be-981d-5e7672bcccbe",
   "metadata": {},
   "source": [
    "<h2>Import necessary python library for model training</h2>"
   ]
  },
  {
   "cell_type": "code",
   "execution_count": 1,
   "id": "68c77e3d-492a-47c1-8b58-13816d13f296",
   "metadata": {},
   "outputs": [],
   "source": [
    "import zipfile\n",
    "from zipfile import ZipFile\n",
    "from torch.utils.data import Dataset, DataLoader\n",
    "import torch\n",
    "import torch.optim as optim\n",
    "import torch.nn as nn\n",
    "import os\n",
    "import pandas as pd\n",
    "import numpy as np\n",
    "import requests\n",
    "import sklearn\n",
    "from sklearn.model_selection import train_test_split\n",
    "from tqdm import tqdm\n",
    "import random\n",
    "import time\n",
    "import argparse\n",
    "import matplotlib.pyplot as plt"
   ]
  },
  {
   "cell_type": "markdown",
   "id": "a6a16cfb-aa07-47fc-b4e6-22df432ab5b2",
   "metadata": {},
   "source": [
    "<h2>The data preparation for training class</h2>"
   ]
  },
  {
   "cell_type": "code",
   "execution_count": 2,
   "id": "52f0c6ad-8c14-4d2e-89f8-24d7034d5a65",
   "metadata": {},
   "outputs": [],
   "source": [
    "class MovieLens(Dataset):\n",
    "    def __init__(self, df: pd.DataFrame, total_df: pd.DataFrame, ng_ratio:int)->None:\n",
    "        '''\n",
    "        : param df: training dataframe\n",
    "        : param total_df: the entire dataframe\n",
    "        : param ng_ratio: negative sampling ratio\n",
    "        '''\n",
    "        super(MovieLens, self).__init__()\n",
    "\n",
    "        self.df = df\n",
    "        self.total_df = total_df\n",
    "        self.ng_ratio = ng_ratio\n",
    "        self.users, self.items, self.labels = self._negative_sampling()\n",
    "\n",
    "    def __len__(self) -> int:\n",
    "        '''\n",
    "        get length of data\n",
    "        : return: len(data)\n",
    "        '''\n",
    "        return len(self.users)\n",
    "\n",
    "    def __getitem__(self, index):\n",
    "        '''\n",
    "        transform userId[index], item[index] to Tensor and return to Datalaoder object.\n",
    "        : param index: index for dataset.\n",
    "        : return: user, item, rating\n",
    "        '''\n",
    "        return self.users[index], self.items[index], self.labels[index]\n",
    "\n",
    "    def _negative_sampling(self) :\n",
    "        '''\n",
    "        sampling one positive feedback per #(ng ratio) negative feedback\n",
    "        : return: list of users, list of items, list of targets\n",
    "        '''\n",
    "        df = self.df\n",
    "        total_df = self.total_df\n",
    "        users, items, labels = [], [], []\n",
    "        user_item_set = set(zip(df['userId'], df['movieId']))\n",
    "        total_user_item_set = set(zip(total_df['userId'],total_df['movieId']))\n",
    "        all_movieIds = total_df['movieId'].unique()\n",
    "        \n",
    "        # negative feedback dataset ratio\n",
    "        negative_ratio = self.ng_ratio\n",
    "        for u, i in user_item_set:\n",
    "            # positive instance\n",
    "            users.append(u)\n",
    "            items.append(i)\n",
    "            labels.append(1.0)\n",
    "\n",
    "            #visited check\n",
    "            visited=[]\n",
    "            visited.append(i)\n",
    "            \n",
    "            # negative instance\n",
    "            for i in range(negative_ratio):\n",
    "                # first item random choice\n",
    "                negative_item = np.random.choice(all_movieIds)\n",
    " \n",
    "                # check if item and user has interaction, if true then set new value from random\n",
    "                while (u, negative_item) in total_user_item_set or negative_item in visited :\n",
    "                    negative_item = np.random.choice(all_movieIds)\n",
    "                users.append(u)\n",
    "                items.append(negative_item)\n",
    "                visited.append(negative_item)\n",
    "                labels.append(0.0)\n",
    "        print(f\"negative sampled data: {len(labels)}\")\n",
    "        return torch.tensor(users), torch.tensor(items), torch.tensor(labels)"
   ]
  },
  {
   "cell_type": "markdown",
   "id": "287da1b7-2a16-4a18-8a34-0778b6ebd1b0",
   "metadata": {},
   "source": [
    "<h2>The Multi-layered perceptron neural collaborative filtering (NCF) model</h2>"
   ]
  },
  {
   "cell_type": "code",
   "execution_count": 3,
   "id": "a3f36af9-0e70-4aeb-ba42-793cd6982291",
   "metadata": {},
   "outputs": [],
   "source": [
    "class MLP(nn.Module):\n",
    "    def __init__(self, num_users, num_items, embedding_size, layer_dims, use_NeuMF=False):\n",
    "        super(MLP, self).__init__()\n",
    "        self.user_embedding = nn.Embedding(num_users, embedding_size)\n",
    "        self.item_embedding = nn.Embedding(num_items, embedding_size)\n",
    "        \n",
    "        # Calculate input dimension for first layer\n",
    "        first_layer_input = embedding_size * 2  # Concatenated user and item embeddings\n",
    "        \n",
    "        # Build MLP layers dynamically\n",
    "        layers = []\n",
    "        input_dim = first_layer_input\n",
    "        for output_dim in layer_dims:\n",
    "            layers.append(nn.Linear(input_dim, output_dim))\n",
    "            layers.append(nn.ReLU())\n",
    "            input_dim = output_dim\n",
    "        \n",
    "        self.mlp_layers = nn.Sequential(*layers)\n",
    "        self.output_layer = nn.Linear(layer_dims[-1], 1)\n",
    "        self.sigmoid = nn.Sigmoid()\n",
    "        self._init_weights()\n",
    "\n",
    "    def _init_weights(self):\n",
    "        nn.init.normal_(self.user_embedding.weight, std=0.01)\n",
    "        nn.init.normal_(self.item_embedding.weight, std=0.01)\n",
    "        for layer in self.mlp_layers:\n",
    "            if isinstance(layer, nn.Linear):\n",
    "                nn.init.xavier_uniform_(layer.weight)\n",
    "        nn.init.xavier_uniform_(self.output_layer.weight)\n",
    "\n",
    "    def forward(self, user, item):\n",
    "        user_emb = self.user_embedding(user)\n",
    "        item_emb = self.item_embedding(item)\n",
    "        x = torch.cat([user_emb, item_emb], dim=-1)\n",
    "        x = self.mlp_layers(x)\n",
    "        x = self.output_layer(x)\n",
    "        return self.sigmoid(x).view(-1)"
   ]
  },
  {
   "cell_type": "markdown",
   "id": "2712e0b1-22fa-4ba0-8b45-6169a7e8a140",
   "metadata": {},
   "source": [
    "<h2>Evaluation Metrics</h2>"
   ]
  },
  {
   "cell_type": "code",
   "execution_count": 4,
   "id": "eecc2030-6639-4051-a9f8-bea2bc2867cd",
   "metadata": {},
   "outputs": [],
   "source": [
    "def hit(gt_item, pred_items):\n",
    "\tif gt_item in pred_items:\n",
    "\t\treturn 1\n",
    "\treturn 0\n",
    "\n",
    "def ndcg(gt_item, pred_items):\n",
    "\tif gt_item in pred_items:\n",
    "\t\tindex = pred_items.index(gt_item)\n",
    "\t\treturn np.reciprocal(np.log2(index+2))\n",
    "\treturn 0\n",
    "\n",
    "def metrics(model, data_loader, top_k, device):\n",
    "\tHR, NDCG = [], []\n",
    "\n",
    "\tfor user, item, label in data_loader:\n",
    "\n",
    "\t\tuser = user.to(device)\n",
    "\t\titem = item.to(device)\n",
    "\n",
    "\t\tpredictions = model(user, item)\n",
    "\t\t_, indices = torch.topk(predictions, top_k)\n",
    "\n",
    "\t\trecommends = torch.take(\n",
    "\t\t\t\titem, indices).cpu().numpy().tolist()\n",
    "\n",
    "\t\tgt_item = item[0].item()\n",
    "\t\tHR.append(hit(gt_item, recommends))\n",
    "\t\tNDCG.append(ndcg(gt_item, recommends))\n",
    "\n",
    "\treturn np.mean(HR), np.mean(NDCG)"
   ]
  },
  {
   "cell_type": "markdown",
   "id": "7a7df4e9-9aa2-4e56-93c4-a9ec0c1eed62",
   "metadata": {},
   "source": [
    "<h2>Model training class</h2>"
   ]
  },
  {
   "cell_type": "code",
   "execution_count": 5,
   "id": "303026e1-da28-4687-a2f0-1298a132da4d",
   "metadata": {},
   "outputs": [],
   "source": [
    "class Train():\n",
    "    def __init__(self, model: torch.nn.Module,\n",
    "                 optimizer: torch.optim,\n",
    "                 epochs: int,\n",
    "                 dataloader: torch.utils.data.dataloader,\n",
    "                 criterion: torch.nn,\n",
    "                 test_obj: torch.utils.data.dataloader,\n",
    "                 device: str = 'cuda',\n",
    "                 print_cost: bool = True,\n",
    "                 top_k: int = 10):\n",
    "        self.model = model\n",
    "        self.optimizer = optimizer\n",
    "        self.epochs = epochs\n",
    "        self.dataloader = dataloader\n",
    "        self.criterion = criterion\n",
    "        self.device = device\n",
    "        self.print_cost = print_cost\n",
    "        self.test = test_obj\n",
    "        self.top_k = top_k\n",
    "\n",
    "    def train(self):\n",
    "        model = self.model\n",
    "        optimizer = self.optimizer\n",
    "        total_epochs = self.epochs\n",
    "        dataloader = self.dataloader\n",
    "        criterion = self.criterion\n",
    "        total_batch = len(dataloader)\n",
    "        loss = []\n",
    "        device = self.device\n",
    "        test_dataloader = self.test\n",
    "\n",
    "        hr_list = []\n",
    "        ndcg_list = []\n",
    "        test_loss_list = []\n",
    "\n",
    "        for epoch in range(0, total_epochs):\n",
    "            epoch_loss = 0\n",
    "            with tqdm(total=len(dataloader), desc=f'Epoch {epoch + 1}/{total_epochs}', unit='batch') as pbar:\n",
    "                for user, item, target in dataloader:\n",
    "                    user, item, target = user.to(device), item.to(device), target.float().to(device)\n",
    "                    optimizer.zero_grad()\n",
    "                    pred = model(user, item)\n",
    "                    cost = criterion(pred, target)\n",
    "                    cost.backward()\n",
    "                    optimizer.step()\n",
    "                    epoch_loss += cost.item()\n",
    "                    pbar.update(1)\n",
    "                    pbar.set_postfix({'loss': cost.item()})\n",
    "\n",
    "            avg_epoch_loss = epoch_loss / total_batch\n",
    "            loss.append(avg_epoch_loss)\n",
    "\n",
    "            if self.print_cost:\n",
    "                HR, NDCG = metrics(model, self.test, self.top_k, device)\n",
    "\n",
    "                model.eval()\n",
    "                test_loss = 0\n",
    "                with torch.no_grad():\n",
    "                    for user, item, target in test_dataloader:\n",
    "                        user, item, target = user.to(device), item.to(device), target.float().to(device)\n",
    "                        pred = model(user, item)\n",
    "                        cost = criterion(pred, target)\n",
    "                        test_loss += cost.item()\n",
    "                avg_test_loss = test_loss / len(test_dataloader)\n",
    "                model.train()\n",
    "\n",
    "                print(\n",
    "                    \"Epochs: {}\\tAvg Train Loss: {:.4f}\\tAvg Test Loss: {:.4f}\\tHR: {:.3f}\\tNDCG: {:.3f}\".format(\n",
    "                        epoch+1, avg_epoch_loss, avg_test_loss, np.mean(HR), np.mean(NDCG)))\n",
    "\n",
    "                hr_list.append(np.mean(HR))\n",
    "                ndcg_list.append(np.mean(NDCG))\n",
    "                test_loss_list.append(avg_test_loss)\n",
    "\n",
    "        if self.print_cost:\n",
    "            print('Learning finished')\n",
    "        return loss, test_loss_list, hr_list, ndcg_list"
   ]
  },
  {
   "cell_type": "code",
   "execution_count": 6,
   "id": "34f20d01-2ab8-4b6e-8d22-29a1fb148ff5",
   "metadata": {},
   "outputs": [],
   "source": [
    "def plot_comparison_metrics(train_loss_1, test_loss_list_1, hr_list_1, ndcg_list_1,\n",
    "                           train_loss_4, test_loss_list_4, hr_list_4, ndcg_list_4, top_k):\n",
    "    epochs = np.arange(1, len(train_loss_1) + 1)\n",
    "\n",
    "    output_dir = './Training Results/'\n",
    "    os.makedirs(output_dir, exist_ok=True)\n",
    "\n",
    "    # Create a single figure with 4 subplots\n",
    "    plt.figure(figsize=(16, 12))\n",
    "    \n",
    "    # Plot Training Loss\n",
    "    plt.subplot(2, 2, 1)\n",
    "    plt.plot(epochs, train_loss_1, label='Dataset 1', marker='o')\n",
    "    plt.plot(epochs, train_loss_4, label='Dataset 2', marker='x')\n",
    "    plt.title('Training Loss Comparison')\n",
    "    plt.xlabel('Epoch')\n",
    "    plt.ylabel('Loss')\n",
    "    plt.legend()\n",
    "    plt.grid(True, linestyle='--', alpha=0.6)\n",
    "\n",
    "    # Plot Test Loss\n",
    "    plt.subplot(2, 2, 2)\n",
    "    plt.plot(epochs, test_loss_list_1, label='Dataset 1', marker='o')\n",
    "    plt.plot(epochs, test_loss_list_4, label='Dataset 2', marker='x')\n",
    "    plt.title('Test Loss Comparison')\n",
    "    plt.xlabel('Epoch')\n",
    "    plt.ylabel('Loss')\n",
    "    plt.legend()\n",
    "    plt.grid(True, linestyle='--', alpha=0.6)\n",
    "\n",
    "    # Plot HR@10\n",
    "    plt.subplot(2, 2, 3)\n",
    "    plt.plot(epochs, hr_list_1, label='Dataset 1', marker='o')\n",
    "    plt.plot(epochs, hr_list_4, label='Dataset 2', marker='x')\n",
    "    plt.title(f'Hit Ratio @ {top_k} Comparison')\n",
    "    plt.xlabel('Epoch')\n",
    "    plt.ylabel('Score')\n",
    "    plt.legend()\n",
    "    plt.grid(True, linestyle='--', alpha=0.6)\n",
    "\n",
    "    # Plot NDCG@10\n",
    "    plt.subplot(2, 2, 4)\n",
    "    plt.plot(epochs, ndcg_list_1, label='Dataset 1', marker='o')\n",
    "    plt.plot(epochs, ndcg_list_4, label='Dataset 2', marker='x')\n",
    "    plt.title(f'NDCG @ {top_k} Comparison')\n",
    "    plt.xlabel('Epoch')\n",
    "    plt.ylabel('Score')\n",
    "    plt.legend()\n",
    "    plt.grid(True, linestyle='--', alpha=0.6)\n",
    "\n",
    "    # Add main title and adjust layout\n",
    "    plt.suptitle('Model 5 Performance Comparison on Dataset 1 and Dataset 2', fontsize=16, y=1.02)\n",
    "    plt.tight_layout()\n",
    "    \n",
    "    # Save the entire figure\n",
    "    plt.savefig(os.path.join(output_dir, f'ncf_performance_comparison_top_{top_k}_D1D2_M5.png'), \n",
    "                bbox_inches='tight', dpi=300)\n",
    "    plt.show()"
   ]
  },
  {
   "cell_type": "markdown",
   "id": "6083b1be-25d1-4f20-889f-fc72367ed259",
   "metadata": {},
   "source": [
    "<h2>Putting everything together</h2>"
   ]
  },
  {
   "cell_type": "code",
   "execution_count": 7,
   "id": "89f07a97-a3f5-47ab-a7a9-dd3727c46742",
   "metadata": {},
   "outputs": [
    {
     "name": "stdout",
     "output_type": "stream",
     "text": [
      "device: cpu\n",
      "negative sampled data: 400684\n",
      "negative sampled data: 61000\n",
      "negative sampled data: 3976676\n",
      "negative sampled data: 604000\n",
      "data loaded!\n",
      "Training time: 207.80633\n"
     ]
    }
   ],
   "source": [
    "import pandas as pd\n",
    "import torch\n",
    "import argparse\n",
    "from torch.utils.data import DataLoader\n",
    "import torch.optim as optim\n",
    "import matplotlib.pyplot as plt\n",
    "import os\n",
    "import numpy as np\n",
    "import time\n",
    "\n",
    "start_time = time.time()  # Record start time\n",
    "\n",
    "# check device\n",
    "device = torch.device('cuda' if torch.cuda.is_available() else 'cpu')\n",
    "print(f'device: {device}')\n",
    "\n",
    "# print GPU information\n",
    "if torch.cuda.is_available():\n",
    "    print('Current cuda device:', torch.cuda.current_device())\n",
    "    print('Count of using GPUs:', torch.cuda.device_count())\n",
    "\n",
    "# directory to save checkpoints\n",
    "pretrain_dir = 'ncf_models'\n",
    "if not os.path.isdir(pretrain_dir):\n",
    "    os.makedirs(pretrain_dir)\n",
    "\n",
    "# the train, test and total dataset\n",
    "train_df_1 = pd.read_csv(\"./Datasets/train_D1.csv\")\n",
    "test_df_1 = pd.read_csv(\"./Datasets/test_D1.csv\")\n",
    "total_df_1 = pd.read_csv(\"./Datasets/ratings_preprocessed_D1.csv\")\n",
    "\n",
    "train_df_4 = pd.read_csv(\"./Datasets/train_D2.csv\")\n",
    "test_df_4 = pd.read_csv(\"./Datasets/test_D2.csv\")\n",
    "total_df_4 = pd.read_csv(\"./Datasets/ratings_preprocessed_D2.csv\")\n",
    "\n",
    "# make torch.utils.data.Data object\n",
    "train_set_1 = MovieLens(df=train_df_1, total_df=total_df_1, ng_ratio=3)\n",
    "test_set_1 = MovieLens(df=test_df_1, total_df=total_df_1, ng_ratio=99)\n",
    "\n",
    "train_set_4 = MovieLens(df=train_df_4, total_df=total_df_4, ng_ratio=3)\n",
    "test_set_4 = MovieLens(df=test_df_4, total_df=total_df_4, ng_ratio=99)\n",
    "\n",
    "# Find Global Maximums\n",
    "max_num_users_global = max(total_df_1['userId'].max(), total_df_4['userId'].max()) + 1  #, total_df_2['userId'].max()\n",
    "max_num_items_global = max(total_df_1['movieId'].max(), total_df_4['movieId'].max()) + 1  #, total_df_2['movieId'].max()\n",
    "\n",
    "print('data loaded!')\n",
    "\n",
    "# dataloader for train_dataset\n",
    "dataloader_train_1 = DataLoader(dataset=train_set_1, batch_size=256, shuffle=True, num_workers=0)\n",
    "\n",
    "# dataloader for test_dataset\n",
    "dataloader_test_1 = DataLoader(dataset=test_set_1, batch_size=100, shuffle=False, num_workers=0, drop_last=True)\n",
    "\n",
    "# dataloader for train_dataset\n",
    "dataloader_train_4 = DataLoader(dataset=train_set_4, batch_size=256, shuffle=True, num_workers=0)\n",
    "\n",
    "# dataloader for test_dataset\n",
    "dataloader_test_4 = DataLoader(dataset=test_set_4, batch_size=100, shuffle=False, num_workers=0, drop_last=True)\n",
    "\n",
    "model = MLP(num_users=max_num_users_global, num_items=max_num_items_global, embedding_size=8, layer_dims=[16,8,4], use_NeuMF=False) #emb size, layer\n",
    "\n",
    "# Initialize optimizer and loss function\n",
    "optimizer = torch.optim.Adam(model.parameters(), lr=0.01) #learning rate\n",
    "\n",
    "# objective function is log loss (Cross-entropy loss)\n",
    "criterion = torch.nn.BCELoss()\n",
    "\n",
    "model.to(device)\n",
    "save_model = True\n",
    "\n",
    "end_time = time.time()    # Record end time\n",
    "training_time = end_time - start_time  # Calculate training time\n",
    "print(f\"Training time: {training_time:.5f}\")  # Print the training time"
   ]
  },
  {
   "cell_type": "markdown",
   "id": "dac87c73-10a0-41e1-9610-54a0011e66dd",
   "metadata": {},
   "source": [
    "<h2>Dataset 1 Model Training</h2>"
   ]
  },
  {
   "cell_type": "code",
   "execution_count": 9,
   "id": "553c25a2-b7f6-4987-8838-b93b7b2c5fa4",
   "metadata": {},
   "outputs": [
    {
     "name": "stderr",
     "output_type": "stream",
     "text": [
      "Epoch 1/15: 100%|███████████████████████████████████████████████████| 1566/1566 [00:35<00:00, 44.68batch/s, loss=0.262]\n"
     ]
    },
    {
     "name": "stdout",
     "output_type": "stream",
     "text": [
      "Epochs: 1\tAvg Train Loss: 0.4174\tAvg Test Loss: 0.2084\tHR: 0.572\tNDCG: 0.401\n"
     ]
    },
    {
     "name": "stderr",
     "output_type": "stream",
     "text": [
      "Epoch 2/15: 100%|███████████████████████████████████████████████████| 1566/1566 [00:34<00:00, 44.95batch/s, loss=0.533]\n"
     ]
    },
    {
     "name": "stdout",
     "output_type": "stream",
     "text": [
      "Epochs: 2\tAvg Train Loss: 0.3585\tAvg Test Loss: 0.2217\tHR: 0.585\tNDCG: 0.403\n"
     ]
    },
    {
     "name": "stderr",
     "output_type": "stream",
     "text": [
      "Epoch 3/15: 100%|███████████████████████████████████████████████████| 1566/1566 [00:35<00:00, 44.38batch/s, loss=0.293]\n"
     ]
    },
    {
     "name": "stdout",
     "output_type": "stream",
     "text": [
      "Epochs: 3\tAvg Train Loss: 0.3385\tAvg Test Loss: 0.1660\tHR: 0.607\tNDCG: 0.415\n"
     ]
    },
    {
     "name": "stderr",
     "output_type": "stream",
     "text": [
      "Epoch 4/15: 100%|███████████████████████████████████████████████████| 1566/1566 [00:35<00:00, 44.25batch/s, loss=0.203]\n"
     ]
    },
    {
     "name": "stdout",
     "output_type": "stream",
     "text": [
      "Epochs: 4\tAvg Train Loss: 0.3263\tAvg Test Loss: 0.1790\tHR: 0.602\tNDCG: 0.416\n"
     ]
    },
    {
     "name": "stderr",
     "output_type": "stream",
     "text": [
      "Epoch 5/15: 100%|███████████████████████████████████████████████████| 1566/1566 [00:35<00:00, 44.40batch/s, loss=0.442]\n"
     ]
    },
    {
     "name": "stdout",
     "output_type": "stream",
     "text": [
      "Epochs: 5\tAvg Train Loss: 0.3164\tAvg Test Loss: 0.1797\tHR: 0.618\tNDCG: 0.428\n"
     ]
    },
    {
     "name": "stderr",
     "output_type": "stream",
     "text": [
      "Epoch 6/15: 100%|███████████████████████████████████████████████████| 1566/1566 [00:35<00:00, 44.18batch/s, loss=0.454]\n"
     ]
    },
    {
     "name": "stdout",
     "output_type": "stream",
     "text": [
      "Epochs: 6\tAvg Train Loss: 0.3075\tAvg Test Loss: 0.1998\tHR: 0.620\tNDCG: 0.441\n"
     ]
    },
    {
     "name": "stderr",
     "output_type": "stream",
     "text": [
      "Epoch 7/15: 100%|███████████████████████████████████████████████████| 1566/1566 [00:35<00:00, 43.89batch/s, loss=0.279]\n"
     ]
    },
    {
     "name": "stdout",
     "output_type": "stream",
     "text": [
      "Epochs: 7\tAvg Train Loss: 0.2997\tAvg Test Loss: 0.1788\tHR: 0.631\tNDCG: 0.456\n"
     ]
    },
    {
     "name": "stderr",
     "output_type": "stream",
     "text": [
      "Epoch 8/15: 100%|███████████████████████████████████████████████████| 1566/1566 [00:35<00:00, 44.39batch/s, loss=0.326]\n"
     ]
    },
    {
     "name": "stdout",
     "output_type": "stream",
     "text": [
      "Epochs: 8\tAvg Train Loss: 0.2932\tAvg Test Loss: 0.2170\tHR: 0.648\tNDCG: 0.463\n"
     ]
    },
    {
     "name": "stderr",
     "output_type": "stream",
     "text": [
      "Epoch 9/15: 100%|███████████████████████████████████████████████████| 1566/1566 [00:35<00:00, 44.38batch/s, loss=0.225]\n"
     ]
    },
    {
     "name": "stdout",
     "output_type": "stream",
     "text": [
      "Epochs: 9\tAvg Train Loss: 0.2869\tAvg Test Loss: 0.2114\tHR: 0.654\tNDCG: 0.474\n"
     ]
    },
    {
     "name": "stderr",
     "output_type": "stream",
     "text": [
      "Epoch 10/15: 100%|██████████████████████████████████████████████████| 1566/1566 [00:35<00:00, 44.64batch/s, loss=0.268]\n"
     ]
    },
    {
     "name": "stdout",
     "output_type": "stream",
     "text": [
      "Epochs: 10\tAvg Train Loss: 0.2814\tAvg Test Loss: 0.2027\tHR: 0.636\tNDCG: 0.472\n"
     ]
    },
    {
     "name": "stderr",
     "output_type": "stream",
     "text": [
      "Epoch 11/15: 100%|██████████████████████████████████████████████████| 1566/1566 [00:35<00:00, 43.68batch/s, loss=0.325]\n"
     ]
    },
    {
     "name": "stdout",
     "output_type": "stream",
     "text": [
      "Epochs: 11\tAvg Train Loss: 0.2768\tAvg Test Loss: 0.2066\tHR: 0.646\tNDCG: 0.472\n"
     ]
    },
    {
     "name": "stderr",
     "output_type": "stream",
     "text": [
      "Epoch 12/15: 100%|██████████████████████████████████████████████████| 1566/1566 [00:35<00:00, 43.71batch/s, loss=0.346]\n"
     ]
    },
    {
     "name": "stdout",
     "output_type": "stream",
     "text": [
      "Epochs: 12\tAvg Train Loss: 0.2723\tAvg Test Loss: 0.2275\tHR: 0.661\tNDCG: 0.487\n"
     ]
    },
    {
     "name": "stderr",
     "output_type": "stream",
     "text": [
      "Epoch 13/15: 100%|███████████████████████████████████████████████████| 1566/1566 [00:34<00:00, 44.97batch/s, loss=0.18]\n"
     ]
    },
    {
     "name": "stdout",
     "output_type": "stream",
     "text": [
      "Epochs: 13\tAvg Train Loss: 0.2679\tAvg Test Loss: 0.1930\tHR: 0.664\tNDCG: 0.487\n"
     ]
    },
    {
     "name": "stderr",
     "output_type": "stream",
     "text": [
      "Epoch 14/15: 100%|██████████████████████████████████████████████████| 1566/1566 [00:36<00:00, 43.28batch/s, loss=0.354]\n"
     ]
    },
    {
     "name": "stdout",
     "output_type": "stream",
     "text": [
      "Epochs: 14\tAvg Train Loss: 0.2644\tAvg Test Loss: 0.1989\tHR: 0.659\tNDCG: 0.485\n"
     ]
    },
    {
     "name": "stderr",
     "output_type": "stream",
     "text": [
      "Epoch 15/15: 100%|███████████████████████████████████████████████████| 1566/1566 [00:36<00:00, 43.44batch/s, loss=0.26]\n"
     ]
    },
    {
     "name": "stdout",
     "output_type": "stream",
     "text": [
      "Epochs: 15\tAvg Train Loss: 0.2609\tAvg Test Loss: 0.1963\tHR: 0.649\tNDCG: 0.481\n",
      "Learning finished\n",
      "Training time: 579.17871 seconds\n"
     ]
    }
   ],
   "source": [
    "# Initialize trainer with customizable top_k\n",
    "\n",
    "trainer_1 = Train(model=model,\n",
    "              optimizer=optimizer,\n",
    "              criterion=criterion,\n",
    "              epochs=15,\n",
    "              test_obj=dataloader_test_1,\n",
    "              dataloader=dataloader_train_1,\n",
    "              device=device,\n",
    "              print_cost=True,\n",
    "              top_k=10)\n",
    "    \n",
    "# measuring time\n",
    "start = time.time()\n",
    "loss_1, test_loss_list_1, hr_list_1, ndcg_list_1 = trainer_1.train()\n",
    "\n",
    "end = time.time()\n",
    "\n",
    "time_message = f'Training time: {end-start:.5f} seconds'\n",
    "print(time_message)"
   ]
  },
  {
   "cell_type": "markdown",
   "id": "b557102e-7265-409f-a667-3c28a6e97eea",
   "metadata": {},
   "source": [
    "<h2>Dataset 4 Model Training</h2>"
   ]
  },
  {
   "cell_type": "code",
   "execution_count": 8,
   "id": "f61a06d4-19d5-4e6f-9ef4-f5240dbf85ea",
   "metadata": {},
   "outputs": [
    {
     "name": "stderr",
     "output_type": "stream",
     "text": [
      "Epoch 1/15: 100%|█████████████████████████████████████████████████| 15534/15534 [06:24<00:00, 40.40batch/s, loss=0.358]\n"
     ]
    },
    {
     "name": "stdout",
     "output_type": "stream",
     "text": [
      "Epochs: 1\tAvg Train Loss: 0.3897\tAvg Test Loss: 0.2020\tHR: 0.503\tNDCG: 0.284\n"
     ]
    },
    {
     "name": "stderr",
     "output_type": "stream",
     "text": [
      "Epoch 2/15: 100%|█████████████████████████████████████████████████| 15534/15534 [06:21<00:00, 40.76batch/s, loss=0.316]\n"
     ]
    },
    {
     "name": "stdout",
     "output_type": "stream",
     "text": [
      "Epochs: 2\tAvg Train Loss: 0.3503\tAvg Test Loss: 0.1936\tHR: 0.548\tNDCG: 0.316\n"
     ]
    },
    {
     "name": "stderr",
     "output_type": "stream",
     "text": [
      "Epoch 3/15: 100%|█████████████████████████████████████████████████| 15534/15534 [06:24<00:00, 40.41batch/s, loss=0.299]\n"
     ]
    },
    {
     "name": "stdout",
     "output_type": "stream",
     "text": [
      "Epochs: 3\tAvg Train Loss: 0.3336\tAvg Test Loss: 0.2267\tHR: 0.573\tNDCG: 0.344\n"
     ]
    },
    {
     "name": "stderr",
     "output_type": "stream",
     "text": [
      "Epoch 4/15: 100%|█████████████████████████████████████████████████| 15534/15534 [06:21<00:00, 40.73batch/s, loss=0.338]\n"
     ]
    },
    {
     "name": "stdout",
     "output_type": "stream",
     "text": [
      "Epochs: 4\tAvg Train Loss: 0.3258\tAvg Test Loss: 0.1891\tHR: 0.579\tNDCG: 0.333\n"
     ]
    },
    {
     "name": "stderr",
     "output_type": "stream",
     "text": [
      "Epoch 5/15: 100%|█████████████████████████████████████████████████| 15534/15534 [06:25<00:00, 40.27batch/s, loss=0.305]\n"
     ]
    },
    {
     "name": "stdout",
     "output_type": "stream",
     "text": [
      "Epochs: 5\tAvg Train Loss: 0.3205\tAvg Test Loss: 0.2018\tHR: 0.584\tNDCG: 0.340\n"
     ]
    },
    {
     "name": "stderr",
     "output_type": "stream",
     "text": [
      "Epoch 6/15: 100%|█████████████████████████████████████████████████| 15534/15534 [06:32<00:00, 39.58batch/s, loss=0.286]\n"
     ]
    },
    {
     "name": "stdout",
     "output_type": "stream",
     "text": [
      "Epochs: 6\tAvg Train Loss: 0.3160\tAvg Test Loss: 0.2197\tHR: 0.595\tNDCG: 0.352\n"
     ]
    },
    {
     "name": "stderr",
     "output_type": "stream",
     "text": [
      "Epoch 7/15: 100%|█████████████████████████████████████████████████| 15534/15534 [06:25<00:00, 40.25batch/s, loss=0.294]\n"
     ]
    },
    {
     "name": "stdout",
     "output_type": "stream",
     "text": [
      "Epochs: 7\tAvg Train Loss: 0.3129\tAvg Test Loss: 0.1868\tHR: 0.601\tNDCG: 0.351\n"
     ]
    },
    {
     "name": "stderr",
     "output_type": "stream",
     "text": [
      "Epoch 8/15: 100%|█████████████████████████████████████████████████| 15534/15534 [06:16<00:00, 41.21batch/s, loss=0.286]\n"
     ]
    },
    {
     "name": "stdout",
     "output_type": "stream",
     "text": [
      "Epochs: 8\tAvg Train Loss: 0.3105\tAvg Test Loss: 0.1662\tHR: 0.603\tNDCG: 0.353\n"
     ]
    },
    {
     "name": "stderr",
     "output_type": "stream",
     "text": [
      "Epoch 9/15: 100%|█████████████████████████████████████████████████| 15534/15534 [06:21<00:00, 40.70batch/s, loss=0.298]\n"
     ]
    },
    {
     "name": "stdout",
     "output_type": "stream",
     "text": [
      "Epochs: 9\tAvg Train Loss: 0.3088\tAvg Test Loss: 0.1766\tHR: 0.607\tNDCG: 0.355\n"
     ]
    },
    {
     "name": "stderr",
     "output_type": "stream",
     "text": [
      "Epoch 10/15: 100%|████████████████████████████████████████████████| 15534/15534 [06:24<00:00, 40.41batch/s, loss=0.356]\n"
     ]
    },
    {
     "name": "stdout",
     "output_type": "stream",
     "text": [
      "Epochs: 10\tAvg Train Loss: 0.3074\tAvg Test Loss: 0.1565\tHR: 0.606\tNDCG: 0.353\n"
     ]
    },
    {
     "name": "stderr",
     "output_type": "stream",
     "text": [
      "Epoch 11/15: 100%|████████████████████████████████████████████████| 15534/15534 [06:15<00:00, 41.34batch/s, loss=0.275]\n"
     ]
    },
    {
     "name": "stdout",
     "output_type": "stream",
     "text": [
      "Epochs: 11\tAvg Train Loss: 0.3062\tAvg Test Loss: 0.1859\tHR: 0.613\tNDCG: 0.355\n"
     ]
    },
    {
     "name": "stderr",
     "output_type": "stream",
     "text": [
      "Epoch 12/15: 100%|████████████████████████████████████████████████| 15534/15534 [06:16<00:00, 41.24batch/s, loss=0.295]\n"
     ]
    },
    {
     "name": "stdout",
     "output_type": "stream",
     "text": [
      "Epochs: 12\tAvg Train Loss: 0.3053\tAvg Test Loss: 0.1966\tHR: 0.613\tNDCG: 0.366\n"
     ]
    },
    {
     "name": "stderr",
     "output_type": "stream",
     "text": [
      "Epoch 13/15: 100%|████████████████████████████████████████████████| 15534/15534 [06:16<00:00, 41.21batch/s, loss=0.308]\n"
     ]
    },
    {
     "name": "stdout",
     "output_type": "stream",
     "text": [
      "Epochs: 13\tAvg Train Loss: 0.3046\tAvg Test Loss: 0.1677\tHR: 0.614\tNDCG: 0.359\n"
     ]
    },
    {
     "name": "stderr",
     "output_type": "stream",
     "text": [
      "Epoch 14/15: 100%|████████████████████████████████████████████████| 15534/15534 [06:22<00:00, 40.65batch/s, loss=0.338]\n"
     ]
    },
    {
     "name": "stdout",
     "output_type": "stream",
     "text": [
      "Epochs: 14\tAvg Train Loss: 0.3039\tAvg Test Loss: 0.2053\tHR: 0.614\tNDCG: 0.375\n"
     ]
    },
    {
     "name": "stderr",
     "output_type": "stream",
     "text": [
      "Epoch 15/15: 100%|██████████████████████████████████████████████████| 15534/15534 [06:18<00:00, 41.03batch/s, loss=0.3]\n"
     ]
    },
    {
     "name": "stdout",
     "output_type": "stream",
     "text": [
      "Epochs: 15\tAvg Train Loss: 0.3032\tAvg Test Loss: 0.1654\tHR: 0.621\tNDCG: 0.364\n",
      "Learning finished\n",
      "Training time: 6186.22496 seconds\n"
     ]
    }
   ],
   "source": [
    "# Initialize trainer with customizable top_k\n",
    "\n",
    "trainer_2 = Train(model=model,\n",
    "              optimizer=optimizer,\n",
    "              criterion=criterion,\n",
    "              epochs=15,\n",
    "              test_obj=dataloader_test_4,\n",
    "              dataloader=dataloader_train_4,\n",
    "              device=device,\n",
    "              print_cost=True,\n",
    "              top_k=10)\n",
    "    \n",
    "# measuring time\n",
    "start = time.time()\n",
    "loss_4, test_loss_list_4, hr_list_4, ndcg_list_4 = trainer_2.train()\n",
    "\n",
    "end = time.time()\n",
    "\n",
    "time_message = f'Training time: {end-start:.5f} seconds'\n",
    "print(time_message)"
   ]
  },
  {
   "cell_type": "markdown",
   "id": "8fbfb201-c3d8-4e6f-ba3c-5a8d8d2aa4d6",
   "metadata": {},
   "source": [
    "<h2>Plotting Graphs</h2>"
   ]
  },
  {
   "cell_type": "code",
   "execution_count": 10,
   "id": "283f1afd-1689-4121-aa56-6772c6185910",
   "metadata": {},
   "outputs": [
    {
     "data": {
      "image/png": "[encoded data removed]",
      "text/plain": [
       "<Figure size 1600x1200 with 4 Axes>"
      ]
     },
     "metadata": {},
     "output_type": "display_data"
    }
   ],
   "source": [
    "plot_comparison_metrics(loss_1, test_loss_list_1, hr_list_1, ndcg_list_1, loss_4, test_loss_list_4, hr_list_4, ndcg_list_4, top_k=trainer_2.top_k)"
   ]
  },
  {
   "cell_type": "code",
   "execution_count": 11,
   "id": "5d8c37b5-c0b2-4cfd-85ad-b0ceae28ef2e",
   "metadata": {},
   "outputs": [
    {
     "data": {
      "text/plain": [
       "MLP(\n",
       "  (user_embedding): Embedding(6041, 8)\n",
       "  (item_embedding): Embedding(193610, 8)\n",
       "  (mlp_layers): Sequential(\n",
       "    (0): Linear(in_features=16, out_features=16, bias=True)\n",
       "    (1): ReLU()\n",
       "    (2): Linear(in_features=16, out_features=8, bias=True)\n",
       "    (3): ReLU()\n",
       "    (4): Linear(in_features=8, out_features=4, bias=True)\n",
       "    (5): ReLU()\n",
       "  )\n",
       "  (output_layer): Linear(in_features=4, out_features=1, bias=True)\n",
       "  (sigmoid): Sigmoid()\n",
       ")"
      ]
     },
     "execution_count": 11,
     "metadata": {},
     "output_type": "execute_result"
    }
   ],
   "source": [
    "model"
   ]
  },
  {
   "cell_type": "markdown",
   "id": "5beb4616-19cb-4b4d-9ecf-c7a0715b7902",
   "metadata": {},
   "source": [
    "<h2>Inference Checking</h2>"
   ]
  },
  {
   "cell_type": "markdown",
   "id": "4e73193e-e866-49cb-95c0-0f0a58dd3f4c",
   "metadata": {},
   "source": [
    "<h3>Getting inference with corresponding metrics from a test set</h3>"
   ]
  },
  {
   "cell_type": "code",
   "execution_count": 12,
   "id": "c2549ae0-c4b8-4680-96a9-07594b495cbb",
   "metadata": {},
   "outputs": [
    {
     "name": "stdout",
     "output_type": "stream",
     "text": [
      "Evaluation Metrics:\n",
      "HR@10: 0.649\n",
      "NDCG@10: 0.481\n",
      "\n",
      "User: 31\n",
      "Ground Truth: Pallbearer, The (1996) (MovieID: 612)\n",
      "\n",
      "Top 10 Recommendations for User 31:\n",
      "1. Léon: The Professional (a.k.a. The Professional) (Léon) (1994) (MovieID: 293, Score: 0.895)\n",
      "2. Beverly Hills Cop (1984) (MovieID: 4085, Score: 0.687)\n",
      "3. Sleeper (1973) (MovieID: 1077, Score: 0.687)\n",
      "4. Rocky (1976) (MovieID: 1954, Score: 0.687)\n",
      "5. Spice World (1997) (MovieID: 1760, Score: 0.687)\n",
      "6. Boot, Das (Boat, The) (1981) (MovieID: 1233, Score: 0.687)\n",
      "7. Harry and the Hendersons (1987) (MovieID: 3388, Score: 0.634)\n",
      "8. Can't Hardly Wait (1998) (MovieID: 1895, Score: 0.503)\n",
      "9. Gosford Park (2001) (MovieID: 5013, Score: 0.483)\n",
      "10. Crooklyn (1994) (MovieID: 352, Score: 0.454)\n"
     ]
    }
   ],
   "source": [
    "def metrics_with_recommendations_with_titles(model, test_loader, top_k, total_dataframe, device):\n",
    "    \"\"\"\n",
    "    Function to return recommendations with metrics and predicted scores.\n",
    "\n",
    "    Parameters:\n",
    "    -----------\n",
    "    model: The trained model checkpoints\n",
    "    test_loader: The test data loader\n",
    "    top_k: Total numbers of movies to recommend\n",
    "    total_dataframe: The total dataframe to map the id of the movie with title\n",
    "    device: According to availability CPU or a GPU\n",
    "\n",
    "    Returns:\n",
    "    ---------\n",
    "    HR: The Hit rate metrics\n",
    "    NDCG: The NDCG metrics\n",
    "    all_recommendations: The top_k recommended movies with titles and predicted scores\n",
    "    \"\"\"\n",
    "    HR, NDCG, all_recommendations = [], [], []\n",
    "\n",
    "    for user, item, label in test_loader:\n",
    "        user = user.to(device)\n",
    "        item = item.to(device)\n",
    "\n",
    "        predictions = model(user, item)\n",
    "        # Get top-k predictions and their indices\n",
    "        top_k_scores, top_k_indices = torch.topk(predictions, top_k)\n",
    "\n",
    "        # Convert to lists\n",
    "        recommends = torch.take(item, top_k_indices).cpu().numpy().tolist()\n",
    "        recommend_scores = top_k_scores.cpu().detach().numpy().tolist()\n",
    "\n",
    "        # Ground truth item\n",
    "        gt_item = item[0].item()\n",
    "        HR.append(hit(gt_item, recommends))\n",
    "        NDCG.append(ndcg(gt_item, recommends))\n",
    "\n",
    "        # Get movie titles and scores for the recommended movies\n",
    "        recommended_movies = []\n",
    "        for rec, score in zip(recommends, recommend_scores):\n",
    "            title = total_dataframe[total_dataframe['movieId'] == rec]['title'].values[0]\n",
    "            recommended_movies.append({\n",
    "                'movieId': rec,\n",
    "                'title': title,\n",
    "                'score': float(score)  # Convert numpy float to Python float for JSON compatibility\n",
    "            })\n",
    "\n",
    "        all_recommendations.append({\n",
    "            'user': user[0].item() if user.numel() == 1 else user.tolist()[0],  # Ensure single user per batch\n",
    "            'ground_truth': {\n",
    "                'movieId': gt_item,\n",
    "                'title': total_dataframe[total_dataframe['movieId'] == gt_item]['title'].values[0]\n",
    "            },\n",
    "            'recommendations': recommended_movies\n",
    "        })\n",
    "\n",
    "    return np.mean(HR), np.mean(NDCG), all_recommendations\n",
    "\n",
    "# main HERE\n",
    "k = 10 # change the value of k here\n",
    "\n",
    "HR, NDCG, all_recommendations = metrics_with_recommendations_with_titles(\n",
    "    model, \n",
    "    test_loader=dataloader_test_1, \n",
    "    top_k=k,\n",
    "    total_dataframe=total_df_1, \n",
    "    device=device\n",
    ")\n",
    "\n",
    "# Print metrics\n",
    "print(f\"Evaluation Metrics:\")\n",
    "print(f\"HR@{k}: {HR:.3f}\")\n",
    "print(f\"NDCG@{k}: {NDCG:.3f}\")\n",
    "\n",
    "# Print recommendations with scores (for the first user)\n",
    "first_user_rec = all_recommendations[0]\n",
    "print(f\"\\nUser: {first_user_rec['user']}\")\n",
    "print(f\"Ground Truth: {first_user_rec['ground_truth']['title']} (MovieID: {first_user_rec['ground_truth']['movieId']})\")\n",
    "print(f\"\\nTop {k} Recommendations for User {first_user_rec['user']}:\") # attention HERE\n",
    "for idx, rec in enumerate(first_user_rec['recommendations'], 1):\n",
    "    print(f\"{idx}. {rec['title']} (MovieID: {rec['movieId']}, Score: {rec['score']:.3f})\")"
   ]
  },
  {
   "cell_type": "code",
   "execution_count": 13,
   "id": "6b6a45aa-3ad0-4517-a8bc-9f1e790cdfe2",
   "metadata": {},
   "outputs": [
    {
     "name": "stdout",
     "output_type": "stream",
     "text": [
      "Evaluation Metrics:\n",
      "HR@10: 0.592\n",
      "NDCG@10: 0.413\n",
      "\n",
      "User: 891\n",
      "Ground Truth: Devil's Own, The (1997) (MovieID: 1488)\n",
      "\n",
      "Top 10 Recommendations for User 891:\n",
      "1. Heat (1995) (MovieID: 6, Score: 0.895)\n",
      "2. Green Mile, The (1999) (MovieID: 3147, Score: 0.895)\n",
      "3. Good Will Hunting (1997) (MovieID: 1704, Score: 0.895)\n",
      "4. Babe (1995) (MovieID: 34, Score: 0.895)\n",
      "5. Ghost (1990) (MovieID: 587, Score: 0.895)\n",
      "6. My Cousin Vinny (1992) (MovieID: 2302, Score: 0.895)\n",
      "7. Good, The Bad and The Ugly, The (1966) (MovieID: 1201, Score: 0.784)\n",
      "8. Bullets Over Broadway (1994) (MovieID: 348, Score: 0.687)\n",
      "9. Cheetah (1989) (MovieID: 2039, Score: 0.687)\n",
      "10. Phenomenon (1996) (MovieID: 802, Score: 0.687)\n"
     ]
    }
   ],
   "source": [
    "def metrics_with_recommendations_with_titles(model, test_loader, top_k, total_dataframe, device):\n",
    "    \"\"\"\n",
    "    Function to return recommendations with metrics and predicted scores.\n",
    "\n",
    "    Parameters:\n",
    "    -----------\n",
    "    model: The trained model checkpoints\n",
    "    test_loader: The test data loader\n",
    "    top_k: Total numbers of movies to recommend\n",
    "    total_dataframe: The total dataframe to map the id of the movie with title\n",
    "    device: According to availability CPU or a GPU\n",
    "\n",
    "    Returns:\n",
    "    ---------\n",
    "    HR: The Hit rate metrics\n",
    "    NDCG: The NDCG metrics\n",
    "    all_recommendations: The top_k recommended movies with titles and predicted scores\n",
    "    \"\"\"\n",
    "    HR, NDCG, all_recommendations = [], [], []\n",
    "\n",
    "    for user, item, label in test_loader:\n",
    "        user = user.to(device)\n",
    "        item = item.to(device)\n",
    "\n",
    "        predictions = model(user, item)\n",
    "        # Get top-k predictions and their indices\n",
    "        top_k_scores, top_k_indices = torch.topk(predictions, top_k)\n",
    "\n",
    "        # Convert to lists\n",
    "        recommends = torch.take(item, top_k_indices).cpu().numpy().tolist()\n",
    "        recommend_scores = top_k_scores.cpu().detach().numpy().tolist()\n",
    "\n",
    "        # Ground truth item\n",
    "        gt_item = item[0].item()\n",
    "        HR.append(hit(gt_item, recommends))\n",
    "        NDCG.append(ndcg(gt_item, recommends))\n",
    "\n",
    "        # Get movie titles and scores for the recommended movies\n",
    "        recommended_movies = []\n",
    "        for rec, score in zip(recommends, recommend_scores):\n",
    "            title = total_dataframe[total_dataframe['movieId'] == rec]['title'].values[0]\n",
    "            recommended_movies.append({\n",
    "                'movieId': rec,\n",
    "                'title': title,\n",
    "                'score': float(score)  # Convert numpy float to Python float for JSON compatibility\n",
    "            })\n",
    "\n",
    "        all_recommendations.append({\n",
    "            'user': user[0].item() if user.numel() == 1 else user.tolist()[0],  # Ensure single user per batch\n",
    "            'ground_truth': {\n",
    "                'movieId': gt_item,\n",
    "                'title': total_dataframe[total_dataframe['movieId'] == gt_item]['title'].values[0]\n",
    "            },\n",
    "            'recommendations': recommended_movies\n",
    "        })\n",
    "\n",
    "    return np.mean(HR), np.mean(NDCG), all_recommendations\n",
    "\n",
    "# main HERE\n",
    "k = 10 # change the value of k here\n",
    "HR, NDCG, all_recommendations = metrics_with_recommendations_with_titles(\n",
    "    model, \n",
    "    test_loader=dataloader_test_4, \n",
    "    top_k=k, \n",
    "    total_dataframe=total_df_4, \n",
    "    device=device\n",
    ")\n",
    "\n",
    "print(f\"Evaluation Metrics:\")\n",
    "print(f\"HR@{k}: {HR:.3f}\")\n",
    "print(f\"NDCG@{k}: {NDCG:.3f}\")\n",
    "\n",
    "# Print recommendations with scores (for the first user)\n",
    "first_user_rec = all_recommendations[0]\n",
    "print(f\"\\nUser: {first_user_rec['user']}\")\n",
    "print(f\"Ground Truth: {first_user_rec['ground_truth']['title']} (MovieID: {first_user_rec['ground_truth']['movieId']})\")\n",
    "print(f\"\\nTop {k} Recommendations for User {first_user_rec['user']}:\") # attention HERE\n",
    "for idx, rec in enumerate(first_user_rec['recommendations'], 1):\n",
    "    print(f\"{idx}. {rec['title']} (MovieID: {rec['movieId']}, Score: {rec['score']:.3f})\")"
   ]
  },
  {
   "cell_type": "markdown",
   "id": "edc59644-3757-498d-b11a-645aee08c8a6",
   "metadata": {},
   "source": [
    "<h3>Getting recommendations for an existing user of the system</h3>"
   ]
  },
  {
   "cell_type": "code",
   "execution_count": 14,
   "id": "2e374629-c41d-4e31-82c9-1abca1f3c612",
   "metadata": {},
   "outputs": [
    {
     "name": "stdout",
     "output_type": "stream",
     "text": [
      "User ID 1 found in the test loader.\n",
      "\n",
      "Top 10 Recommendations for User 1:\n",
      "1. Demolition Man (1993) (ID: 442) | Score: 0.779\n",
      "2. Requiem for a Dream (2000) (ID: 3949) | Score: 0.687\n",
      "3. Anaconda (1997) (ID: 1499) | Score: 0.687\n",
      "4. Like Water for Chocolate (Como agua para chocolate) (1992) (ID: 265) | Score: 0.687\n",
      "5. Cocoon (1985) (ID: 2407) | Score: 0.687\n",
      "6. Jack (1996) (ID: 765) | Score: 0.687\n",
      "7. Snow White and the Seven Dwarfs (1937) (ID: 594) | Score: 0.687\n",
      "8. Stop Making Sense (1984) (ID: 2859) | Score: 0.532\n",
      "9. Dirty Work (1998) (ID: 2195) | Score: 0.463\n",
      "10. Madeline (1998) (ID: 1919) | Score: 0.425\n"
     ]
    }
   ],
   "source": [
    "def inference_for_single_user_by_id(model, user_id, top_k, total_dataframe, test_loader, device):\n",
    "    \"\"\"\n",
    "    Function to perform inference for a single user by user ID and return recommendations with metrics.\n",
    "\n",
    "    Parameters:\n",
    "    -----------\n",
    "    model: The trained model checkpoints\n",
    "    user_id: The ID of the user for whom to make recommendations\n",
    "    top_k: Total numbers of movies to recommend\n",
    "    total_dataframe: The total dataframe to map the id of the movie with title\n",
    "    test_loader: The DataLoader for the test set\n",
    "    device: According to availability CPU or a GPU\n",
    "\n",
    "    Returns:\n",
    "    ---------\n",
    "    recommendations: Dictionary with user ID, ground truth, and recommended movies with scores\n",
    "    \"\"\"\n",
    "    user_found = False\n",
    "    \n",
    "    for user, item, label in test_loader:\n",
    "        if user[0].item() == user_id:\n",
    "            user_found = True\n",
    "            user = user.to(device)\n",
    "            item = item.to(device)\n",
    "\n",
    "            print(f\"User ID {user_id} found in the test loader.\")\n",
    "            predictions = model(user, item)\n",
    "            top_k_scores, top_k_indices = torch.topk(predictions, top_k)\n",
    "\n",
    "            # Convert to lists\n",
    "            recommends = torch.take(item, top_k_indices).cpu().numpy().tolist()\n",
    "            recommend_scores = top_k_scores.cpu().detach().numpy().tolist()\n",
    "\n",
    "            # Get movie details for the recommended movies\n",
    "            recommended_movies = []\n",
    "            for rec, score in zip(recommends, recommend_scores):\n",
    "                title = total_dataframe[total_dataframe['movieId'] == rec]['title'].values[0]\n",
    "                recommended_movies.append({\n",
    "                    'movieId': rec,\n",
    "                    'title': title,\n",
    "                    'score': float(score)  # Convert numpy float to Python float\n",
    "                })\n",
    "\n",
    "            return {\n",
    "                'user': user[0].item(),\n",
    "                'recommendations': recommended_movies\n",
    "            }\n",
    "    \n",
    "    if not user_found:\n",
    "        raise ValueError(f\"User ID {user_id} not found in the test loader.\")\n",
    "\n",
    "# Example usage\n",
    "user_id_to_infer = 1  # Replace with the user ID you want to infer\n",
    "recommendations = inference_for_single_user_by_id(\n",
    "    model, \n",
    "    user_id_to_infer, \n",
    "    top_k=10, \n",
    "    total_dataframe=total_df_1, \n",
    "    test_loader=dataloader_test_1, \n",
    "    device=device\n",
    ")\n",
    "\n",
    "# Print recommendations with scores\n",
    "print(f\"\\nTop {len(recommendations['recommendations'])} Recommendations for User {recommendations['user']}:\")\n",
    "for idx, rec in enumerate(recommendations['recommendations'], 1):\n",
    "    print(f\"{idx}. {rec['title']} (ID: {rec['movieId']}) | Score: {rec['score']:.3f}\")"
   ]
  },
  {
   "cell_type": "code",
   "execution_count": 15,
   "id": "f69503d2-8153-4fcd-a777-9df81512ee53",
   "metadata": {},
   "outputs": [
    {
     "name": "stdout",
     "output_type": "stream",
     "text": [
      "User ID 1 found in the test loader.\n",
      "\n",
      "Top 10 Recommendations for User 1:\n",
      "1. Pocahontas (1995) (ID: 48) | Score: 0.895\n",
      "2. Chicken Run (2000) (ID: 3751) | Score: 0.895\n",
      "3. Stargate (1994) (ID: 316) | Score: 0.895\n",
      "4. Independence Day (ID4) (1996) (ID: 780) | Score: 0.895\n",
      "5. Star Trek: Generations (1994) (ID: 329) | Score: 0.895\n",
      "6. Blair Witch Project, The (1999) (ID: 2710) | Score: 0.895\n",
      "7. Good Will Hunting (1997) (ID: 1704) | Score: 0.895\n",
      "8. Top Gun (1986) (ID: 1101) | Score: 0.895\n",
      "9. Ghostbusters (1984) (ID: 2716) | Score: 0.895\n",
      "10. History of the World: Part I (1981) (ID: 2301) | Score: 0.788\n"
     ]
    }
   ],
   "source": [
    "def inference_for_single_user_by_id(model, user_id, top_k, total_dataframe, test_loader, device):\n",
    "    \"\"\"\n",
    "    Function to perform inference for a single user by user ID and return recommendations with metrics.\n",
    "\n",
    "    Parameters:\n",
    "    -----------\n",
    "    model: The trained model checkpoints\n",
    "    user_id: The ID of the user for whom to make recommendations\n",
    "    top_k: Total numbers of movies to recommend\n",
    "    total_dataframe: The total dataframe to map the id of the movie with title\n",
    "    test_loader: The DataLoader for the test set\n",
    "    device: According to availability CPU or a GPU\n",
    "\n",
    "    Returns:\n",
    "    ---------\n",
    "    recommendations: Dictionary with user ID, ground truth, and recommended movies with scores\n",
    "    \"\"\"\n",
    "    user_found = False\n",
    "    \n",
    "    for user, item, label in test_loader:\n",
    "        if user[0].item() == user_id:\n",
    "            user_found = True\n",
    "            user = user.to(device)\n",
    "            item = item.to(device)\n",
    "\n",
    "            print(f\"User ID {user_id} found in the test loader.\")\n",
    "            predictions = model(user, item)\n",
    "            top_k_scores, top_k_indices = torch.topk(predictions, top_k)\n",
    "\n",
    "            # Convert to lists\n",
    "            recommends = torch.take(item, top_k_indices).cpu().numpy().tolist()\n",
    "            recommend_scores = top_k_scores.cpu().detach().numpy().tolist()\n",
    "\n",
    "            # Get movie details for the recommended movies\n",
    "            recommended_movies = []\n",
    "            for rec, score in zip(recommends, recommend_scores):\n",
    "                title = total_dataframe[total_dataframe['movieId'] == rec]['title'].values[0]\n",
    "                recommended_movies.append({\n",
    "                    'movieId': rec,\n",
    "                    'title': title,\n",
    "                    'score': float(score)  # Convert numpy float to Python float\n",
    "                })\n",
    "\n",
    "            return {\n",
    "                'user': user[0].item(),\n",
    "                'recommendations': recommended_movies\n",
    "            }\n",
    "    \n",
    "    if not user_found:\n",
    "        raise ValueError(f\"User ID {user_id} not found in the test loader.\")\n",
    "\n",
    "# Example usage\n",
    "user_id_to_infer = 1  # Replace with the user ID you want to infer\n",
    "recommendations = inference_for_single_user_by_id(\n",
    "    model, \n",
    "    user_id_to_infer, \n",
    "    top_k=10, \n",
    "    total_dataframe=total_df_4, \n",
    "    test_loader=dataloader_test_4, \n",
    "    device=device\n",
    ")\n",
    "\n",
    "# Print recommendations with scores\n",
    "print(f\"\\nTop {len(recommendations['recommendations'])} Recommendations for User {recommendations['user']}:\")\n",
    "for idx, rec in enumerate(recommendations['recommendations'], 1):\n",
    "    print(f\"{idx}. {rec['title']} (ID: {rec['movieId']}) | Score: {rec['score']:.3f}\")"
   ]
  },
  {
   "cell_type": "code",
   "execution_count": 16,
   "id": "a103a37f-bccb-4db7-b465-c5c00179baf7",
   "metadata": {},
   "outputs": [
    {
     "name": "stdout",
     "output_type": "stream",
     "text": [
      "       user_id  item_id  label\n",
      "0           31      612    1.0\n",
      "1           31    52767    0.0\n",
      "2           31     3628    0.0\n",
      "3           31    92507    0.0\n",
      "4           31    54190    0.0\n",
      "...        ...      ...    ...\n",
      "60995       27   167732    0.0\n",
      "60996       27     5390    0.0\n",
      "60997       27   100397    0.0\n",
      "60998       27     2351    0.0\n",
      "60999       27     8981    0.0\n",
      "\n",
      "[61000 rows x 3 columns]\n",
      "\n",
      "Data saved to: ./Datasets/dataloader_test_D1_M5.csv\n"
     ]
    }
   ],
   "source": [
    "import pandas as pd\n",
    "import torch\n",
    "\n",
    "# Initialize a list to store all batches\n",
    "all_batches = []\n",
    "\n",
    "# Iterate through the DataLoader\n",
    "for batch in dataloader_test_1:\n",
    "    users, items, labels = batch\n",
    "    batch_data = {\n",
    "        'user_id': users.numpy(),  # Convert tensors to numpy arrays\n",
    "        'item_id': items.numpy(),\n",
    "        'label': labels.numpy()\n",
    "    }\n",
    "    all_batches.append(batch_data)\n",
    "\n",
    "# Combine all batches into a single DataFrame\n",
    "df = pd.DataFrame({\n",
    "    'user_id': np.concatenate([batch['user_id'] for batch in all_batches]),\n",
    "    'item_id': np.concatenate([batch['item_id'] for batch in all_batches]),\n",
    "    'label': np.concatenate([batch['label'] for batch in all_batches])\n",
    "})\n",
    "\n",
    "print(df)\n",
    "\n",
    "# Save to CSV\n",
    "csv_path = './Datasets/dataloader_test_D1_M5.csv'\n",
    "df.to_csv(csv_path, index=False)\n",
    "print(f\"\\nData saved to: {csv_path}\")"
   ]
  },
  {
   "cell_type": "code",
   "execution_count": 17,
   "id": "d128be5f-13d6-4382-9ce8-3c077c17c7fe",
   "metadata": {},
   "outputs": [
    {
     "name": "stdout",
     "output_type": "stream",
     "text": [
      "        user_id  item_id  label\n",
      "0           891     1488    1.0\n",
      "1           891     2039    0.0\n",
      "2           891       80    0.0\n",
      "3           891     3678    0.0\n",
      "4           891     2747    0.0\n",
      "...         ...      ...    ...\n",
      "603995     2023     1395    0.0\n",
      "603996     2023     1889    0.0\n",
      "603997     2023     1352    0.0\n",
      "603998     2023     2004    0.0\n",
      "603999     2023      162    0.0\n",
      "\n",
      "[604000 rows x 3 columns]\n",
      "\n",
      "Data saved to: ./Datasets/dataloader_test_D2_M5.csv\n"
     ]
    }
   ],
   "source": [
    "import pandas as pd\n",
    "import torch\n",
    "\n",
    "# Initialize a list to store all batches\n",
    "all_batches = []\n",
    "\n",
    "# Iterate through the DataLoader\n",
    "for batch in dataloader_test_4:\n",
    "    users, items, labels = batch\n",
    "    batch_data = {\n",
    "        'user_id': users.numpy(),  # Convert tensors to numpy arrays\n",
    "        'item_id': items.numpy(),\n",
    "        'label': labels.numpy()\n",
    "    }\n",
    "    all_batches.append(batch_data)\n",
    "\n",
    "# Combine all batches into a single DataFrame\n",
    "df = pd.DataFrame({\n",
    "    'user_id': np.concatenate([batch['user_id'] for batch in all_batches]),\n",
    "    'item_id': np.concatenate([batch['item_id'] for batch in all_batches]),\n",
    "    'label': np.concatenate([batch['label'] for batch in all_batches])\n",
    "})\n",
    "\n",
    "print(df)\n",
    "\n",
    "# Save to CSV\n",
    "csv_path = './Datasets/dataloader_test_D2_M5.csv'\n",
    "df.to_csv(csv_path, index=False)\n",
    "print(f\"\\nData saved to: {csv_path}\")"
   ]
  },
  {
   "cell_type": "markdown",
   "id": "be36cd0d-82dc-4958-9e07-759688ea1758",
   "metadata": {},
   "source": [
    "<h2>Save Model</h2>"
   ]
  },
  {
   "cell_type": "code",
   "execution_count": 18,
   "id": "7df48ca8-d078-4956-a80b-ac546bb41f89",
   "metadata": {},
   "outputs": [],
   "source": [
    "# Save model + minimal metadata\n",
    "deployment_checkpoint = {\n",
    "    'model_state_dict': model.state_dict(),  # Weights\n",
    "    'model_hyperparams': {                  # Architecture config\n",
    "        'num_users': max_num_users_global,\n",
    "        'num_items': max_num_items_global,\n",
    "        'embedding_size': 8,\n",
    "        'layer_dims': [16, 8, 4],\n",
    "        'use_NeuMF': False\n",
    "    }\n",
    "}"
   ]
  },
  {
   "cell_type": "code",
   "execution_count": 19,
   "id": "4f04528d-38df-46ca-ac72-1b1cf2f504b4",
   "metadata": {},
   "outputs": [
    {
     "data": {
      "text/plain": [
       "{'model_state_dict': OrderedDict([('user_embedding.weight',\n",
       "               tensor([[-3.4186e-03,  1.3164e-02, -9.7098e-03,  ..., -1.1464e-02,\n",
       "                        -5.7883e-03, -5.6295e-03],\n",
       "                       [ 4.6635e+00, -1.5244e+00,  5.9620e-01,  ...,  1.2383e+01,\n",
       "                        -3.5323e+00, -4.5304e+00],\n",
       "                       [-3.6489e+00, -5.8047e+00,  9.2665e+00,  ...,  4.7452e+00,\n",
       "                        -8.2035e+00,  6.9374e+00],\n",
       "                       ...,\n",
       "                       [ 3.5002e+00, -4.5790e+00,  4.1567e+00,  ...,  1.4447e+01,\n",
       "                        -6.3112e+00,  4.1807e-01],\n",
       "                       [ 6.1946e+00, -8.1543e+00,  9.1516e+00,  ...,  1.4720e+01,\n",
       "                         4.1028e+00, -6.9941e-01],\n",
       "                       [ 7.4838e+00, -1.9135e-01,  1.0527e+01,  ...,  2.1670e+00,\n",
       "                        -1.1206e+01,  8.3179e+00]])),\n",
       "              ('item_embedding.weight',\n",
       "               tensor([[ 1.6077e-02, -1.4499e-04,  2.4735e-03,  ..., -3.5811e-03,\n",
       "                        -1.2482e-02,  6.3810e-03],\n",
       "                       [ 9.0795e+00,  5.1652e+00,  1.8957e+01,  ...,  5.4723e+00,\n",
       "                         7.2749e+00, -6.3394e+00],\n",
       "                       [-1.9494e+00,  9.6124e+00,  1.0072e+01,  ...,  1.3718e+01,\n",
       "                         2.6151e+00,  6.5263e-01],\n",
       "                       ...,\n",
       "                       [ 1.1163e-02,  1.1291e-02, -7.1100e-04,  ...,  1.8296e-02,\n",
       "                        -1.6447e-02,  3.5893e-03],\n",
       "                       [ 2.7340e-03,  3.5087e-03, -9.3621e-04,  ..., -1.0031e-02,\n",
       "                        -1.5646e-02, -5.6769e-05],\n",
       "                       [-1.5137e+00, -3.3576e-01, -1.1371e+00,  ..., -2.0194e+00,\n",
       "                        -1.2617e+00, -1.8393e+00]])),\n",
       "              ('mlp_layers.0.weight',\n",
       "               tensor([[ 3.7151, -1.6456, -5.4385,  4.3939,  0.3308,  0.3711,  0.6377, -0.3115,\n",
       "                         1.6923, -1.1271,  1.9312,  4.8015, -4.8355, -3.6532,  1.8644,  0.8806],\n",
       "                       [ 1.7871,  3.3245,  0.8298,  2.7285, -0.0957,  2.0313,  0.2104,  4.5281,\n",
       "                         0.9511, -4.8555, -2.4868, -2.1498, -2.2314,  0.0486,  4.9545, -4.7710],\n",
       "                       [-0.6464, -0.6560, -2.2269, -1.3851, -2.1816, -2.2647, -0.3135,  1.1002,\n",
       "                         4.0285,  5.3601,  2.2357, -2.9478, -0.0263, -6.3738, -3.7787, -4.3569],\n",
       "                       [ 1.8237,  3.0565, -0.5250,  0.7290, -0.1020, -1.8277,  1.1039, -1.5916,\n",
       "                         2.1824,  0.5048, -1.1227, -2.4495, -2.6251, -0.8589, -0.5671, -0.9973],\n",
       "                       [-2.9374,  0.0490, -0.1066,  1.9142, -0.7231, -0.2328,  0.8438, -3.7299,\n",
       "                         0.9978, -2.4642, -0.7493,  2.4010, -2.1258, -5.0245, -2.2771, -3.4082],\n",
       "                       [-6.0095, -1.3843,  1.5162,  3.6234, -2.3313, -1.5017, -3.8096,  2.6868,\n",
       "                         1.5607, -3.0863, -3.0032, -3.9400, -2.2109, -3.9389, -0.3992,  1.6973],\n",
       "                       [ 2.2001, -1.8365, -1.6479, -0.0514,  0.6444,  1.2140, -2.5681,  2.8958,\n",
       "                         7.0840,  2.6762,  0.1922,  2.3951, -2.7916,  0.7715,  4.0124,  3.8357],\n",
       "                       [-1.5887,  1.3466, -1.6767, -0.6810,  3.0385,  1.2969,  0.8138,  2.9146,\n",
       "                         1.0763, -3.8182, -2.8038,  1.1453, -2.6727,  2.7677,  1.5452, -5.7735],\n",
       "                       [ 1.9582,  0.0203, -3.5556,  2.5103, -2.6428,  2.6720,  0.9387,  1.5672,\n",
       "                        -2.0092,  0.3041,  4.9742, -2.6757, -1.6152,  1.0155, -3.4106,  1.4146],\n",
       "                       [-1.2804,  1.0309,  3.5519,  1.6709,  1.7651,  0.2456, -1.1580,  1.8212,\n",
       "                         0.9888,  4.7063, -3.1540, -0.8529, -2.0488,  4.5650, -0.7171, -2.7298],\n",
       "                       [ 2.0301, -0.3595, -2.9914,  1.3087, -2.1210,  6.5409,  2.1080,  6.8125,\n",
       "                         2.6681, -1.5207, -2.2645,  0.9926,  0.5460, -1.0856, -0.9422, -0.6843],\n",
       "                       [ 0.8702,  4.6717,  4.2271,  2.1478,  1.6006,  2.5410, -3.4451, -2.1819,\n",
       "                        -0.6415, -0.4699, -6.6262, -3.0074,  2.7596, -1.6858,  5.8281, -0.3326],\n",
       "                       [-1.4716,  0.1735, -0.1306,  1.9577, -2.3151,  2.0603, -1.7505, -2.0223,\n",
       "                        -1.4167, -0.7463, -5.2215, -2.0749,  2.8414, -1.3183,  2.1359,  3.0618],\n",
       "                       [ 0.6482, -1.9143,  2.9265, -3.5379,  4.2152, -6.3159, -1.2466,  1.8800,\n",
       "                         1.3011,  4.0933,  2.2734,  1.0392,  2.8915, -1.2071, -5.0937,  4.4512],\n",
       "                       [ 2.1367, -1.2567,  0.3596, -3.2101, -3.3581, -1.3049, -3.0587,  0.6818,\n",
       "                        -3.9042,  5.2446, -0.0871, -1.5799, -3.6254, -2.0402, -3.7890, -2.7275],\n",
       "                       [-3.1362,  0.5141,  5.5163,  2.1720,  1.5874,  0.1510,  3.8613, -3.2713,\n",
       "                         5.9034,  2.1799,  0.9760,  2.2883, -1.7154, -3.2936, -2.0501,  0.5099]])),\n",
       "              ('mlp_layers.0.bias',\n",
       "               tensor([-20.0999, -22.3003,  -8.5073, -41.0463, -32.8352, -16.5121, -17.2011,\n",
       "                       -26.5547, -24.3218, -26.5880,   0.3543, -10.7531, -38.9701, -19.1199,\n",
       "                       -15.9230,  -8.2033])),\n",
       "              ('mlp_layers.2.weight',\n",
       "               tensor([[-4.9325, -5.6065,  0.5576, -1.8210, -1.0982, -1.2084, -4.9031,  1.7118,\n",
       "                        -1.0677, -0.7555, -3.3846, -1.6442, -1.3992, -2.5715, -1.3801, -1.2577],\n",
       "                       [-2.0216, -0.7143, -1.4938,  0.1312, -0.0961, -0.8065, -0.5510, -1.6163,\n",
       "                        -1.0155, -0.3302, -2.9067, -1.1508,  0.3736, -0.4083, -0.5675, -1.3163],\n",
       "                       [-1.1507, -0.2642, -1.0975, -0.0890,  0.0565, -0.1334, -0.2877, -0.2216,\n",
       "                        -0.1053, -0.7937, -0.9354, -0.4730, -0.1834, -0.0326, -0.9434, -0.3386],\n",
       "                       [-2.1403,  1.2827,  1.8292, 11.9021,  2.2034, -2.8685,  0.8610, -1.8948,\n",
       "                        -0.6765,  0.8772, -3.9055, -0.2631,  1.5556, -2.4753, -3.5247, -0.7550],\n",
       "                       [-1.2958, -1.2294, -0.3178, -0.0662,  0.0312, -0.1664, -0.0821, -0.6881,\n",
       "                        -0.2526, -0.2517, -0.5692, -0.8031, -0.3889, -0.3041, -0.4722, -0.3575],\n",
       "                       [-3.0781,  1.8437,  2.6820,  2.7807,  2.7967, -2.6635,  1.6922, -3.1200,\n",
       "                         1.1748,  1.5700, -3.2237, -2.7743,  1.9926, -4.6402, -3.5824, -0.8576],\n",
       "                       [-1.1596, -0.8776, -1.6723, -0.1915, -0.7168, -1.1058, -2.5924, -0.6643,\n",
       "                        -1.7638,  0.1399, -0.7454, -0.8912,  0.2708, -0.9037, -0.9762, -0.3283],\n",
       "                       [ 1.0385, -2.1314, -1.6496, -5.0611, -1.7468,  0.8461, -1.5304,  0.9533,\n",
       "                        -1.2012, -2.0478,  0.9810,  1.1306, -1.6453,  0.8784,  0.7970, -0.4188]])),\n",
       "              ('mlp_layers.2.bias',\n",
       "               tensor([-24.0768,  -2.4310,  -1.3179, -21.5583,  -1.9685, -21.8686,  -1.9640,\n",
       "                       -13.1294])),\n",
       "              ('mlp_layers.4.weight',\n",
       "               tensor([[ 1.2468, -0.0512,  0.1226, -0.2228, -0.0323, -0.1681, -0.2443,  0.2336],\n",
       "                       [-0.4789, -0.0369,  0.1320, -0.6374, -0.4263, -0.5526, -0.1886, -0.2532],\n",
       "                       [-0.0819, -0.5892, -0.5014, -0.2953, -0.1784, -0.5084, -1.1324, -0.7258],\n",
       "                       [-0.0113, -0.5407, -0.1415, -0.4420, -0.0972, -0.3285, -0.2431, -0.5711]])),\n",
       "              ('mlp_layers.4.bias',\n",
       "               tensor([ 4.6837, -1.1530, -1.5567, -1.1866])),\n",
       "              ('output_layer.weight',\n",
       "               tensor([[-0.2897, -0.1282,  0.0103,  0.1897]])),\n",
       "              ('output_layer.bias', tensor([2.1436]))]),\n",
       " 'model_hyperparams': {'num_users': 6041,\n",
       "  'num_items': 193610,\n",
       "  'embedding_size': 8,\n",
       "  'layer_dims': [16, 8, 4],\n",
       "  'use_NeuMF': False}}"
      ]
     },
     "execution_count": 19,
     "metadata": {},
     "output_type": "execute_result"
    }
   ],
   "source": [
    "deployment_checkpoint"
   ]
  },
  {
   "cell_type": "code",
   "execution_count": 20,
   "id": "ba71e112-6bb3-4f9e-b06f-dde31cc9e670",
   "metadata": {},
   "outputs": [],
   "source": [
    "torch.save(deployment_checkpoint, './ncf_models/deployment_model_M5.pth')"
   ]
  },
  {
   "cell_type": "code",
   "execution_count": null,
   "id": "f27f7009-4c95-46ef-9be6-79074c13a47d",
   "metadata": {},
   "outputs": [],
   "source": []
  }
 ],
 "metadata": {
  "kernelspec": {
   "display_name": "fyp",
   "language": "python",
   "name": "fyp"
  },
  "language_info": {
   "codemirror_mode": {
    "name": "ipython",
    "version": 3
   },
   "file_extension": ".py",
   "mimetype": "text/x-python",
   "name": "python",
   "nbconvert_exporter": "python",
   "pygments_lexer": "ipython3",
   "version": "3.12.9"
  }
 },
 "nbformat": 4,
 "nbformat_minor": 5
}
